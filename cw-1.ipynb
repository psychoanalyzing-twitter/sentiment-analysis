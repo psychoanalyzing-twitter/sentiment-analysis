{
 "cells": [
  {
   "attachments": {},
   "cell_type": "markdown",
   "metadata": {},
   "source": [
    "# Task Distribution\n",
    "| Member | ID | Tasks |\n",
    "|---|---|---|\n",
    "|Bhavika| - | - | \n",
    "|Alora| - | - |\n",
    "|Andrea| - | - |"
   ]
  },
  {
   "attachments": {},
   "cell_type": "markdown",
   "metadata": {},
   "source": [
    "# Import Libraries"
   ]
  },
  {
   "cell_type": "code",
   "execution_count": 295,
   "metadata": {},
   "outputs": [
    {
     "name": "stdout",
     "output_type": "stream",
     "text": [
      "Requirement already satisfied: tweepy in c:\\users\\bhavika\\appdata\\local\\programs\\python\\python310\\lib\\site-packages (4.12.1)\n",
      "Requirement already satisfied: requests-oauthlib<2,>=1.2.0 in c:\\users\\bhavika\\appdata\\local\\programs\\python\\python310\\lib\\site-packages (from tweepy) (1.3.1)\n",
      "Requirement already satisfied: oauthlib<4,>=3.2.0 in c:\\users\\bhavika\\appdata\\local\\programs\\python\\python310\\lib\\site-packages (from tweepy) (3.2.2)\n",
      "Requirement already satisfied: requests<3,>=2.27.0 in c:\\users\\bhavika\\appdata\\local\\programs\\python\\python310\\lib\\site-packages (from tweepy) (2.28.0)\n",
      "Requirement already satisfied: idna<4,>=2.5 in c:\\users\\bhavika\\appdata\\local\\programs\\python\\python310\\lib\\site-packages (from requests<3,>=2.27.0->tweepy) (3.3)\n",
      "Requirement already satisfied: charset-normalizer~=2.0.0 in c:\\users\\bhavika\\appdata\\local\\programs\\python\\python310\\lib\\site-packages (from requests<3,>=2.27.0->tweepy) (2.0.12)\n",
      "Requirement already satisfied: urllib3<1.27,>=1.21.1 in c:\\users\\bhavika\\appdata\\local\\programs\\python\\python310\\lib\\site-packages (from requests<3,>=2.27.0->tweepy) (1.26.9)\n",
      "Requirement already satisfied: certifi>=2017.4.17 in c:\\users\\bhavika\\appdata\\local\\programs\\python\\python310\\lib\\site-packages (from requests<3,>=2.27.0->tweepy) (2022.6.15)\n",
      "Note: you may need to restart the kernel to use updated packages.\n"
     ]
    }
   ],
   "source": [
    "%pip install tweepy\n"
   ]
  },
  {
   "cell_type": "code",
   "execution_count": 296,
   "metadata": {},
   "outputs": [],
   "source": [
    "import tweepy\n",
    "import sys\n",
    "import csv\n",
    "import pandas as pd\n",
    "import re\n",
    "import numpy as np\n"
   ]
  },
  {
   "attachments": {},
   "cell_type": "markdown",
   "metadata": {},
   "source": [
    "# Scraping Tweets"
   ]
  },
  {
   "cell_type": "code",
   "execution_count": 297,
   "metadata": {},
   "outputs": [],
   "source": [
    "# Keys for authentication\n",
    "consumer_key = \"ONLQ0vLSAXM2tZDnckominEcK\"\n",
    "consumer_secret = \"MpP7XurdGn1wpufX3rrfQgrs4AROnaw9ZiiZzKN6exr3zEDlN6\"\n",
    "access_token = \"1274112117738737664-J2DjjoqqzN11CNp8bpnYzVp1dUYKM4\"\n",
    "access_token_secret = \"3coYFJVCqHnOmD2m9Qt6zs7j1I24lhlPTU71eUOq4Zqg9\"\n",
    "bearer_token = \"AAAAAAAAAAAAAAAAAAAAALJslQEAAAAA7EWdkTwrVDM44LIuewNascHjvoY%3DeXmhQyuXgo8zXJiSTMfqtmPA393HHO2W7nSrk0bK6b67SuJeb0\"\n"
   ]
  },
  {
   "cell_type": "code",
   "execution_count": 298,
   "metadata": {},
   "outputs": [],
   "source": [
    "# Authenticate\n",
    "auth = tweepy.OAuth1UserHandler(\n",
    "    consumer_key, consumer_secret, access_token, access_token_secret)\n",
    "\n",
    "api = tweepy.API(auth)\n"
   ]
  },
  {
   "cell_type": "code",
   "execution_count": 299,
   "metadata": {},
   "outputs": [],
   "source": [
    "def scrape_tweets(query: str, amount: int) -> list:\n",
    "    \"\"\"Scrapes a specified number of tweets based on given query and location.\n",
    "\n",
    "    Method from https://www.sahilfruitwala.com/guide-to-extract-tweets-using-tweepy#how-to-retrieve-specific-number-of-tweets-using-tweepy \n",
    "\n",
    "    Args:\n",
    "        query (str): The query\n",
    "    Returns:\n",
    "        list (str): List of contents of tweets.\n",
    "    \"\"\"\n",
    "    extracted_tweets = []\n",
    "    for tweet in tweepy.Cursor(api.search_tweets, query, count=100, tweet_mode=\"extended\", result_type=\"recent\").items(amount):\n",
    "        extracted_tweets.append(tweet.full_text)\n",
    "    return extracted_tweets\n"
   ]
  },
  {
   "cell_type": "code",
   "execution_count": 300,
   "metadata": {},
   "outputs": [],
   "source": [
    "def write_to_csv(tweets: list, csv_name: str) -> None:\n",
    "    \"\"\"Appends the list of tweets to csv.\n",
    "\n",
    "    Largely copied from https://gist.github.com/anku255/0cebd75cce675f2b56de1ef48ec06575.\n",
    "\n",
    "    \"\"\"\n",
    "    print(\"Writing {0} tweets to {1}\".format(len(tweets), csv_name))\n",
    "    tweets_for_csv = [[tweet.encode(\"utf-8\")] for tweet in tweets]\n",
    "    with open(csv_name, \"a+\") as file:\n",
    "        writer = csv.writer(file, delimiter=\",\")\n",
    "        writer.writerows(tweets_for_csv)\n"
   ]
  },
  {
   "attachments": {},
   "cell_type": "markdown",
   "metadata": {},
   "source": [
    "The queries for scraping tweets."
   ]
  },
  {
   "cell_type": "code",
   "execution_count": 301,
   "metadata": {},
   "outputs": [],
   "source": [
    "\n",
    "queries = [\n",
    "    [\"(metaverse OR meta verse OR #metaverse OR #meta #verse) AND (place_country:AE OR uae) lang:en -filter:retweets\"],\n",
    "    [\"(innovation OR #innovation OR innovate OR innovative OR #innovate OR #innovative) AND (place_country:AE OR uae) lang:en -filter:retweets\"],\n",
    "    [\"(sustainability OR #sustainability OR sustainable) AND (place_country:AE OR uae) lang:en -filter:retweets\"],\n",
    "    [\"(technology footprint OR technology OR #technologyfootprint) AND (place_country:AE OR uae) lang:en -filter:retweets\"],\n",
    "    [\"(artificial intelligence OR ai OR #ai OR #artificialintelligence) AND (place_country:AE OR uae) lang:en -filter:retweets\"],\n",
    "    [\"(ethics OR #ethics OR ethical OR #ethical) AND (place_country:AE OR uae) lang:en -filter:retweets\"],\n",
    "    [\"(inflation OR #inflation) AND (place_country:AE OR uae) lang:en -filter:retweets\"],\n",
    "    [\"(cop 28 OR cop28 OR #cop28 OR #cop #28) AND (place_country:AE OR uae) lang:en -filter:retweets\"],\n",
    "    [\"(museum of the future OR @museumofthefuture OR #museumofthefuture OR #museum #of #the #future) AND (place_country:AE OR uae) lang:en -filter:retweets\"],\n",
    "    [\"(bit coin OR bitcoin OR #bitcoin OR #crypto OR crpyto OR cryptocurrency) AND (place_country:AE OR uae) lang:en -filter:retweets\"],\n",
    "    [\"(cyber attack OR #cyberattack OR #cyber OR #cyberattacks OR #cyber #attack) AND (place_country:AE OR uae) lang:en -filter:retweets\"],\n",
    "    [\"(robot OR robots OR #robots OR #robot) AND (place_country:AE OR uae) lang:en -filter:retweets\"],\n",
    "    [\"(drone OR drones OR #drone OR #drones) AND (place_country:AE OR uae) lang:en -filter:retweets\"],\n",
    "    [\"(hacker OR hacking OR #hacker OR #hacking OR #hack) AND (place_country:AE OR uae) lang:en -filter:retweets\"],\n",
    "    [\"(chatgpt OR #chatgpt OR #chat #gpt OR chat gpt) AND (place_country:AE OR uae) lang:en -filter:retweets\"],\n",
    "    [\"(cybersecurity OR #cybersecurityOR #cybersec OR cybersec OR cyber security OR #cyber #security) AND (place_country:AE OR uae) lang:en -filter:retweets\"],\n",
    "    [\"(sustainabletech OR sustainable ai OR sustainable technology OR #sustainabletech OR #sustainableai OR #sustainabletechnology) AND (place_country:AE OR uae) lang:en -filter:retweets\"],\n",
    "    [\"(computing OR quantum computing OR #quantum #computing OR #computing) AND (place_country:AE OR uae) lang:en -filter:retweets\"],\n",
    "    [\"(automation OR #automation) AND (place_country:AE OR uae) lang:en -filter:retweets\"],\n",
    "    [\"(distributed cloud OR #distributedcloud OR #distributed #cloud) AND (place_country:AE OR uae) lang:en -filter:retweets\"],\n",
    "    [\"(big data OR #big #data OR bigdata OR #bigdata) AND (place_country:AE OR uae) lang:en -filter:retweets\"],\n",
    "    [\"(ar OR #ar OR #augmentedreality OR #augmented #reality) AND (place_country:AE OR uae) lang:en -filter:retweets\"],\n",
    "    [\"(data mining OR #data #mining OR #datamining) AND (place_country:AE OR uae) lang:en -filter:retweets\"],\n",
    "    [\"(software OR #software) AND (place_country:AE OR uae) lang:en -filter:retweets\"],\n",
    "    [\"(tech OR technology OR #tech OR #technology) AND (place_country:AE OR uae) lang:en -filter:retweets\"],\n",
    "    [\"(digital OR digital transformation OR #digital #transformation OR #digitaltransformation) AND (place_country:AE OR uae) lang:en -filter:retweets\"],\n",
    "    [\"(blockchain OR #blockchain) AND (place_country:AE OR uae) lang:en -filter:retweets\"],\n",
    "    [\"(coders_hq OR coders hq OR #coders OR #coders #hq OR @coders_hq) AND (place_country:AE OR uae) lang:en -filter:retweets\"],\n",
    "    [\"(nft OR non-fungible token OR non fungible token OR nfts OR #nfts OR #nonfungibletoken OR #nft) AND (place_country:AE OR uae) lang:en -filter:retweets\"],\n",
    "    [\"(binance OR @binance OR #binance) AND (place_country:AE OR uae) lang:en -filter:retweets\"],\n",
    "    [\"(uae hackathon OR hackathon OR #hackathon) AND (place_country:AE OR uae) lang:en -filter:retweets\"],\n",
    "    [\"(internet of things OR IoT OR #iot OR #internet #of #things OR #internetofthings) AND (place_country:AE OR uae) lang:en -filter:retweets\"],\n",
    "    [\"(software engineering OR #softwareengineering) AND (place_country:AE OR uae) lang:en -filter:retweets\"],\n",
    "    [\"(#coding OR coding) AND (place_country:AE OR uae) lang:en -filter:retweets\"],\n",
    "    [\"(@uaeai OR #uaeai Or #uae #ai) AND (place_country:AE OR uae) lang:en -filter:retweets\"],\n",
    "    [\"(technology OR tech OT #tech Or #technology) AND (place_country:AE OR uae) lang:en -filter:retweets\"],\n",
    "    [\"(nft OR #nft OR #nfts OR nfts) AND (place_country:AE OR uae) lang:en -filter:retweets\"],\n",
    "    [\"(UAE codes OR #UAE_codes OR #UAEcodes) AND (place_country:AE OR uae) lang:en -filter:retweets\"],\n",
    "    [\"(Microsoft Hololens OR Hololens OR #Hololens) AND (place_country:AE OR uae) lang:en -filter:retweets\"],\n",
    "    [\"(GITEX or #gitex) AND (place_country:AE OR uae) lang:en -filter:retweets\"],\n",
    "    [\"(information OR #information) AND (place_country:AE OR uae) lang:en -filter:retweets\"],\n",
    "    [\"(internet OR #internet) AND (place_country:AE OR uae) lang:en -filter:retweets\"],\n",
    "    [\"(computer OR science OR computer science OR #computerscience OR #computer OR #science) AND (place_country:AE OR uae) lang:en -filter:retweets\"],\n",
    "    [\"(technological OR #technological) AND (place_country:AE OR uae) lang:en -filter:retweets\"],\n",
    "    [\"(engineering OR #engineering) AND (place_country:AE OR uae) lang:en -filter:retweets\"],\n",
    "    [\"(computing OR #computing) AND (place_country:AE OR uae) lang:en -filter:retweets\"],\n",
    "    [\"(systems OR #systems) AND (place_country:AE OR uae) lang:en -filter:retweets\"],\n",
    "    [\"(electronics OR #electronics) AND (place_country:AE OR uae) lang:en -filter:retweets\"],\n",
    "    [\"(application OR #application OR app OR #app) AND (place_country:AE OR uae) lang:en -filter:retweets\"],\n",
    "    [\"(robotics OR #robotics) AND (place_country:AE OR uae) lang:en -filter:retweets\"],\n",
    "    [\"(high tech OR high technology OR #hightech OR #hightechnology OR #high #technology OR #high #tech) AND (place_country:AE OR uae) lang:en -filter:retweets\"],\n",
    "    [\"(nanotech OR nano tech OR nanotechnology OR nano technology OR #nanotech OR #nano #tech OR #nano #technology OR #nanotechnology) AND (place_country:AE OR uae) lang:en -filter:retweets\"],\n",
    "    [\"(biotech OR bio tech OR biotechnology OR bio technology OR #biotech OR #bio #tech OR #bio #technology OR #biotechnology) AND (place_country:AE OR uae) lang:en -filter:retweets\"],\n",
    "    [\"(code OR #code) AND (place_country:AE OR uae) lang:en -filter:retweets\"],\n",
    "    [\"(automation OR #automation OR automate OR #automate) AND (place_country:AE OR uae) lang:en -filter:retweets\"],\n",
    "    [\"(virtual OR #virtual OR online OR #online) AND (place_country:AE OR uae) lang:en -filter:retweets\"],\n",
    "    [\"(technological advancements OR #technological #advancements OR #advancements OR #techadvancements) AND (place_country:AE OR uae) lang:en -filter:retweets\"],\n",
    "    [\"(bionics OR #bionics) AND (place_country:AE OR uae) lang:en -filter:retweets\"],\n",
    "    [\"(cyberscience OR #cyberscience) AND (place_country:AE OR uae) lang:en -filter:retweets\"],\n",
    "    [\"(google OR #google OR @google) AND (place_country:AE OR uae) lang:en -filter:retweets\"],\n",
    "    [\"(oracle OR #oracle OR @oracle) AND (place_country:AE OR uae) lang:en -filter:retweets\"],\n",
    "    [\"(ibm OR #ibm OR @ibm) AND (place_country:AE OR uae) lang:en -filter:retweets\"],\n",
    "    [\"(bionics OR #bionics) AND (place_country:AE OR uae) lang:en -filter:retweets\"],\n",
    "    [\"(sap OR #sap) AND (place_country:AE OR uae) lang:en -filter:retweets\"],\n",
    "    [\"(global knowledge OR #globalknowledge OR #global #knowledge) AND (place_country:AE OR uae) lang:en -filter:retweets\"],\n",
    "    [\"(amazon OR #amazon OR @amazon) AND (place_country:AE OR uae) lang:en -filter:retweets\"],\n",
    "    [\"(hewlett-packard OR Hewlett Packard OR HP OR #hewlett-packard OR #Hewlett #Packard OR #HP) AND (place_country:AE OR uae) lang:en -filter:retweets\"],\n",
    "    [\"(cisco OR #cisco OR @cisco) AND (place_country:AE OR uae) lang:en -filter:retweets\"],\n",
    "    [\"(dell OR #dell OR @dell) AND (place_country:AE OR uae) lang:en -filter:retweets\"],\n",
    "    [\"(cisco OR #cisco OR @cisco) AND (place_country:AE OR uae) lang:en -filter:retweets\"],\n",
    "    [\"(@WorldGovSummit OR #WGS OR #WGS2023 OR World Goverment Summit) AND (place_country:AE OR uae) lang:en -filter:retweets\"],\n",
    "    [\"(masdar OR #masdar OR @masdar) AND (place_country:AE OR uae) lang:en -filter:retweets\"],\n",
    "    [\"(renewable energy OR clean energy OR #renewableenergy OR #cleanenergy) AND (place_country:AE OR uae) lang:en -filter:retweets\"],\n",
    "    [\"(machine learning OR #machinelearning OR ML OR #ML) AND (place_country:AE OR uae) lang:en -filter:retweets\"],\n",
    "    [\"(recommender systems OR #RS OR #recommender #systems OR recommender engine) AND (place_country:AE OR uae) lang:en -filter:retweets\"],\n",
    "    [\"(deep learning OR #deeplearning) AND (place_country:AE OR uae) lang:en -filter:retweets\"],\n",
    "    [\"(research OR #research) AND (place_country:AE OR uae) lang:en -filter:retweets\"],\n",
    "]\n"
   ]
  },
  {
   "attachments": {},
   "cell_type": "markdown",
   "metadata": {},
   "source": [
    "Commented out below to prevent re-running code."
   ]
  },
  {
   "cell_type": "code",
   "execution_count": 302,
   "metadata": {},
   "outputs": [],
   "source": [
    "# \"\"\"Scraping tweets and writing them to dataset.csv\"\"\"\n",
    "# csv_name=\"dataset.csv\"\n",
    "# total = 0\n",
    "# for query in queries:\n",
    "#     tweets = scrape_tweets(query=query, amount=500)\n",
    "#     total += len(tweets)\n",
    "#     print(\"Found {0} tweets related to the query {1}\".format(len(tweets), query))\n",
    "#     write_to_csv(tweets=tweets,csv_name=csv_name)\n",
    "# print(\"Done. {0} rows.\".format(total))\n"
   ]
  },
  {
   "attachments": {},
   "cell_type": "markdown",
   "metadata": {},
   "source": [
    "# Data Cleaning"
   ]
  },
  {
   "attachments": {},
   "cell_type": "markdown",
   "metadata": {},
   "source": [
    "This section cleans the scraped tweets dataset of duplicate tweets, URLs, @'s and #s."
   ]
  },
  {
   "attachments": {},
   "cell_type": "markdown",
   "metadata": {},
   "source": [
    "Note: \n",
    "- Do not modify original csv `dataset.csv`. The dataset with no duplicates is stored in `updated_dataset.csv`"
   ]
  },
  {
   "cell_type": "code",
   "execution_count": 303,
   "metadata": {},
   "outputs": [],
   "source": [
    "# Dropping duplicates\n",
    "dataset = pd.read_csv(\"dataset.csv\", header=None)\n",
    "dataset.rename(columns={0: 'Text'}, inplace=True)\n"
   ]
  },
  {
   "cell_type": "code",
   "execution_count": 304,
   "metadata": {},
   "outputs": [
    {
     "data": {
      "text/html": [
       "<div>\n",
       "<style scoped>\n",
       "    .dataframe tbody tr th:only-of-type {\n",
       "        vertical-align: middle;\n",
       "    }\n",
       "\n",
       "    .dataframe tbody tr th {\n",
       "        vertical-align: top;\n",
       "    }\n",
       "\n",
       "    .dataframe thead th {\n",
       "        text-align: right;\n",
       "    }\n",
       "</style>\n",
       "<table border=\"1\" class=\"dataframe\">\n",
       "  <thead>\n",
       "    <tr style=\"text-align: right;\">\n",
       "      <th></th>\n",
       "      <th>Text</th>\n",
       "    </tr>\n",
       "  </thead>\n",
       "  <tbody>\n",
       "    <tr>\n",
       "      <th>0</th>\n",
       "      <td>b'Joined UAE Minister &amp;amp; President-Designat...</td>\n",
       "    </tr>\n",
       "    <tr>\n",
       "      <th>1</th>\n",
       "      <td>b'Foreign Secretary @AmbVMKwatra participated ...</td>\n",
       "    </tr>\n",
       "    <tr>\n",
       "      <th>2</th>\n",
       "      <td>b'As the UAE marks National Environment Day, w...</td>\n",
       "    </tr>\n",
       "    <tr>\n",
       "      <th>3</th>\n",
       "      <td>b'RT @KhalifaAlgaz: Did you know that the UAE ...</td>\n",
       "    </tr>\n",
       "    <tr>\n",
       "      <th>4</th>\n",
       "      <td>b'RT @tawhidChtioui: \\xf0\\x9f\\x9b\\xb0\\xef\\xb8\\...</td>\n",
       "    </tr>\n",
       "    <tr>\n",
       "      <th>...</th>\n",
       "      <td>...</td>\n",
       "    </tr>\n",
       "    <tr>\n",
       "      <th>21974</th>\n",
       "      <td>b'Send our special gifts to your loved ones!\\x...</td>\n",
       "    </tr>\n",
       "    <tr>\n",
       "      <th>21975</th>\n",
       "      <td>b'Trainer code: 2735 9457 4031\\nfrom \\xf0\\x9f\\...</td>\n",
       "    </tr>\n",
       "    <tr>\n",
       "      <th>21976</th>\n",
       "      <td>b\"We are looking for ICY SNOW , SANDSTORM .\\nI...</td>\n",
       "    </tr>\n",
       "    <tr>\n",
       "      <th>21977</th>\n",
       "      <td>b'Make #MONEY from #home through PC #APP \\nMak...</td>\n",
       "    </tr>\n",
       "    <tr>\n",
       "      <th>21978</th>\n",
       "      <td>b'#Earn Money from #home through PC #APP\\nwith...</td>\n",
       "    </tr>\n",
       "  </tbody>\n",
       "</table>\n",
       "<p>21979 rows × 1 columns</p>\n",
       "</div>"
      ],
      "text/plain": [
       "                                                    Text\n",
       "0      b'Joined UAE Minister &amp; President-Designat...\n",
       "1      b'Foreign Secretary @AmbVMKwatra participated ...\n",
       "2      b'As the UAE marks National Environment Day, w...\n",
       "3      b'RT @KhalifaAlgaz: Did you know that the UAE ...\n",
       "4      b'RT @tawhidChtioui: \\xf0\\x9f\\x9b\\xb0\\xef\\xb8\\...\n",
       "...                                                  ...\n",
       "21974  b'Send our special gifts to your loved ones!\\x...\n",
       "21975  b'Trainer code: 2735 9457 4031\\nfrom \\xf0\\x9f\\...\n",
       "21976  b\"We are looking for ICY SNOW , SANDSTORM .\\nI...\n",
       "21977  b'Make #MONEY from #home through PC #APP \\nMak...\n",
       "21978  b'#Earn Money from #home through PC #APP\\nwith...\n",
       "\n",
       "[21979 rows x 1 columns]"
      ]
     },
     "execution_count": 304,
     "metadata": {},
     "output_type": "execute_result"
    }
   ],
   "source": [
    "dataset\n"
   ]
  },
  {
   "cell_type": "code",
   "execution_count": 305,
   "metadata": {},
   "outputs": [
    {
     "data": {
      "text/html": [
       "<div>\n",
       "<style scoped>\n",
       "    .dataframe tbody tr th:only-of-type {\n",
       "        vertical-align: middle;\n",
       "    }\n",
       "\n",
       "    .dataframe tbody tr th {\n",
       "        vertical-align: top;\n",
       "    }\n",
       "\n",
       "    .dataframe thead th {\n",
       "        text-align: right;\n",
       "    }\n",
       "</style>\n",
       "<table border=\"1\" class=\"dataframe\">\n",
       "  <thead>\n",
       "    <tr style=\"text-align: right;\">\n",
       "      <th></th>\n",
       "      <th>Text</th>\n",
       "    </tr>\n",
       "  </thead>\n",
       "  <tbody>\n",
       "    <tr>\n",
       "      <th>0</th>\n",
       "      <td>b'Joined UAE Minister &amp;amp; President-Designat...</td>\n",
       "    </tr>\n",
       "    <tr>\n",
       "      <th>1</th>\n",
       "      <td>b'Foreign Secretary @AmbVMKwatra participated ...</td>\n",
       "    </tr>\n",
       "    <tr>\n",
       "      <th>2</th>\n",
       "      <td>b'As the UAE marks National Environment Day, w...</td>\n",
       "    </tr>\n",
       "    <tr>\n",
       "      <th>3</th>\n",
       "      <td>b'RT @KhalifaAlgaz: Did you know that the UAE ...</td>\n",
       "    </tr>\n",
       "    <tr>\n",
       "      <th>4</th>\n",
       "      <td>b'RT @tawhidChtioui: \\xf0\\x9f\\x9b\\xb0\\xef\\xb8\\...</td>\n",
       "    </tr>\n",
       "    <tr>\n",
       "      <th>...</th>\n",
       "      <td>...</td>\n",
       "    </tr>\n",
       "    <tr>\n",
       "      <th>21888</th>\n",
       "      <td>b'@m_ut67 @modgovae @Forsan_UAE Dear sir pleas...</td>\n",
       "    </tr>\n",
       "    <tr>\n",
       "      <th>21889</th>\n",
       "      <td>b'@UAE_BARQ Dear sir please my help you sir my...</td>\n",
       "    </tr>\n",
       "    <tr>\n",
       "      <th>21890</th>\n",
       "      <td>b'@UAE_BARQ Dear sir please my help you sir my...</td>\n",
       "    </tr>\n",
       "    <tr>\n",
       "      <th>21915</th>\n",
       "      <td>b\"#PhonePe launched a service on Tuesday that ...</td>\n",
       "    </tr>\n",
       "    <tr>\n",
       "      <th>21962</th>\n",
       "      <td>b'@WeLoveIndia7 Saudi k log bhikhari h ? \\nIn ...</td>\n",
       "    </tr>\n",
       "  </tbody>\n",
       "</table>\n",
       "<p>5878 rows × 1 columns</p>\n",
       "</div>"
      ],
      "text/plain": [
       "                                                    Text\n",
       "0      b'Joined UAE Minister &amp; President-Designat...\n",
       "1      b'Foreign Secretary @AmbVMKwatra participated ...\n",
       "2      b'As the UAE marks National Environment Day, w...\n",
       "3      b'RT @KhalifaAlgaz: Did you know that the UAE ...\n",
       "4      b'RT @tawhidChtioui: \\xf0\\x9f\\x9b\\xb0\\xef\\xb8\\...\n",
       "...                                                  ...\n",
       "21888  b'@m_ut67 @modgovae @Forsan_UAE Dear sir pleas...\n",
       "21889  b'@UAE_BARQ Dear sir please my help you sir my...\n",
       "21890  b'@UAE_BARQ Dear sir please my help you sir my...\n",
       "21915  b\"#PhonePe launched a service on Tuesday that ...\n",
       "21962  b'@WeLoveIndia7 Saudi k log bhikhari h ? \\nIn ...\n",
       "\n",
       "[5878 rows x 1 columns]"
      ]
     },
     "execution_count": 305,
     "metadata": {},
     "output_type": "execute_result"
    }
   ],
   "source": [
    "updated_dataset = dataset.drop_duplicates().copy()\n",
    "updated_dataset\n"
   ]
  },
  {
   "attachments": {},
   "cell_type": "markdown",
   "metadata": {},
   "source": [
    "### Removing URLs, @'s and hashtags"
   ]
  },
  {
   "cell_type": "code",
   "execution_count": 306,
   "metadata": {},
   "outputs": [
    {
     "data": {
      "text/plain": [
       "0    b'Joined UAE Minister &amp; President-Designat...\n",
       "1    b'Foreign Secretary  participated in a meeting...\n",
       "2    b'As the UAE marks National Environment Day, w...\n",
       "3    b'RT  Did you know that the UAE is developing ...\n",
       "4    b'RT  \\xf0\\x9f\\x9b\\xb0\\xef\\xb8\\x8f UAE lunar r...\n",
       "Name: Cleaned Text, dtype: object"
      ]
     },
     "execution_count": 306,
     "metadata": {},
     "output_type": "execute_result"
    }
   ],
   "source": [
    "tweets = updated_dataset['Text'].copy()\n",
    "updated_dataset['Cleaned Text'] = tweets.str.replace(\n",
    "    r'@[^\\s]+|#[^\\s]+|https?:\\/\\/\\S+|www\\.\\S+', '', regex=True)\n",
    "updated_dataset['Cleaned Text'].head()\n"
   ]
  },
  {
   "attachments": {},
   "cell_type": "markdown",
   "metadata": {},
   "source": [
    "### Removing Duplicates again"
   ]
  },
  {
   "cell_type": "code",
   "execution_count": 307,
   "metadata": {},
   "outputs": [
    {
     "data": {
      "text/plain": [
       "(5398, 1)"
      ]
     },
     "execution_count": 307,
     "metadata": {},
     "output_type": "execute_result"
    }
   ],
   "source": [
    "updated_dataset = updated_dataset.drop('Text', axis=1)\n",
    "updated_dataset = updated_dataset.drop_duplicates()\n",
    "updated_dataset.shape\n"
   ]
  },
  {
   "cell_type": "code",
   "execution_count": 308,
   "metadata": {},
   "outputs": [],
   "source": [
    "updated_dataset.to_csv('updated-dataset.csv')\n"
   ]
  },
  {
   "cell_type": "code",
   "execution_count": 309,
   "metadata": {},
   "outputs": [
    {
     "data": {
      "text/html": [
       "<div>\n",
       "<style scoped>\n",
       "    .dataframe tbody tr th:only-of-type {\n",
       "        vertical-align: middle;\n",
       "    }\n",
       "\n",
       "    .dataframe tbody tr th {\n",
       "        vertical-align: top;\n",
       "    }\n",
       "\n",
       "    .dataframe thead th {\n",
       "        text-align: right;\n",
       "    }\n",
       "</style>\n",
       "<table border=\"1\" class=\"dataframe\">\n",
       "  <thead>\n",
       "    <tr style=\"text-align: right;\">\n",
       "      <th></th>\n",
       "      <th>Cleaned Text</th>\n",
       "    </tr>\n",
       "  </thead>\n",
       "  <tbody>\n",
       "    <tr>\n",
       "      <th>0</th>\n",
       "      <td>b'Joined UAE Minister &amp;amp; President-Designat...</td>\n",
       "    </tr>\n",
       "    <tr>\n",
       "      <th>1</th>\n",
       "      <td>b'Foreign Secretary  participated in a meeting...</td>\n",
       "    </tr>\n",
       "    <tr>\n",
       "      <th>2</th>\n",
       "      <td>b'As the UAE marks National Environment Day, w...</td>\n",
       "    </tr>\n",
       "    <tr>\n",
       "      <th>3</th>\n",
       "      <td>b'RT  Did you know that the UAE is developing ...</td>\n",
       "    </tr>\n",
       "    <tr>\n",
       "      <th>4</th>\n",
       "      <td>b'RT  \\xf0\\x9f\\x9b\\xb0\\xef\\xb8\\x8f UAE lunar r...</td>\n",
       "    </tr>\n",
       "    <tr>\n",
       "      <th>...</th>\n",
       "      <td>...</td>\n",
       "    </tr>\n",
       "    <tr>\n",
       "      <th>21888</th>\n",
       "      <td>b'   Dear sir please my help you sir my two ki...</td>\n",
       "    </tr>\n",
       "    <tr>\n",
       "      <th>21889</th>\n",
       "      <td>b' Dear sir please my help you sir my two kidn...</td>\n",
       "    </tr>\n",
       "    <tr>\n",
       "      <th>21890</th>\n",
       "      <td>b' Dear sir please my help you sir my two kidn...</td>\n",
       "    </tr>\n",
       "    <tr>\n",
       "      <th>21915</th>\n",
       "      <td>b\" launched a service on Tuesday that will all...</td>\n",
       "    </tr>\n",
       "    <tr>\n",
       "      <th>21962</th>\n",
       "      <td>b' Saudi k log bhikhari h ? \\nIn Middle East, ...</td>\n",
       "    </tr>\n",
       "  </tbody>\n",
       "</table>\n",
       "<p>5398 rows × 1 columns</p>\n",
       "</div>"
      ],
      "text/plain": [
       "                                            Cleaned Text\n",
       "0      b'Joined UAE Minister &amp; President-Designat...\n",
       "1      b'Foreign Secretary  participated in a meeting...\n",
       "2      b'As the UAE marks National Environment Day, w...\n",
       "3      b'RT  Did you know that the UAE is developing ...\n",
       "4      b'RT  \\xf0\\x9f\\x9b\\xb0\\xef\\xb8\\x8f UAE lunar r...\n",
       "...                                                  ...\n",
       "21888  b'   Dear sir please my help you sir my two ki...\n",
       "21889  b' Dear sir please my help you sir my two kidn...\n",
       "21890  b' Dear sir please my help you sir my two kidn...\n",
       "21915  b\" launched a service on Tuesday that will all...\n",
       "21962  b' Saudi k log bhikhari h ? \\nIn Middle East, ...\n",
       "\n",
       "[5398 rows x 1 columns]"
      ]
     },
     "execution_count": 309,
     "metadata": {},
     "output_type": "execute_result"
    }
   ],
   "source": [
    "updated_dataset = pd.read_csv('updated-dataset.csv', index_col=0)\n",
    "updated_dataset\n"
   ]
  },
  {
   "attachments": {},
   "cell_type": "markdown",
   "metadata": {},
   "source": [
    "# Data Labelling\n"
   ]
  },
  {
   "attachments": {},
   "cell_type": "markdown",
   "metadata": {},
   "source": [
    "### TextBlob"
   ]
  },
  {
   "attachments": {},
   "cell_type": "markdown",
   "metadata": {},
   "source": [
    "For data labelling, we decided to use first use TextBlob. TextBlob calculates the subjectivity and polarity of a text to classify the text as 'Positive', 'Negative' or 'Neutral'"
   ]
  },
  {
   "cell_type": "code",
   "execution_count": 310,
   "metadata": {},
   "outputs": [],
   "source": [
    "# %pip install TextBlob\n"
   ]
  },
  {
   "cell_type": "code",
   "execution_count": 311,
   "metadata": {},
   "outputs": [],
   "source": [
    "from textblob import TextBlob\n"
   ]
  },
  {
   "cell_type": "code",
   "execution_count": 312,
   "metadata": {},
   "outputs": [],
   "source": [
    "# Function to get subjectivity\n",
    "def getSubjectivity(text):\n",
    "    return TextBlob(text).sentiment.subjectivity\n",
    "\n",
    "\n",
    "# Function to get the polarity\n",
    "def getPolarity(text):\n",
    "    return TextBlob(text).sentiment.polarity\n",
    "\n",
    "\n",
    "# Create two new columns ‘Subjectivity’ & ‘Polarity’\n",
    "updated_dataset['TextBlob Subjectivity'] = updated_dataset['Cleaned Text'].apply(\n",
    "    getSubjectivity)\n",
    "updated_dataset['TextBlob Polarity'] = updated_dataset['Cleaned Text'].apply(\n",
    "    getPolarity)\n",
    "\n",
    "\n",
    "def getAnalysis(score):\n",
    "    if score < 0:\n",
    "        return 'Negative'\n",
    "    elif score == 0:\n",
    "        return 'Neutral'\n",
    "    else:\n",
    "        return 'Positive'\n",
    "\n",
    "\n",
    "updated_dataset['TextBlob Sentiment'] = updated_dataset['TextBlob Polarity'].apply(\n",
    "    getAnalysis)\n"
   ]
  },
  {
   "cell_type": "code",
   "execution_count": 313,
   "metadata": {},
   "outputs": [
    {
     "data": {
      "text/plain": [
       "Positive    2643\n",
       "Neutral     2276\n",
       "Negative     479\n",
       "Name: TextBlob Sentiment, dtype: int64"
      ]
     },
     "execution_count": 313,
     "metadata": {},
     "output_type": "execute_result"
    }
   ],
   "source": [
    "updated_dataset['TextBlob Sentiment'].value_counts()\n"
   ]
  },
  {
   "attachments": {},
   "cell_type": "markdown",
   "metadata": {},
   "source": [
    "It can be observed that TextBlob classified the majority of tweets to be Positive. To compare, we also decided to use Vader as well to observe if there was a major difference in classification."
   ]
  },
  {
   "attachments": {},
   "cell_type": "markdown",
   "metadata": {},
   "source": [
    "### Vader"
   ]
  },
  {
   "cell_type": "code",
   "execution_count": 314,
   "metadata": {},
   "outputs": [],
   "source": [
    "# %pip install vaderSentiment\n"
   ]
  },
  {
   "cell_type": "code",
   "execution_count": 315,
   "metadata": {},
   "outputs": [],
   "source": [
    "from vaderSentiment.vaderSentiment import SentimentIntensityAnalyzer\n",
    "\n",
    "sentiment = SentimentIntensityAnalyzer()\n",
    "\n",
    "\n",
    "def getSentiment(text):\n",
    "    return sentiment.polarity_scores(text)\n",
    "\n",
    "\n",
    "updated_dataset['Vader Analysis'] = updated_dataset['Cleaned Text'].apply(\n",
    "    getSentiment)\n",
    "\n",
    "\n",
    "def sentimentAnalysis(sentiment_dict):\n",
    "    if sentiment_dict['compound'] >= 0.05:\n",
    "        return 'Positive'\n",
    "    elif sentiment_dict['compound'] <= -0.05:\n",
    "        return 'Negative'\n",
    "    else:\n",
    "        return 'Neutral'\n",
    "\n",
    "\n",
    "updated_dataset['Vader Sentiment'] = updated_dataset['Vader Analysis'].apply(\n",
    "    sentimentAnalysis)\n"
   ]
  },
  {
   "cell_type": "code",
   "execution_count": 316,
   "metadata": {},
   "outputs": [
    {
     "data": {
      "text/html": [
       "<div>\n",
       "<style scoped>\n",
       "    .dataframe tbody tr th:only-of-type {\n",
       "        vertical-align: middle;\n",
       "    }\n",
       "\n",
       "    .dataframe tbody tr th {\n",
       "        vertical-align: top;\n",
       "    }\n",
       "\n",
       "    .dataframe thead th {\n",
       "        text-align: right;\n",
       "    }\n",
       "</style>\n",
       "<table border=\"1\" class=\"dataframe\">\n",
       "  <thead>\n",
       "    <tr style=\"text-align: right;\">\n",
       "      <th></th>\n",
       "      <th>Vader Analysis</th>\n",
       "      <th>Vader Sentiment</th>\n",
       "    </tr>\n",
       "  </thead>\n",
       "  <tbody>\n",
       "    <tr>\n",
       "      <th>0</th>\n",
       "      <td>{'neg': 0.0, 'neu': 0.638, 'pos': 0.362, 'comp...</td>\n",
       "      <td>Positive</td>\n",
       "    </tr>\n",
       "    <tr>\n",
       "      <th>1</th>\n",
       "      <td>{'neg': 0.0, 'neu': 0.816, 'pos': 0.184, 'comp...</td>\n",
       "      <td>Positive</td>\n",
       "    </tr>\n",
       "    <tr>\n",
       "      <th>2</th>\n",
       "      <td>{'neg': 0.0, 'neu': 0.766, 'pos': 0.234, 'comp...</td>\n",
       "      <td>Positive</td>\n",
       "    </tr>\n",
       "    <tr>\n",
       "      <th>3</th>\n",
       "      <td>{'neg': 0.0, 'neu': 0.874, 'pos': 0.126, 'comp...</td>\n",
       "      <td>Positive</td>\n",
       "    </tr>\n",
       "    <tr>\n",
       "      <th>4</th>\n",
       "      <td>{'neg': 0.0, 'neu': 0.819, 'pos': 0.181, 'comp...</td>\n",
       "      <td>Positive</td>\n",
       "    </tr>\n",
       "    <tr>\n",
       "      <th>...</th>\n",
       "      <td>...</td>\n",
       "      <td>...</td>\n",
       "    </tr>\n",
       "    <tr>\n",
       "      <th>21888</th>\n",
       "      <td>{'neg': 0.073, 'neu': 0.726, 'pos': 0.202, 'co...</td>\n",
       "      <td>Positive</td>\n",
       "    </tr>\n",
       "    <tr>\n",
       "      <th>21889</th>\n",
       "      <td>{'neg': 0.073, 'neu': 0.726, 'pos': 0.202, 'co...</td>\n",
       "      <td>Positive</td>\n",
       "    </tr>\n",
       "    <tr>\n",
       "      <th>21890</th>\n",
       "      <td>{'neg': 0.074, 'neu': 0.719, 'pos': 0.206, 'co...</td>\n",
       "      <td>Positive</td>\n",
       "    </tr>\n",
       "    <tr>\n",
       "      <th>21915</th>\n",
       "      <td>{'neg': 0.043, 'neu': 0.774, 'pos': 0.183, 'co...</td>\n",
       "      <td>Positive</td>\n",
       "    </tr>\n",
       "    <tr>\n",
       "      <th>21962</th>\n",
       "      <td>{'neg': 0.196, 'neu': 0.777, 'pos': 0.028, 'co...</td>\n",
       "      <td>Negative</td>\n",
       "    </tr>\n",
       "  </tbody>\n",
       "</table>\n",
       "<p>5398 rows × 2 columns</p>\n",
       "</div>"
      ],
      "text/plain": [
       "                                          Vader Analysis Vader Sentiment\n",
       "0      {'neg': 0.0, 'neu': 0.638, 'pos': 0.362, 'comp...        Positive\n",
       "1      {'neg': 0.0, 'neu': 0.816, 'pos': 0.184, 'comp...        Positive\n",
       "2      {'neg': 0.0, 'neu': 0.766, 'pos': 0.234, 'comp...        Positive\n",
       "3      {'neg': 0.0, 'neu': 0.874, 'pos': 0.126, 'comp...        Positive\n",
       "4      {'neg': 0.0, 'neu': 0.819, 'pos': 0.181, 'comp...        Positive\n",
       "...                                                  ...             ...\n",
       "21888  {'neg': 0.073, 'neu': 0.726, 'pos': 0.202, 'co...        Positive\n",
       "21889  {'neg': 0.073, 'neu': 0.726, 'pos': 0.202, 'co...        Positive\n",
       "21890  {'neg': 0.074, 'neu': 0.719, 'pos': 0.206, 'co...        Positive\n",
       "21915  {'neg': 0.043, 'neu': 0.774, 'pos': 0.183, 'co...        Positive\n",
       "21962  {'neg': 0.196, 'neu': 0.777, 'pos': 0.028, 'co...        Negative\n",
       "\n",
       "[5398 rows x 2 columns]"
      ]
     },
     "execution_count": 316,
     "metadata": {},
     "output_type": "execute_result"
    }
   ],
   "source": [
    "updated_dataset[['Vader Analysis', 'Vader Sentiment']]\n"
   ]
  },
  {
   "cell_type": "code",
   "execution_count": 317,
   "metadata": {},
   "outputs": [
    {
     "data": {
      "text/plain": [
       "Positive    3335\n",
       "Neutral     1691\n",
       "Negative     372\n",
       "Name: Vader Sentiment, dtype: int64"
      ]
     },
     "execution_count": 317,
     "metadata": {},
     "output_type": "execute_result"
    }
   ],
   "source": [
    "updated_dataset['Vader Sentiment'].value_counts()\n"
   ]
  },
  {
   "attachments": {},
   "cell_type": "markdown",
   "metadata": {},
   "source": [
    "## Analysis between Vader and TextBlob\n",
    "\n",
    "\n",
    "| Data Labelling Method      | Positive Label | Negative Label | Neutral Label |\n",
    "| ----------- | ----------- | ----------- | ----------- |\n",
    "| TextBlob      | 2643   (49%)   |479  (8.9%)| 2276 (42.1%)|\n",
    "| Vader   | 3335  (61.8%)      | 372 (6.9%) | 1691 (31.3%)|\n",
    "\n",
    "From the summary table, we can observe that the negatively labelled tweets stay within a 2% difference of each other, regardless of the data labelling method. However, the positive and neutral label differ by 10%."
   ]
  },
  {
   "cell_type": "code",
   "execution_count": 318,
   "metadata": {},
   "outputs": [],
   "source": [
    "# Creating a csv of tweets with conflicting sentiments\n",
    "unclearTweets = updated_dataset.loc[(\n",
    "    updated_dataset['Vader Sentiment'] != updated_dataset['TextBlob Sentiment'])]\n",
    "unclearTweets.to_csv('ConflictingLabels.csv')\n"
   ]
  },
  {
   "cell_type": "code",
   "execution_count": 319,
   "metadata": {},
   "outputs": [
    {
     "data": {
      "text/html": [
       "<div>\n",
       "<style scoped>\n",
       "    .dataframe tbody tr th:only-of-type {\n",
       "        vertical-align: middle;\n",
       "    }\n",
       "\n",
       "    .dataframe tbody tr th {\n",
       "        vertical-align: top;\n",
       "    }\n",
       "\n",
       "    .dataframe thead th {\n",
       "        text-align: right;\n",
       "    }\n",
       "</style>\n",
       "<table border=\"1\" class=\"dataframe\">\n",
       "  <thead>\n",
       "    <tr style=\"text-align: right;\">\n",
       "      <th></th>\n",
       "      <th>Cleaned Text</th>\n",
       "      <th>TextBlob Subjectivity</th>\n",
       "      <th>TextBlob Polarity</th>\n",
       "      <th>TextBlob Sentiment</th>\n",
       "      <th>Vader Analysis</th>\n",
       "      <th>Vader Sentiment</th>\n",
       "    </tr>\n",
       "  </thead>\n",
       "  <tbody>\n",
       "    <tr>\n",
       "      <th>1</th>\n",
       "      <td>b'Foreign Secretary  participated in a meeting...</td>\n",
       "      <td>0.562500</td>\n",
       "      <td>-0.062500</td>\n",
       "      <td>Negative</td>\n",
       "      <td>{'neg': 0.0, 'neu': 0.816, 'pos': 0.184, 'comp...</td>\n",
       "      <td>Positive</td>\n",
       "    </tr>\n",
       "    <tr>\n",
       "      <th>3</th>\n",
       "      <td>b'RT  Did you know that the UAE is developing ...</td>\n",
       "      <td>0.000000</td>\n",
       "      <td>0.000000</td>\n",
       "      <td>Neutral</td>\n",
       "      <td>{'neg': 0.0, 'neu': 0.874, 'pos': 0.126, 'comp...</td>\n",
       "      <td>Positive</td>\n",
       "    </tr>\n",
       "    <tr>\n",
       "      <th>4</th>\n",
       "      <td>b'RT  \\xf0\\x9f\\x9b\\xb0\\xef\\xb8\\x8f UAE lunar r...</td>\n",
       "      <td>1.000000</td>\n",
       "      <td>-0.600000</td>\n",
       "      <td>Negative</td>\n",
       "      <td>{'neg': 0.0, 'neu': 0.819, 'pos': 0.181, 'comp...</td>\n",
       "      <td>Positive</td>\n",
       "    </tr>\n",
       "    <tr>\n",
       "      <th>10</th>\n",
       "      <td>b'RT  UK BUSINESS SECRETARY PRAISES UK-UAE GRA...</td>\n",
       "      <td>0.000000</td>\n",
       "      <td>0.000000</td>\n",
       "      <td>Neutral</td>\n",
       "      <td>{'neg': 0.0, 'neu': 0.484, 'pos': 0.516, 'comp...</td>\n",
       "      <td>Positive</td>\n",
       "    </tr>\n",
       "    <tr>\n",
       "      <th>14</th>\n",
       "      <td>b'RT  As host of COP28, UAE is committed to le...</td>\n",
       "      <td>0.125000</td>\n",
       "      <td>0.000000</td>\n",
       "      <td>Neutral</td>\n",
       "      <td>{'neg': 0.0, 'neu': 0.817, 'pos': 0.183, 'comp...</td>\n",
       "      <td>Positive</td>\n",
       "    </tr>\n",
       "    <tr>\n",
       "      <th>...</th>\n",
       "      <td>...</td>\n",
       "      <td>...</td>\n",
       "      <td>...</td>\n",
       "      <td>...</td>\n",
       "      <td>...</td>\n",
       "      <td>...</td>\n",
       "    </tr>\n",
       "    <tr>\n",
       "      <th>21888</th>\n",
       "      <td>b'   Dear sir please my help you sir my two ki...</td>\n",
       "      <td>0.100000</td>\n",
       "      <td>0.000000</td>\n",
       "      <td>Neutral</td>\n",
       "      <td>{'neg': 0.073, 'neu': 0.726, 'pos': 0.202, 'co...</td>\n",
       "      <td>Positive</td>\n",
       "    </tr>\n",
       "    <tr>\n",
       "      <th>21889</th>\n",
       "      <td>b' Dear sir please my help you sir my two kidn...</td>\n",
       "      <td>0.100000</td>\n",
       "      <td>0.000000</td>\n",
       "      <td>Neutral</td>\n",
       "      <td>{'neg': 0.073, 'neu': 0.726, 'pos': 0.202, 'co...</td>\n",
       "      <td>Positive</td>\n",
       "    </tr>\n",
       "    <tr>\n",
       "      <th>21890</th>\n",
       "      <td>b' Dear sir please my help you sir my two kidn...</td>\n",
       "      <td>0.100000</td>\n",
       "      <td>0.000000</td>\n",
       "      <td>Neutral</td>\n",
       "      <td>{'neg': 0.074, 'neu': 0.719, 'pos': 0.206, 'co...</td>\n",
       "      <td>Positive</td>\n",
       "    </tr>\n",
       "    <tr>\n",
       "      <th>21915</th>\n",
       "      <td>b\" launched a service on Tuesday that will all...</td>\n",
       "      <td>0.062500</td>\n",
       "      <td>-0.062500</td>\n",
       "      <td>Negative</td>\n",
       "      <td>{'neg': 0.043, 'neu': 0.774, 'pos': 0.183, 'co...</td>\n",
       "      <td>Positive</td>\n",
       "    </tr>\n",
       "    <tr>\n",
       "      <th>21962</th>\n",
       "      <td>b' Saudi k log bhikhari h ? \\nIn Middle East, ...</td>\n",
       "      <td>0.333333</td>\n",
       "      <td>0.333333</td>\n",
       "      <td>Positive</td>\n",
       "      <td>{'neg': 0.196, 'neu': 0.777, 'pos': 0.028, 'co...</td>\n",
       "      <td>Negative</td>\n",
       "    </tr>\n",
       "  </tbody>\n",
       "</table>\n",
       "<p>2257 rows × 6 columns</p>\n",
       "</div>"
      ],
      "text/plain": [
       "                                            Cleaned Text  \\\n",
       "1      b'Foreign Secretary  participated in a meeting...   \n",
       "3      b'RT  Did you know that the UAE is developing ...   \n",
       "4      b'RT  \\xf0\\x9f\\x9b\\xb0\\xef\\xb8\\x8f UAE lunar r...   \n",
       "10     b'RT  UK BUSINESS SECRETARY PRAISES UK-UAE GRA...   \n",
       "14     b'RT  As host of COP28, UAE is committed to le...   \n",
       "...                                                  ...   \n",
       "21888  b'   Dear sir please my help you sir my two ki...   \n",
       "21889  b' Dear sir please my help you sir my two kidn...   \n",
       "21890  b' Dear sir please my help you sir my two kidn...   \n",
       "21915  b\" launched a service on Tuesday that will all...   \n",
       "21962  b' Saudi k log bhikhari h ? \\nIn Middle East, ...   \n",
       "\n",
       "       TextBlob Subjectivity  TextBlob Polarity TextBlob Sentiment  \\\n",
       "1                   0.562500          -0.062500           Negative   \n",
       "3                   0.000000           0.000000            Neutral   \n",
       "4                   1.000000          -0.600000           Negative   \n",
       "10                  0.000000           0.000000            Neutral   \n",
       "14                  0.125000           0.000000            Neutral   \n",
       "...                      ...                ...                ...   \n",
       "21888               0.100000           0.000000            Neutral   \n",
       "21889               0.100000           0.000000            Neutral   \n",
       "21890               0.100000           0.000000            Neutral   \n",
       "21915               0.062500          -0.062500           Negative   \n",
       "21962               0.333333           0.333333           Positive   \n",
       "\n",
       "                                          Vader Analysis Vader Sentiment  \n",
       "1      {'neg': 0.0, 'neu': 0.816, 'pos': 0.184, 'comp...        Positive  \n",
       "3      {'neg': 0.0, 'neu': 0.874, 'pos': 0.126, 'comp...        Positive  \n",
       "4      {'neg': 0.0, 'neu': 0.819, 'pos': 0.181, 'comp...        Positive  \n",
       "10     {'neg': 0.0, 'neu': 0.484, 'pos': 0.516, 'comp...        Positive  \n",
       "14     {'neg': 0.0, 'neu': 0.817, 'pos': 0.183, 'comp...        Positive  \n",
       "...                                                  ...             ...  \n",
       "21888  {'neg': 0.073, 'neu': 0.726, 'pos': 0.202, 'co...        Positive  \n",
       "21889  {'neg': 0.073, 'neu': 0.726, 'pos': 0.202, 'co...        Positive  \n",
       "21890  {'neg': 0.074, 'neu': 0.719, 'pos': 0.206, 'co...        Positive  \n",
       "21915  {'neg': 0.043, 'neu': 0.774, 'pos': 0.183, 'co...        Positive  \n",
       "21962  {'neg': 0.196, 'neu': 0.777, 'pos': 0.028, 'co...        Negative  \n",
       "\n",
       "[2257 rows x 6 columns]"
      ]
     },
     "execution_count": 319,
     "metadata": {},
     "output_type": "execute_result"
    }
   ],
   "source": [
    "unclearTweets\n"
   ]
  },
  {
   "attachments": {},
   "cell_type": "markdown",
   "metadata": {},
   "source": [
    "After manually reviewing the differences in labels, it seems that the TextBlob sentiment labelling is more accurate."
   ]
  },
  {
   "attachments": {},
   "cell_type": "markdown",
   "metadata": {},
   "source": [
    "# Data Preprocessing"
   ]
  },
  {
   "attachments": {},
   "cell_type": "markdown",
   "metadata": {},
   "source": [
    "**approach → first data cleaning + tokenization + lemmatization**"
   ]
  },
  {
   "attachments": {},
   "cell_type": "markdown",
   "metadata": {},
   "source": [
    "## Additional Data Cleaning"
   ]
  },
  {
   "attachments": {},
   "cell_type": "markdown",
   "metadata": {},
   "source": [
    "### Removing Non-English Characters"
   ]
  },
  {
   "cell_type": "code",
   "execution_count": 320,
   "metadata": {},
   "outputs": [
    {
     "data": {
      "text/plain": [
       "0    b'joined uae minister &amp; president-designat...\n",
       "1    b'foreign secretary  participated in a meeting...\n",
       "2    b'as the uae marks national environment day, w...\n",
       "3    b'rt  did you know that the uae is developing ...\n",
       "4    b'rt   uae lunar rover will test 1st artificia...\n",
       "Name: Cleaned Text, dtype: object"
      ]
     },
     "execution_count": 320,
     "metadata": {},
     "output_type": "execute_result"
    }
   ],
   "source": [
    "def nonenglish(tweet):\n",
    "    # tweets in different language changed to hex code \\xhh\n",
    "    tweet = re.sub(r'\\\\x[a-zA-Z0-9]+', '', tweet)\n",
    "    tweet = re.sub(r'\\\\n', '', tweet)  # removing new line character as well\n",
    "    return tweet\n",
    "\n",
    "\n",
    "updated_dataset['Cleaned Text'] = updated_dataset['Cleaned Text'].apply(\n",
    "    lambda tweet: nonenglish(tweet).lower())\n",
    "updated_dataset['Cleaned Text'].head()\n"
   ]
  },
  {
   "attachments": {},
   "cell_type": "markdown",
   "metadata": {},
   "source": [
    "### Removing Stopwords"
   ]
  },
  {
   "cell_type": "code",
   "execution_count": 321,
   "metadata": {},
   "outputs": [
    {
     "data": {
      "text/plain": [
       "0    b'joined uae minister &amp; president-designat...\n",
       "1    b'foreign secretary  participated meeting foca...\n",
       "2    b'as uae marks national environment day, remai...\n",
       "3    b'rt  did know uae developing arabic chatgpt u...\n",
       "4    b'rt   uae lunar rover test 1st artificial int...\n",
       "Name: Cleaned Text, dtype: object"
      ]
     },
     "execution_count": 321,
     "metadata": {},
     "output_type": "execute_result"
    }
   ],
   "source": [
    "from sklearn.feature_extraction import text\n",
    "\n",
    "# contains 318 stopwords, including but not limited to articles and prepositions\n",
    "stopwords = text.ENGLISH_STOP_WORDS\n",
    "updated_dataset['Cleaned Text'] = updated_dataset['Cleaned Text'].apply(\n",
    "    lambda tweet: ' '.join([text for text in tweet.split(' ') if text not in stopwords]))\n",
    "updated_dataset['Cleaned Text'].head()\n"
   ]
  },
  {
   "attachments": {},
   "cell_type": "markdown",
   "metadata": {},
   "source": [
    "### Removing Symbols and Punctuations"
   ]
  },
  {
   "cell_type": "code",
   "execution_count": 322,
   "metadata": {},
   "outputs": [
    {
     "name": "stdout",
     "output_type": "stream",
     "text": [
      "!\"#$%&'()*+,-./:;<=>?@[\\]^_`{|}~\n"
     ]
    },
    {
     "data": {
      "text/plain": [
       "0    bjoined uae minister amp presidentdesignate  d...\n",
       "1    bforeign secretary  participated meeting focal...\n",
       "2    bas uae marks national environment day remain ...\n",
       "3    brt  did know uae developing arabic chatgpt us...\n",
       "4    brt   uae lunar rover test 1st artificial inte...\n",
       "Name: Cleaned Text, dtype: object"
      ]
     },
     "execution_count": 322,
     "metadata": {},
     "output_type": "execute_result"
    }
   ],
   "source": [
    "import string\n",
    "\n",
    "punctuations = string.punctuation\n",
    "print(punctuations)\n",
    "\n",
    "updated_dataset['Cleaned Text'] = updated_dataset['Cleaned Text'].apply(\n",
    "    lambda tweet: tweet.translate({ord(punc): None for punc in punctuations}))\n",
    "updated_dataset['Cleaned Text'].head()\n"
   ]
  },
  {
   "attachments": {},
   "cell_type": "markdown",
   "metadata": {},
   "source": [
    "### Removing Numbers"
   ]
  },
  {
   "cell_type": "code",
   "execution_count": 323,
   "metadata": {},
   "outputs": [
    {
     "data": {
      "text/plain": [
       "0    bjoined uae minister amp presidentdesignate  d...\n",
       "1    bforeign secretary  participated meeting focal...\n",
       "2    bas uae marks national environment day remain ...\n",
       "3    brt  did know uae developing arabic chatgpt us...\n",
       "4    brt   uae lunar rover test st artificial intel...\n",
       "Name: Cleaned Text, dtype: object"
      ]
     },
     "execution_count": 323,
     "metadata": {},
     "output_type": "execute_result"
    }
   ],
   "source": [
    "updated_dataset['Cleaned Text'] = updated_dataset['Cleaned Text'].apply(\n",
    "    lambda tweet: re.sub('[0-9]+', '', tweet))\n",
    "updated_dataset['Cleaned Text'].head()\n"
   ]
  },
  {
   "attachments": {},
   "cell_type": "markdown",
   "metadata": {},
   "source": [
    "### Removing 'b' and 'rt'"
   ]
  },
  {
   "cell_type": "code",
   "execution_count": 324,
   "metadata": {},
   "outputs": [
    {
     "data": {
      "text/plain": [
       "0    joined uae minister amp presidentdesignate  dr...\n",
       "1    foreign secretary  participated meeting focal ...\n",
       "2    as uae marks national environment day remain c...\n",
       "3      did know uae developing arabic chatgpt using...\n",
       "4       uae lunar rover test st artificial intellig...\n",
       "Name: Cleaned Text, dtype: object"
      ]
     },
     "execution_count": 324,
     "metadata": {},
     "output_type": "execute_result"
    }
   ],
   "source": [
    "def removeb(tweet):\n",
    "    if tweet[:3] == 'brt':\n",
    "        return tweet[3:]\n",
    "    else:\n",
    "        return tweet[1:]\n",
    "updated_dataset['Cleaned Text'] = updated_dataset['Cleaned Text'].apply(\n",
    "    lambda tweet: removeb(tweet))\n",
    "updated_dataset['Cleaned Text'].head()\n"
   ]
  },
  {
   "attachments": {},
   "cell_type": "markdown",
   "metadata": {},
   "source": [
    "### Tokenization"
   ]
  },
  {
   "cell_type": "code",
   "execution_count": 325,
   "metadata": {},
   "outputs": [
    {
     "data": {
      "text/plain": [
       "0    [joined, uae, minister, amp, presidentdesignat...\n",
       "1    [foreign, secretary, participated, meeting, fo...\n",
       "2    [as, uae, marks, national, environment, day, r...\n",
       "3    [did, know, uae, developing, arabic, chatgpt, ...\n",
       "4    [uae, lunar, rover, test, st, artificial, inte...\n",
       "Name: Tokenized Text, dtype: object"
      ]
     },
     "execution_count": 325,
     "metadata": {},
     "output_type": "execute_result"
    }
   ],
   "source": [
    "# as data has been completely cleaned, we can simply tokenize by converting strings to lists\n",
    "updated_dataset['Tokenized Text'] = updated_dataset['Cleaned Text'].apply(\n",
    "    lambda tweet: tweet.split())\n",
    "updated_dataset['Tokenized Text'].head()\n"
   ]
  },
  {
   "attachments": {},
   "cell_type": "markdown",
   "metadata": {},
   "source": [
    "### Lemmatization"
   ]
  },
  {
   "cell_type": "code",
   "execution_count": 326,
   "metadata": {},
   "outputs": [
    {
     "data": {
      "text/plain": [
       "0    [joined, uae, minister, amp, presidentdesignat...\n",
       "1    [foreign, secretary, participated, meeting, fo...\n",
       "2    [a, uae, mark, national, environment, day, rem...\n",
       "3    [did, know, uae, developing, arabic, chatgpt, ...\n",
       "4    [uae, lunar, rover, test, st, artificial, inte...\n",
       "Name: Lemmatized Text, dtype: object"
      ]
     },
     "execution_count": 326,
     "metadata": {},
     "output_type": "execute_result"
    }
   ],
   "source": [
    "import nltk\n",
    "lemmatizing = nltk.stem.WordNetLemmatizer()\n",
    "\n",
    "updated_dataset['Lemmatized Text'] = updated_dataset['Tokenized Text'].apply(\n",
    "    lambda tweet: [lemmatizing.lemmatize(text).lower() for text in tweet])\n",
    "updated_dataset['Lemmatized Text'].head()\n"
   ]
  },
  {
   "cell_type": "code",
   "execution_count": 327,
   "metadata": {},
   "outputs": [],
   "source": [
    "# Encode TextBlob Sentiments into numbers\n",
    "updated_dataset['Encoded_TextBlob_Sentiment'] = updated_dataset['TextBlob Sentiment'].apply(\n",
    "    lambda x: 1 if x == 'Positive' else -1 if x == 'Negative' else 0)\n"
   ]
  },
  {
   "cell_type": "code",
   "execution_count": 328,
   "metadata": {},
   "outputs": [
    {
     "data": {
      "text/html": [
       "<div>\n",
       "<style scoped>\n",
       "    .dataframe tbody tr th:only-of-type {\n",
       "        vertical-align: middle;\n",
       "    }\n",
       "\n",
       "    .dataframe tbody tr th {\n",
       "        vertical-align: top;\n",
       "    }\n",
       "\n",
       "    .dataframe thead th {\n",
       "        text-align: right;\n",
       "    }\n",
       "</style>\n",
       "<table border=\"1\" class=\"dataframe\">\n",
       "  <thead>\n",
       "    <tr style=\"text-align: right;\">\n",
       "      <th></th>\n",
       "      <th>Cleaned Text</th>\n",
       "      <th>TextBlob Subjectivity</th>\n",
       "      <th>TextBlob Polarity</th>\n",
       "      <th>TextBlob Sentiment</th>\n",
       "      <th>Vader Analysis</th>\n",
       "      <th>Vader Sentiment</th>\n",
       "      <th>Tokenized Text</th>\n",
       "      <th>Lemmatized Text</th>\n",
       "      <th>Encoded_TextBlob_Sentiment</th>\n",
       "    </tr>\n",
       "  </thead>\n",
       "  <tbody>\n",
       "    <tr>\n",
       "      <th>0</th>\n",
       "      <td>joined uae minister amp presidentdesignate  dr...</td>\n",
       "      <td>0.200000</td>\n",
       "      <td>0.133333</td>\n",
       "      <td>Positive</td>\n",
       "      <td>{'neg': 0.0, 'neu': 0.638, 'pos': 0.362, 'comp...</td>\n",
       "      <td>Positive</td>\n",
       "      <td>[joined, uae, minister, amp, presidentdesignat...</td>\n",
       "      <td>[joined, uae, minister, amp, presidentdesignat...</td>\n",
       "      <td>1</td>\n",
       "    </tr>\n",
       "    <tr>\n",
       "      <th>1</th>\n",
       "      <td>foreign secretary  participated meeting focal ...</td>\n",
       "      <td>0.562500</td>\n",
       "      <td>-0.062500</td>\n",
       "      <td>Negative</td>\n",
       "      <td>{'neg': 0.0, 'neu': 0.816, 'pos': 0.184, 'comp...</td>\n",
       "      <td>Positive</td>\n",
       "      <td>[foreign, secretary, participated, meeting, fo...</td>\n",
       "      <td>[foreign, secretary, participated, meeting, fo...</td>\n",
       "      <td>-1</td>\n",
       "    </tr>\n",
       "    <tr>\n",
       "      <th>2</th>\n",
       "      <td>as uae marks national environment day remain c...</td>\n",
       "      <td>0.525000</td>\n",
       "      <td>0.166667</td>\n",
       "      <td>Positive</td>\n",
       "      <td>{'neg': 0.0, 'neu': 0.766, 'pos': 0.234, 'comp...</td>\n",
       "      <td>Positive</td>\n",
       "      <td>[as, uae, marks, national, environment, day, r...</td>\n",
       "      <td>[a, uae, mark, national, environment, day, rem...</td>\n",
       "      <td>1</td>\n",
       "    </tr>\n",
       "    <tr>\n",
       "      <th>3</th>\n",
       "      <td>did know uae developing arabic chatgpt using...</td>\n",
       "      <td>0.000000</td>\n",
       "      <td>0.000000</td>\n",
       "      <td>Neutral</td>\n",
       "      <td>{'neg': 0.0, 'neu': 0.874, 'pos': 0.126, 'comp...</td>\n",
       "      <td>Positive</td>\n",
       "      <td>[did, know, uae, developing, arabic, chatgpt, ...</td>\n",
       "      <td>[did, know, uae, developing, arabic, chatgpt, ...</td>\n",
       "      <td>0</td>\n",
       "    </tr>\n",
       "    <tr>\n",
       "      <th>4</th>\n",
       "      <td>uae lunar rover test st artificial intellig...</td>\n",
       "      <td>1.000000</td>\n",
       "      <td>-0.600000</td>\n",
       "      <td>Negative</td>\n",
       "      <td>{'neg': 0.0, 'neu': 0.819, 'pos': 0.181, 'comp...</td>\n",
       "      <td>Positive</td>\n",
       "      <td>[uae, lunar, rover, test, st, artificial, inte...</td>\n",
       "      <td>[uae, lunar, rover, test, st, artificial, inte...</td>\n",
       "      <td>-1</td>\n",
       "    </tr>\n",
       "    <tr>\n",
       "      <th>...</th>\n",
       "      <td>...</td>\n",
       "      <td>...</td>\n",
       "      <td>...</td>\n",
       "      <td>...</td>\n",
       "      <td>...</td>\n",
       "      <td>...</td>\n",
       "      <td>...</td>\n",
       "      <td>...</td>\n",
       "      <td>...</td>\n",
       "    </tr>\n",
       "    <tr>\n",
       "      <th>5393</th>\n",
       "      <td>dear sir help sir kidney damage doctor disc...</td>\n",
       "      <td>0.100000</td>\n",
       "      <td>0.000000</td>\n",
       "      <td>Neutral</td>\n",
       "      <td>{'neg': 0.073, 'neu': 0.726, 'pos': 0.202, 'co...</td>\n",
       "      <td>Positive</td>\n",
       "      <td>[dear, sir, help, sir, kidney, damage, doctor,...</td>\n",
       "      <td>[dear, sir, help, sir, kidney, damage, doctor,...</td>\n",
       "      <td>0</td>\n",
       "    </tr>\n",
       "    <tr>\n",
       "      <th>5394</th>\n",
       "      <td>dear sir help sir kidney damage doctor discus...</td>\n",
       "      <td>0.100000</td>\n",
       "      <td>0.000000</td>\n",
       "      <td>Neutral</td>\n",
       "      <td>{'neg': 0.073, 'neu': 0.726, 'pos': 0.202, 'co...</td>\n",
       "      <td>Positive</td>\n",
       "      <td>[dear, sir, help, sir, kidney, damage, doctor,...</td>\n",
       "      <td>[dear, sir, help, sir, kidney, damage, doctor,...</td>\n",
       "      <td>0</td>\n",
       "    </tr>\n",
       "    <tr>\n",
       "      <th>5395</th>\n",
       "      <td>dear sir help sir kidney damage doctor discus...</td>\n",
       "      <td>0.100000</td>\n",
       "      <td>0.000000</td>\n",
       "      <td>Neutral</td>\n",
       "      <td>{'neg': 0.074, 'neu': 0.719, 'pos': 0.206, 'co...</td>\n",
       "      <td>Positive</td>\n",
       "      <td>[dear, sir, help, sir, kidney, damage, doctor,...</td>\n",
       "      <td>[dear, sir, help, sir, kidney, damage, doctor,...</td>\n",
       "      <td>0</td>\n",
       "    </tr>\n",
       "    <tr>\n",
       "      <th>5396</th>\n",
       "      <td>launched service tuesday allow indian users t...</td>\n",
       "      <td>0.062500</td>\n",
       "      <td>-0.062500</td>\n",
       "      <td>Negative</td>\n",
       "      <td>{'neg': 0.043, 'neu': 0.774, 'pos': 0.183, 'co...</td>\n",
       "      <td>Positive</td>\n",
       "      <td>[launched, service, tuesday, allow, indian, us...</td>\n",
       "      <td>[launched, service, tuesday, allow, indian, us...</td>\n",
       "      <td>-1</td>\n",
       "    </tr>\n",
       "    <tr>\n",
       "      <th>5397</th>\n",
       "      <td>saudi k log bhikhari h  middle east uae numbe...</td>\n",
       "      <td>0.333333</td>\n",
       "      <td>0.333333</td>\n",
       "      <td>Positive</td>\n",
       "      <td>{'neg': 0.196, 'neu': 0.777, 'pos': 0.028, 'co...</td>\n",
       "      <td>Negative</td>\n",
       "      <td>[saudi, k, log, bhikhari, h, middle, east, uae...</td>\n",
       "      <td>[saudi, k, log, bhikhari, h, middle, east, uae...</td>\n",
       "      <td>1</td>\n",
       "    </tr>\n",
       "  </tbody>\n",
       "</table>\n",
       "<p>5398 rows × 9 columns</p>\n",
       "</div>"
      ],
      "text/plain": [
       "                                           Cleaned Text  \\\n",
       "0     joined uae minister amp presidentdesignate  dr...   \n",
       "1     foreign secretary  participated meeting focal ...   \n",
       "2     as uae marks national environment day remain c...   \n",
       "3       did know uae developing arabic chatgpt using...   \n",
       "4        uae lunar rover test st artificial intellig...   \n",
       "...                                                 ...   \n",
       "5393     dear sir help sir kidney damage doctor disc...   \n",
       "5394   dear sir help sir kidney damage doctor discus...   \n",
       "5395   dear sir help sir kidney damage doctor discus...   \n",
       "5396   launched service tuesday allow indian users t...   \n",
       "5397   saudi k log bhikhari h  middle east uae numbe...   \n",
       "\n",
       "      TextBlob Subjectivity  TextBlob Polarity TextBlob Sentiment  \\\n",
       "0                  0.200000           0.133333           Positive   \n",
       "1                  0.562500          -0.062500           Negative   \n",
       "2                  0.525000           0.166667           Positive   \n",
       "3                  0.000000           0.000000            Neutral   \n",
       "4                  1.000000          -0.600000           Negative   \n",
       "...                     ...                ...                ...   \n",
       "5393               0.100000           0.000000            Neutral   \n",
       "5394               0.100000           0.000000            Neutral   \n",
       "5395               0.100000           0.000000            Neutral   \n",
       "5396               0.062500          -0.062500           Negative   \n",
       "5397               0.333333           0.333333           Positive   \n",
       "\n",
       "                                         Vader Analysis Vader Sentiment  \\\n",
       "0     {'neg': 0.0, 'neu': 0.638, 'pos': 0.362, 'comp...        Positive   \n",
       "1     {'neg': 0.0, 'neu': 0.816, 'pos': 0.184, 'comp...        Positive   \n",
       "2     {'neg': 0.0, 'neu': 0.766, 'pos': 0.234, 'comp...        Positive   \n",
       "3     {'neg': 0.0, 'neu': 0.874, 'pos': 0.126, 'comp...        Positive   \n",
       "4     {'neg': 0.0, 'neu': 0.819, 'pos': 0.181, 'comp...        Positive   \n",
       "...                                                 ...             ...   \n",
       "5393  {'neg': 0.073, 'neu': 0.726, 'pos': 0.202, 'co...        Positive   \n",
       "5394  {'neg': 0.073, 'neu': 0.726, 'pos': 0.202, 'co...        Positive   \n",
       "5395  {'neg': 0.074, 'neu': 0.719, 'pos': 0.206, 'co...        Positive   \n",
       "5396  {'neg': 0.043, 'neu': 0.774, 'pos': 0.183, 'co...        Positive   \n",
       "5397  {'neg': 0.196, 'neu': 0.777, 'pos': 0.028, 'co...        Negative   \n",
       "\n",
       "                                         Tokenized Text  \\\n",
       "0     [joined, uae, minister, amp, presidentdesignat...   \n",
       "1     [foreign, secretary, participated, meeting, fo...   \n",
       "2     [as, uae, marks, national, environment, day, r...   \n",
       "3     [did, know, uae, developing, arabic, chatgpt, ...   \n",
       "4     [uae, lunar, rover, test, st, artificial, inte...   \n",
       "...                                                 ...   \n",
       "5393  [dear, sir, help, sir, kidney, damage, doctor,...   \n",
       "5394  [dear, sir, help, sir, kidney, damage, doctor,...   \n",
       "5395  [dear, sir, help, sir, kidney, damage, doctor,...   \n",
       "5396  [launched, service, tuesday, allow, indian, us...   \n",
       "5397  [saudi, k, log, bhikhari, h, middle, east, uae...   \n",
       "\n",
       "                                        Lemmatized Text  \\\n",
       "0     [joined, uae, minister, amp, presidentdesignat...   \n",
       "1     [foreign, secretary, participated, meeting, fo...   \n",
       "2     [a, uae, mark, national, environment, day, rem...   \n",
       "3     [did, know, uae, developing, arabic, chatgpt, ...   \n",
       "4     [uae, lunar, rover, test, st, artificial, inte...   \n",
       "...                                                 ...   \n",
       "5393  [dear, sir, help, sir, kidney, damage, doctor,...   \n",
       "5394  [dear, sir, help, sir, kidney, damage, doctor,...   \n",
       "5395  [dear, sir, help, sir, kidney, damage, doctor,...   \n",
       "5396  [launched, service, tuesday, allow, indian, us...   \n",
       "5397  [saudi, k, log, bhikhari, h, middle, east, uae...   \n",
       "\n",
       "      Encoded_TextBlob_Sentiment  \n",
       "0                              1  \n",
       "1                             -1  \n",
       "2                              1  \n",
       "3                              0  \n",
       "4                             -1  \n",
       "...                          ...  \n",
       "5393                           0  \n",
       "5394                           0  \n",
       "5395                           0  \n",
       "5396                          -1  \n",
       "5397                           1  \n",
       "\n",
       "[5398 rows x 9 columns]"
      ]
     },
     "execution_count": 328,
     "metadata": {},
     "output_type": "execute_result"
    }
   ],
   "source": [
    "# resets the index numbers of the dataframe\n",
    "updated_dataset.reset_index(inplace=True, drop=True)\n",
    "updated_dataset\n"
   ]
  },
  {
   "attachments": {},
   "cell_type": "markdown",
   "metadata": {},
   "source": [
    "# Text Representation"
   ]
  },
  {
   "attachments": {},
   "cell_type": "markdown",
   "metadata": {},
   "source": [
    "This section experiments with different document representations, namely:\n",
    "- Bag of Words\n",
    "- N-grams\n",
    "- TF-IDF\n",
    "- CBOW\n",
    "- Skip-gram\n",
    "- Pre-trained Word2Vec model by Google\n",
    "\n",
    "\n",
    "Each of the representations are tested using Naive Bayes, and the high performance models are used in the next stage of the pipeline.\n",
    "\n",
    "Note: Arbitrarily using lemmatization and textblob sentiments"
   ]
  },
  {
   "cell_type": "code",
   "execution_count": 329,
   "metadata": {},
   "outputs": [],
   "source": [
    "from sklearn.model_selection import train_test_split\n",
    "from sklearn.naive_bayes import MultinomialNB\n",
    "from sklearn.metrics import classification_report\n",
    "from sklearn.feature_extraction.text import CountVectorizer\n",
    "from sklearn.pipeline import Pipeline\n"
   ]
  },
  {
   "attachments": {},
   "cell_type": "markdown",
   "metadata": {},
   "source": [
    "Getting train and test sets ready"
   ]
  },
  {
   "cell_type": "code",
   "execution_count": 330,
   "metadata": {},
   "outputs": [],
   "source": [
    "X = updated_dataset['Lemmatized Text']\n",
    "y = updated_dataset['Encoded_TextBlob_Sentiment']\n",
    "X_train, X_test, y_train, y_test = train_test_split(\n",
    "    updated_dataset['Lemmatized Text'],\n",
    "    updated_dataset['Encoded_TextBlob_Sentiment'],\n",
    "    test_size=0.2,\n",
    "    random_state=42,\n",
    "    stratify=updated_dataset['Encoded_TextBlob_Sentiment']\n",
    ")\n"
   ]
  },
  {
   "attachments": {},
   "cell_type": "markdown",
   "metadata": {},
   "source": [
    "## Bag Of Words"
   ]
  },
  {
   "cell_type": "code",
   "execution_count": 331,
   "metadata": {},
   "outputs": [
    {
     "name": "stdout",
     "output_type": "stream",
     "text": [
      "              precision    recall  f1-score   support\n",
      "\n",
      "          -1       0.76      0.30      0.43        96\n",
      "           0       0.84      0.57      0.68       455\n",
      "           1       0.67      0.93      0.78       529\n",
      "\n",
      "    accuracy                           0.72      1080\n",
      "   macro avg       0.76      0.60      0.63      1080\n",
      "weighted avg       0.75      0.72      0.71      1080\n",
      "\n"
     ]
    }
   ],
   "source": [
    "\n",
    "bow = CountVectorizer(\n",
    "    ngram_range=(1, 1),  # unigram\n",
    "    preprocessor=lambda x: x,  # override preprocessing cause already done\n",
    "    tokenizer=lambda x: x,  # override tokenization cause already done\n",
    ")\n",
    "\n",
    "nb_bow = Pipeline([\n",
    "    ('bow', bow),\n",
    "    ('naive_bayes', MultinomialNB())\n",
    "])\n",
    "\n",
    "nb_bow.fit(X_train, y_train)\n",
    "y_pred_bow = nb_bow.predict(X_test)\n",
    "print(classification_report(y_test, y_pred_bow))\n"
   ]
  },
  {
   "attachments": {},
   "cell_type": "markdown",
   "metadata": {},
   "source": [
    "## N-grams\n",
    "The n-grams tested are $(a,b)$, which denotes a vector representation where a-grams up until b-grams are used.\n",
    "E.g. When the n-gram range is (1,3), the vector representation of the document includes unigrams, bigrams, and trigrams. \n",
    "\n",
    "If the range is $(a,a)$, only a-grams are used. E.g. (1,1) denotes unigrams.\n",
    "\n",
    "Possible n-gram values that are tested are:\n",
    "$\\text{n-gram values}=\\{(a,b) | a \\in \\{1,2,...,9\\} \\cap b \\in \\{1,2,...,9\\} \\cap (a <= b)\\}$\n",
    "\n",
    "It is observed that the n-gram range (1,6) provides the best macro-f1 score."
   ]
  },
  {
   "cell_type": "code",
   "execution_count": 332,
   "metadata": {},
   "outputs": [],
   "source": [
    "from sklearn.metrics import precision_recall_fscore_support\n",
    "A = np.arange(1, 10)\n",
    "B = np.arange(1, 10)\n",
    "\n",
    "# Generate possible n-gram pairs\n",
    "ngram_pairs = [(a, b) for a in A for b in B if a <= b]\n",
    "\n",
    "results_ngram = {}\n",
    "for ngram_range in ngram_pairs:\n",
    "    ngram = CountVectorizer(\n",
    "        ngram_range=ngram_range,\n",
    "        preprocessor=lambda x: x,  # override preprocessing\n",
    "        tokenizer=lambda x: x,  # override tokenization\n",
    "    )\n",
    "\n",
    "    ngram_nb = Pipeline([\n",
    "        ('ngram', ngram),\n",
    "        ('naive_bayes', MultinomialNB())\n",
    "    ])\n",
    "\n",
    "    ngram_nb.fit(X_train, y_train)\n",
    "    ngram_nb_y_pred = ngram_nb.predict(X_test)\n",
    "\n",
    "    prec, recall, f1, support = precision_recall_fscore_support(\n",
    "        y_test, ngram_nb_y_pred, beta=1.0, average='macro')\n",
    "    results_ngram[ngram_range] = {\n",
    "        'precision': prec, 'recall': recall, 'f1-score': f1}\n"
   ]
  },
  {
   "cell_type": "code",
   "execution_count": 333,
   "metadata": {},
   "outputs": [
    {
     "data": {
      "text/plain": [
       "precision    (1, 2)\n",
       "recall       (1, 5)\n",
       "f1-score     (1, 5)\n",
       "dtype: object"
      ]
     },
     "execution_count": 333,
     "metadata": {},
     "output_type": "execute_result"
    }
   ],
   "source": [
    "ngram_results = pd.DataFrame.from_dict(results_ngram, orient='index', columns=[\n",
    "                                       'precision', 'recall', 'f1-score'])\n",
    "ngram_results.index.names = ['min_ngram', 'max_ngram']\n",
    "# get n-grams corresponding to max f1 score\n",
    "ngram_results.idxmax()\n"
   ]
  },
  {
   "cell_type": "code",
   "execution_count": 334,
   "metadata": {},
   "outputs": [
    {
     "data": {
      "text/html": [
       "<div>\n",
       "<style scoped>\n",
       "    .dataframe tbody tr th:only-of-type {\n",
       "        vertical-align: middle;\n",
       "    }\n",
       "\n",
       "    .dataframe tbody tr th {\n",
       "        vertical-align: top;\n",
       "    }\n",
       "\n",
       "    .dataframe thead th {\n",
       "        text-align: right;\n",
       "    }\n",
       "</style>\n",
       "<table border=\"1\" class=\"dataframe\">\n",
       "  <thead>\n",
       "    <tr style=\"text-align: right;\">\n",
       "      <th></th>\n",
       "      <th></th>\n",
       "      <th>precision</th>\n",
       "      <th>recall</th>\n",
       "      <th>f1-score</th>\n",
       "    </tr>\n",
       "    <tr>\n",
       "      <th>min_ngram</th>\n",
       "      <th>max_ngram</th>\n",
       "      <th></th>\n",
       "      <th></th>\n",
       "      <th></th>\n",
       "    </tr>\n",
       "  </thead>\n",
       "  <tbody>\n",
       "    <tr>\n",
       "      <th rowspan=\"9\" valign=\"top\">1</th>\n",
       "      <th>1</th>\n",
       "      <td>0.758768</td>\n",
       "      <td>0.600662</td>\n",
       "      <td>0.630876</td>\n",
       "    </tr>\n",
       "    <tr>\n",
       "      <th>2</th>\n",
       "      <td>0.774046</td>\n",
       "      <td>0.623430</td>\n",
       "      <td>0.655904</td>\n",
       "    </tr>\n",
       "    <tr>\n",
       "      <th>3</th>\n",
       "      <td>0.766814</td>\n",
       "      <td>0.629203</td>\n",
       "      <td>0.660566</td>\n",
       "    </tr>\n",
       "    <tr>\n",
       "      <th>4</th>\n",
       "      <td>0.759211</td>\n",
       "      <td>0.634359</td>\n",
       "      <td>0.664820</td>\n",
       "    </tr>\n",
       "    <tr>\n",
       "      <th>5</th>\n",
       "      <td>0.756062</td>\n",
       "      <td>0.635825</td>\n",
       "      <td>0.665523</td>\n",
       "    </tr>\n",
       "    <tr>\n",
       "      <th>6</th>\n",
       "      <td>0.752179</td>\n",
       "      <td>0.635722</td>\n",
       "      <td>0.664513</td>\n",
       "    </tr>\n",
       "    <tr>\n",
       "      <th>7</th>\n",
       "      <td>0.751159</td>\n",
       "      <td>0.635092</td>\n",
       "      <td>0.663878</td>\n",
       "    </tr>\n",
       "    <tr>\n",
       "      <th>8</th>\n",
       "      <td>0.752179</td>\n",
       "      <td>0.635722</td>\n",
       "      <td>0.664513</td>\n",
       "    </tr>\n",
       "    <tr>\n",
       "      <th>9</th>\n",
       "      <td>0.751159</td>\n",
       "      <td>0.635092</td>\n",
       "      <td>0.663878</td>\n",
       "    </tr>\n",
       "    <tr>\n",
       "      <th rowspan=\"8\" valign=\"top\">2</th>\n",
       "      <th>2</th>\n",
       "      <td>0.705349</td>\n",
       "      <td>0.617110</td>\n",
       "      <td>0.643739</td>\n",
       "    </tr>\n",
       "    <tr>\n",
       "      <th>3</th>\n",
       "      <td>0.694393</td>\n",
       "      <td>0.617212</td>\n",
       "      <td>0.641368</td>\n",
       "    </tr>\n",
       "    <tr>\n",
       "      <th>4</th>\n",
       "      <td>0.699475</td>\n",
       "      <td>0.618472</td>\n",
       "      <td>0.643453</td>\n",
       "    </tr>\n",
       "    <tr>\n",
       "      <th>5</th>\n",
       "      <td>0.697915</td>\n",
       "      <td>0.617212</td>\n",
       "      <td>0.642195</td>\n",
       "    </tr>\n",
       "    <tr>\n",
       "      <th>6</th>\n",
       "      <td>0.697915</td>\n",
       "      <td>0.617212</td>\n",
       "      <td>0.642195</td>\n",
       "    </tr>\n",
       "    <tr>\n",
       "      <th>7</th>\n",
       "      <td>0.697915</td>\n",
       "      <td>0.617212</td>\n",
       "      <td>0.642195</td>\n",
       "    </tr>\n",
       "    <tr>\n",
       "      <th>8</th>\n",
       "      <td>0.699282</td>\n",
       "      <td>0.618575</td>\n",
       "      <td>0.643552</td>\n",
       "    </tr>\n",
       "    <tr>\n",
       "      <th>9</th>\n",
       "      <td>0.698505</td>\n",
       "      <td>0.617945</td>\n",
       "      <td>0.642923</td>\n",
       "    </tr>\n",
       "    <tr>\n",
       "      <th rowspan=\"7\" valign=\"top\">3</th>\n",
       "      <th>3</th>\n",
       "      <td>0.723493</td>\n",
       "      <td>0.606402</td>\n",
       "      <td>0.634307</td>\n",
       "    </tr>\n",
       "    <tr>\n",
       "      <th>4</th>\n",
       "      <td>0.719785</td>\n",
       "      <td>0.607134</td>\n",
       "      <td>0.634192</td>\n",
       "    </tr>\n",
       "    <tr>\n",
       "      <th>5</th>\n",
       "      <td>0.717755</td>\n",
       "      <td>0.605874</td>\n",
       "      <td>0.632954</td>\n",
       "    </tr>\n",
       "    <tr>\n",
       "      <th>6</th>\n",
       "      <td>0.718768</td>\n",
       "      <td>0.606504</td>\n",
       "      <td>0.633573</td>\n",
       "    </tr>\n",
       "    <tr>\n",
       "      <th>7</th>\n",
       "      <td>0.718768</td>\n",
       "      <td>0.606504</td>\n",
       "      <td>0.633573</td>\n",
       "    </tr>\n",
       "    <tr>\n",
       "      <th>8</th>\n",
       "      <td>0.718254</td>\n",
       "      <td>0.605772</td>\n",
       "      <td>0.632788</td>\n",
       "    </tr>\n",
       "    <tr>\n",
       "      <th>9</th>\n",
       "      <td>0.718254</td>\n",
       "      <td>0.605772</td>\n",
       "      <td>0.632788</td>\n",
       "    </tr>\n",
       "    <tr>\n",
       "      <th rowspan=\"6\" valign=\"top\">4</th>\n",
       "      <th>4</th>\n",
       "      <td>0.721587</td>\n",
       "      <td>0.587943</td>\n",
       "      <td>0.613229</td>\n",
       "    </tr>\n",
       "    <tr>\n",
       "      <th>5</th>\n",
       "      <td>0.726005</td>\n",
       "      <td>0.592045</td>\n",
       "      <td>0.617725</td>\n",
       "    </tr>\n",
       "    <tr>\n",
       "      <th>6</th>\n",
       "      <td>0.726005</td>\n",
       "      <td>0.592045</td>\n",
       "      <td>0.617725</td>\n",
       "    </tr>\n",
       "    <tr>\n",
       "      <th>7</th>\n",
       "      <td>0.726474</td>\n",
       "      <td>0.592778</td>\n",
       "      <td>0.618544</td>\n",
       "    </tr>\n",
       "    <tr>\n",
       "      <th>8</th>\n",
       "      <td>0.726005</td>\n",
       "      <td>0.592045</td>\n",
       "      <td>0.617725</td>\n",
       "    </tr>\n",
       "    <tr>\n",
       "      <th>9</th>\n",
       "      <td>0.726005</td>\n",
       "      <td>0.592045</td>\n",
       "      <td>0.617725</td>\n",
       "    </tr>\n",
       "    <tr>\n",
       "      <th rowspan=\"5\" valign=\"top\">5</th>\n",
       "      <th>5</th>\n",
       "      <td>0.727812</td>\n",
       "      <td>0.567491</td>\n",
       "      <td>0.589956</td>\n",
       "    </tr>\n",
       "    <tr>\n",
       "      <th>6</th>\n",
       "      <td>0.728251</td>\n",
       "      <td>0.568224</td>\n",
       "      <td>0.590812</td>\n",
       "    </tr>\n",
       "    <tr>\n",
       "      <th>7</th>\n",
       "      <td>0.727812</td>\n",
       "      <td>0.567491</td>\n",
       "      <td>0.589956</td>\n",
       "    </tr>\n",
       "    <tr>\n",
       "      <th>8</th>\n",
       "      <td>0.727812</td>\n",
       "      <td>0.567491</td>\n",
       "      <td>0.589956</td>\n",
       "    </tr>\n",
       "    <tr>\n",
       "      <th>9</th>\n",
       "      <td>0.727812</td>\n",
       "      <td>0.567491</td>\n",
       "      <td>0.589956</td>\n",
       "    </tr>\n",
       "    <tr>\n",
       "      <th rowspan=\"4\" valign=\"top\">6</th>\n",
       "      <th>6</th>\n",
       "      <td>0.729815</td>\n",
       "      <td>0.551976</td>\n",
       "      <td>0.571738</td>\n",
       "    </tr>\n",
       "    <tr>\n",
       "      <th>7</th>\n",
       "      <td>0.729815</td>\n",
       "      <td>0.551976</td>\n",
       "      <td>0.571738</td>\n",
       "    </tr>\n",
       "    <tr>\n",
       "      <th>8</th>\n",
       "      <td>0.729815</td>\n",
       "      <td>0.551976</td>\n",
       "      <td>0.571738</td>\n",
       "    </tr>\n",
       "    <tr>\n",
       "      <th>9</th>\n",
       "      <td>0.729815</td>\n",
       "      <td>0.551976</td>\n",
       "      <td>0.571738</td>\n",
       "    </tr>\n",
       "    <tr>\n",
       "      <th rowspan=\"3\" valign=\"top\">7</th>\n",
       "      <th>7</th>\n",
       "      <td>0.713582</td>\n",
       "      <td>0.528167</td>\n",
       "      <td>0.541835</td>\n",
       "    </tr>\n",
       "    <tr>\n",
       "      <th>8</th>\n",
       "      <td>0.711944</td>\n",
       "      <td>0.527537</td>\n",
       "      <td>0.541256</td>\n",
       "    </tr>\n",
       "    <tr>\n",
       "      <th>9</th>\n",
       "      <td>0.711944</td>\n",
       "      <td>0.527537</td>\n",
       "      <td>0.541256</td>\n",
       "    </tr>\n",
       "    <tr>\n",
       "      <th rowspan=\"2\" valign=\"top\">8</th>\n",
       "      <th>8</th>\n",
       "      <td>0.701106</td>\n",
       "      <td>0.495772</td>\n",
       "      <td>0.500662</td>\n",
       "    </tr>\n",
       "    <tr>\n",
       "      <th>9</th>\n",
       "      <td>0.701106</td>\n",
       "      <td>0.495772</td>\n",
       "      <td>0.500662</td>\n",
       "    </tr>\n",
       "    <tr>\n",
       "      <th>9</th>\n",
       "      <th>9</th>\n",
       "      <td>0.697161</td>\n",
       "      <td>0.459700</td>\n",
       "      <td>0.451696</td>\n",
       "    </tr>\n",
       "  </tbody>\n",
       "</table>\n",
       "</div>"
      ],
      "text/plain": [
       "                     precision    recall  f1-score\n",
       "min_ngram max_ngram                               \n",
       "1         1           0.758768  0.600662  0.630876\n",
       "          2           0.774046  0.623430  0.655904\n",
       "          3           0.766814  0.629203  0.660566\n",
       "          4           0.759211  0.634359  0.664820\n",
       "          5           0.756062  0.635825  0.665523\n",
       "          6           0.752179  0.635722  0.664513\n",
       "          7           0.751159  0.635092  0.663878\n",
       "          8           0.752179  0.635722  0.664513\n",
       "          9           0.751159  0.635092  0.663878\n",
       "2         2           0.705349  0.617110  0.643739\n",
       "          3           0.694393  0.617212  0.641368\n",
       "          4           0.699475  0.618472  0.643453\n",
       "          5           0.697915  0.617212  0.642195\n",
       "          6           0.697915  0.617212  0.642195\n",
       "          7           0.697915  0.617212  0.642195\n",
       "          8           0.699282  0.618575  0.643552\n",
       "          9           0.698505  0.617945  0.642923\n",
       "3         3           0.723493  0.606402  0.634307\n",
       "          4           0.719785  0.607134  0.634192\n",
       "          5           0.717755  0.605874  0.632954\n",
       "          6           0.718768  0.606504  0.633573\n",
       "          7           0.718768  0.606504  0.633573\n",
       "          8           0.718254  0.605772  0.632788\n",
       "          9           0.718254  0.605772  0.632788\n",
       "4         4           0.721587  0.587943  0.613229\n",
       "          5           0.726005  0.592045  0.617725\n",
       "          6           0.726005  0.592045  0.617725\n",
       "          7           0.726474  0.592778  0.618544\n",
       "          8           0.726005  0.592045  0.617725\n",
       "          9           0.726005  0.592045  0.617725\n",
       "5         5           0.727812  0.567491  0.589956\n",
       "          6           0.728251  0.568224  0.590812\n",
       "          7           0.727812  0.567491  0.589956\n",
       "          8           0.727812  0.567491  0.589956\n",
       "          9           0.727812  0.567491  0.589956\n",
       "6         6           0.729815  0.551976  0.571738\n",
       "          7           0.729815  0.551976  0.571738\n",
       "          8           0.729815  0.551976  0.571738\n",
       "          9           0.729815  0.551976  0.571738\n",
       "7         7           0.713582  0.528167  0.541835\n",
       "          8           0.711944  0.527537  0.541256\n",
       "          9           0.711944  0.527537  0.541256\n",
       "8         8           0.701106  0.495772  0.500662\n",
       "          9           0.701106  0.495772  0.500662\n",
       "9         9           0.697161  0.459700  0.451696"
      ]
     },
     "execution_count": 334,
     "metadata": {},
     "output_type": "execute_result"
    }
   ],
   "source": [
    "ngram_results\n"
   ]
  },
  {
   "attachments": {},
   "cell_type": "markdown",
   "metadata": {},
   "source": [
    "## TF-IDF\n",
    "\n",
    "The TF-IDF vectorizor is tested over several n-gram ranges. The ranges are: $\\text{n-gram values}=\\{(a,b) | a \\in \\{1,2,...,9\\} \\cap b \\in \\{1,2,...,9\\} \\cap (a <= b)\\}$.\n",
    "\n",
    "It is observed that the tfidf vector with n-gram range (2,3) provides the best macro-f1 score."
   ]
  },
  {
   "cell_type": "code",
   "execution_count": 335,
   "metadata": {},
   "outputs": [],
   "source": [
    "from sklearn.feature_extraction.text import TfidfVectorizer\n",
    "\n",
    "A = np.arange(1, 10)\n",
    "B = np.arange(1, 10)\n",
    "\n",
    "# Generate possible n-gram pairs\n",
    "ngram_pairs = [(a, b) for a in A for b in B if a <= b]\n",
    "\n",
    "results_tfidf = {}\n",
    "for ngram_range in ngram_pairs:\n",
    "    tfidf = TfidfVectorizer(\n",
    "        preprocessor=lambda x: x,  # override preprocessing\n",
    "        tokenizer=lambda x: x,  # override tokenization\n",
    "        ngram_range=ngram_range\n",
    "    )\n",
    "\n",
    "    tfidf_nb = Pipeline([\n",
    "        ('tfidf', tfidf),\n",
    "        ('naive_bayes', MultinomialNB())\n",
    "    ])\n",
    "\n",
    "    tfidf_nb.fit(X_train, y_train)\n",
    "    tfidf_nb_y_pred = tfidf_nb.predict(X_test)\n",
    "    prec, recall, f1, support = precision_recall_fscore_support(\n",
    "        y_test, tfidf_nb_y_pred, beta=1.0, average='macro')\n",
    "    results_tfidf[ngram_range] = {\n",
    "        'precision': prec, 'recall': recall, 'f1-score': f1}\n"
   ]
  },
  {
   "cell_type": "code",
   "execution_count": 336,
   "metadata": {},
   "outputs": [
    {
     "data": {
      "text/plain": [
       "precision    (1, 8)\n",
       "recall       (1, 6)\n",
       "f1-score     (1, 6)\n",
       "dtype: object"
      ]
     },
     "execution_count": 336,
     "metadata": {},
     "output_type": "execute_result"
    }
   ],
   "source": [
    "tfidf_results = pd.DataFrame.from_dict(results_tfidf, orient='index', columns=[\n",
    "                                       'precision', 'recall', 'f1-score'])\n",
    "tfidf_results.index.names = ['min_ngram', 'max_ngram']\n",
    "# get n-grams corresponding to max f1 score\n",
    "tfidf_results.idxmax()\n"
   ]
  },
  {
   "cell_type": "code",
   "execution_count": 337,
   "metadata": {},
   "outputs": [
    {
     "data": {
      "text/html": [
       "<div>\n",
       "<style scoped>\n",
       "    .dataframe tbody tr th:only-of-type {\n",
       "        vertical-align: middle;\n",
       "    }\n",
       "\n",
       "    .dataframe tbody tr th {\n",
       "        vertical-align: top;\n",
       "    }\n",
       "\n",
       "    .dataframe thead th {\n",
       "        text-align: right;\n",
       "    }\n",
       "</style>\n",
       "<table border=\"1\" class=\"dataframe\">\n",
       "  <thead>\n",
       "    <tr style=\"text-align: right;\">\n",
       "      <th></th>\n",
       "      <th></th>\n",
       "      <th>precision</th>\n",
       "      <th>recall</th>\n",
       "      <th>f1-score</th>\n",
       "    </tr>\n",
       "    <tr>\n",
       "      <th>min_ngram</th>\n",
       "      <th>max_ngram</th>\n",
       "      <th></th>\n",
       "      <th></th>\n",
       "      <th></th>\n",
       "    </tr>\n",
       "  </thead>\n",
       "  <tbody>\n",
       "    <tr>\n",
       "      <th rowspan=\"9\" valign=\"top\">1</th>\n",
       "      <th>1</th>\n",
       "      <td>0.802602</td>\n",
       "      <td>0.530618</td>\n",
       "      <td>0.535807</td>\n",
       "    </tr>\n",
       "    <tr>\n",
       "      <th>2</th>\n",
       "      <td>0.813216</td>\n",
       "      <td>0.544962</td>\n",
       "      <td>0.550949</td>\n",
       "    </tr>\n",
       "    <tr>\n",
       "      <th>3</th>\n",
       "      <td>0.817503</td>\n",
       "      <td>0.551570</td>\n",
       "      <td>0.560320</td>\n",
       "    </tr>\n",
       "    <tr>\n",
       "      <th>4</th>\n",
       "      <td>0.821161</td>\n",
       "      <td>0.556507</td>\n",
       "      <td>0.567645</td>\n",
       "    </tr>\n",
       "    <tr>\n",
       "      <th>5</th>\n",
       "      <td>0.820919</td>\n",
       "      <td>0.557342</td>\n",
       "      <td>0.568540</td>\n",
       "    </tr>\n",
       "    <tr>\n",
       "      <th>6</th>\n",
       "      <td>0.821342</td>\n",
       "      <td>0.558075</td>\n",
       "      <td>0.569299</td>\n",
       "    </tr>\n",
       "    <tr>\n",
       "      <th>7</th>\n",
       "      <td>0.818134</td>\n",
       "      <td>0.556185</td>\n",
       "      <td>0.567418</td>\n",
       "    </tr>\n",
       "    <tr>\n",
       "      <th>8</th>\n",
       "      <td>0.844218</td>\n",
       "      <td>0.557122</td>\n",
       "      <td>0.568756</td>\n",
       "    </tr>\n",
       "    <tr>\n",
       "      <th>9</th>\n",
       "      <td>0.843765</td>\n",
       "      <td>0.554485</td>\n",
       "      <td>0.563784</td>\n",
       "    </tr>\n",
       "    <tr>\n",
       "      <th rowspan=\"8\" valign=\"top\">2</th>\n",
       "      <th>2</th>\n",
       "      <td>0.782687</td>\n",
       "      <td>0.546832</td>\n",
       "      <td>0.563677</td>\n",
       "    </tr>\n",
       "    <tr>\n",
       "      <th>3</th>\n",
       "      <td>0.783607</td>\n",
       "      <td>0.547667</td>\n",
       "      <td>0.564644</td>\n",
       "    </tr>\n",
       "    <tr>\n",
       "      <th>4</th>\n",
       "      <td>0.783767</td>\n",
       "      <td>0.546202</td>\n",
       "      <td>0.563438</td>\n",
       "    </tr>\n",
       "    <tr>\n",
       "      <th>5</th>\n",
       "      <td>0.765197</td>\n",
       "      <td>0.545997</td>\n",
       "      <td>0.562661</td>\n",
       "    </tr>\n",
       "    <tr>\n",
       "      <th>6</th>\n",
       "      <td>0.766021</td>\n",
       "      <td>0.546627</td>\n",
       "      <td>0.563276</td>\n",
       "    </tr>\n",
       "    <tr>\n",
       "      <th>7</th>\n",
       "      <td>0.781904</td>\n",
       "      <td>0.540313</td>\n",
       "      <td>0.553332</td>\n",
       "    </tr>\n",
       "    <tr>\n",
       "      <th>8</th>\n",
       "      <td>0.782735</td>\n",
       "      <td>0.540943</td>\n",
       "      <td>0.553947</td>\n",
       "    </tr>\n",
       "    <tr>\n",
       "      <th>9</th>\n",
       "      <td>0.782499</td>\n",
       "      <td>0.540108</td>\n",
       "      <td>0.553093</td>\n",
       "    </tr>\n",
       "    <tr>\n",
       "      <th rowspan=\"7\" valign=\"top\">3</th>\n",
       "      <th>3</th>\n",
       "      <td>0.790989</td>\n",
       "      <td>0.533560</td>\n",
       "      <td>0.546135</td>\n",
       "    </tr>\n",
       "    <tr>\n",
       "      <th>4</th>\n",
       "      <td>0.775396</td>\n",
       "      <td>0.537458</td>\n",
       "      <td>0.551582</td>\n",
       "    </tr>\n",
       "    <tr>\n",
       "      <th>5</th>\n",
       "      <td>0.771936</td>\n",
       "      <td>0.533985</td>\n",
       "      <td>0.546034</td>\n",
       "    </tr>\n",
       "    <tr>\n",
       "      <th>6</th>\n",
       "      <td>0.794512</td>\n",
       "      <td>0.535246</td>\n",
       "      <td>0.547543</td>\n",
       "    </tr>\n",
       "    <tr>\n",
       "      <th>7</th>\n",
       "      <td>0.819385</td>\n",
       "      <td>0.534513</td>\n",
       "      <td>0.547246</td>\n",
       "    </tr>\n",
       "    <tr>\n",
       "      <th>8</th>\n",
       "      <td>0.818573</td>\n",
       "      <td>0.530206</td>\n",
       "      <td>0.540468</td>\n",
       "    </tr>\n",
       "    <tr>\n",
       "      <th>9</th>\n",
       "      <td>0.818088</td>\n",
       "      <td>0.529473</td>\n",
       "      <td>0.539685</td>\n",
       "    </tr>\n",
       "    <tr>\n",
       "      <th rowspan=\"6\" valign=\"top\">4</th>\n",
       "      <th>4</th>\n",
       "      <td>0.820039</td>\n",
       "      <td>0.526367</td>\n",
       "      <td>0.537913</td>\n",
       "    </tr>\n",
       "    <tr>\n",
       "      <th>5</th>\n",
       "      <td>0.819071</td>\n",
       "      <td>0.522895</td>\n",
       "      <td>0.532088</td>\n",
       "    </tr>\n",
       "    <tr>\n",
       "      <th>6</th>\n",
       "      <td>0.818380</td>\n",
       "      <td>0.522895</td>\n",
       "      <td>0.531994</td>\n",
       "    </tr>\n",
       "    <tr>\n",
       "      <th>7</th>\n",
       "      <td>0.819497</td>\n",
       "      <td>0.523525</td>\n",
       "      <td>0.532596</td>\n",
       "    </tr>\n",
       "    <tr>\n",
       "      <th>8</th>\n",
       "      <td>0.820620</td>\n",
       "      <td>0.524155</td>\n",
       "      <td>0.533198</td>\n",
       "    </tr>\n",
       "    <tr>\n",
       "      <th>9</th>\n",
       "      <td>0.822886</td>\n",
       "      <td>0.525415</td>\n",
       "      <td>0.534402</td>\n",
       "    </tr>\n",
       "    <tr>\n",
       "      <th rowspan=\"5\" valign=\"top\">5</th>\n",
       "      <th>5</th>\n",
       "      <td>0.822439</td>\n",
       "      <td>0.514544</td>\n",
       "      <td>0.521691</td>\n",
       "    </tr>\n",
       "    <tr>\n",
       "      <th>6</th>\n",
       "      <td>0.822439</td>\n",
       "      <td>0.514544</td>\n",
       "      <td>0.521691</td>\n",
       "    </tr>\n",
       "    <tr>\n",
       "      <th>7</th>\n",
       "      <td>0.819616</td>\n",
       "      <td>0.509709</td>\n",
       "      <td>0.514328</td>\n",
       "    </tr>\n",
       "    <tr>\n",
       "      <th>8</th>\n",
       "      <td>0.819616</td>\n",
       "      <td>0.509709</td>\n",
       "      <td>0.514328</td>\n",
       "    </tr>\n",
       "    <tr>\n",
       "      <th>9</th>\n",
       "      <td>0.821477</td>\n",
       "      <td>0.506867</td>\n",
       "      <td>0.509083</td>\n",
       "    </tr>\n",
       "    <tr>\n",
       "      <th rowspan=\"4\" valign=\"top\">6</th>\n",
       "      <th>6</th>\n",
       "      <td>0.819001</td>\n",
       "      <td>0.496933</td>\n",
       "      <td>0.496850</td>\n",
       "    </tr>\n",
       "    <tr>\n",
       "      <th>7</th>\n",
       "      <td>0.819459</td>\n",
       "      <td>0.497666</td>\n",
       "      <td>0.497723</td>\n",
       "    </tr>\n",
       "    <tr>\n",
       "      <th>8</th>\n",
       "      <td>0.819459</td>\n",
       "      <td>0.497666</td>\n",
       "      <td>0.497723</td>\n",
       "    </tr>\n",
       "    <tr>\n",
       "      <th>9</th>\n",
       "      <td>0.819217</td>\n",
       "      <td>0.494194</td>\n",
       "      <td>0.491681</td>\n",
       "    </tr>\n",
       "    <tr>\n",
       "      <th rowspan=\"3\" valign=\"top\">7</th>\n",
       "      <th>7</th>\n",
       "      <td>0.810353</td>\n",
       "      <td>0.466283</td>\n",
       "      <td>0.449134</td>\n",
       "    </tr>\n",
       "    <tr>\n",
       "      <th>8</th>\n",
       "      <td>0.810353</td>\n",
       "      <td>0.466283</td>\n",
       "      <td>0.449134</td>\n",
       "    </tr>\n",
       "    <tr>\n",
       "      <th>9</th>\n",
       "      <td>0.811836</td>\n",
       "      <td>0.466913</td>\n",
       "      <td>0.449704</td>\n",
       "    </tr>\n",
       "    <tr>\n",
       "      <th rowspan=\"2\" valign=\"top\">8</th>\n",
       "      <th>8</th>\n",
       "      <td>0.800381</td>\n",
       "      <td>0.444833</td>\n",
       "      <td>0.421226</td>\n",
       "    </tr>\n",
       "    <tr>\n",
       "      <th>9</th>\n",
       "      <td>0.800381</td>\n",
       "      <td>0.444833</td>\n",
       "      <td>0.421226</td>\n",
       "    </tr>\n",
       "    <tr>\n",
       "      <th>9</th>\n",
       "      <th>9</th>\n",
       "      <td>0.791514</td>\n",
       "      <td>0.418445</td>\n",
       "      <td>0.382242</td>\n",
       "    </tr>\n",
       "  </tbody>\n",
       "</table>\n",
       "</div>"
      ],
      "text/plain": [
       "                     precision    recall  f1-score\n",
       "min_ngram max_ngram                               \n",
       "1         1           0.802602  0.530618  0.535807\n",
       "          2           0.813216  0.544962  0.550949\n",
       "          3           0.817503  0.551570  0.560320\n",
       "          4           0.821161  0.556507  0.567645\n",
       "          5           0.820919  0.557342  0.568540\n",
       "          6           0.821342  0.558075  0.569299\n",
       "          7           0.818134  0.556185  0.567418\n",
       "          8           0.844218  0.557122  0.568756\n",
       "          9           0.843765  0.554485  0.563784\n",
       "2         2           0.782687  0.546832  0.563677\n",
       "          3           0.783607  0.547667  0.564644\n",
       "          4           0.783767  0.546202  0.563438\n",
       "          5           0.765197  0.545997  0.562661\n",
       "          6           0.766021  0.546627  0.563276\n",
       "          7           0.781904  0.540313  0.553332\n",
       "          8           0.782735  0.540943  0.553947\n",
       "          9           0.782499  0.540108  0.553093\n",
       "3         3           0.790989  0.533560  0.546135\n",
       "          4           0.775396  0.537458  0.551582\n",
       "          5           0.771936  0.533985  0.546034\n",
       "          6           0.794512  0.535246  0.547543\n",
       "          7           0.819385  0.534513  0.547246\n",
       "          8           0.818573  0.530206  0.540468\n",
       "          9           0.818088  0.529473  0.539685\n",
       "4         4           0.820039  0.526367  0.537913\n",
       "          5           0.819071  0.522895  0.532088\n",
       "          6           0.818380  0.522895  0.531994\n",
       "          7           0.819497  0.523525  0.532596\n",
       "          8           0.820620  0.524155  0.533198\n",
       "          9           0.822886  0.525415  0.534402\n",
       "5         5           0.822439  0.514544  0.521691\n",
       "          6           0.822439  0.514544  0.521691\n",
       "          7           0.819616  0.509709  0.514328\n",
       "          8           0.819616  0.509709  0.514328\n",
       "          9           0.821477  0.506867  0.509083\n",
       "6         6           0.819001  0.496933  0.496850\n",
       "          7           0.819459  0.497666  0.497723\n",
       "          8           0.819459  0.497666  0.497723\n",
       "          9           0.819217  0.494194  0.491681\n",
       "7         7           0.810353  0.466283  0.449134\n",
       "          8           0.810353  0.466283  0.449134\n",
       "          9           0.811836  0.466913  0.449704\n",
       "8         8           0.800381  0.444833  0.421226\n",
       "          9           0.800381  0.444833  0.421226\n",
       "9         9           0.791514  0.418445  0.382242"
      ]
     },
     "execution_count": 337,
     "metadata": {},
     "output_type": "execute_result"
    }
   ],
   "source": [
    "tfidf_results\n"
   ]
  },
  {
   "attachments": {},
   "cell_type": "markdown",
   "metadata": {},
   "source": [
    "## Word2Vec"
   ]
  },
  {
   "cell_type": "code",
   "execution_count": 338,
   "metadata": {},
   "outputs": [],
   "source": [
    "from gensim.models import Word2Vec\n",
    "import gensim\n",
    "\n",
    "# %pip install gensim\n"
   ]
  },
  {
   "cell_type": "code",
   "execution_count": 339,
   "metadata": {},
   "outputs": [],
   "source": [
    "from sklearn.preprocessing import MinMaxScaler\n",
    "\n",
    "\n",
    "def normalize_vectors(input_vectors):\n",
    "    \"\"\"Normalizes vectors to be in range [0,1)\n",
    "\n",
    "    Args:\n",
    "        input_vectors (np.ndarray): List of vectors, each vector is np.ndarray\n",
    "    \"\"\"\n",
    "\n",
    "    return MinMaxScaler().fit(input_vectors).transform(input_vectors)\n"
   ]
  },
  {
   "cell_type": "code",
   "execution_count": 340,
   "metadata": {},
   "outputs": [],
   "source": [
    "def vectorize_sentence(sentence, wv_model, mode=0):\n",
    "    \"\"\"Convert a sentence to a vector by summing word vectors in the sentence.\n",
    "\n",
    "    Another option could be to average word vectors rather than just sum.\n",
    "\n",
    "    Arg: \n",
    "        sentence (list): Tokenized sentence\n",
    "        mode (int, 1 or 0): 0 for summing word vectors, 1 or averaging word vectors.\n",
    "    Returns:\n",
    "        (np.ndarray): Vector representation of sentence\n",
    "    \"\"\"\n",
    "    if mode not in [0, 1]:\n",
    "        raise Exception(\"Mode parameter should be either 1 or 0\")\n",
    "\n",
    "    vector_size = wv_model.vector_size\n",
    "    wv_res = np.zeros(vector_size)\n",
    "    count = 1\n",
    "    for w in sentence:\n",
    "        if w in wv_model:\n",
    "            wv_res += wv_model[w]\n",
    "            if mode:\n",
    "                count += 1\n",
    "    if mode:\n",
    "        wv_res = wv_res/count\n",
    "    return wv_res\n"
   ]
  },
  {
   "cell_type": "code",
   "execution_count": 341,
   "metadata": {},
   "outputs": [],
   "source": [
    "def vectorize_sentence_2(sentences, wv_model, mode=0):\n",
    "    \"\"\"Convert a list of sentences to a vectors.\n",
    "\n",
    "    By summing word vectors in the sentence.\n",
    "    Another option could be to average word vectors rather than just sum.\n",
    "\n",
    "    Arg: \n",
    "        sentence (pd.Series): Series consisting of list of tokenized texts \n",
    "        mode (int, 1 or 0): 0 for summing word vectors, 1 or averaging word vectors.\n",
    "    Returns:\n",
    "        (np.ndarray): Vector representation of sentences\n",
    "    \"\"\"\n",
    "    if mode not in [0, 1]:\n",
    "        raise Exception(\"Mode parameter should be either 1 or 0\")\n",
    "\n",
    "    vector_size = wv_model.vector_size\n",
    "    count = 1\n",
    "    vector_sentences = []\n",
    "\n",
    "    for i in range(len(sentences)):\n",
    "        sentence = np.zeros(vector_size)\n",
    "        for word in sentences[i]:\n",
    "            if word in wv_model:\n",
    "                count += 1\n",
    "                sentence += wv_model[word]\n",
    "        if mode:  # if mode set to 1 (average word vectors)\n",
    "            sentence = sentence/count\n",
    "        vector_sentences.append(sentence)\n",
    "    vector_sentences_df = pd.DataFrame(vector_sentences)\n",
    "    return vector_sentences_df\n"
   ]
  },
  {
   "attachments": {},
   "cell_type": "markdown",
   "metadata": {},
   "source": [
    "## CBOW\n",
    "The parameters tested are window, cbow_modes, and vec_mode.\n",
    "- window determines how many context words around the target word to use.\n",
    "- cbow_mode is either 1 or 0, and indicates whether the context word vectors are summed(0) or averaged(1).\n",
    "- vec_mode is either 1 or 0, and indicates whether the document vector should be the sum(0) or average(1) of its word vectors.  \n",
    "\n",
    "\n",
    "It is observed that the highest macro-f1 score is obtained when the window size is 1, cbow_mode is 1, and the vec_mode is 0."
   ]
  },
  {
   "cell_type": "code",
   "execution_count": 342,
   "metadata": {},
   "outputs": [],
   "source": [
    "# parameter values\n",
    "windows = np.arange(1, 6)\n",
    "cbow_modes = [1, 0]\n",
    "vectorization_modes = [0, 1]\n",
    "\n",
    "# create the cartesian product of possible combinaiton of parameters\n",
    "parameters = [(window, cbow_mode, vec_mode)\n",
    "              for window in windows for cbow_mode in cbow_modes for vec_mode in vectorization_modes]\n",
    "\n",
    "results_cbow = {}\n",
    "for window, cbow_mode, vec_mode in parameters:\n",
    "    cbow = Word2Vec(\n",
    "        sentences=X,\n",
    "        window=window,  # how many context words before and after target word to consider\n",
    "        min_count=1,  # ignore words with frequency lower than this\n",
    "        sg=0,  # 0 to use cbow, 1 for skipgram\n",
    "        cbow_mean=cbow_mode,  # 0 uses sum of context word vectors, 1 uses mean\n",
    "    )\n",
    "    cbow.train(X, total_examples=cbow.corpus_count, epochs=cbow.epochs)\n",
    "    # After training, KeyedVector object is used\n",
    "    cbow_model = cbow.wv\n",
    "\n",
    "    # Get the embeddings of train and test set\n",
    "    X_train_cbow = normalize_vectors(\n",
    "        np.array([vectorize_sentence(x, cbow_model, vec_mode) for x in X_train]))\n",
    "    X_test_cbow = normalize_vectors(\n",
    "        np.array([vectorize_sentence(x, cbow_model, vec_mode) for x in X_test]))\n",
    "\n",
    "    # Test NB\n",
    "    nb_cbow = MultinomialNB()\n",
    "    nb_cbow.fit(X_train_cbow, y_train)\n",
    "    y_pred_cbow = nb_cbow.predict(X_test_cbow)\n",
    "\n",
    "    prec, recall, f1, support = precision_recall_fscore_support(\n",
    "        y_test, y_pred_cbow, beta=1.0, average='macro', zero_division=0)\n",
    "    results_cbow[(window, cbow_mode, vec_mode)] = {\n",
    "        'precision': prec, 'recall': recall, 'f1-score': f1}\n"
   ]
  },
  {
   "cell_type": "code",
   "execution_count": 343,
   "metadata": {},
   "outputs": [
    {
     "data": {
      "text/plain": [
       "precision    (1, 1, 1)\n",
       "recall       (2, 0, 0)\n",
       "f1-score     (2, 0, 0)\n",
       "dtype: object"
      ]
     },
     "execution_count": 343,
     "metadata": {},
     "output_type": "execute_result"
    }
   ],
   "source": [
    "\n",
    "cbow_results = pd.DataFrame.from_dict(results_cbow, orient='index', columns=[\n",
    "                                      'precision', 'recall', 'f1-score'])\n",
    "cbow_results.index.names = ['window size',\n",
    "                            'cbow mean value', 'document vectorization mode']\n",
    "# get n-grams corresponding to max f1 score\n",
    "cbow_results.idxmax()"
   ]
  },
  {
   "cell_type": "code",
   "execution_count": 344,
   "metadata": {},
   "outputs": [
    {
     "data": {
      "text/html": [
       "<div>\n",
       "<style scoped>\n",
       "    .dataframe tbody tr th:only-of-type {\n",
       "        vertical-align: middle;\n",
       "    }\n",
       "\n",
       "    .dataframe tbody tr th {\n",
       "        vertical-align: top;\n",
       "    }\n",
       "\n",
       "    .dataframe thead th {\n",
       "        text-align: right;\n",
       "    }\n",
       "</style>\n",
       "<table border=\"1\" class=\"dataframe\">\n",
       "  <thead>\n",
       "    <tr style=\"text-align: right;\">\n",
       "      <th></th>\n",
       "      <th></th>\n",
       "      <th></th>\n",
       "      <th>precision</th>\n",
       "      <th>recall</th>\n",
       "      <th>f1-score</th>\n",
       "    </tr>\n",
       "    <tr>\n",
       "      <th>window size</th>\n",
       "      <th>cbow mean value</th>\n",
       "      <th>document vectorization mode</th>\n",
       "      <th></th>\n",
       "      <th></th>\n",
       "      <th></th>\n",
       "    </tr>\n",
       "  </thead>\n",
       "  <tbody>\n",
       "    <tr>\n",
       "      <th rowspan=\"4\" valign=\"top\">1</th>\n",
       "      <th rowspan=\"2\" valign=\"top\">1</th>\n",
       "      <th>0</th>\n",
       "      <td>0.385140</td>\n",
       "      <td>0.416443</td>\n",
       "      <td>0.396696</td>\n",
       "    </tr>\n",
       "    <tr>\n",
       "      <th>1</th>\n",
       "      <td>0.407959</td>\n",
       "      <td>0.382972</td>\n",
       "      <td>0.333356</td>\n",
       "    </tr>\n",
       "    <tr>\n",
       "      <th rowspan=\"2\" valign=\"top\">0</th>\n",
       "      <th>0</th>\n",
       "      <td>0.386326</td>\n",
       "      <td>0.416355</td>\n",
       "      <td>0.396105</td>\n",
       "    </tr>\n",
       "    <tr>\n",
       "      <th>1</th>\n",
       "      <td>0.407070</td>\n",
       "      <td>0.384744</td>\n",
       "      <td>0.337307</td>\n",
       "    </tr>\n",
       "    <tr>\n",
       "      <th rowspan=\"4\" valign=\"top\">2</th>\n",
       "      <th rowspan=\"2\" valign=\"top\">1</th>\n",
       "      <th>0</th>\n",
       "      <td>0.380145</td>\n",
       "      <td>0.413174</td>\n",
       "      <td>0.393809</td>\n",
       "    </tr>\n",
       "    <tr>\n",
       "      <th>1</th>\n",
       "      <td>0.395132</td>\n",
       "      <td>0.379498</td>\n",
       "      <td>0.332233</td>\n",
       "    </tr>\n",
       "    <tr>\n",
       "      <th rowspan=\"2\" valign=\"top\">0</th>\n",
       "      <th>0</th>\n",
       "      <td>0.391496</td>\n",
       "      <td>0.418481</td>\n",
       "      <td>0.397171</td>\n",
       "    </tr>\n",
       "    <tr>\n",
       "      <th>1</th>\n",
       "      <td>0.393201</td>\n",
       "      <td>0.379601</td>\n",
       "      <td>0.332786</td>\n",
       "    </tr>\n",
       "    <tr>\n",
       "      <th rowspan=\"4\" valign=\"top\">3</th>\n",
       "      <th rowspan=\"2\" valign=\"top\">1</th>\n",
       "      <th>0</th>\n",
       "      <td>0.376127</td>\n",
       "      <td>0.409906</td>\n",
       "      <td>0.390943</td>\n",
       "    </tr>\n",
       "    <tr>\n",
       "      <th>1</th>\n",
       "      <td>0.383605</td>\n",
       "      <td>0.375190</td>\n",
       "      <td>0.329407</td>\n",
       "    </tr>\n",
       "    <tr>\n",
       "      <th rowspan=\"2\" valign=\"top\">0</th>\n",
       "      <th>0</th>\n",
       "      <td>0.387461</td>\n",
       "      <td>0.416473</td>\n",
       "      <td>0.395770</td>\n",
       "    </tr>\n",
       "    <tr>\n",
       "      <th>1</th>\n",
       "      <td>0.400673</td>\n",
       "      <td>0.381491</td>\n",
       "      <td>0.334310</td>\n",
       "    </tr>\n",
       "    <tr>\n",
       "      <th rowspan=\"4\" valign=\"top\">4</th>\n",
       "      <th rowspan=\"2\" valign=\"top\">1</th>\n",
       "      <th>0</th>\n",
       "      <td>0.373565</td>\n",
       "      <td>0.407181</td>\n",
       "      <td>0.388311</td>\n",
       "    </tr>\n",
       "    <tr>\n",
       "      <th>1</th>\n",
       "      <td>0.392582</td>\n",
       "      <td>0.381271</td>\n",
       "      <td>0.336012</td>\n",
       "    </tr>\n",
       "    <tr>\n",
       "      <th rowspan=\"2\" valign=\"top\">0</th>\n",
       "      <th>0</th>\n",
       "      <td>0.383376</td>\n",
       "      <td>0.412385</td>\n",
       "      <td>0.391740</td>\n",
       "    </tr>\n",
       "    <tr>\n",
       "      <th>1</th>\n",
       "      <td>0.390019</td>\n",
       "      <td>0.378545</td>\n",
       "      <td>0.332984</td>\n",
       "    </tr>\n",
       "    <tr>\n",
       "      <th rowspan=\"4\" valign=\"top\">5</th>\n",
       "      <th rowspan=\"2\" valign=\"top\">1</th>\n",
       "      <th>0</th>\n",
       "      <td>0.372494</td>\n",
       "      <td>0.405101</td>\n",
       "      <td>0.386049</td>\n",
       "    </tr>\n",
       "    <tr>\n",
       "      <th>1</th>\n",
       "      <td>0.379802</td>\n",
       "      <td>0.376963</td>\n",
       "      <td>0.333073</td>\n",
       "    </tr>\n",
       "    <tr>\n",
       "      <th rowspan=\"2\" valign=\"top\">0</th>\n",
       "      <th>0</th>\n",
       "      <td>0.382896</td>\n",
       "      <td>0.411447</td>\n",
       "      <td>0.390579</td>\n",
       "    </tr>\n",
       "    <tr>\n",
       "      <th>1</th>\n",
       "      <td>0.395005</td>\n",
       "      <td>0.379703</td>\n",
       "      <td>0.333422</td>\n",
       "    </tr>\n",
       "  </tbody>\n",
       "</table>\n",
       "</div>"
      ],
      "text/plain": [
       "                                                         precision    recall  \\\n",
       "window size cbow mean value document vectorization mode                        \n",
       "1           1               0                             0.385140  0.416443   \n",
       "                            1                             0.407959  0.382972   \n",
       "            0               0                             0.386326  0.416355   \n",
       "                            1                             0.407070  0.384744   \n",
       "2           1               0                             0.380145  0.413174   \n",
       "                            1                             0.395132  0.379498   \n",
       "            0               0                             0.391496  0.418481   \n",
       "                            1                             0.393201  0.379601   \n",
       "3           1               0                             0.376127  0.409906   \n",
       "                            1                             0.383605  0.375190   \n",
       "            0               0                             0.387461  0.416473   \n",
       "                            1                             0.400673  0.381491   \n",
       "4           1               0                             0.373565  0.407181   \n",
       "                            1                             0.392582  0.381271   \n",
       "            0               0                             0.383376  0.412385   \n",
       "                            1                             0.390019  0.378545   \n",
       "5           1               0                             0.372494  0.405101   \n",
       "                            1                             0.379802  0.376963   \n",
       "            0               0                             0.382896  0.411447   \n",
       "                            1                             0.395005  0.379703   \n",
       "\n",
       "                                                         f1-score  \n",
       "window size cbow mean value document vectorization mode            \n",
       "1           1               0                            0.396696  \n",
       "                            1                            0.333356  \n",
       "            0               0                            0.396105  \n",
       "                            1                            0.337307  \n",
       "2           1               0                            0.393809  \n",
       "                            1                            0.332233  \n",
       "            0               0                            0.397171  \n",
       "                            1                            0.332786  \n",
       "3           1               0                            0.390943  \n",
       "                            1                            0.329407  \n",
       "            0               0                            0.395770  \n",
       "                            1                            0.334310  \n",
       "4           1               0                            0.388311  \n",
       "                            1                            0.336012  \n",
       "            0               0                            0.391740  \n",
       "                            1                            0.332984  \n",
       "5           1               0                            0.386049  \n",
       "                            1                            0.333073  \n",
       "            0               0                            0.390579  \n",
       "                            1                            0.333422  "
      ]
     },
     "execution_count": 344,
     "metadata": {},
     "output_type": "execute_result"
    }
   ],
   "source": [
    "cbow_results"
   ]
  },
  {
   "attachments": {},
   "cell_type": "markdown",
   "metadata": {},
   "source": [
    "## Skip Gram\n",
    "\n",
    "The parameters tested are window, and vec_mode.\n",
    "- window determines how many context words around the target word to use.\n",
    "- vec_mode is either 1 or 0, and indicates whether the document vector should be the sum(0) or average(1) of its word vectors.  \n",
    "\n",
    "\n",
    "It is observed that the highest macro-f1 score is obtained when the window size is 4 and the vec_mode is 0."
   ]
  },
  {
   "cell_type": "code",
   "execution_count": 345,
   "metadata": {},
   "outputs": [],
   "source": [
    "windows = np.arange(1, 6)\n",
    "vectorization_modes = [0, 1]\n",
    "\n",
    "skipgram_parameters = [(window, vec_mode)\n",
    "                       for window in windows for vec_mode in vectorization_modes]\n",
    "\n",
    "results_sg = {}\n",
    "for window, vec_mode in skipgram_parameters:\n",
    "    skipgram = Word2Vec(\n",
    "        sentences=X,\n",
    "        window=window,  # how many context words before and after target word to consider\n",
    "        min_count=1,  # ignore words with frequency lower than this\n",
    "        sg=1,  # 0 to use cbow, 1 for skipgram\n",
    "    )\n",
    "    skipgram.train(X, total_examples=skipgram.corpus_count,\n",
    "                   epochs=skipgram.epochs)\n",
    "    # After training, KeyedVector object is used\n",
    "    skipgram_model = skipgram.wv\n",
    "\n",
    "    # Get the embeddings of train and test set\n",
    "    X_train_sg = normalize_vectors(\n",
    "        np.array([vectorize_sentence(x, skipgram_model, vec_mode) for x in X_train]))\n",
    "    X_test_sg = normalize_vectors(\n",
    "        np.array([vectorize_sentence(x, skipgram_model, vec_mode) for x in X_test]))\n",
    "\n",
    "    # Test NB\n",
    "    nb_sg = MultinomialNB()\n",
    "    nb_sg.fit(X_train_sg, y_train)\n",
    "    y_pred_sg = nb_sg.predict(X_test_sg)\n",
    "\n",
    "    prec, recall, f1, support = precision_recall_fscore_support(\n",
    "        y_test, y_pred_sg, beta=1.0, average='macro', zero_division=0)\n",
    "    results_sg[(window, vec_mode)] = {\n",
    "        'precision': prec, 'recall': recall, 'f1-score': f1}\n"
   ]
  },
  {
   "cell_type": "code",
   "execution_count": 346,
   "metadata": {},
   "outputs": [
    {
     "data": {
      "text/plain": [
       "precision    (5, 1)\n",
       "recall       (5, 0)\n",
       "f1-score     (5, 0)\n",
       "dtype: object"
      ]
     },
     "execution_count": 346,
     "metadata": {},
     "output_type": "execute_result"
    }
   ],
   "source": [
    "skipgram_results = pd.DataFrame.from_dict(results_sg, orient='index', columns=[\n",
    "                                          'precision', 'recall', 'f1-score'])\n",
    "skipgram_results.index.names = ['window size', 'document vectorization mode']\n",
    "# get n-grams corresponding to max f1 score\n",
    "skipgram_results.idxmax()\n",
    "# skipgram_results.max()\n"
   ]
  },
  {
   "cell_type": "code",
   "execution_count": 347,
   "metadata": {},
   "outputs": [
    {
     "data": {
      "text/html": [
       "<div>\n",
       "<style scoped>\n",
       "    .dataframe tbody tr th:only-of-type {\n",
       "        vertical-align: middle;\n",
       "    }\n",
       "\n",
       "    .dataframe tbody tr th {\n",
       "        vertical-align: top;\n",
       "    }\n",
       "\n",
       "    .dataframe thead th {\n",
       "        text-align: right;\n",
       "    }\n",
       "</style>\n",
       "<table border=\"1\" class=\"dataframe\">\n",
       "  <thead>\n",
       "    <tr style=\"text-align: right;\">\n",
       "      <th></th>\n",
       "      <th></th>\n",
       "      <th>precision</th>\n",
       "      <th>recall</th>\n",
       "      <th>f1-score</th>\n",
       "    </tr>\n",
       "    <tr>\n",
       "      <th>window size</th>\n",
       "      <th>document vectorization mode</th>\n",
       "      <th></th>\n",
       "      <th></th>\n",
       "      <th></th>\n",
       "    </tr>\n",
       "  </thead>\n",
       "  <tbody>\n",
       "    <tr>\n",
       "      <th rowspan=\"2\" valign=\"top\">1</th>\n",
       "      <th>0</th>\n",
       "      <td>0.378042</td>\n",
       "      <td>0.408589</td>\n",
       "      <td>0.388788</td>\n",
       "    </tr>\n",
       "    <tr>\n",
       "      <th>1</th>\n",
       "      <td>0.391903</td>\n",
       "      <td>0.378238</td>\n",
       "      <td>0.331261</td>\n",
       "    </tr>\n",
       "    <tr>\n",
       "      <th rowspan=\"2\" valign=\"top\">2</th>\n",
       "      <th>0</th>\n",
       "      <td>0.714253</td>\n",
       "      <td>0.411887</td>\n",
       "      <td>0.394354</td>\n",
       "    </tr>\n",
       "    <tr>\n",
       "      <th>1</th>\n",
       "      <td>0.727999</td>\n",
       "      <td>0.386003</td>\n",
       "      <td>0.343990</td>\n",
       "    </tr>\n",
       "    <tr>\n",
       "      <th rowspan=\"2\" valign=\"top\">3</th>\n",
       "      <th>0</th>\n",
       "      <td>0.714053</td>\n",
       "      <td>0.410949</td>\n",
       "      <td>0.393184</td>\n",
       "    </tr>\n",
       "    <tr>\n",
       "      <th>1</th>\n",
       "      <td>0.736508</td>\n",
       "      <td>0.395893</td>\n",
       "      <td>0.358911</td>\n",
       "    </tr>\n",
       "    <tr>\n",
       "      <th rowspan=\"2\" valign=\"top\">4</th>\n",
       "      <th>0</th>\n",
       "      <td>0.717712</td>\n",
       "      <td>0.419592</td>\n",
       "      <td>0.403595</td>\n",
       "    </tr>\n",
       "    <tr>\n",
       "      <th>1</th>\n",
       "      <td>0.738258</td>\n",
       "      <td>0.398721</td>\n",
       "      <td>0.362526</td>\n",
       "    </tr>\n",
       "    <tr>\n",
       "      <th rowspan=\"2\" valign=\"top\">5</th>\n",
       "      <th>0</th>\n",
       "      <td>0.721264</td>\n",
       "      <td>0.422538</td>\n",
       "      <td>0.406216</td>\n",
       "    </tr>\n",
       "    <tr>\n",
       "      <th>1</th>\n",
       "      <td>0.742798</td>\n",
       "      <td>0.399147</td>\n",
       "      <td>0.361909</td>\n",
       "    </tr>\n",
       "  </tbody>\n",
       "</table>\n",
       "</div>"
      ],
      "text/plain": [
       "                                         precision    recall  f1-score\n",
       "window size document vectorization mode                               \n",
       "1           0                             0.378042  0.408589  0.388788\n",
       "            1                             0.391903  0.378238  0.331261\n",
       "2           0                             0.714253  0.411887  0.394354\n",
       "            1                             0.727999  0.386003  0.343990\n",
       "3           0                             0.714053  0.410949  0.393184\n",
       "            1                             0.736508  0.395893  0.358911\n",
       "4           0                             0.717712  0.419592  0.403595\n",
       "            1                             0.738258  0.398721  0.362526\n",
       "5           0                             0.721264  0.422538  0.406216\n",
       "            1                             0.742798  0.399147  0.361909"
      ]
     },
     "execution_count": 347,
     "metadata": {},
     "output_type": "execute_result"
    }
   ],
   "source": [
    "skipgram_results"
   ]
  },
  {
   "attachments": {},
   "cell_type": "markdown",
   "metadata": {},
   "source": [
    "### Using Pre-trained Word2Vec Model\n",
    "Using pre-trained word2vec model from Google, which has 3 million words. Trained on 100 billion words from the google news dataset. Unsure if it uses CBOW or SkipGram or both\n",
    "\n",
    "From https://thinkingneuron.com/how-to-classify-text-using-word2vec/\n",
    "Google Model can be downloaded from https://thinkingneuron.com/how-to-classify-text-using-word2vec/#:~:text=download%20link%3A%20https%3A%2F%2Fdrive.google.com%2Ffile%2Fd%2F0b7xkcwpi5kdynlnuttlss21pqmm%2Fedit%3Fusp%3Dsharing"
   ]
  },
  {
   "cell_type": "code",
   "execution_count": 348,
   "metadata": {},
   "outputs": [],
   "source": [
    "# load the word vectors from Google Model (1GB)\n",
    "# Will take time because 3 mil words.\n",
    "# Download model from https://thinkingneuron.com/how-to-classify-text-using-word2vec/#:~:text=download%20link%3A%20https%3A%2F%2Fdrive.google.com%2Ffile%2Fd%2F0b7xkcwpi5kdynlnuttlss21pqmm%2Fedit%3Fusp%3Dsharing\n",
    "#GoogleModel = gensim.models.KeyedVectors.load_word2vec_format('/mnt/d/Andrea/Heriot-Watt/year-4/f20aa/f20aa-coursework-1/GoogleNews-vectors-negative300.bin', binary=True)\n"
   ]
  },
  {
   "attachments": {},
   "cell_type": "markdown",
   "metadata": {},
   "source": [
    "The 2 ways to vectorize documents using the Word2Vec model is either by summing (mode=1) or averaging (mode=1) each of the word vectors in the document.\n",
    "\n",
    "It is obeserved that the highest macro-f1 score is obtained when the word vectors are summed."
   ]
  },
  {
   "cell_type": "code",
   "execution_count": 349,
   "metadata": {},
   "outputs": [],
   "source": [
    "# modes = np.arange(0,2)\n",
    "# w2v_data_mode0 = 0\n",
    "# w2v_data_mode1 = 0\n",
    "\n",
    "# results_google_model = {}\n",
    "# for mode in modes:\n",
    "#     print(mode)\n",
    "#     w2v_data = vectorize_sentence_2(X, GoogleModel, mode=mode)\n",
    "    \n",
    "#     # Get train and test values\n",
    "#     X_w2v = w2v_data.values\n",
    "#     y_w2v = y.values\n",
    "\n",
    "#     # scale because NB doesnt accept negative values\n",
    "#     X_w2v_scaled = normalize_vectors(X_w2v)\n",
    "\n",
    "#     X_train_w2v, X_test_w2v, y_train_w2v, y_test_w2v = train_test_split(\n",
    "#         X_w2v_scaled, y_w2v, test_size=0.2, random_state=42,\n",
    "#         stratify=y)\n",
    "\n",
    "#     nb = MultinomialNB()\n",
    "#     nb.fit(X_train_w2v, y_train_w2v)\n",
    "#     y_pred_w2v = nb.predict(X_test_w2v)\n",
    "\n",
    "#     prec, recall, f1, support = precision_recall_fscore_support(\n",
    "#         y_test_w2v, y_pred_w2v, beta=1.0, average='macro', zero_division=0)\n",
    "#     results_google_model[mode] = {\n",
    "#         'precision': prec, 'recall': recall, 'f1-score': f1}\n"
   ]
  },
  {
   "cell_type": "code",
   "execution_count": 350,
   "metadata": {},
   "outputs": [],
   "source": [
    "# google_model_results = pd.DataFrame.from_dict(\n",
    "#     results_google_model, orient='index', columns=['precision', 'recall', 'f1-score'])\n",
    "# google_model_results.index.names = ['document vectorization mode']\n",
    "# # get n-grams corresponding to max f1 score\n",
    "# google_model_results.idxmax()\n"
   ]
  },
  {
   "cell_type": "code",
   "execution_count": 351,
   "metadata": {},
   "outputs": [],
   "source": [
    "#google_model_results"
   ]
  },
  {
   "attachments": {},
   "cell_type": "markdown",
   "metadata": {},
   "source": [
    "## Comparison of Text Representation Models\n",
    "The different models are compared based on their macroaveraged precision, recall, and f1 score.\n",
    "Values that are closer to one are optimal.\n",
    "\n",
    "|Model|Precision|Recall|F-1|\n",
    "|---|---|---|---|\n",
    "|Bag Of Words (Unigram)|0.74|0.60|0.62|\n",
    "|N-gram range (1,6)|0.76|0.64|0.67|\n",
    "|TF-IDF on n-gram range (2,3)|0.79|0.56|0.57|\n",
    "|CBOW (Trained on scraped tweets corpus)|0.41|0.43|0.41|\n",
    "|Skip-gram (Trained on scraped tweets corpus)|0.73|0.43|0.41|\n",
    "|Word2Vec model (Trained on Google News Corpus)|0.437536|0.48|0.45|\n",
    "\n",
    "\n",
    "It was expected that the more sophisticated models - those which take into account the context of words - would perform better. However, based on the results the more primitive approaches performed better. This could be due to our small dataset.\n",
    "\n",
    "The n-gram model with range (1,6) was the best performer in terms of macro F-1 score, which is the unweighted harmonic mean of the precision and recall values.\n",
    "\n",
    "\n"
   ]
  },
  {
   "attachments": {},
   "cell_type": "markdown",
   "metadata": {},
   "source": [
    "# Classification Models"
   ]
  },
  {
   "attachments": {},
   "cell_type": "markdown",
   "metadata": {},
   "source": [
    "### 1. Logistic Regression with N-grams range (1,6)"
   ]
  },
  {
   "cell_type": "code",
   "execution_count": 352,
   "metadata": {},
   "outputs": [
    {
     "name": "stdout",
     "output_type": "stream",
     "text": [
      "              precision    recall  f1-score   support\n",
      "\n",
      "          -1       0.79      0.28      0.42        96\n",
      "           0       0.74      0.86      0.79       455\n",
      "           1       0.82      0.80      0.81       529\n",
      "\n",
      "    accuracy                           0.78      1080\n",
      "   macro avg       0.78      0.65      0.67      1080\n",
      "weighted avg       0.78      0.78      0.77      1080\n",
      "\n"
     ]
    }
   ],
   "source": [
    "from sklearn.linear_model import LogisticRegression\n",
    "\n",
    "ngram = CountVectorizer(\n",
    "    ngram_range=(1, 6),  # ngrams where n is 1 through 6\n",
    "    preprocessor=lambda x: x,  # override preprocessing\n",
    "    tokenizer=lambda x: x,  # override tokenization\n",
    ")\n",
    "\n",
    "ngram_lr = Pipeline([\n",
    "    ('ngram', ngram),\n",
    "    ('logistic_regression', LogisticRegression())\n",
    "])\n",
    "\n",
    "ngram_lr.fit(X_train, y_train)\n",
    "ngram_lr_y_pred = ngram_lr.predict(X_test)\n",
    "print(classification_report(y_test, ngram_lr_y_pred))\n"
   ]
  },
  {
   "attachments": {},
   "cell_type": "markdown",
   "metadata": {},
   "source": [
    "### 2. FastText with Trigrams"
   ]
  },
  {
   "attachments": {},
   "cell_type": "markdown",
   "metadata": {},
   "source": [
    "FastText is an open-source library created by Facebook AI Research lab. Setup instructions are here: https://fasttext.cc/docs/en/supervised-tutorial.html#installing-fasttext"
   ]
  },
  {
   "cell_type": "code",
   "execution_count": 247,
   "metadata": {},
   "outputs": [
    {
     "name": "stdout",
     "output_type": "stream",
     "text": [
      "Note: you may need to restart the kernel to use updated packages.Collecting fasttext\n",
      "  Downloading fasttext-0.9.2.tar.gz (68 kB)\n",
      "     -------------------------------------- 68.8/68.8 kB 178.1 kB/s eta 0:00:00\n",
      "  Preparing metadata (setup.py): started\n",
      "  Preparing metadata (setup.py): finished with status 'done'\n",
      "Collecting pybind11>=2.2\n",
      "  Using cached pybind11-2.10.3-py3-none-any.whl (222 kB)\n",
      "Requirement already satisfied: setuptools>=0.7.0 in c:\\users\\bhavika\\appdata\\local\\programs\\python\\python310\\lib\\site-packages (from fasttext) (58.1.0)\n",
      "Requirement already satisfied: numpy in c:\\users\\bhavika\\appdata\\local\\programs\\python\\python310\\lib\\site-packages (from fasttext) (1.23.3)\n",
      "Building wheels for collected packages: fasttext\n",
      "  Building wheel for fasttext (setup.py): started\n",
      "  Building wheel for fasttext (setup.py): finished with status 'error'\n",
      "  Running setup.py clean for fasttext\n",
      "Failed to build fasttext\n",
      "Installing collected packages: pybind11, fasttext\n",
      "  Running setup.py install for fasttext: started\n",
      "  Running setup.py install for fasttext: finished with status 'error'\n",
      "\n"
     ]
    },
    {
     "name": "stderr",
     "output_type": "stream",
     "text": [
      "  error: subprocess-exited-with-error\n",
      "  \n",
      "  × python setup.py bdist_wheel did not run successfully.\n",
      "  │ exit code: 1\n",
      "  ╰─> [20 lines of output]\n",
      "      c:\\Users\\bhavika\\AppData\\Local\\Programs\\Python\\Python310\\lib\\site-packages\\setuptools\\dist.py:717: UserWarning: Usage of dash-separated 'description-file' will not be supported in future versions. Please use the underscore name 'description_file' instead\n",
      "        warnings.warn(\n",
      "      running bdist_wheel\n",
      "      running build\n",
      "      running build_py\n",
      "      creating build\n",
      "      creating build\\lib.win-amd64-3.10\n",
      "      creating build\\lib.win-amd64-3.10\\fasttext\n",
      "      copying python\\fasttext_module\\fasttext\\FastText.py -> build\\lib.win-amd64-3.10\\fasttext\n",
      "      copying python\\fasttext_module\\fasttext\\__init__.py -> build\\lib.win-amd64-3.10\\fasttext\n",
      "      creating build\\lib.win-amd64-3.10\\fasttext\\util\n",
      "      copying python\\fasttext_module\\fasttext\\util\\util.py -> build\\lib.win-amd64-3.10\\fasttext\\util\n",
      "      copying python\\fasttext_module\\fasttext\\util\\__init__.py -> build\\lib.win-amd64-3.10\\fasttext\\util\n",
      "      creating build\\lib.win-amd64-3.10\\fasttext\\tests\n",
      "      copying python\\fasttext_module\\fasttext\\tests\\test_configurations.py -> build\\lib.win-amd64-3.10\\fasttext\\tests\n",
      "      copying python\\fasttext_module\\fasttext\\tests\\test_script.py -> build\\lib.win-amd64-3.10\\fasttext\\tests\n",
      "      copying python\\fasttext_module\\fasttext\\tests\\__init__.py -> build\\lib.win-amd64-3.10\\fasttext\\tests\n",
      "      running build_ext\n",
      "      building 'fasttext_pybind' extension\n",
      "      error: Microsoft Visual C++ 14.0 or greater is required. Get it with \"Microsoft C++ Build Tools\": https://visualstudio.microsoft.com/visual-cpp-build-tools/\n",
      "      [end of output]\n",
      "  \n",
      "  note: This error originates from a subprocess, and is likely not a problem with pip.\n",
      "  ERROR: Failed building wheel for fasttext\n",
      "  error: subprocess-exited-with-error\n",
      "  \n",
      "  × Running setup.py install for fasttext did not run successfully.\n",
      "  │ exit code: 1\n",
      "  ╰─> [20 lines of output]\n",
      "      c:\\Users\\bhavika\\AppData\\Local\\Programs\\Python\\Python310\\lib\\site-packages\\setuptools\\dist.py:717: UserWarning: Usage of dash-separated 'description-file' will not be supported in future versions. Please use the underscore name 'description_file' instead\n",
      "        warnings.warn(\n",
      "      running install\n",
      "      running build\n",
      "      running build_py\n",
      "      creating build\n",
      "      creating build\\lib.win-amd64-3.10\n",
      "      creating build\\lib.win-amd64-3.10\\fasttext\n",
      "      copying python\\fasttext_module\\fasttext\\FastText.py -> build\\lib.win-amd64-3.10\\fasttext\n",
      "      copying python\\fasttext_module\\fasttext\\__init__.py -> build\\lib.win-amd64-3.10\\fasttext\n",
      "      creating build\\lib.win-amd64-3.10\\fasttext\\util\n",
      "      copying python\\fasttext_module\\fasttext\\util\\util.py -> build\\lib.win-amd64-3.10\\fasttext\\util\n",
      "      copying python\\fasttext_module\\fasttext\\util\\__init__.py -> build\\lib.win-amd64-3.10\\fasttext\\util\n",
      "      creating build\\lib.win-amd64-3.10\\fasttext\\tests\n",
      "      copying python\\fasttext_module\\fasttext\\tests\\test_configurations.py -> build\\lib.win-amd64-3.10\\fasttext\\tests\n",
      "      copying python\\fasttext_module\\fasttext\\tests\\test_script.py -> build\\lib.win-amd64-3.10\\fasttext\\tests\n",
      "      copying python\\fasttext_module\\fasttext\\tests\\__init__.py -> build\\lib.win-amd64-3.10\\fasttext\\tests\n",
      "      running build_ext\n",
      "      building 'fasttext_pybind' extension\n",
      "      error: Microsoft Visual C++ 14.0 or greater is required. Get it with \"Microsoft C++ Build Tools\": https://visualstudio.microsoft.com/visual-cpp-build-tools/\n",
      "      [end of output]\n",
      "  \n",
      "  note: This error originates from a subprocess, and is likely not a problem with pip.\n",
      "error: legacy-install-failure\n",
      "\n",
      "× Encountered error while trying to install package.\n",
      "╰─> fasttext\n",
      "\n",
      "note: This is an issue with the package mentioned above, not pip.\n",
      "hint: See above for output from the failure.\n"
     ]
    }
   ],
   "source": [
    "pip install fasttext\n"
   ]
  },
  {
   "cell_type": "code",
   "execution_count": 251,
   "metadata": {},
   "outputs": [],
   "source": [
    "import fasttext\n",
    "help(fasttext.FastText)\n"
   ]
  },
  {
   "attachments": {},
   "cell_type": "markdown",
   "metadata": {},
   "source": [
    "Reformatting the dataset as FastText expects each row of data to be in the form:\n",
    "__label__sentiment tweet "
   ]
  },
  {
   "cell_type": "code",
   "execution_count": null,
   "metadata": {},
   "outputs": [
    {
     "data": {
      "text/plain": [
       "(5398, 2)"
      ]
     },
     "execution_count": 180,
     "metadata": {},
     "output_type": "execute_result"
    }
   ],
   "source": [
    "ftDf = updated_dataset[['TextBlob Sentiment', 'Cleaned Text']].copy()\n",
    "ftDf.iloc[:, 0] = ftDf.iloc[:, 0].apply(lambda x: '__label__' + x)\n",
    "ftDf.shape\n"
   ]
  },
  {
   "cell_type": "code",
   "execution_count": null,
   "metadata": {},
   "outputs": [],
   "source": [
    "# Splitting into test and train\n",
    "training = ftDf.sample(frac=0.7)\n",
    "testing = ftDf.drop(training.index)\n",
    "\n",
    "training.to_csv('train.txt',\n",
    "                index=False,\n",
    "                sep=' ',\n",
    "                header=None,\n",
    "                quoting=csv.QUOTE_NONE,\n",
    "                quotechar=\"\",\n",
    "                escapechar=\" \")\n",
    "\n",
    "testing.to_csv('test.txt',\n",
    "               index=False,\n",
    "               sep=' ',\n",
    "               header=None,\n",
    "               quoting=csv.QUOTE_NONE,\n",
    "               quotechar=\"\",\n",
    "               escapechar=\" \")\n"
   ]
  },
  {
   "cell_type": "code",
   "execution_count": null,
   "metadata": {},
   "outputs": [],
   "source": [
    "ftModel = fasttext.train_supervised('train.txt', wordNgrams=3)\n"
   ]
  },
  {
   "cell_type": "code",
   "execution_count": null,
   "metadata": {},
   "outputs": [
    {
     "data": {
      "text/plain": [
       "(1619, 0.44224830142063004, 0.44224830142063004)"
      ]
     },
     "execution_count": 59,
     "metadata": {},
     "output_type": "execute_result"
    }
   ],
   "source": [
    "ftModel.test('test.txt')\n"
   ]
  },
  {
   "cell_type": "markdown",
   "metadata": {},
   "source": [
    "To evaluate further, we can test it on unseen samples."
   ]
  },
  {
   "cell_type": "code",
   "execution_count": null,
   "metadata": {},
   "outputs": [
    {
     "data": {
      "text/plain": [
       "(('__label__Neutral',), array([0.46955368]))"
      ]
     },
     "execution_count": 82,
     "metadata": {},
     "output_type": "execute_result"
    }
   ],
   "source": [
    "ftModel.predict(\n",
    "    'I love the UAE for its innovation with artificial intelligence.')\n"
   ]
  },
  {
   "attachments": {},
   "cell_type": "markdown",
   "metadata": {},
   "source": [
    "On the test set, fastText model had a precision score of 0.44 ad a recall score of 0.44. It had also misclassified an unseen sample. However, FastText model parameters can be adjusted, so we will try adjusting the epoch and learning rate."
   ]
  },
  {
   "cell_type": "code",
   "execution_count": null,
   "metadata": {},
   "outputs": [
    {
     "data": {
      "text/plain": [
       "(1619, 0.7794935145151328, 0.7794935145151328)"
      ]
     },
     "execution_count": 81,
     "metadata": {},
     "output_type": "execute_result"
    }
   ],
   "source": [
    "ftModel2 = fasttext.train_supervised(\n",
    "    'train.txt', wordNgrams=3, epoch=6, lr=0.25)\n",
    "ftModel2.test('test.txt')\n"
   ]
  },
  {
   "cell_type": "code",
   "execution_count": null,
   "metadata": {},
   "outputs": [
    {
     "data": {
      "text/plain": [
       "(('__label__Positive',), array([0.68560129]))"
      ]
     },
     "execution_count": 83,
     "metadata": {},
     "output_type": "execute_result"
    }
   ],
   "source": [
    "ftModel2.predict(\n",
    "    'I love the UAE for its innovation with artificial intelligence.')\n"
   ]
  },
  {
   "attachments": {},
   "cell_type": "markdown",
   "metadata": {},
   "source": [
    "As shown above, increasing the epoch and learning rate corrected a misclassification that happened with the previous model.\n"
   ]
  },
  {
   "attachments": {},
   "cell_type": "markdown",
   "metadata": {},
   "source": [
    "# Visualization and Insights"
   ]
  },
  {
   "attachments": {},
   "cell_type": "markdown",
   "metadata": {},
   "source": [
    "### Tweets/Labelling"
   ]
  },
  {
   "cell_type": "code",
   "execution_count": 357,
   "metadata": {},
   "outputs": [
    {
     "data": {
      "image/png": "[encoded data removed]",
      "text/plain": [
       "<Figure size 640x480 with 1 Axes>"
      ]
     },
     "metadata": {},
     "output_type": "display_data"
    }
   ],
   "source": [
    "import matplotlib.pyplot as plt\n",
    "\n",
    "label_count = updated_dataset['TextBlob Sentiment'].value_counts()\n",
    "plt.pie(label_count.values, labels=label_count.index, autopct= '%1.2f', colors= ['g', 'y', 'r'], startangle= 90)\n",
    "plt.title(\"Division of Tweets by Sentiment\")\n",
    "plt.show()"
   ]
  },
  {
   "attachments": {},
   "cell_type": "markdown",
   "metadata": {},
   "source": [
    "As mentioned previously in the data labelling section, there are almost equal number of postive and neutral tweets at 49% and 42% respectively with only ~9% negative tweets based on labelling with TextBlob."
   ]
  },
  {
   "cell_type": "code",
   "execution_count": 358,
   "metadata": {},
   "outputs": [
    {
     "data": {
      "text/plain": [
       "<AxesSubplot: >"
      ]
     },
     "execution_count": 358,
     "metadata": {},
     "output_type": "execute_result"
    },
    {
     "data": {
      "image/png": "[encoded data removed]",
      "text/plain": [
       "<Figure size 640x480 with 1 Axes>"
      ]
     },
     "metadata": {},
     "output_type": "display_data"
    }
   ],
   "source": [
    "updated_dataset['TextBlob Polarity'].hist()"
   ]
  },
  {
   "attachments": {},
   "cell_type": "markdown",
   "metadata": {},
   "source": [
    "The histogram shows polarity of the tweets labelled using TextBlob. Majority of the tweets range between 0.00 to 0.55 polarity, showing us that most of the tweets are neutral or near positive. This is probably because most of the tweets scrapped lack indication of positive or negative sentiment."
   ]
  },
  {
   "attachments": {},
   "cell_type": "markdown",
   "metadata": {},
   "source": [
    "### Analysing Each Sentiment"
   ]
  },
  {
   "attachments": {},
   "cell_type": "markdown",
   "metadata": {},
   "source": [
    "#### Postive Tweets"
   ]
  },
  {
   "cell_type": "code",
   "execution_count": 354,
   "metadata": {},
   "outputs": [
    {
     "data": {
      "image/png": "[encoded data removed]",
      "text/plain": [
       "<Figure size 1000x700 with 1 Axes>"
      ]
     },
     "metadata": {},
     "output_type": "display_data"
    }
   ],
   "source": [
    "from wordcloud import WordCloud\n",
    "\n",
    "positive = updated_dataset[updated_dataset['TextBlob Sentiment']=='Positive']\n",
    "positives = ' '.join(tweet for tweet in positive['Cleaned Text'])\n",
    "wordcloud_pos = WordCloud().generate(positives)\n",
    "\n",
    "plt.figure(figsize=(10, 7))\n",
    "plt.imshow(wordcloud_pos)\n",
    "plt.axis('off')\n",
    "plt.show()"
   ]
  },
  {
   "cell_type": "code",
   "execution_count": 355,
   "metadata": {},
   "outputs": [
    {
     "data": {
      "image/png": "[encoded data removed]",
      "text/plain": [
       "<Figure size 640x480 with 1 Axes>"
      ]
     },
     "metadata": {},
     "output_type": "display_data"
    }
   ],
   "source": [
    "import seaborn as sns\n",
    "from collections import  Counter\n",
    "\n",
    "def plot_top_tokens(tweet):\n",
    "    tweet = tweet.values.tolist()\n",
    "    corpus=[word for i in tweet for word in i]\n",
    "\n",
    "    counter=Counter(corpus)\n",
    "    most=counter.most_common()\n",
    "    x, y=[], []\n",
    "    for word,count in most[:20]:\n",
    "            x.append(word)\n",
    "            y.append(count)\n",
    "            \n",
    "    sns.barplot(x=y,y=x)\n",
    "\n",
    "plot_top_tokens(positive['Tokenized Text'])"
   ]
  }
 ],
 "metadata": {
  "kernelspec": {
   "display_name": "base",
   "language": "python",
   "name": "python3"
  },
  "language_info": {
   "codemirror_mode": {
    "name": "ipython",
    "version": 3
   },
   "file_extension": ".py",
   "mimetype": "text/x-python",
   "name": "python",
   "nbconvert_exporter": "python",
   "pygments_lexer": "ipython3",
   "version": "3.10.6"
  },
  "orig_nbformat": 4,
  "vscode": {
   "interpreter": {
    "hash": "e4d3d5844ec835cb994d9b961c91f9f9a1dfb3461f5792c6e96deb8bb5afec0d"
   }
  }
 },
 "nbformat": 4,
 "nbformat_minor": 2
}
