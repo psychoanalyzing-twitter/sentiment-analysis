{
 "cells": [
  {
   "attachments": {},
   "cell_type": "markdown",
   "metadata": {},
   "source": [
    "# Import Libraries"
   ]
  },
  {
   "cell_type": "code",
   "execution_count": 1,
   "metadata": {},
   "outputs": [
    {
     "name": "stdout",
     "output_type": "stream",
     "text": [
      "Defaulting to user installation because normal site-packages is not writeable\n",
      "Requirement already satisfied: tweepy in /home/andrea/.local/lib/python3.10/site-packages (4.12.1)\n",
      "Requirement already satisfied: requests-oauthlib<2,>=1.2.0 in /home/andrea/.local/lib/python3.10/site-packages (from tweepy) (1.3.1)\n",
      "Requirement already satisfied: requests<3,>=2.27.0 in /home/andrea/.local/lib/python3.10/site-packages (from tweepy) (2.28.1)\n",
      "Requirement already satisfied: oauthlib<4,>=3.2.0 in /usr/lib/python3/dist-packages (from tweepy) (3.2.0)\n",
      "Requirement already satisfied: urllib3<1.27,>=1.21.1 in /home/andrea/.local/lib/python3.10/site-packages (from requests<3,>=2.27.0->tweepy) (1.26.13)\n",
      "Requirement already satisfied: idna<4,>=2.5 in /home/andrea/.local/lib/python3.10/site-packages (from requests<3,>=2.27.0->tweepy) (3.4)\n",
      "Requirement already satisfied: charset-normalizer<3,>=2 in /home/andrea/.local/lib/python3.10/site-packages (from requests<3,>=2.27.0->tweepy) (2.1.1)\n",
      "Requirement already satisfied: certifi>=2017.4.17 in /home/andrea/.local/lib/python3.10/site-packages (from requests<3,>=2.27.0->tweepy) (2022.12.7)\n",
      "Note: you may need to restart the kernel to use updated packages.\n"
     ]
    }
   ],
   "source": [
    "%pip install tweepy"
   ]
  },
  {
   "cell_type": "code",
   "execution_count": 2,
   "metadata": {},
   "outputs": [],
   "source": [
    "import tweepy\n",
    "import sys\n",
    "import csv\n",
    "import pandas as pd"
   ]
  },
  {
   "attachments": {},
   "cell_type": "markdown",
   "metadata": {},
   "source": [
    "# Scraping Tweets"
   ]
  },
  {
   "cell_type": "code",
   "execution_count": 3,
   "metadata": {},
   "outputs": [],
   "source": [
    "# Keys for authentication\n",
    "consumer_key = \"ONLQ0vLSAXM2tZDnckominEcK\"\n",
    "consumer_secret = \"MpP7XurdGn1wpufX3rrfQgrs4AROnaw9ZiiZzKN6exr3zEDlN6\"\n",
    "access_token = \"1274112117738737664-J2DjjoqqzN11CNp8bpnYzVp1dUYKM4\"\n",
    "access_token_secret = \"3coYFJVCqHnOmD2m9Qt6zs7j1I24lhlPTU71eUOq4Zqg9\"\n",
    "bearer_token = \"AAAAAAAAAAAAAAAAAAAAALJslQEAAAAA7EWdkTwrVDM44LIuewNascHjvoY%3DeXmhQyuXgo8zXJiSTMfqtmPA393HHO2W7nSrk0bK6b67SuJeb0\""
   ]
  },
  {
   "cell_type": "code",
   "execution_count": 4,
   "metadata": {},
   "outputs": [],
   "source": [
    "# Authenticate\n",
    "auth = tweepy.OAuth1UserHandler(\n",
    "    consumer_key, consumer_secret, access_token, access_token_secret)\n",
    "\n",
    "api = tweepy.API(auth)"
   ]
  },
  {
   "cell_type": "code",
   "execution_count": 5,
   "metadata": {},
   "outputs": [],
   "source": [
    "def scrape_tweets(query: str, amount: int) -> list:\n",
    "    \"\"\"Scrapes a specified number of tweets based on given query and location.\n",
    "\n",
    "    Method from https://www.sahilfruitwala.com/guide-to-extract-tweets-using-tweepy#how-to-retrieve-specific-number-of-tweets-using-tweepy \n",
    "    \n",
    "    Args:\n",
    "        query (str): The query\n",
    "    Returns:\n",
    "        list (str): List of contents of tweets.\n",
    "    \"\"\"\n",
    "    extracted_tweets = []\n",
    "    for tweet in tweepy.Cursor(api.search_tweets, query, count=100, tweet_mode=\"extended\", result_type=\"mixed\").items(amount):\n",
    "        extracted_tweets.append(tweet.full_text)\n",
    "    return extracted_tweets"
   ]
  },
  {
   "cell_type": "code",
   "execution_count": 6,
   "metadata": {},
   "outputs": [],
   "source": [
    "def write_to_csv(tweets: list, csv_name: str) -> None:\n",
    "    \"\"\"Appends the list of tweets to csv.\n",
    "    \n",
    "    Largely copied from https://gist.github.com/anku255/0cebd75cce675f2b56de1ef48ec06575.\n",
    "\n",
    "    \"\"\"\n",
    "    print(\"Writing {0} tweets to {1}\".format(len(tweets), csv_name))\n",
    "    tweets_for_csv = [[tweet.encode(\"utf-8\")] for tweet in tweets]\n",
    "    with open(csv_name, \"a+\") as file:\n",
    "        writer = csv.writer(file, delimiter=\",\")\n",
    "        writer.writerows(tweets_for_csv)\n"
   ]
  },
  {
   "attachments": {},
   "cell_type": "markdown",
   "metadata": {},
   "source": [
    "The queries for scraping tweets. Note that the queries commented out have already been scraped."
   ]
  },
  {
   "cell_type": "code",
   "execution_count": 20,
   "metadata": {},
   "outputs": [],
   "source": [
    "# queries = [\n",
    "#     [\"(metaverse OR meta verse OR #metaverse OR #meta #verse) AND (place_country:AE OR uae) lang:en -is:retweet\"],\n",
    "#     [\"(innovation OR #innovation OR innovate OR innovative OR #innovate OR #innovative) AND (place_country:AE OR uae) lang:en -is:retweet\"],\n",
    "#     [\"(sustainability OR #sustainability OR sustainable) AND (place_country:AE OR uae) lang:en -is:retweet\"],\n",
    "#     [\"(technology footprint OR technology OR #technologyfootprint) AND (place_country:AE OR uae) lang:en -is:retweet\"],\n",
    "#     [\"(artificial intelligence OR ai OR #ai OR #artificialintelligence) AND (place_country:AE OR uae) lang:en -is:retweet\"],\n",
    "#     [\"(ethics OR #ethics OR ethical OR #ethical) AND (place_country:AE OR uae) lang:en -is:retweet\"],\n",
    "#     [\"(inflation OR #inflation) AND (place_country:AE OR uae) lang:en -is:retweet \"],\n",
    "#     [\"(cop 28 OR cop28 OR #cop28 OR #cop #28) AND (place_country:AE OR uae) lang:en -is:retweet\"],\n",
    "#     [\"(museum of the future OR @museumofthefuture OR #museumofthefuture OR #museum #of #the #future) AND (place_country:AE OR uae) lang:en -is:retweet\"],\n",
    "#     [\"(bit coin OR bitcoin OR #bitcoin OR #crypto OR crpyto OR cryptocurrency) AND (place_country:AE OR uae) lang:en -is:retweet\"],\n",
    "#     [\"(cyber attack OR #cyberattack OR #cyber OR #cyberattacks OR #cyber #attack) AND (place_country:AE OR uae) lang:en -is:retweet\"],\n",
    "#     [\"(robot OR robots OR #robots OR #robot) AND (place_country:AE OR uae) lang:en -is:retweet\"],\n",
    "#     [\"(drone OR dronesOR #drone OR #drones) AND (place_country:AE OR uae) lang:en -is:retweet\"],\n",
    "#     [\"(hacker OR hacking OR #hacker OR #hacking OR #hack) AND (place_country:AE OR uae) lang:en -is:retweet\"],\n",
    "#     [\"(chatgpt OR #chatgpt OR #chat #gpt OR chat gpt) AND (place_country:AE OR uae) lang:en -is:retweet\"]\n",
    "# ]\n",
    "# queries = [\n",
    "#     [\"(cybersecurity OR #cybersecurityOR #cybersec OR cybersec OR cyber security OR #cyber #security) AND (place_country:AE OR uae) lang:en -is:retweet\"],\n",
    "#     [\"(sustainabletech OR sustainable ai OR sustainable technology OR #sustainabletech OR #sustainableai OR #sustainabletechnology) AND (place_country:AE OR uae) lang:en -is:retweet\"],\n",
    "#     [\"(computing OR quantum computing OR #quantum #computing OR #computing) AND (place_country:AE OR uae) lang:en -is:retweet\"],\n",
    "#     [\"(automation OR #automation) AND (place_country:AE OR uae) lang:en -is:retweet\"],\n",
    "#     [\"(automation OR #automation) AND (place_country:AE OR uae) lang:en -is:retweet\"],\n",
    "#     [\"(distributed cloud OR #distributedcloud OR #distributed #cloud) AND (place_country:AE OR uae) lang:en -is:retweet\"],\n",
    "#     [\"(big data OR #big #data OR bigdata OR #bigdata) AND (place_country:AE OR uae) lang:en -is:retweet\"],\n",
    "#     [\"(ar OR #ar OR #augmentedreality OR #augmented #reality) AND (place_country:AE OR uae) lang:en -is:retweet\"],\n",
    "#     [\"(data mining OR #data #mining OR #datamining) AND (place_country:AE OR uae) lang:en -is:retweet\"],\n",
    "#     [\"(software OR #software) AND (place_country:AE OR uae) lang:en -is:retweet\"],\n",
    "#     [\"(tech OR technology OR #tech OR #technology) AND (place_country:AE OR uae) lang:en -is:retweet\"],\n",
    "#     [\"(digital OR digital transformation OR #digital #transformation OR #digitaltransformation) AND (place_country:AE OR uae) lang:en -is:retweet\"],\n",
    "#     [\"(blockchain OR #blockchain) AND (place_country:AE OR uae) lang:en -is:retweet\"],\n",
    "#     [\"(coders_hq OR coders hq OR #coders OR #coders #hq OR @coders_hq) AND (place_country:AE OR uae) lang:en -is:retweet\"],\n",
    "#     [\"(nft OR non-fungible token OR non fungible token OR nfts OR #nfts OR #nonfungibletoken OR #nft) AND (place_country:AE OR uae) lang:en -is:retweet\"],\n",
    "#     [\"(binance OR @binance OR #binance) AND (place_country:AE OR uae) lang:en -is:retweet\"],\n",
    "#     [\"(uae hackathon OR hackathon OR #hackathon) AND (place_country:AE OR uae) lang:en -is:retweet\"],\n",
    "#     [\"(internet of things OR IoT OR #iot OR #internet #of #things OR #internetofthings) AND (place_country:AE OR uae) lang:en -is:retweet\"],\n",
    "#     [\"(software engineering OR #softwareengineering) AND (place_country:AE OR uae) lang:en -is:retweet\"],\n",
    "#     [\"(#coding OR coding) AND (place_country:AE OR uae) lang:en -is:retweet\"],\n",
    "#     [\"(@uaeai OR #uaeai Or #uae #ai) AND (place_country:AE OR uae) lang:en -is:retweet\"],\n",
    "#     [\"(technology OR tech OT #tech Or #technology) AND (place_country:AE OR uae) lang:en -is:retweet\"],\n",
    "#     [\"(nft OR #nft OR #nfts OR nfts) AND (place_country:AE OR uae) lang:en -is:retweet\"]   ,\n",
    "#     [\"(UAE codes OR #UAE_codes OR #UAEcodes) AND (place_country:AE OR uae) lang:en -is:retweet\"],\n",
    "#     [\"(Microsoft Hololens OR Hololens OR #Hololens) AND (place_country:AE OR uae) lang:en -is:retweet\"],\n",
    "#     [\"(GITEX or #gitex) AND (place_country:AE OR uae) lang:en -is:retweet \"]\n",
    "# ]\n",
    "\n",
    "# queries = [\n",
    "#     [\"(information OR #information) AND (place_country:AE OR uae) lang:en -is:retweet\"],\n",
    "#     [\"(internet OR #internet) AND (place_country:AE OR uae) lang:en -is:retweet\"],\n",
    "#     [\"(computer OR science OR computer science OR #computerscience OR #computer OR #science) AND (place_country:AE OR uae) lang:en -is:retweet\"],\n",
    "#     [\"(technological OR #technological) AND (place_country:AE OR uae) lang:en -is:retweet\"],\n",
    "#     [\"(engineering OR #engineering) AND (place_country:AE OR uae) lang:en -is:retweet\"],\n",
    "#     [\"(computing OR #computing) AND (place_country:AE OR uae) lang:en -is:retweet\"],\n",
    "#     [\"(systems OR #systems) AND (place_country:AE OR uae) lang:en -is:retweet\"],\n",
    "#     [\"(electronics OR #electronics) AND (place_country:AE OR uae) lang:en -is:retweet\"],\n",
    "#     [\"(application OR #application OR app OR #app) AND (place_country:AE OR uae) lang:en -is:retweet\"],\n",
    "#     [\"(robotics OR #robotics) AND (place_country:AE OR uae) lang:en -is:retweet\"],\n",
    "#     [\"(high tech OR high technology OR #hightech OR #hightechnology OR #high #technology OR #high #tech) AND (place_country:AE OR uae) lang:en -is:retweet\"],\n",
    "#     [\"(nanotech OR nano tech OR nanotechnology OR nano technology OR #nanotech OR #nano #tech OR #nano #technology OR #nanotechnology) AND (place_country:AE OR uae) lang:en -is:retweet\"],\n",
    "#     [\"(biotech OR bio tech OR biotechnology OR bio technology OR #biotech OR #bio #tech OR #bio #technology OR #biotechnology) AND (place_country:AE OR uae) lang:en -is:retweet\"],\n",
    "#     [\"(code OR #code) AND (place_country:AE OR uae) lang:en -is:retweet\"],\n",
    "#     [\"(automation OR #automation OR automate OR #automate) AND (place_country:AE OR uae) lang:en -is:retweet\"],\n",
    "#     [\"(virtual OR #virtual OR online OR #online) AND (place_country:AE OR uae) lang:en -is:retweet\"],\n",
    "#     [\"(technological advancements OR #technological #advancements OR #advancements OR #techadvancements) AND (place_country:AE OR uae) lang:en -is:retweet\"],\n",
    "#     [\"(bionics OR #bionics) AND (place_country:AE OR uae) lang:en -is:retweet\"],\n",
    "#     [\"(cyberscience OR #cyberscience) AND (place_country:AE OR uae) lang:en -is:retweet\"],\n",
    "#     [\"(google OR #google OR @google) AND (place_country:AE OR uae) lang:en -is:retweet\"],\n",
    "#     [\"(oracle OR #oracle OR @oracle) AND (place_country:AE OR uae) lang:en -is:retweet\"],\n",
    "#     [\"(ibm OR #ibm OR @ibm) AND (place_country:AE OR uae) lang:en -is:retweet\"],\n",
    "#     [\"(bionics OR #bionics) AND (place_country:AE OR uae) lang:en -is:retweet\"],\n",
    "#     [\"(sap OR #sap) AND (place_country:AE OR uae) lang:en -is:retweet\"],\n",
    "#     [\"(global knowledge OR #globalknowledge OR #global #knowledge) AND (place_country:AE OR uae) lang:en -is:retweet\"],\n",
    "#     [\"(amazon OR #amazon OR @amazon) AND (place_country:AE OR uae) lang:en -is:retweet\"],\n",
    "#     [\"(hewlett-packard OR Hewlett Packard OR HP OR #hewlett-packard OR #Hewlett #Packard OR #HP) AND (place_country:AE OR uae) lang:en -is:retweet\"],\n",
    "#     [\"(cisco OR #cisco OR @cisco) AND (place_country:AE OR uae) lang:en -is:retweet\"],\n",
    "#     [\"(dell OR #dell OR @dell) AND (place_country:AE OR uae) lang:en -is:retweet\"],\n",
    "#     [\"(cisco OR #cisco OR @cisco) AND (place_country:AE OR uae) lang:en -is:retweet\"],\n",
    "#     [\"(@WorldGovSummit OR #WGS OR #WGS2023 OR World Goverment Summit) AND (place_country:AE OR uae) lang:en -is:retweet\"],\n",
    "#     [\"(masdar OR #masdar OR @masdar) AND (place_country:AE OR uae) lang:en -is:retweet\"],\n",
    "#     [\"(renewable energy OR clean energy OR #renewableenergy OR #cleanenergy) AND (place_country:AE OR uae) lang:en -is:retweet\"],\n",
    "#     [\"(machine learning OR #machinelearning OR ML OR #ML) AND (place_country:AE OR uae) lang:en -is:retweet\"],\n",
    "#     [\"(recommender systems OR #RS OR #recommender #systems OR recommender engine) AND (place_country:AE OR uae) lang:en -is:retweet\"],\n",
    "#     [\"(deep learning OR #deeplearning) AND (place_country:AE OR uae) lang:en -is:retweet\"],\n",
    "#     [\"(research OR #research) AND (place_country:AE OR uae) lang:en -is:retweet\"],\n",
    "# ]"
   ]
  },
  {
   "cell_type": "code",
   "execution_count": 21,
   "metadata": {},
   "outputs": [
    {
     "name": "stdout",
     "output_type": "stream",
     "text": [
      "Found 902 tweets related to the query ['(information OR #information) AND (place_country:AE OR uae) lang:en -is:retweet']\n",
      "Writing 902 tweets to dataset.csv\n",
      "Found 73 tweets related to the query ['(internet OR #internet) AND (place_country:AE OR uae) lang:en -is:retweet']\n",
      "Writing 73 tweets to dataset.csv\n",
      "Found 599 tweets related to the query ['(computer OR science OR computer science OR #computerscience OR #computer OR #science) AND (place_country:AE OR uae) lang:en -is:retweet']\n",
      "Writing 599 tweets to dataset.csv\n",
      "Found 52 tweets related to the query ['(technological OR #technological) AND (place_country:AE OR uae) lang:en -is:retweet']\n",
      "Writing 52 tweets to dataset.csv\n",
      "Found 629 tweets related to the query ['(engineering OR #engineering) AND (place_country:AE OR uae) lang:en -is:retweet']\n",
      "Writing 629 tweets to dataset.csv\n",
      "Found 13 tweets related to the query ['(computing OR #computing) AND (place_country:AE OR uae) lang:en -is:retweet']\n",
      "Writing 13 tweets to dataset.csv\n",
      "Found 338 tweets related to the query ['(systems OR #systems) AND (place_country:AE OR uae) lang:en -is:retweet']\n",
      "Writing 338 tweets to dataset.csv\n",
      "Found 128 tweets related to the query ['(electronics OR #electronics) AND (place_country:AE OR uae) lang:en -is:retweet']\n",
      "Writing 128 tweets to dataset.csv\n",
      "Found 329 tweets related to the query ['(application OR #application OR app OR #app) AND (place_country:AE OR uae) lang:en -is:retweet']\n",
      "Writing 329 tweets to dataset.csv\n",
      "Found 79 tweets related to the query ['(robotics OR #robotics) AND (place_country:AE OR uae) lang:en -is:retweet']\n",
      "Writing 79 tweets to dataset.csv\n",
      "Found 3 tweets related to the query ['(high tech OR high technology OR #hightech OR #hightechnology OR #high #technology OR #high #tech) AND (place_country:AE OR uae) lang:en -is:retweet']\n",
      "Writing 3 tweets to dataset.csv\n",
      "Found 0 tweets related to the query ['(nanotech OR nano tech OR nanotechnology OR nano technology OR #nanotech OR #nano #tech OR #nano #technology OR #nanotechnology) AND (place_country:AE OR uae) lang:en -is:retweet']\n",
      "Writing 0 tweets to dataset.csv\n",
      "Found 0 tweets related to the query ['(biotech OR bio tech OR biotechnology OR bio technology OR #biotech OR #bio #tech OR #bio #technology OR #biotechnology) AND (place_country:AE OR uae) lang:en -is:retweet']\n",
      "Writing 0 tweets to dataset.csv\n",
      "Found 133 tweets related to the query ['(code OR #code) AND (place_country:AE OR uae) lang:en -is:retweet']\n",
      "Writing 133 tweets to dataset.csv\n",
      "Found 56 tweets related to the query ['(automation OR #automation OR automate OR #automate) AND (place_country:AE OR uae) lang:en -is:retweet']\n",
      "Writing 56 tweets to dataset.csv\n",
      "Found 281 tweets related to the query ['(virtual OR #virtual OR online OR #online) AND (place_country:AE OR uae) lang:en -is:retweet']\n",
      "Writing 281 tweets to dataset.csv\n",
      "Found 0 tweets related to the query ['(technological advancements OR #technological #advancements OR #advancements OR #techadvancements) AND (place_country:AE OR uae) lang:en -is:retweet']\n",
      "Writing 0 tweets to dataset.csv\n",
      "Found 0 tweets related to the query ['(bionics OR #bionics) AND (place_country:AE OR uae) lang:en -is:retweet']\n",
      "Writing 0 tweets to dataset.csv\n",
      "Found 0 tweets related to the query ['(cyberscience OR #cyberscience) AND (place_country:AE OR uae) lang:en -is:retweet']\n",
      "Writing 0 tweets to dataset.csv\n",
      "Found 264 tweets related to the query ['(google OR #google OR @google) AND (place_country:AE OR uae) lang:en -is:retweet']\n",
      "Writing 264 tweets to dataset.csv\n",
      "Found 13 tweets related to the query ['(oracle OR #oracle OR @oracle) AND (place_country:AE OR uae) lang:en -is:retweet']\n",
      "Writing 13 tweets to dataset.csv\n",
      "Found 1 tweets related to the query ['(ibm OR #ibm OR @ibm) AND (place_country:AE OR uae) lang:en -is:retweet']\n",
      "Writing 1 tweets to dataset.csv\n",
      "Found 0 tweets related to the query ['(bionics OR #bionics) AND (place_country:AE OR uae) lang:en -is:retweet']\n",
      "Writing 0 tweets to dataset.csv\n",
      "Found 18 tweets related to the query ['(sap OR #sap) AND (place_country:AE OR uae) lang:en -is:retweet']\n",
      "Writing 18 tweets to dataset.csv\n",
      "Found 1 tweets related to the query ['(global knowledge OR #globalknowledge OR #global #knowledge) AND (place_country:AE OR uae) lang:en -is:retweet']\n",
      "Writing 1 tweets to dataset.csv\n",
      "Found 217 tweets related to the query ['(amazon OR #amazon OR @amazon) AND (place_country:AE OR uae) lang:en -is:retweet']\n",
      "Writing 217 tweets to dataset.csv\n",
      "Found 0 tweets related to the query ['(hewlett-packard OR Hewlett Packard OR HP OR #hewlett-packard OR #Hewlett #Packard OR #HP) AND (place_country:AE OR uae) lang:en -is:retweet']\n",
      "Writing 0 tweets to dataset.csv\n",
      "Found 7 tweets related to the query ['(cisco OR #cisco OR @cisco) AND (place_country:AE OR uae) lang:en -is:retweet']\n",
      "Writing 7 tweets to dataset.csv\n",
      "Found 5 tweets related to the query ['(dell OR #dell OR @dell) AND (place_country:AE OR uae) lang:en -is:retweet']\n",
      "Writing 5 tweets to dataset.csv\n",
      "Found 7 tweets related to the query ['(cisco OR #cisco OR @cisco) AND (place_country:AE OR uae) lang:en -is:retweet']\n",
      "Writing 7 tweets to dataset.csv\n",
      "Found 0 tweets related to the query ['(@WorldGovSummit OR #WGS OR #WGS2023 OR World Goverment Summit) AND (place_country:AE OR uae) lang:en -is:retweet']\n",
      "Writing 0 tweets to dataset.csv\n",
      "Found 153 tweets related to the query ['(masdar OR #masdar OR @masdar) AND (place_country:AE OR uae) lang:en -is:retweet']\n",
      "Writing 153 tweets to dataset.csv\n",
      "Found 71 tweets related to the query ['(renewable energy OR clean energy OR #renewableenergy OR #cleanenergy) AND (place_country:AE OR uae) lang:en -is:retweet']\n",
      "Writing 71 tweets to dataset.csv\n",
      "Found 3 tweets related to the query ['(machine learning OR #machinelearning OR ML OR #ML) AND (place_country:AE OR uae) lang:en -is:retweet']\n",
      "Writing 3 tweets to dataset.csv\n",
      "Found 0 tweets related to the query ['(recommender systems OR #RS OR #recommender #systems OR recommender engine) AND (place_country:AE OR uae) lang:en -is:retweet']\n",
      "Writing 0 tweets to dataset.csv\n",
      "Found 2 tweets related to the query ['(deep learning OR #deeplearning) AND (place_country:AE OR uae) lang:en -is:retweet']\n",
      "Writing 2 tweets to dataset.csv\n",
      "Found 916 tweets related to the query ['(research OR #research) AND (place_country:AE OR uae) lang:en -is:retweet']\n",
      "Writing 916 tweets to dataset.csv\n",
      "Done. 5293 rows.\n"
     ]
    }
   ],
   "source": [
    "\"\"\"Scraping tweets and writing them to dataset.csv\"\"\"\n",
    "csv_name=\"dataset.csv\"\n",
    "total = 0\n",
    "for query in queries:\n",
    "    tweets = scrape_tweets(query=query, amount=1000)\n",
    "    total += len(tweets)\n",
    "    print(\"Found {0} tweets related to the query {1}\".format(len(tweets), query))\n",
    "    write_to_csv(tweets=tweets,csv_name=csv_name)\n",
    "print(\"Done. {0} rows.\".format(total))"
   ]
  },
  {
   "attachments": {},
   "cell_type": "markdown",
   "metadata": {},
   "source": [
    "# Data Processing"
   ]
  },
  {
   "attachments": {},
   "cell_type": "markdown",
   "metadata": {},
   "source": [
    "Some notes: Do not modify original csv `dataset.csv`. The dataset with no duplicates is stored in `updated_dataset.csv`"
   ]
  },
  {
   "cell_type": "code",
   "execution_count": 22,
   "metadata": {},
   "outputs": [],
   "source": [
    "# Dropping duplicates\n",
    "dataset = pd.read_csv(\"dataset.csv\", header=None)\n",
    "dataset.rename(columns={0: 'Text'}, inplace=True)\n"
   ]
  },
  {
   "cell_type": "code",
   "execution_count": 23,
   "metadata": {},
   "outputs": [
    {
     "data": {
      "text/html": [
       "<div>\n",
       "<style scoped>\n",
       "    .dataframe tbody tr th:only-of-type {\n",
       "        vertical-align: middle;\n",
       "    }\n",
       "\n",
       "    .dataframe tbody tr th {\n",
       "        vertical-align: top;\n",
       "    }\n",
       "\n",
       "    .dataframe thead th {\n",
       "        text-align: right;\n",
       "    }\n",
       "</style>\n",
       "<table border=\"1\" class=\"dataframe\">\n",
       "  <thead>\n",
       "    <tr style=\"text-align: right;\">\n",
       "      <th></th>\n",
       "      <th>Text</th>\n",
       "    </tr>\n",
       "  </thead>\n",
       "  <tbody>\n",
       "    <tr>\n",
       "      <th>0</th>\n",
       "      <td>b'Joined UAE Minister &amp;amp; President-Designat...</td>\n",
       "    </tr>\n",
       "    <tr>\n",
       "      <th>1</th>\n",
       "      <td>b'Foreign Secretary @AmbVMKwatra participated ...</td>\n",
       "    </tr>\n",
       "    <tr>\n",
       "      <th>2</th>\n",
       "      <td>b'As the UAE marks National Environment Day, w...</td>\n",
       "    </tr>\n",
       "    <tr>\n",
       "      <th>3</th>\n",
       "      <td>b'RT @KhalifaAlgaz: Did you know that the UAE ...</td>\n",
       "    </tr>\n",
       "    <tr>\n",
       "      <th>4</th>\n",
       "      <td>b'RT @tawhidChtioui: \\xf0\\x9f\\x9b\\xb0\\xef\\xb8\\...</td>\n",
       "    </tr>\n",
       "    <tr>\n",
       "      <th>...</th>\n",
       "      <td>...</td>\n",
       "    </tr>\n",
       "    <tr>\n",
       "      <th>12285</th>\n",
       "      <td>b'RT @whatisnuclear: You have to look slightly...</td>\n",
       "    </tr>\n",
       "    <tr>\n",
       "      <th>12286</th>\n",
       "      <td>b'RT @whatisnuclear: You have to look slightly...</td>\n",
       "    </tr>\n",
       "    <tr>\n",
       "      <th>12287</th>\n",
       "      <td>b'RT @IansThewriter1: #online class\\n#assignme...</td>\n",
       "    </tr>\n",
       "    <tr>\n",
       "      <th>12288</th>\n",
       "      <td>b'#online class\\n#assignments\\n#economics \\n#e...</td>\n",
       "    </tr>\n",
       "    <tr>\n",
       "      <th>12289</th>\n",
       "      <td>b'RT @thee_prof1: Get online class homework, a...</td>\n",
       "    </tr>\n",
       "  </tbody>\n",
       "</table>\n",
       "<p>12290 rows × 1 columns</p>\n",
       "</div>"
      ],
      "text/plain": [
       "                                                    Text\n",
       "0      b'Joined UAE Minister &amp; President-Designat...\n",
       "1      b'Foreign Secretary @AmbVMKwatra participated ...\n",
       "2      b'As the UAE marks National Environment Day, w...\n",
       "3      b'RT @KhalifaAlgaz: Did you know that the UAE ...\n",
       "4      b'RT @tawhidChtioui: \\xf0\\x9f\\x9b\\xb0\\xef\\xb8\\...\n",
       "...                                                  ...\n",
       "12285  b'RT @whatisnuclear: You have to look slightly...\n",
       "12286  b'RT @whatisnuclear: You have to look slightly...\n",
       "12287  b'RT @IansThewriter1: #online class\\n#assignme...\n",
       "12288  b'#online class\\n#assignments\\n#economics \\n#e...\n",
       "12289  b'RT @thee_prof1: Get online class homework, a...\n",
       "\n",
       "[12290 rows x 1 columns]"
      ]
     },
     "execution_count": 23,
     "metadata": {},
     "output_type": "execute_result"
    }
   ],
   "source": [
    "dataset"
   ]
  },
  {
   "cell_type": "code",
   "execution_count": 24,
   "metadata": {},
   "outputs": [
    {
     "data": {
      "text/html": [
       "<div>\n",
       "<style scoped>\n",
       "    .dataframe tbody tr th:only-of-type {\n",
       "        vertical-align: middle;\n",
       "    }\n",
       "\n",
       "    .dataframe tbody tr th {\n",
       "        vertical-align: top;\n",
       "    }\n",
       "\n",
       "    .dataframe thead th {\n",
       "        text-align: right;\n",
       "    }\n",
       "</style>\n",
       "<table border=\"1\" class=\"dataframe\">\n",
       "  <thead>\n",
       "    <tr style=\"text-align: right;\">\n",
       "      <th></th>\n",
       "      <th>Text</th>\n",
       "    </tr>\n",
       "  </thead>\n",
       "  <tbody>\n",
       "    <tr>\n",
       "      <th>0</th>\n",
       "      <td>b'Joined UAE Minister &amp;amp; President-Designat...</td>\n",
       "    </tr>\n",
       "    <tr>\n",
       "      <th>1</th>\n",
       "      <td>b'Foreign Secretary @AmbVMKwatra participated ...</td>\n",
       "    </tr>\n",
       "    <tr>\n",
       "      <th>2</th>\n",
       "      <td>b'As the UAE marks National Environment Day, w...</td>\n",
       "    </tr>\n",
       "    <tr>\n",
       "      <th>3</th>\n",
       "      <td>b'RT @KhalifaAlgaz: Did you know that the UAE ...</td>\n",
       "    </tr>\n",
       "    <tr>\n",
       "      <th>4</th>\n",
       "      <td>b'RT @tawhidChtioui: \\xf0\\x9f\\x9b\\xb0\\xef\\xb8\\...</td>\n",
       "    </tr>\n",
       "    <tr>\n",
       "      <th>...</th>\n",
       "      <td>...</td>\n",
       "    </tr>\n",
       "    <tr>\n",
       "      <th>12256</th>\n",
       "      <td>b\"I'm taking all of these:-\\n\\xe2\\x9c\\x93Due e...</td>\n",
       "    </tr>\n",
       "    <tr>\n",
       "      <th>12258</th>\n",
       "      <td>b'Mitron, if we can believe that Hind City in ...</td>\n",
       "    </tr>\n",
       "    <tr>\n",
       "      <th>12259</th>\n",
       "      <td>b'RT @simonvandorpe: Most striking in our rese...</td>\n",
       "    </tr>\n",
       "    <tr>\n",
       "      <th>12279</th>\n",
       "      <td>b\"@jasebyjason Like you expect Beyonc\\xc3\\xa8 ...</td>\n",
       "    </tr>\n",
       "    <tr>\n",
       "      <th>12280</th>\n",
       "      <td>b'RT @FreeMsian: Nathan Anderson from Hindenbu...</td>\n",
       "    </tr>\n",
       "  </tbody>\n",
       "</table>\n",
       "<p>4386 rows × 1 columns</p>\n",
       "</div>"
      ],
      "text/plain": [
       "                                                    Text\n",
       "0      b'Joined UAE Minister &amp; President-Designat...\n",
       "1      b'Foreign Secretary @AmbVMKwatra participated ...\n",
       "2      b'As the UAE marks National Environment Day, w...\n",
       "3      b'RT @KhalifaAlgaz: Did you know that the UAE ...\n",
       "4      b'RT @tawhidChtioui: \\xf0\\x9f\\x9b\\xb0\\xef\\xb8\\...\n",
       "...                                                  ...\n",
       "12256  b\"I'm taking all of these:-\\n\\xe2\\x9c\\x93Due e...\n",
       "12258  b'Mitron, if we can believe that Hind City in ...\n",
       "12259  b'RT @simonvandorpe: Most striking in our rese...\n",
       "12279  b\"@jasebyjason Like you expect Beyonc\\xc3\\xa8 ...\n",
       "12280  b'RT @FreeMsian: Nathan Anderson from Hindenbu...\n",
       "\n",
       "[4386 rows x 1 columns]"
      ]
     },
     "execution_count": 24,
     "metadata": {},
     "output_type": "execute_result"
    }
   ],
   "source": [
    "updated_dataset = dataset.drop_duplicates()\n",
    "updated_dataset\n"
   ]
  },
  {
   "cell_type": "code",
   "execution_count": 26,
   "metadata": {},
   "outputs": [],
   "source": [
    "updated_dataset.to_csv('updated-dataset.csv')"
   ]
  },
  {
   "attachments": {},
   "cell_type": "markdown",
   "metadata": {},
   "source": [
    "## Removing URLs, stopwords, ..."
   ]
  },
  {
   "cell_type": "code",
   "execution_count": null,
   "metadata": {},
   "outputs": [],
   "source": []
  },
  {
   "attachments": {},
   "cell_type": "markdown",
   "metadata": {},
   "source": [
    "## Removing Duplicates again"
   ]
  },
  {
   "cell_type": "markdown",
   "metadata": {},
   "source": []
  }
 ],
 "metadata": {
  "kernelspec": {
   "display_name": "Python 3",
   "language": "python",
   "name": "python3"
  },
  "language_info": {
   "codemirror_mode": {
    "name": "ipython",
    "version": 3
   },
   "file_extension": ".py",
   "mimetype": "text/x-python",
   "name": "python",
   "nbconvert_exporter": "python",
   "pygments_lexer": "ipython3",
   "version": "3.10.6"
  },
  "orig_nbformat": 4,
  "vscode": {
   "interpreter": {
    "hash": "916dbcbb3f70747c44a77c7bcd40155683ae19c65e1c03b4aa3499c5328201f1"
   }
  }
 },
 "nbformat": 4,
 "nbformat_minor": 2
}
