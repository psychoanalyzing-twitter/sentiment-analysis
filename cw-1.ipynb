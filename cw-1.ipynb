{
 "cells": [
  {
   "cell_type": "code",
   "execution_count": 3,
   "metadata": {},
   "outputs": [
    {
     "name": "stdout",
     "output_type": "stream",
     "text": [
      "Defaulting to user installation because normal site-packages is not writeable\n",
      "Requirement already satisfied: tweepy in /home/andrea/.local/lib/python3.10/site-packages (4.12.1)\n",
      "Requirement already satisfied: requests<3,>=2.27.0 in /home/andrea/.local/lib/python3.10/site-packages (from tweepy) (2.28.1)\n",
      "Requirement already satisfied: requests-oauthlib<2,>=1.2.0 in /home/andrea/.local/lib/python3.10/site-packages (from tweepy) (1.3.1)\n",
      "Requirement already satisfied: oauthlib<4,>=3.2.0 in /usr/lib/python3/dist-packages (from tweepy) (3.2.0)\n",
      "Requirement already satisfied: urllib3<1.27,>=1.21.1 in /home/andrea/.local/lib/python3.10/site-packages (from requests<3,>=2.27.0->tweepy) (1.26.13)\n",
      "Requirement already satisfied: certifi>=2017.4.17 in /home/andrea/.local/lib/python3.10/site-packages (from requests<3,>=2.27.0->tweepy) (2022.12.7)\n",
      "Requirement already satisfied: idna<4,>=2.5 in /home/andrea/.local/lib/python3.10/site-packages (from requests<3,>=2.27.0->tweepy) (3.4)\n",
      "Requirement already satisfied: charset-normalizer<3,>=2 in /home/andrea/.local/lib/python3.10/site-packages (from requests<3,>=2.27.0->tweepy) (2.1.1)\n",
      "Note: you may need to restart the kernel to use updated packages.\n"
     ]
    }
   ],
   "source": [
    "%pip install tweepy"
   ]
  },
  {
   "cell_type": "code",
   "execution_count": 4,
   "metadata": {},
   "outputs": [],
   "source": [
    "import tweepy\n",
    "import sys\n",
    "import csv"
   ]
  },
  {
   "cell_type": "code",
   "execution_count": 5,
   "metadata": {},
   "outputs": [],
   "source": [
    "# Keys for authentication\n",
    "consumer_key = \"ONLQ0vLSAXM2tZDnckominEcK\"\n",
    "consumer_secret = \"MpP7XurdGn1wpufX3rrfQgrs4AROnaw9ZiiZzKN6exr3zEDlN6\"\n",
    "access_token = \"1274112117738737664-J2DjjoqqzN11CNp8bpnYzVp1dUYKM4\"\n",
    "access_token_secret = \"3coYFJVCqHnOmD2m9Qt6zs7j1I24lhlPTU71eUOq4Zqg9\"\n",
    "bearer_token = \"AAAAAAAAAAAAAAAAAAAAALJslQEAAAAA7EWdkTwrVDM44LIuewNascHjvoY%3DeXmhQyuXgo8zXJiSTMfqtmPA393HHO2W7nSrk0bK6b67SuJeb0\""
   ]
  },
  {
   "cell_type": "code",
   "execution_count": 6,
   "metadata": {},
   "outputs": [],
   "source": [
    "# Authenticate\n",
    "auth = tweepy.OAuth1UserHandler(\n",
    "    consumer_key, consumer_secret, access_token, access_token_secret)\n",
    "\n",
    "api = tweepy.API(auth)"
   ]
  },
  {
   "cell_type": "code",
   "execution_count": 7,
   "metadata": {},
   "outputs": [],
   "source": [
    "def scrape_tweets(query: str, amount: int) -> list:\n",
    "    \"\"\"Scrapes a specified number of tweets based on given query and location.\n",
    "\n",
    "    Method from https://www.sahilfruitwala.com/guide-to-extract-tweets-using-tweepy#how-to-retrieve-specific-number-of-tweets-using-tweepy \n",
    "    \n",
    "    Args:\n",
    "        query (str): The query\n",
    "    Returns:\n",
    "        list (str): List of contents of tweets.\n",
    "    \"\"\"\n",
    "    extracted_tweets = []\n",
    "    for tweet in tweepy.Cursor(api.search_tweets, query, count=100, tweet_mode=\"extended\", result_type=\"mixed\").items(amount):\n",
    "        extracted_tweets.append(tweet.full_text)\n",
    "    return extracted_tweets"
   ]
  },
  {
   "cell_type": "code",
   "execution_count": 8,
   "metadata": {},
   "outputs": [],
   "source": [
    "def write_to_csv(tweets: list, csv_name: str) -> None:\n",
    "    \"\"\"Appends the list of tweets to csv.\n",
    "    \n",
    "    Largely copied from https://gist.github.com/anku255/0cebd75cce675f2b56de1ef48ec06575.\n",
    "\n",
    "    \"\"\"\n",
    "    print(\"Writing {0} tweets to {1}\".format(len(tweets), csv_name))\n",
    "    tweets_for_csv = [[tweet.encode(\"utf-8\")] for tweet in tweets]\n",
    "    with open(csv_name, \"a+\") as file:\n",
    "        writer = csv.writer(file, delimiter=\",\")\n",
    "        writer.writerows(tweets_for_csv)\n"
   ]
  },
  {
   "cell_type": "code",
   "execution_count": 9,
   "metadata": {},
   "outputs": [],
   "source": [
    "# queries: commented out becuase already scraped\n",
    "# queries = [\n",
    "#     [\"(metaverse OR meta verse OR #metaverse OR #meta #verse) AND (place_country:AE OR uae) lang:en -is:retweet\"],\n",
    "#     [\"(innovation OR #innovation OR innovate OR innovative OR #innovate OR #innovative) AND (place_country:AE OR uae) lang:en -is:retweet\"],\n",
    "#     [\"(sustainability OR #sustainability OR sustainable) AND (place_country:AE OR uae) lang:en -is:retweet\"],\n",
    "#     [\"(technology footprint OR technology OR #technologyfootprint) AND (place_country:AE OR uae) lang:en -is:retweet\"],\n",
    "#     [\"(artificial intelligence OR ai OR #ai OR #artificialintelligence) AND (place_country:AE OR uae) lang:en -is:retweet\"],\n",
    "#     [\"(ethics OR #ethics OR ethical OR #ethical) AND (place_country:AE OR uae) lang:en -is:retweet\"],\n",
    "#     [\"(inflation OR #inflation) AND (place_country:AE OR uae) lang:en -is:retweet \"],\n",
    "#     [\"(cop 28 OR cop28 OR #cop28 OR #cop #28) AND (place_country:AE OR uae) lang:en -is:retweet\"],\n",
    "#     [\"(museum of the future OR @museumofthefuture OR #museumofthefuture OR #museum #of #the #future) AND (place_country:AE OR uae) lang:en -is:retweet\"],\n",
    "#     [\"(bit coin OR bitcoin OR #bitcoin OR #crypto OR crpyto OR cryptocurrency) AND (place_country:AE OR uae) lang:en -is:retweet\"],\n",
    "#     [\"(cyber attack OR #cyberattack OR #cyber OR #cyberattacks OR #cyber #attack) AND (place_country:AE OR uae) lang:en -is:retweet\"],\n",
    "#     [\"(robot OR robots OR #robots OR #robot) AND (place_country:AE OR uae) lang:en -is:retweet\"],\n",
    "#     [\"(drone OR dronesOR #drone OR #drones) AND (place_country:AE OR uae) lang:en -is:retweet\"],\n",
    "#     [\"(hacker OR hacking OR #hacker OR #hacking OR #hack) AND (place_country:AE OR uae) lang:en -is:retweet\"],\n",
    "#     [\"(chatgpt OR #chatgpt OR #chat #gpt OR chat gpt) AND (place_country:AE OR uae) lang:en -is:retweet\"]\n",
    "# ]\n",
    "\n",
    "# queries = [[\"(nft OR #nft OR #nfts OR nfts) AND (place_country:AE OR uae) lang:en -is:retweet\"]]\n",
    "\n",
    "queries = [\n",
    "    [\"(cybersecurity OR #cybersecurityOR #cybersec OR cybersec OR cyber security OR #cyber #security) AND (place_country:AE OR uae) lang:en -is:retweet\"],\n",
    "    [\"(sustainabletech OR sustainable ai OR sustainable technology OR #sustainabletech OR #sustainableai OR #sustainabletechnology) AND (place_country:AE OR uae) lang:en -is:retweet\"],\n",
    "    [\"(computing OR quantum computing OR #quantum #computing OR #computing) AND (place_country:AE OR uae) lang:en -is:retweet\"],\n",
    "    [\"(automation OR #automation) AND (place_country:AE OR uae) lang:en -is:retweet\"],\n",
    "    [\"(automation OR #automation) AND (place_country:AE OR uae) lang:en -is:retweet\"],\n",
    "    [\"(distributed cloud OR #distributedcloud OR #distributed #cloud) AND (place_country:AE OR uae) lang:en -is:retweet\"],\n",
    "    [\"(big data OR #big #data OR bigdata OR #bigdata) AND (place_country:AE OR uae) lang:en -is:retweet\"],\n",
    "    [\"(ar OR #ar OR #augmentedreality OR #augmented #reality) AND (place_country:AE OR uae) lang:en -is:retweet\"],\n",
    "    [\"(data mining OR #data #mining OR #datamining) AND (place_country:AE OR uae) lang:en -is:retweet\"],\n",
    "    [\"(software OR #software) AND (place_country:AE OR uae) lang:en -is:retweet\"],\n",
    "    [\"(tech OR technology OR #tech OR #technology) AND (place_country:AE OR uae) lang:en -is:retweet\"],\n",
    "    [\"(digital OR digital transformation OR #digital #transformation OR #digitaltransformation) AND (place_country:AE OR uae) lang:en -is:retweet\"],\n",
    "    [\"(blockchain OR #blockchain) AND (place_country:AE OR uae) lang:en -is:retweet\"],\n",
    "    [\"(coders_hq OR coders hq OR #coders OR #coders #hq OR @coders_hq) AND (place_country:AE OR uae) lang:en -is:retweet\"],\n",
    "    [\"(nft OR non-fungible token OR non fungible token OR nfts OR #nfts OR #nonfungibletoken OR #nft) AND (place_country:AE OR uae) lang:en -is:retweet\"],\n",
    "    [\"(binance OR @binance OR #binance) AND (place_country:AE OR uae) lang:en -is:retweet\"],\n",
    "    [\"(uae hackathon OR hackathon OR #hackathon) AND (place_country:AE OR uae) lang:en -is:retweet\"],\n",
    "    [\"(internet of things OR IoT OR #iot OR #internet #of #things OR #internetofthings) AND (place_country:AE OR uae) lang:en -is:retweet\"],\n",
    "    [\"(software engineering OR #softwareengineering) AND (place_country:AE OR uae) lang:en -is:retweet\"],\n",
    "    [\"(#coding OR coding) AND (place_country:AE OR uae) lang:en -is:retweet\"],\n",
    "    [\"(@uaeai OR #uaeai Or #uae #ai) AND (place_country:AE OR uae) lang:en -is:retweet\"],\n",
    "    [\"(technology OR tech OT #tech Or #technology) AND (place_country:AE OR uae) lang:en -is:retweet\"]\n",
    "\n",
    "]"
   ]
  },
  {
   "cell_type": "code",
   "execution_count": 55,
   "metadata": {},
   "outputs": [
    {
     "data": {
      "text/plain": [
       "['Joined UAE Minister &amp; President-Designate for #COP28UAE HE Dr Sultan Al Jaber &amp; SG @IEA HE Mac Monigle at 9th Asian Ministerial Energy Roundtable to galvanise global efforts for “Mapping Stable &amp; Secure Energy pathways for achieving Energy security &amp; Justice, Growth &amp; Innovation” https://t.co/ZrQy31CrDz',\n",
       " 'Foreign Secretary @AmbVMKwatra participated in a meeting of focal points of the India-France-UAE trilateral dialogue and discussed potential cooperation in the fields of defence, energy and environment, innovation and people-to-people exchanges. https://t.co/SpVNzPySNu',\n",
       " 'As the UAE marks National Environment Day, we remain committed to advancing innovative solutions to benefit current and future generations. This crucial work will continue at COP28, as we invite the world to come together in pursuit of a more sustainable future. #UAEforClimate',\n",
       " 'RT @KhalifaAlgaz: Did you know that the UAE is developing an Arabic ChatGPT using ~10 billion parameters?\\n\\nThe Technology Innovation Instit…',\n",
       " 'RT @tawhidChtioui: 🛰️ UAE lunar rover will test 1st artificial intelligence on the moon with Canada\\n🔗https://t.co/MyRk7GyGz4\\n@aivancityscho…',\n",
       " 'We’re at the Marsh Energy Industry Conference in Dubai where the EU Ambassador to the UAE @AndreaFontanaEU is about to share insights on the innovative energy transition taking place in the EU 🇪🇺. #EUGreenDeal #EnergyTransition https://t.co/ix6aLpDQ02',\n",
       " 'RT @KhalifaAlgaz: Did you know that the UAE is developing an Arabic ChatGPT using ~10 billion parameters?\\n\\nThe Technology Innovation Instit…',\n",
       " 'RT @KhalifaAlgaz: Did you know that the UAE is developing an Arabic ChatGPT using ~10 billion parameters?\\n\\nThe Technology Innovation Instit…',\n",
       " 'RT @KhalifaAlgaz: Did you know that the UAE is developing an Arabic ChatGPT using ~10 billion parameters?\\n\\nThe Technology Innovation Instit…',\n",
       " 'RT @bolanleap: \"The future belongs to those who can imagine it, design it and execute it\" @Bapproductions_ @UAE centre for government innov…',\n",
       " 'RT @GrapheneCouncil: UK BUSINESS SECRETARY PRAISES UK-UAE GRAPHENE INNOVATION PARTNERSHIP\\n\\nhttps://t.co/nYci4CN60n\\n\\n#graphene @OfficialUoM…',\n",
       " 'Get expert Crypto Coin Development Services from a Trusted Company. We offer innovative solutions to enhance your blockchain business.\\nWebsite -https://t.co/yiIJoEMY8P\\n#cryptocurrency #coin #tokendevelopment #coindevelopment #cryptos #UAE #UK #USA #France #Japan #Singapore #Qatar https://t.co/XygKMypQBG',\n",
       " 'KNOWING TOP BANKS IN UAE??\\nQuick Finserv has made a afford to list few of the Top Banks in UAE for you. We have compiled a list of top banks in UAE based on their financial stability, customer satisfaction, and innovative services.\\n\\n🌐 https://t.co/L1gfr9qr0U\\n\\n#quickfinserv https://t.co/DWFpDbxK53',\n",
       " 'RT @MohamedBinZayed: As the UAE marks National Environment Day, we remain committed to advancing innovative solutions to benefit current an…',\n",
       " 'RT @UAE_Forsan: As host of COP28, UAE is committed to leading the way and fostering innovation in the pursuit of a sustainable future \\n#UAE…',\n",
       " 'RT @MohamedBinZayed: As the UAE marks National Environment Day, we remain committed to advancing innovative solutions to benefit current an…',\n",
       " 'As host of COP28, UAE is committed to leading the way and fostering innovation in the pursuit of a sustainable future \\n#UAE #COP28 #COP28UAE #UAEforClimate #ClimateAction \\n@COP28_UAE  \\n@uaeclimateenvoy https://t.co/aGgRv9Ou6r',\n",
       " 'UK BUSINESS SECRETARY PRAISES UK-UAE GRAPHENE INNOVATION PARTNERSHIP\\n\\nhttps://t.co/nYci4CN60n\\n\\n#graphene @OfficialUoM @KhalifaUni @JamesHBaker1 https://t.co/ED3vWXPMyC',\n",
       " 'RT @HardeepSPuri: Joined UAE Minister &amp; President-Designate for #COP28UAE HE Dr Sultan Al Jaber &amp; SG @IEA HE Mac Monigle at 9th Asian Minis…',\n",
       " '𝐌𝐚𝐫𝐢𝐚 𝐌𝐞𝐝𝐢𝐜𝐚𝐥 𝐓𝐞𝐜𝐡𝐧𝐨𝐥𝐨𝐠𝐲®, the Leading innovator in the UAE, developing cutting-edge aesthetic devices by Leveraging the convergence of AI &amp; Robotics\\n.\\n.\\nhttps://t.co/WH2DktJPQc\\ninfo@mmt.ae\\n.\\n.\\n#AI #robotics #innovation #aesthetics #technology #mmtsharjah https://t.co/CqQtTfdz6T',\n",
       " 'Protect what matters most! Stay one step ahead of security threats with top verified companies’ innovative control equipment and systems listed in UAE Yellow Pages - https://t.co/jtlLJeRuLN\\nCall - 04 2832133\\n\\n#surveillance #security #controlsystem #UAE #dubai #safety https://t.co/hTmvdzkAEX',\n",
       " 'RT @MEAIndia: Foreign Secretary @AmbVMKwatra participated in a meeting of focal points of the India-France-UAE trilateral dialogue and disc…',\n",
       " 'Marhaba #Dubai!\\n\\nWe are back to meet you again &amp; make new memories while showcasing the magic of innovation &amp; branding!\\n\\nCatch us up at Affiliate World Conferences Dubai on 1st &amp; 2nd March 2023.\\n\\n📍Booth No. - D32\\n📍Venue - Dubai World Trade Center, UAE\\n\\n#Xapads #LetsGrowTogether https://t.co/Lg4q2I1XWW',\n",
       " '#Fujairah_Innovate_Contest 2023 evaluation criteria: Benefit &amp; Impact, Technology Usage and Innovation &amp; Creativity.\\n\\n#digital_fujairah #الفجيرة\\n#حكومة_الفجيرة #حكومة_الفجيرة_الإلكترونية #الفجيرة_الرقمية #الفجيرة_تبتكر #الإمارات_تبتكر #fujairah_innovate #uae_innovates',\n",
       " 'RT @UAEILtechzone: #T3 high level speakers from the #UAE giving invaluable insights to our fellows about #innovation #Sustainability #Entre…',\n",
       " '\"The future belongs to those who can imagine it, design it and execute it\" @Bapproductions_ @UAE centre for government innovation',\n",
       " 'RT @HardeepSPuri: Joined UAE Minister &amp; President-Designate for #COP28UAE HE Dr Sultan Al Jaber &amp; SG @IEA HE Mac Monigle at 9th Asian Minis…',\n",
       " 'Luxury Briefing opens an office in Dubai Design District\\nhttps://t.co/tcFLBd0aCt\\n#design #luxury #uae #innovation https://t.co/iplZUZh38U',\n",
       " 'RT @KhalifaAlgaz: Did you know that the UAE is developing an Arabic ChatGPT using ~10 billion parameters?\\n\\nThe Technology Innovation Instit…',\n",
       " \"RT @ThaniAlZeyoudi: Surpassing AED2 trillion in #trade in 2022 for the 1st time ever underlines the #UAE's status as a catalyst of global t…\",\n",
       " 'RT @MEAIndia: Foreign Secretary @AmbVMKwatra participated in a meeting of focal points of the India-France-UAE trilateral dialogue and disc…',\n",
       " 'Profilo Nano by Phonak is our smallest in-ear receiver for covert communication. \\n\\n#TabbaraElectronics #Phonak #security #earpiece #government #moiuae #moi #uae #dubai #abudhabi #middleeast #technology #innovation #digitaltransformation\\n#ملتزمون_ياوطن\\n#نتصدر_المشهد https://t.co/MSTVHhp68R',\n",
       " 'The MOTOTRBO R7 is your perfect communication companion for the modern workplace. \\n\\n#HSCS #forasaferworld #uae #abudhabi #digitaltransformation#innovation #twowayradio #communication #R7\\n#نعمل_نخلص\\n#نتصدر_المشهد https://t.co/djoexHV0Jm',\n",
       " 'RT @UAEILtechzone: #T3 high level speakers from the #UAE giving invaluable insights to our fellows about #innovation #Sustainability #Entre…',\n",
       " 'RT @KhalifaAlgaz: Did you know that the UAE is developing an Arabic ChatGPT using ~10 billion parameters?\\n\\nThe Technology Innovation Instit…',\n",
       " 'RT @DrFaridaHosani: With the launch of the #Innovation Month, we must work together to promote a culture of innovation in government and pr…',\n",
       " '#talentweek at DIFC has become an important fixture of the #UAE innovation talent and job landscape https://t.co/sa1NcIfWDV',\n",
       " 'RT @HardeepSPuri: Joined UAE Minister &amp; President-Designate for #COP28UAE HE Dr Sultan Al Jaber &amp; SG @IEA HE Mac Monigle at 9th Asian Minis…',\n",
       " 'RT @tdrauae: Join us \\nat #UAEHackathon \\nhttps://t.co/WQ72yujY9L \\n#innovation\\n#UAE #UAE_Innovates \\n@UAE_innovates https://t.co/bQHIXgBohd',\n",
       " 'RT @HardeepSPuri: Joined UAE Minister &amp; President-Designate for #COP28UAE HE Dr Sultan Al Jaber &amp; SG @IEA HE Mac Monigle at 9th Asian Minis…',\n",
       " 'RT @HardeepSPuri: Joined UAE Minister &amp; President-Designate for #COP28UAE HE Dr Sultan Al Jaber &amp; SG @IEA HE Mac Monigle at 9th Asian Minis…',\n",
       " 'RT @HardeepSPuri: Joined UAE Minister &amp; President-Designate for #COP28UAE HE Dr Sultan Al Jaber &amp; SG @IEA HE Mac Monigle at 9th Asian Minis…',\n",
       " 'RT @HardeepSPuri: Joined UAE Minister &amp; President-Designate for #COP28UAE HE Dr Sultan Al Jaber &amp; SG @IEA HE Mac Monigle at 9th Asian Minis…',\n",
       " 'RT @HardeepSPuri: Joined UAE Minister &amp; President-Designate for #COP28UAE HE Dr Sultan Al Jaber &amp; SG @IEA HE Mac Monigle at 9th Asian Minis…',\n",
       " 'RT @HardeepSPuri: Joined UAE Minister &amp; President-Designate for #COP28UAE HE Dr Sultan Al Jaber &amp; SG @IEA HE Mac Monigle at 9th Asian Minis…',\n",
       " 'RT @HardeepSPuri: Joined UAE Minister &amp; President-Designate for #COP28UAE HE Dr Sultan Al Jaber &amp; SG @IEA HE Mac Monigle at 9th Asian Minis…',\n",
       " 'RT @HardeepSPuri: Joined UAE Minister &amp; President-Designate for #COP28UAE HE Dr Sultan Al Jaber &amp; SG @IEA HE Mac Monigle at 9th Asian Minis…',\n",
       " 'RT @HardeepSPuri: Joined UAE Minister &amp; President-Designate for #COP28UAE HE Dr Sultan Al Jaber &amp; SG @IEA HE Mac Monigle at 9th Asian Minis…',\n",
       " 'RT @HardeepSPuri: Joined UAE Minister &amp; President-Designate for #COP28UAE HE Dr Sultan Al Jaber &amp; SG @IEA HE Mac Monigle at 9th Asian Minis…',\n",
       " 'RT @HardeepSPuri: Joined UAE Minister &amp; President-Designate for #COP28UAE HE Dr Sultan Al Jaber &amp; SG @IEA HE Mac Monigle at 9th Asian Minis…']"
      ]
     },
     "execution_count": 55,
     "metadata": {},
     "output_type": "execute_result"
    }
   ],
   "source": [
    "# just for testing\n",
    "# query = \"(innovation OR #innovation OR innovative) AND (place_country:AE OR uae) lang:en -is:retweet\"\n",
    "# tweets = scrape_tweets(query, 50)\n",
    "# tweets"
   ]
  },
  {
   "cell_type": "code",
   "execution_count": 10,
   "metadata": {},
   "outputs": [
    {
     "name": "stdout",
     "output_type": "stream",
     "text": [
      "Found 0 tweets related to the query ['(cybersecurity OR #cybersecurityOR #cybersec OR cybersec OR cyber security OR #cyber #security) AND (place_country:AE OR uae) lang:en -is:retweet']\n",
      "Writing 0 tweets to dataset.csv\n",
      "Found 10 tweets related to the query ['(sustainabletech OR sustainable ai OR sustainable technology OR #sustainabletech OR #sustainableai OR #sustainabletechnology) AND (place_country:AE OR uae) lang:en -is:retweet']\n",
      "Writing 10 tweets to dataset.csv\n",
      "Found 0 tweets related to the query ['(computing OR quantum computing OR #quantum #computing OR #computing) AND (place_country:AE OR uae) lang:en -is:retweet']\n",
      "Writing 0 tweets to dataset.csv\n",
      "Found 47 tweets related to the query ['(automation OR #automation) AND (place_country:AE OR uae) lang:en -is:retweet']\n",
      "Writing 47 tweets to dataset.csv\n",
      "Found 47 tweets related to the query ['(automation OR #automation) AND (place_country:AE OR uae) lang:en -is:retweet']\n",
      "Writing 47 tweets to dataset.csv\n",
      "Found 0 tweets related to the query ['(distributed cloud OR #distributedcloud OR #distributed #cloud) AND (place_country:AE OR uae) lang:en -is:retweet']\n",
      "Writing 0 tweets to dataset.csv\n",
      "Found 2 tweets related to the query ['(big data OR #big #data OR bigdata OR #bigdata) AND (place_country:AE OR uae) lang:en -is:retweet']\n",
      "Writing 2 tweets to dataset.csv\n",
      "Found 0 tweets related to the query ['(ar OR #ar OR #augmentedreality OR #augmented #reality) AND (place_country:AE OR uae) lang:en -is:retweet']\n",
      "Writing 0 tweets to dataset.csv\n",
      "Found 0 tweets related to the query ['(data mining OR #data #mining OR #datamining) AND (place_country:AE OR uae) lang:en -is:retweet']\n",
      "Writing 0 tweets to dataset.csv\n",
      "Found 122 tweets related to the query ['(software OR #software) AND (place_country:AE OR uae) lang:en -is:retweet']\n",
      "Writing 122 tweets to dataset.csv\n",
      "Found 250 tweets related to the query ['(tech OR technology OR #tech OR #technology) AND (place_country:AE OR uae) lang:en -is:retweet']\n",
      "Writing 250 tweets to dataset.csv\n",
      "Found 7 tweets related to the query ['(digital OR digital transformation OR #digital #transformation OR #digitaltransformation) AND (place_country:AE OR uae) lang:en -is:retweet']\n",
      "Writing 7 tweets to dataset.csv\n",
      "Found 250 tweets related to the query ['(blockchain OR #blockchain) AND (place_country:AE OR uae) lang:en -is:retweet']\n",
      "Writing 250 tweets to dataset.csv\n",
      "Found 0 tweets related to the query ['(coders_hq OR coders hq OR #coders OR #coders #hq OR @coders_hq) AND (place_country:AE OR uae) lang:en -is:retweet']\n",
      "Writing 0 tweets to dataset.csv\n",
      "Found 0 tweets related to the query ['(nft OR non-fungible token OR non fungible token OR nfts OR #nfts OR #nonfungibletoken OR #nft) AND (place_country:AE OR uae) lang:en -is:retweet']\n",
      "Writing 0 tweets to dataset.csv\n",
      "Found 95 tweets related to the query ['(binance OR @binance OR #binance) AND (place_country:AE OR uae) lang:en -is:retweet']\n",
      "Writing 95 tweets to dataset.csv\n",
      "Found 30 tweets related to the query ['(uae hackathon OR hackathon OR #hackathon) AND (place_country:AE OR uae) lang:en -is:retweet']\n",
      "Writing 30 tweets to dataset.csv\n",
      "Found 0 tweets related to the query ['(internet of things OR IoT OR #iot OR #internet #of #things OR #internetofthings) AND (place_country:AE OR uae) lang:en -is:retweet']\n",
      "Writing 0 tweets to dataset.csv\n",
      "Found 17 tweets related to the query ['(software engineering OR #softwareengineering) AND (place_country:AE OR uae) lang:en -is:retweet']\n",
      "Writing 17 tweets to dataset.csv\n",
      "Found 131 tweets related to the query ['(#coding OR coding) AND (place_country:AE OR uae) lang:en -is:retweet']\n",
      "Writing 131 tweets to dataset.csv\n",
      "Found 0 tweets related to the query ['(@uaeai OR #uaeai Or #uae #ai) AND (place_country:AE OR uae) lang:en -is:retweet']\n",
      "Writing 0 tweets to dataset.csv\n",
      "Found 0 tweets related to the query ['(technology OR tech OT #tech Or #technology) AND (place_country:AE OR uae) lang:en -is:retweet']\n",
      "Writing 0 tweets to dataset.csv\n",
      "Done. 1008 rows.\n"
     ]
    }
   ],
   "source": [
    "# Add the resulting tweets from the queries to the dataset\n",
    "csv_name=\"dataset.csv\"\n",
    "total = 0\n",
    "for query in queries:\n",
    "    tweets = scrape_tweets(query=query, amount=250)\n",
    "    total += len(tweets)\n",
    "    print(\"Found {0} tweets related to the query {1}\".format(len(tweets), query))\n",
    "    write_to_csv(tweets=tweets,csv_name=csv_name)\n",
    "print(\"Done. {0} rows.\".format(total))"
   ]
  }
 ],
 "metadata": {
  "kernelspec": {
   "display_name": "Python 3",
   "language": "python",
   "name": "python3"
  },
  "language_info": {
   "codemirror_mode": {
    "name": "ipython",
    "version": 3
   },
   "file_extension": ".py",
   "mimetype": "text/x-python",
   "name": "python",
   "nbconvert_exporter": "python",
   "pygments_lexer": "ipython3",
   "version": "3.10.6"
  },
  "orig_nbformat": 4,
  "vscode": {
   "interpreter": {
    "hash": "916dbcbb3f70747c44a77c7bcd40155683ae19c65e1c03b4aa3499c5328201f1"
   }
  }
 },
 "nbformat": 4,
 "nbformat_minor": 2
}
