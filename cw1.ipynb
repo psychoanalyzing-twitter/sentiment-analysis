{
  "cells": [
    {
      "cell_type": "markdown",
      "metadata": {
        "colab_type": "text",
        "id": "view-in-github"
      },
      "source": [
        "<a href=\"https://colab.research.google.com/github/psychoanalyzing-twitter/sentiment-analysis/blob/main/cw1.ipynb\" target=\"_parent\"><img src=\"https://colab.research.google.com/assets/colab-badge.svg\" alt=\"Open In Colab\"/></a>"
      ]
    },
    {
      "cell_type": "markdown",
      "metadata": {},
      "source": [
        "# Task Distribution\n",
        "| Member | ID | Tasks |\n",
        "|---|---|---|\n",
        "|Bhavika| bk2002 | Data Cleaning and Preprocessing, Logistic Regression, Visualization | \n",
        "|Alora| aat2000 | Data Labelling and Cleaning, FastText, Decision Trees and Conclusions |\n",
        "|Andrea| acn2000 | Project Overview, Tweet Scraping, Text Representation |"
      ]
    },
    {
      "cell_type": "markdown",
      "metadata": {},
      "source": [
        "# Project Pipeline\n",
        "\n",
        "The following details the pipeline chosen for the project. A summary of the results are in the Conclusion section of this notebook.\n",
        "\n",
        "## 1. Data Collection: \n",
        "\n",
        "Tweepy library will be used to scrape tweets from twitter. The tweets scraped must be related to Technology and innovation in the UAE.\n",
        "\n",
        "## 2. Data Labelling: \n",
        "\n",
        "TextBlob and Vader are applied to the tweets for sentiment labelling and compared. The best fitting labeller is to be used in the next stages of the pipeline, which is chosen by means of manually inspecting the labels of the tweets.\n",
        "\n",
        "## 3. Text Processing: \n",
        "\n",
        "Standard pre-processing techniques for NLP will be applied, such as removing numbers, removing stop words, etc. followed by tokenization. Lemmatization and stemming are compared, and the better technique will be used for the next stage.\n",
        "\n",
        "## 4. Text Representation:\n",
        "\n",
        "Various document representations are experimented with in this stage, which are bag of words, TF-IDF, CBOW, Skip-gram, and a pre-trained Google Word2Vec model.\n",
        "\n",
        "Each of these representations are compared in terms of macro f1-score using a Naive Bayes classifier. Naive Bayes is used as it has been observed to be the most common classifier amongst several sentiment analysis projects, and that NB is \"known to work well for many text classification problems and requires relatively few training examples\" [1].\n",
        "\n",
        "## 5. Classification\n",
        "\n",
        "The chosen document representation will be used as input for the following classifiers: Logistic regression, decision trees, and FastText (a sentiment analysis classifier by Facebook).\n",
        "\n",
        "## 6. Evaluation\n",
        "\n",
        "Evaluation of the models is conducted, using precision, recall, and f1 score are the main metrics. These metrics are chosen due to the class imbalance, where metrics such as accuracy or AUROC do not provide meaningful insights [2]\n",
        "\n",
        "\n",
        "Sources:\n",
        "\n",
        "[1] https://www.aiperspectives.com/twitter-sentiment-analysis/ <br>\n",
        "[2] https://glassboxmedicine.com/2019/03/02/measuring-performance-auprc/ <br>\n",
        "\n"
      ]
    },
    {
      "cell_type": "markdown",
      "metadata": {},
      "source": [
        "# Import Libraries"
      ]
    },
    {
      "cell_type": "code",
      "execution_count": 4,
      "metadata": {},
      "outputs": [
        {
          "name": "stdout",
          "output_type": "stream",
          "text": [
            "Requirement already satisfied: tweepy in c:\\users\\alora\\anaconda3\\lib\\site-packages (4.12.1)\n",
            "Requirement already satisfied: requests<3,>=2.27.0 in c:\\users\\alora\\anaconda3\\lib\\site-packages (from tweepy) (2.27.1)\n",
            "Requirement already satisfied: requests-oauthlib<2,>=1.2.0 in c:\\users\\alora\\anaconda3\\lib\\site-packages (from tweepy) (1.3.1)\n",
            "Requirement already satisfied: oauthlib<4,>=3.2.0 in c:\\users\\alora\\anaconda3\\lib\\site-packages (from tweepy) (3.2.2)\n",
            "Requirement already satisfied: certifi>=2017.4.17 in c:\\users\\alora\\anaconda3\\lib\\site-packages (from requests<3,>=2.27.0->tweepy) (2021.10.8)\n",
            "Requirement already satisfied: charset-normalizer~=2.0.0 in c:\\users\\alora\\anaconda3\\lib\\site-packages (from requests<3,>=2.27.0->tweepy) (2.0.4)\n",
            "Requirement already satisfied: idna<4,>=2.5 in c:\\users\\alora\\anaconda3\\lib\\site-packages (from requests<3,>=2.27.0->tweepy) (3.3)\n",
            "Requirement already satisfied: urllib3<1.27,>=1.21.1 in c:\\users\\alora\\anaconda3\\lib\\site-packages (from requests<3,>=2.27.0->tweepy) (1.26.9)\n",
            "Note: you may need to restart the kernel to use updated packages.\n"
          ]
        }
      ],
      "source": [
        "%pip install tweepy\n"
      ]
    },
    {
      "cell_type": "code",
      "execution_count": 5,
      "metadata": {},
      "outputs": [],
      "source": [
        "# common modules\n",
        "import tweepy\n",
        "import csv\n",
        "import pandas as pd\n",
        "import re\n",
        "import numpy as np\n",
        "\n",
        "# for text labelling\n",
        "from textblob import TextBlob\n",
        "from vaderSentiment.vaderSentiment import SentimentIntensityAnalyzer\n",
        "\n",
        "# for data cleaning/preprocessing\n",
        "from sklearn.feature_extraction import text\n",
        "import string\n",
        "from nltk.stem import WordNetLemmatizer, PorterStemmer\n",
        "\n",
        "# for representation/classification\n",
        "import sklearn.metrics\n",
        "from sklearn.model_selection import train_test_split\n",
        "from sklearn.metrics import classification_report\n",
        "from sklearn.feature_extraction.text import CountVectorizer\n",
        "from sklearn.pipeline import Pipeline\n",
        "from sklearn.metrics import precision_recall_fscore_support\n",
        "\n",
        "# representation\n",
        "from sklearn.feature_extraction.text import TfidfVectorizer\n",
        "from gensim.models import Word2Vec\n",
        "from sklearn.preprocessing import MinMaxScaler\n",
        "import gensim\n",
        "\n",
        "# classification\n",
        "from sklearn.naive_bayes import MultinomialNB\n",
        "from sklearn.linear_model import LogisticRegression\n",
        "from sklearn import tree\n",
        "import fasttext\n",
        "\n",
        "# for visualization\n",
        "import matplotlib.pyplot as plt\n",
        "from wordcloud import WordCloud\n",
        "import seaborn as sns\n",
        "from collections import Counter\n"
      ]
    },
    {
      "cell_type": "markdown",
      "metadata": {},
      "source": [
        "# Scraping Tweets"
      ]
    },
    {
      "cell_type": "code",
      "execution_count": 6,
      "metadata": {},
      "outputs": [],
      "source": [
        "# Keys for authentication\n",
        "consumer_key = \"ONLQ0vLSAXM2tZDnckominEcK\"\n",
        "consumer_secret = \"MpP7XurdGn1wpufX3rrfQgrs4AROnaw9ZiiZzKN6exr3zEDlN6\"\n",
        "access_token = \"1274112117738737664-J2DjjoqqzN11CNp8bpnYzVp1dUYKM4\"\n",
        "access_token_secret = \"3coYFJVCqHnOmD2m9Qt6zs7j1I24lhlPTU71eUOq4Zqg9\"\n",
        "bearer_token = \"AAAAAAAAAAAAAAAAAAAAALJslQEAAAAA7EWdkTwrVDM44LIuewNascHjvoY%3DeXmhQyuXgo8zXJiSTMfqtmPA393HHO2W7nSrk0bK6b67SuJeb0\"\n"
      ]
    },
    {
      "cell_type": "code",
      "execution_count": 7,
      "metadata": {},
      "outputs": [],
      "source": [
        "# Authenticate\n",
        "auth = tweepy.OAuth1UserHandler(\n",
        "    consumer_key, consumer_secret, access_token, access_token_secret)\n",
        "\n",
        "api = tweepy.API(auth)\n"
      ]
    },
    {
      "cell_type": "code",
      "execution_count": 8,
      "metadata": {},
      "outputs": [],
      "source": [
        "def scrape_tweets(query: str, amount: int) -> list:\n",
        "    \"\"\"Scrapes a specified number of tweets based on given query and location.\n",
        "\n",
        "    Based on https://www.sahilfruitwala.com/guide-to-extract-tweets-using-tweepy#how-to-retrieve-specific-number-of-tweets-using-tweepy \n",
        "\n",
        "    Args:\n",
        "        query (str): The query\n",
        "        amount (int): Number of tweets to scrape\n",
        "    Returns:\n",
        "        list (str): List of contents of tweets.\n",
        "    \"\"\"\n",
        "    extracted_tweets = []\n",
        "    for tweet in tweepy.Cursor(api.search_tweets, query, count=100, tweet_mode=\"extended\", result_type=\"recent\").items(amount):\n",
        "        extracted_tweets.append(tweet.full_text)\n",
        "    return extracted_tweets\n"
      ]
    },
    {
      "cell_type": "code",
      "execution_count": 9,
      "metadata": {},
      "outputs": [],
      "source": [
        "def write_to_csv(tweets: list, csv_name: str) -> None:\n",
        "    \"\"\"Appends the list of tweets to csv.\n",
        "\n",
        "    Based on https://gist.github.com/anku255/0cebd75cce675f2b56de1ef48ec06575.\n",
        "\n",
        "    Args:\n",
        "        tweets (list): List of tweets (type str)\n",
        "        csv_name (str): Name of CSV to write to\n",
        "\n",
        "    \"\"\"\n",
        "    print(\"Writing {0} tweets to {1}\".format(len(tweets), csv_name))\n",
        "    tweets_for_csv = [[tweet.encode(\"utf-8\")] for tweet in tweets]\n",
        "    with open(csv_name, \"a+\") as file:\n",
        "        writer = csv.writer(file, delimiter=\",\")\n",
        "        writer.writerows(tweets_for_csv)\n"
      ]
    },
    {
      "cell_type": "code",
      "execution_count": 10,
      "metadata": {},
      "outputs": [],
      "source": [
        "# The queries for scraping tweets.\n",
        "\n",
        "queries = [\n",
        "    [\"(metaverse OR meta verse OR #metaverse OR #meta #verse) AND (place_country:AE OR uae) lang:en -filter:retweets\"],\n",
        "    [\"(innovation OR #innovation OR innovate OR innovative OR #innovate OR #innovative) AND (place_country:AE OR uae) lang:en -filter:retweets\"],\n",
        "    [\"(sustainability OR #sustainability OR sustainable) AND (place_country:AE OR uae) lang:en -filter:retweets\"],\n",
        "    [\"(technology footprint OR technology OR #technologyfootprint) AND (place_country:AE OR uae) lang:en -filter:retweets\"],\n",
        "    [\"(artificial intelligence OR ai OR #ai OR #artificialintelligence) AND (place_country:AE OR uae) lang:en -filter:retweets\"],\n",
        "    [\"(ethics OR #ethics OR ethical OR #ethical) AND (place_country:AE OR uae) lang:en -filter:retweets\"],\n",
        "    [\"(inflation OR #inflation) AND (place_country:AE OR uae) lang:en -filter:retweets\"],\n",
        "    [\"(cop 28 OR cop28 OR #cop28 OR #cop #28) AND (place_country:AE OR uae) lang:en -filter:retweets\"],\n",
        "    [\"(museum of the future OR @museumofthefuture OR #museumofthefuture OR #museum #of #the #future) AND (place_country:AE OR uae) lang:en -filter:retweets\"],\n",
        "    [\"(bit coin OR bitcoin OR #bitcoin OR #crypto OR crpyto OR cryptocurrency) AND (place_country:AE OR uae) lang:en -filter:retweets\"],\n",
        "    [\"(cyber attack OR #cyberattack OR #cyber OR #cyberattacks OR #cyber #attack) AND (place_country:AE OR uae) lang:en -filter:retweets\"],\n",
        "    [\"(robot OR robots OR #robots OR #robot) AND (place_country:AE OR uae) lang:en -filter:retweets\"],\n",
        "    [\"(drone OR drones OR #drone OR #drones) AND (place_country:AE OR uae) lang:en -filter:retweets\"],\n",
        "    [\"(hacker OR hacking OR #hacker OR #hacking OR #hack) AND (place_country:AE OR uae) lang:en -filter:retweets\"],\n",
        "    [\"(chatgpt OR #chatgpt OR #chat #gpt OR chat gpt) AND (place_country:AE OR uae) lang:en -filter:retweets\"],\n",
        "    [\"(cybersecurity OR #cybersecurityOR #cybersec OR cybersec OR cyber security OR #cyber #security) AND (place_country:AE OR uae) lang:en -filter:retweets\"],\n",
        "    [\"(sustainabletech OR sustainable ai OR sustainable technology OR #sustainabletech OR #sustainableai OR #sustainabletechnology) AND (place_country:AE OR uae) lang:en -filter:retweets\"],\n",
        "    [\"(computing OR quantum computing OR #quantum #computing OR #computing) AND (place_country:AE OR uae) lang:en -filter:retweets\"],\n",
        "    [\"(automation OR #automation) AND (place_country:AE OR uae) lang:en -filter:retweets\"],\n",
        "    [\"(distributed cloud OR #distributedcloud OR #distributed #cloud) AND (place_country:AE OR uae) lang:en -filter:retweets\"],\n",
        "    [\"(big data OR #big #data OR bigdata OR #bigdata) AND (place_country:AE OR uae) lang:en -filter:retweets\"],\n",
        "    [\"(ar OR #ar OR #augmentedreality OR #augmented #reality) AND (place_country:AE OR uae) lang:en -filter:retweets\"],\n",
        "    [\"(data mining OR #data #mining OR #datamining) AND (place_country:AE OR uae) lang:en -filter:retweets\"],\n",
        "    [\"(software OR #software) AND (place_country:AE OR uae) lang:en -filter:retweets\"],\n",
        "    [\"(tech OR technology OR #tech OR #technology) AND (place_country:AE OR uae) lang:en -filter:retweets\"],\n",
        "    [\"(digital OR digital transformation OR #digital #transformation OR #digitaltransformation) AND (place_country:AE OR uae) lang:en -filter:retweets\"],\n",
        "    [\"(blockchain OR #blockchain) AND (place_country:AE OR uae) lang:en -filter:retweets\"],\n",
        "    [\"(coders_hq OR coders hq OR #coders OR #coders #hq OR @coders_hq) AND (place_country:AE OR uae) lang:en -filter:retweets\"],\n",
        "    [\"(nft OR non-fungible token OR non fungible token OR nfts OR #nfts OR #nonfungibletoken OR #nft) AND (place_country:AE OR uae) lang:en -filter:retweets\"],\n",
        "    [\"(binance OR @binance OR #binance) AND (place_country:AE OR uae) lang:en -filter:retweets\"],\n",
        "    [\"(uae hackathon OR hackathon OR #hackathon) AND (place_country:AE OR uae) lang:en -filter:retweets\"],\n",
        "    [\"(internet of things OR IoT OR #iot OR #internet #of #things OR #internetofthings) AND (place_country:AE OR uae) lang:en -filter:retweets\"],\n",
        "    [\"(software engineering OR #softwareengineering) AND (place_country:AE OR uae) lang:en -filter:retweets\"],\n",
        "    [\"(#coding OR coding) AND (place_country:AE OR uae) lang:en -filter:retweets\"],\n",
        "    [\"(@uaeai OR #uaeai Or #uae #ai) AND (place_country:AE OR uae) lang:en -filter:retweets\"],\n",
        "    [\"(technology OR tech OT #tech Or #technology) AND (place_country:AE OR uae) lang:en -filter:retweets\"],\n",
        "    [\"(nft OR #nft OR #nfts OR nfts) AND (place_country:AE OR uae) lang:en -filter:retweets\"],\n",
        "    [\"(UAE codes OR #UAE_codes OR #UAEcodes) AND (place_country:AE OR uae) lang:en -filter:retweets\"],\n",
        "    [\"(Microsoft Hololens OR Hololens OR #Hololens) AND (place_country:AE OR uae) lang:en -filter:retweets\"],\n",
        "    [\"(GITEX or #gitex) AND (place_country:AE OR uae) lang:en -filter:retweets\"],\n",
        "    [\"(information OR #information) AND (place_country:AE OR uae) lang:en -filter:retweets\"],\n",
        "    [\"(internet OR #internet) AND (place_country:AE OR uae) lang:en -filter:retweets\"],\n",
        "    [\"(computer OR science OR computer science OR #computerscience OR #computer OR #science) AND (place_country:AE OR uae) lang:en -filter:retweets\"],\n",
        "    [\"(technological OR #technological) AND (place_country:AE OR uae) lang:en -filter:retweets\"],\n",
        "    [\"(engineering OR #engineering) AND (place_country:AE OR uae) lang:en -filter:retweets\"],\n",
        "    [\"(computing OR #computing) AND (place_country:AE OR uae) lang:en -filter:retweets\"],\n",
        "    [\"(systems OR #systems) AND (place_country:AE OR uae) lang:en -filter:retweets\"],\n",
        "    [\"(electronics OR #electronics) AND (place_country:AE OR uae) lang:en -filter:retweets\"],\n",
        "    [\"(application OR #application OR app OR #app) AND (place_country:AE OR uae) lang:en -filter:retweets\"],\n",
        "    [\"(robotics OR #robotics) AND (place_country:AE OR uae) lang:en -filter:retweets\"],\n",
        "    [\"(high tech OR high technology OR #hightech OR #hightechnology OR #high #technology OR #high #tech) AND (place_country:AE OR uae) lang:en -filter:retweets\"],\n",
        "    [\"(nanotech OR nano tech OR nanotechnology OR nano technology OR #nanotech OR #nano #tech OR #nano #technology OR #nanotechnology) AND (place_country:AE OR uae) lang:en -filter:retweets\"],\n",
        "    [\"(biotech OR bio tech OR biotechnology OR bio technology OR #biotech OR #bio #tech OR #bio #technology OR #biotechnology) AND (place_country:AE OR uae) lang:en -filter:retweets\"],\n",
        "    [\"(code OR #code) AND (place_country:AE OR uae) lang:en -filter:retweets\"],\n",
        "    [\"(automation OR #automation OR automate OR #automate) AND (place_country:AE OR uae) lang:en -filter:retweets\"],\n",
        "    [\"(virtual OR #virtual OR online OR #online) AND (place_country:AE OR uae) lang:en -filter:retweets\"],\n",
        "    [\"(technological advancements OR #technological #advancements OR #advancements OR #techadvancements) AND (place_country:AE OR uae) lang:en -filter:retweets\"],\n",
        "    [\"(bionics OR #bionics) AND (place_country:AE OR uae) lang:en -filter:retweets\"],\n",
        "    [\"(cyberscience OR #cyberscience) AND (place_country:AE OR uae) lang:en -filter:retweets\"],\n",
        "    [\"(google OR #google OR @google) AND (place_country:AE OR uae) lang:en -filter:retweets\"],\n",
        "    [\"(oracle OR #oracle OR @oracle) AND (place_country:AE OR uae) lang:en -filter:retweets\"],\n",
        "    [\"(ibm OR #ibm OR @ibm) AND (place_country:AE OR uae) lang:en -filter:retweets\"],\n",
        "    [\"(bionics OR #bionics) AND (place_country:AE OR uae) lang:en -filter:retweets\"],\n",
        "    [\"(sap OR #sap) AND (place_country:AE OR uae) lang:en -filter:retweets\"],\n",
        "    [\"(global knowledge OR #globalknowledge OR #global #knowledge) AND (place_country:AE OR uae) lang:en -filter:retweets\"],\n",
        "    [\"(amazon OR #amazon OR @amazon) AND (place_country:AE OR uae) lang:en -filter:retweets\"],\n",
        "    [\"(hewlett-packard OR Hewlett Packard OR HP OR #hewlett-packard OR #Hewlett #Packard OR #HP) AND (place_country:AE OR uae) lang:en -filter:retweets\"],\n",
        "    [\"(cisco OR #cisco OR @cisco) AND (place_country:AE OR uae) lang:en -filter:retweets\"],\n",
        "    [\"(dell OR #dell OR @dell) AND (place_country:AE OR uae) lang:en -filter:retweets\"],\n",
        "    [\"(cisco OR #cisco OR @cisco) AND (place_country:AE OR uae) lang:en -filter:retweets\"],\n",
        "    [\"(@WorldGovSummit OR #WGS OR #WGS2023 OR World Goverment Summit) AND (place_country:AE OR uae) lang:en -filter:retweets\"],\n",
        "    [\"(masdar OR #masdar OR @masdar) AND (place_country:AE OR uae) lang:en -filter:retweets\"],\n",
        "    [\"(renewable energy OR clean energy OR #renewableenergy OR #cleanenergy) AND (place_country:AE OR uae) lang:en -filter:retweets\"],\n",
        "    [\"(machine learning OR #machinelearning OR ML OR #ML) AND (place_country:AE OR uae) lang:en -filter:retweets\"],\n",
        "    [\"(recommender systems OR #RS OR #recommender #systems OR recommender engine) AND (place_country:AE OR uae) lang:en -filter:retweets\"],\n",
        "    [\"(deep learning OR #deeplearning) AND (place_country:AE OR uae) lang:en -filter:retweets\"],\n",
        "    [\"(research OR #research) AND (place_country:AE OR uae) lang:en -filter:retweets\"],\n",
        "]\n"
      ]
    },
    {
      "cell_type": "markdown",
      "metadata": {},
      "source": [
        "Getting the tweets using the queries"
      ]
    },
    {
      "cell_type": "code",
      "execution_count": 11,
      "metadata": {},
      "outputs": [],
      "source": [
        "# \"\"\"Scraping tweets and writing them to dataset.csv\"\"\"\n",
        "# csv_name=\"dataset.csv\"\n",
        "# total = 0\n",
        "# for query in queries:\n",
        "#     tweets = scrape_tweets(query=query, amount=500)\n",
        "#     total += len(tweets)\n",
        "#     print(\"Found {0} tweets related to the query {1}\".format(len(tweets), query))\n",
        "#     write_to_csv(tweets=tweets,csv_name=csv_name)\n",
        "# print(\"Done. {0} rows.\".format(total))\n"
      ]
    },
    {
      "cell_type": "markdown",
      "metadata": {},
      "source": [
        "# Data Cleaning"
      ]
    },
    {
      "cell_type": "markdown",
      "metadata": {},
      "source": [
        "This section cleans the scraped tweets dataset of duplicate tweets, URLs, @'s and #s."
      ]
    },
    {
      "cell_type": "code",
      "execution_count": 12,
      "metadata": {},
      "outputs": [],
      "source": [
        "# Dropping duplicates\n",
        "dataset = pd.read_csv(\"dataset.csv\", header=None)\n",
        "dataset.rename(columns={0: 'Text'}, inplace=True)\n"
      ]
    },
    {
      "cell_type": "code",
      "execution_count": 13,
      "metadata": {},
      "outputs": [
        {
          "data": {
            "text/html": [
              "<div>\n",
              "<style scoped>\n",
              "    .dataframe tbody tr th:only-of-type {\n",
              "        vertical-align: middle;\n",
              "    }\n",
              "\n",
              "    .dataframe tbody tr th {\n",
              "        vertical-align: top;\n",
              "    }\n",
              "\n",
              "    .dataframe thead th {\n",
              "        text-align: right;\n",
              "    }\n",
              "</style>\n",
              "<table border=\"1\" class=\"dataframe\">\n",
              "  <thead>\n",
              "    <tr style=\"text-align: right;\">\n",
              "      <th></th>\n",
              "      <th>Text</th>\n",
              "    </tr>\n",
              "  </thead>\n",
              "  <tbody>\n",
              "    <tr>\n",
              "      <th>0</th>\n",
              "      <td>b'Joined UAE Minister &amp;amp; President-Designat...</td>\n",
              "    </tr>\n",
              "    <tr>\n",
              "      <th>1</th>\n",
              "      <td>b'Foreign Secretary @AmbVMKwatra participated ...</td>\n",
              "    </tr>\n",
              "    <tr>\n",
              "      <th>2</th>\n",
              "      <td>b'As the UAE marks National Environment Day, w...</td>\n",
              "    </tr>\n",
              "    <tr>\n",
              "      <th>3</th>\n",
              "      <td>b'RT @KhalifaAlgaz: Did you know that the UAE ...</td>\n",
              "    </tr>\n",
              "    <tr>\n",
              "      <th>4</th>\n",
              "      <td>b'RT @tawhidChtioui: \\xf0\\x9f\\x9b\\xb0\\xef\\xb8\\...</td>\n",
              "    </tr>\n",
              "    <tr>\n",
              "      <th>...</th>\n",
              "      <td>...</td>\n",
              "    </tr>\n",
              "    <tr>\n",
              "      <th>21974</th>\n",
              "      <td>b'Send our special gifts to your loved ones!\\x...</td>\n",
              "    </tr>\n",
              "    <tr>\n",
              "      <th>21975</th>\n",
              "      <td>b'Trainer code: 2735 9457 4031\\nfrom \\xf0\\x9f\\...</td>\n",
              "    </tr>\n",
              "    <tr>\n",
              "      <th>21976</th>\n",
              "      <td>b\"We are looking for ICY SNOW , SANDSTORM .\\nI...</td>\n",
              "    </tr>\n",
              "    <tr>\n",
              "      <th>21977</th>\n",
              "      <td>b'Make #MONEY from #home through PC #APP \\nMak...</td>\n",
              "    </tr>\n",
              "    <tr>\n",
              "      <th>21978</th>\n",
              "      <td>b'#Earn Money from #home through PC #APP\\nwith...</td>\n",
              "    </tr>\n",
              "  </tbody>\n",
              "</table>\n",
              "<p>21979 rows × 1 columns</p>\n",
              "</div>"
            ],
            "text/plain": [
              "                                                    Text\n",
              "0      b'Joined UAE Minister &amp; President-Designat...\n",
              "1      b'Foreign Secretary @AmbVMKwatra participated ...\n",
              "2      b'As the UAE marks National Environment Day, w...\n",
              "3      b'RT @KhalifaAlgaz: Did you know that the UAE ...\n",
              "4      b'RT @tawhidChtioui: \\xf0\\x9f\\x9b\\xb0\\xef\\xb8\\...\n",
              "...                                                  ...\n",
              "21974  b'Send our special gifts to your loved ones!\\x...\n",
              "21975  b'Trainer code: 2735 9457 4031\\nfrom \\xf0\\x9f\\...\n",
              "21976  b\"We are looking for ICY SNOW , SANDSTORM .\\nI...\n",
              "21977  b'Make #MONEY from #home through PC #APP \\nMak...\n",
              "21978  b'#Earn Money from #home through PC #APP\\nwith...\n",
              "\n",
              "[21979 rows x 1 columns]"
            ]
          },
          "execution_count": 13,
          "metadata": {},
          "output_type": "execute_result"
        }
      ],
      "source": [
        "dataset"
      ]
    },
    {
      "cell_type": "code",
      "execution_count": 14,
      "metadata": {},
      "outputs": [
        {
          "data": {
            "text/html": [
              "<div>\n",
              "<style scoped>\n",
              "    .dataframe tbody tr th:only-of-type {\n",
              "        vertical-align: middle;\n",
              "    }\n",
              "\n",
              "    .dataframe tbody tr th {\n",
              "        vertical-align: top;\n",
              "    }\n",
              "\n",
              "    .dataframe thead th {\n",
              "        text-align: right;\n",
              "    }\n",
              "</style>\n",
              "<table border=\"1\" class=\"dataframe\">\n",
              "  <thead>\n",
              "    <tr style=\"text-align: right;\">\n",
              "      <th></th>\n",
              "      <th>Text</th>\n",
              "    </tr>\n",
              "  </thead>\n",
              "  <tbody>\n",
              "    <tr>\n",
              "      <th>0</th>\n",
              "      <td>b'Joined UAE Minister &amp;amp; President-Designat...</td>\n",
              "    </tr>\n",
              "    <tr>\n",
              "      <th>1</th>\n",
              "      <td>b'Foreign Secretary @AmbVMKwatra participated ...</td>\n",
              "    </tr>\n",
              "    <tr>\n",
              "      <th>2</th>\n",
              "      <td>b'As the UAE marks National Environment Day, w...</td>\n",
              "    </tr>\n",
              "    <tr>\n",
              "      <th>3</th>\n",
              "      <td>b'RT @KhalifaAlgaz: Did you know that the UAE ...</td>\n",
              "    </tr>\n",
              "    <tr>\n",
              "      <th>4</th>\n",
              "      <td>b'RT @tawhidChtioui: \\xf0\\x9f\\x9b\\xb0\\xef\\xb8\\...</td>\n",
              "    </tr>\n",
              "    <tr>\n",
              "      <th>...</th>\n",
              "      <td>...</td>\n",
              "    </tr>\n",
              "    <tr>\n",
              "      <th>21888</th>\n",
              "      <td>b'@m_ut67 @modgovae @Forsan_UAE Dear sir pleas...</td>\n",
              "    </tr>\n",
              "    <tr>\n",
              "      <th>21889</th>\n",
              "      <td>b'@UAE_BARQ Dear sir please my help you sir my...</td>\n",
              "    </tr>\n",
              "    <tr>\n",
              "      <th>21890</th>\n",
              "      <td>b'@UAE_BARQ Dear sir please my help you sir my...</td>\n",
              "    </tr>\n",
              "    <tr>\n",
              "      <th>21915</th>\n",
              "      <td>b\"#PhonePe launched a service on Tuesday that ...</td>\n",
              "    </tr>\n",
              "    <tr>\n",
              "      <th>21962</th>\n",
              "      <td>b'@WeLoveIndia7 Saudi k log bhikhari h ? \\nIn ...</td>\n",
              "    </tr>\n",
              "  </tbody>\n",
              "</table>\n",
              "<p>5878 rows × 1 columns</p>\n",
              "</div>"
            ],
            "text/plain": [
              "                                                    Text\n",
              "0      b'Joined UAE Minister &amp; President-Designat...\n",
              "1      b'Foreign Secretary @AmbVMKwatra participated ...\n",
              "2      b'As the UAE marks National Environment Day, w...\n",
              "3      b'RT @KhalifaAlgaz: Did you know that the UAE ...\n",
              "4      b'RT @tawhidChtioui: \\xf0\\x9f\\x9b\\xb0\\xef\\xb8\\...\n",
              "...                                                  ...\n",
              "21888  b'@m_ut67 @modgovae @Forsan_UAE Dear sir pleas...\n",
              "21889  b'@UAE_BARQ Dear sir please my help you sir my...\n",
              "21890  b'@UAE_BARQ Dear sir please my help you sir my...\n",
              "21915  b\"#PhonePe launched a service on Tuesday that ...\n",
              "21962  b'@WeLoveIndia7 Saudi k log bhikhari h ? \\nIn ...\n",
              "\n",
              "[5878 rows x 1 columns]"
            ]
          },
          "execution_count": 14,
          "metadata": {},
          "output_type": "execute_result"
        }
      ],
      "source": [
        "updated_dataset = dataset.drop_duplicates().copy()\n",
        "updated_dataset"
      ]
    },
    {
      "cell_type": "markdown",
      "metadata": {},
      "source": [
        "### Removing URLs, @'s and hashtags"
      ]
    },
    {
      "cell_type": "code",
      "execution_count": 15,
      "metadata": {},
      "outputs": [
        {
          "data": {
            "text/plain": [
              "0    b'Joined UAE Minister &amp; President-Designat...\n",
              "1    b'Foreign Secretary  participated in a meeting...\n",
              "2    b'As the UAE marks National Environment Day, w...\n",
              "3    b'RT  Did you know that the UAE is developing ...\n",
              "4    b'RT  \\xf0\\x9f\\x9b\\xb0\\xef\\xb8\\x8f UAE lunar r...\n",
              "Name: Cleaned Text, dtype: object"
            ]
          },
          "execution_count": 15,
          "metadata": {},
          "output_type": "execute_result"
        }
      ],
      "source": [
        "tweets = updated_dataset['Text'].copy()\n",
        "updated_dataset['Cleaned Text'] = tweets.str.replace(\n",
        "    r'@[^\\s]+|#[^\\s]+|https?:\\/\\/\\S+|www\\.\\S+', '', regex=True)\n",
        "updated_dataset['Cleaned Text'].head()\n"
      ]
    },
    {
      "cell_type": "markdown",
      "metadata": {},
      "source": [
        "### Removing Duplicates again"
      ]
    },
    {
      "cell_type": "code",
      "execution_count": 16,
      "metadata": {},
      "outputs": [
        {
          "data": {
            "text/plain": [
              "(5878, 2)"
            ]
          },
          "execution_count": 16,
          "metadata": {},
          "output_type": "execute_result"
        }
      ],
      "source": [
        "#updated_dataset = updated_dataset.drop('Text', axis=1)\n",
        "updated_dataset = updated_dataset.drop_duplicates()\n",
        "updated_dataset.shape\n"
      ]
    },
    {
      "cell_type": "code",
      "execution_count": 17,
      "metadata": {},
      "outputs": [],
      "source": [
        "updated_dataset.to_csv('updated-dataset.csv')\n"
      ]
    },
    {
      "cell_type": "code",
      "execution_count": 18,
      "metadata": {},
      "outputs": [
        {
          "data": {
            "text/html": [
              "<div>\n",
              "<style scoped>\n",
              "    .dataframe tbody tr th:only-of-type {\n",
              "        vertical-align: middle;\n",
              "    }\n",
              "\n",
              "    .dataframe tbody tr th {\n",
              "        vertical-align: top;\n",
              "    }\n",
              "\n",
              "    .dataframe thead th {\n",
              "        text-align: right;\n",
              "    }\n",
              "</style>\n",
              "<table border=\"1\" class=\"dataframe\">\n",
              "  <thead>\n",
              "    <tr style=\"text-align: right;\">\n",
              "      <th></th>\n",
              "      <th>Text</th>\n",
              "      <th>Cleaned Text</th>\n",
              "    </tr>\n",
              "  </thead>\n",
              "  <tbody>\n",
              "    <tr>\n",
              "      <th>0</th>\n",
              "      <td>b'Joined UAE Minister &amp;amp; President-Designat...</td>\n",
              "      <td>b'Joined UAE Minister &amp;amp; President-Designat...</td>\n",
              "    </tr>\n",
              "    <tr>\n",
              "      <th>1</th>\n",
              "      <td>b'Foreign Secretary @AmbVMKwatra participated ...</td>\n",
              "      <td>b'Foreign Secretary  participated in a meeting...</td>\n",
              "    </tr>\n",
              "    <tr>\n",
              "      <th>2</th>\n",
              "      <td>b'As the UAE marks National Environment Day, w...</td>\n",
              "      <td>b'As the UAE marks National Environment Day, w...</td>\n",
              "    </tr>\n",
              "    <tr>\n",
              "      <th>3</th>\n",
              "      <td>b'RT @KhalifaAlgaz: Did you know that the UAE ...</td>\n",
              "      <td>b'RT  Did you know that the UAE is developing ...</td>\n",
              "    </tr>\n",
              "    <tr>\n",
              "      <th>4</th>\n",
              "      <td>b'RT @tawhidChtioui: \\xf0\\x9f\\x9b\\xb0\\xef\\xb8\\...</td>\n",
              "      <td>b'RT  \\xf0\\x9f\\x9b\\xb0\\xef\\xb8\\x8f UAE lunar r...</td>\n",
              "    </tr>\n",
              "    <tr>\n",
              "      <th>...</th>\n",
              "      <td>...</td>\n",
              "      <td>...</td>\n",
              "    </tr>\n",
              "    <tr>\n",
              "      <th>21888</th>\n",
              "      <td>b'@m_ut67 @modgovae @Forsan_UAE Dear sir pleas...</td>\n",
              "      <td>b'   Dear sir please my help you sir my two ki...</td>\n",
              "    </tr>\n",
              "    <tr>\n",
              "      <th>21889</th>\n",
              "      <td>b'@UAE_BARQ Dear sir please my help you sir my...</td>\n",
              "      <td>b' Dear sir please my help you sir my two kidn...</td>\n",
              "    </tr>\n",
              "    <tr>\n",
              "      <th>21890</th>\n",
              "      <td>b'@UAE_BARQ Dear sir please my help you sir my...</td>\n",
              "      <td>b' Dear sir please my help you sir my two kidn...</td>\n",
              "    </tr>\n",
              "    <tr>\n",
              "      <th>21915</th>\n",
              "      <td>b\"#PhonePe launched a service on Tuesday that ...</td>\n",
              "      <td>b\" launched a service on Tuesday that will all...</td>\n",
              "    </tr>\n",
              "    <tr>\n",
              "      <th>21962</th>\n",
              "      <td>b'@WeLoveIndia7 Saudi k log bhikhari h ? \\nIn ...</td>\n",
              "      <td>b' Saudi k log bhikhari h ? \\nIn Middle East, ...</td>\n",
              "    </tr>\n",
              "  </tbody>\n",
              "</table>\n",
              "<p>5878 rows × 2 columns</p>\n",
              "</div>"
            ],
            "text/plain": [
              "                                                    Text  \\\n",
              "0      b'Joined UAE Minister &amp; President-Designat...   \n",
              "1      b'Foreign Secretary @AmbVMKwatra participated ...   \n",
              "2      b'As the UAE marks National Environment Day, w...   \n",
              "3      b'RT @KhalifaAlgaz: Did you know that the UAE ...   \n",
              "4      b'RT @tawhidChtioui: \\xf0\\x9f\\x9b\\xb0\\xef\\xb8\\...   \n",
              "...                                                  ...   \n",
              "21888  b'@m_ut67 @modgovae @Forsan_UAE Dear sir pleas...   \n",
              "21889  b'@UAE_BARQ Dear sir please my help you sir my...   \n",
              "21890  b'@UAE_BARQ Dear sir please my help you sir my...   \n",
              "21915  b\"#PhonePe launched a service on Tuesday that ...   \n",
              "21962  b'@WeLoveIndia7 Saudi k log bhikhari h ? \\nIn ...   \n",
              "\n",
              "                                            Cleaned Text  \n",
              "0      b'Joined UAE Minister &amp; President-Designat...  \n",
              "1      b'Foreign Secretary  participated in a meeting...  \n",
              "2      b'As the UAE marks National Environment Day, w...  \n",
              "3      b'RT  Did you know that the UAE is developing ...  \n",
              "4      b'RT  \\xf0\\x9f\\x9b\\xb0\\xef\\xb8\\x8f UAE lunar r...  \n",
              "...                                                  ...  \n",
              "21888  b'   Dear sir please my help you sir my two ki...  \n",
              "21889  b' Dear sir please my help you sir my two kidn...  \n",
              "21890  b' Dear sir please my help you sir my two kidn...  \n",
              "21915  b\" launched a service on Tuesday that will all...  \n",
              "21962  b' Saudi k log bhikhari h ? \\nIn Middle East, ...  \n",
              "\n",
              "[5878 rows x 2 columns]"
            ]
          },
          "execution_count": 18,
          "metadata": {},
          "output_type": "execute_result"
        }
      ],
      "source": [
        "updated_dataset = pd.read_csv('updated-dataset.csv', index_col=0)\n",
        "updated_dataset\n"
      ]
    },
    {
      "cell_type": "markdown",
      "metadata": {},
      "source": [
        "# Data Labelling\n"
      ]
    },
    {
      "cell_type": "markdown",
      "metadata": {},
      "source": [
        "### TextBlob"
      ]
    },
    {
      "cell_type": "markdown",
      "metadata": {},
      "source": [
        "For data labelling, we decided to use first use TextBlob. TextBlob calculates the subjectivity and polarity of a text to classify the text as 'Positive', 'Negative' or 'Neutral'"
      ]
    },
    {
      "cell_type": "code",
      "execution_count": 19,
      "metadata": {},
      "outputs": [],
      "source": [
        "# %pip install TextBlob"
      ]
    },
    {
      "cell_type": "code",
      "execution_count": 20,
      "metadata": {},
      "outputs": [],
      "source": [
        "# Function to get subjectivity\n",
        "def getSubjectivity(text):\n",
        "    return TextBlob(text).sentiment.subjectivity\n",
        "\n",
        "\n",
        "# Function to get the polarity\n",
        "def getPolarity(text):\n",
        "    return TextBlob(text).sentiment.polarity\n",
        "\n",
        "\n",
        "# Create two new columns ‘Subjectivity’ & ‘Polarity’\n",
        "updated_dataset['TextBlob Subjectivity'] = updated_dataset['Cleaned Text'].apply(\n",
        "    getSubjectivity)\n",
        "updated_dataset['TextBlob Polarity'] = updated_dataset['Cleaned Text'].apply(\n",
        "    getPolarity)\n",
        "\n",
        "\n",
        "def getAnalysis(score):\n",
        "    if score < 0:\n",
        "        return 'Negative'\n",
        "    elif score == 0:\n",
        "        return 'Neutral'\n",
        "    else:\n",
        "        return 'Positive'\n",
        "\n",
        "\n",
        "updated_dataset['TextBlob Sentiment'] = updated_dataset['TextBlob Polarity'].apply(\n",
        "    getAnalysis)\n"
      ]
    },
    {
      "cell_type": "code",
      "execution_count": 21,
      "metadata": {},
      "outputs": [
        {
          "data": {
            "text/plain": [
              "Positive    2783\n",
              "Neutral     2576\n",
              "Negative     519\n",
              "Name: TextBlob Sentiment, dtype: int64"
            ]
          },
          "execution_count": 21,
          "metadata": {},
          "output_type": "execute_result"
        }
      ],
      "source": [
        "updated_dataset['TextBlob Sentiment'].value_counts()\n"
      ]
    },
    {
      "cell_type": "markdown",
      "metadata": {},
      "source": [
        "It can be observed that TextBlob classified the majority of tweets to be Positive. To compare, we also decided to use Vader as well to observe if there was a major difference in classification."
      ]
    },
    {
      "cell_type": "markdown",
      "metadata": {},
      "source": [
        "### Vader"
      ]
    },
    {
      "cell_type": "code",
      "execution_count": 22,
      "metadata": {},
      "outputs": [],
      "source": [
        "# %pip install vaderSentiment\n"
      ]
    },
    {
      "cell_type": "code",
      "execution_count": 23,
      "metadata": {},
      "outputs": [],
      "source": [
        "sentiment = SentimentIntensityAnalyzer()\n",
        "\n",
        "\n",
        "def getSentiment(text):\n",
        "    return sentiment.polarity_scores(text)\n",
        "\n",
        "\n",
        "updated_dataset['Vader Analysis'] = updated_dataset['Cleaned Text'].apply(\n",
        "    getSentiment)\n",
        "\n",
        "\n",
        "def sentimentAnalysis(sentiment_dict):\n",
        "    if sentiment_dict['compound'] >= 0.05:\n",
        "        return 'Positive'\n",
        "    elif sentiment_dict['compound'] <= -0.05:\n",
        "        return 'Negative'\n",
        "    else:\n",
        "        return 'Neutral'\n",
        "\n",
        "\n",
        "updated_dataset['Vader Sentiment'] = updated_dataset['Vader Analysis'].apply(\n",
        "    sentimentAnalysis)\n"
      ]
    },
    {
      "cell_type": "code",
      "execution_count": 24,
      "metadata": {},
      "outputs": [
        {
          "data": {
            "text/html": [
              "<div>\n",
              "<style scoped>\n",
              "    .dataframe tbody tr th:only-of-type {\n",
              "        vertical-align: middle;\n",
              "    }\n",
              "\n",
              "    .dataframe tbody tr th {\n",
              "        vertical-align: top;\n",
              "    }\n",
              "\n",
              "    .dataframe thead th {\n",
              "        text-align: right;\n",
              "    }\n",
              "</style>\n",
              "<table border=\"1\" class=\"dataframe\">\n",
              "  <thead>\n",
              "    <tr style=\"text-align: right;\">\n",
              "      <th></th>\n",
              "      <th>Vader Analysis</th>\n",
              "      <th>Vader Sentiment</th>\n",
              "    </tr>\n",
              "  </thead>\n",
              "  <tbody>\n",
              "    <tr>\n",
              "      <th>0</th>\n",
              "      <td>{'neg': 0.0, 'neu': 0.638, 'pos': 0.362, 'comp...</td>\n",
              "      <td>Positive</td>\n",
              "    </tr>\n",
              "    <tr>\n",
              "      <th>1</th>\n",
              "      <td>{'neg': 0.0, 'neu': 0.816, 'pos': 0.184, 'comp...</td>\n",
              "      <td>Positive</td>\n",
              "    </tr>\n",
              "    <tr>\n",
              "      <th>2</th>\n",
              "      <td>{'neg': 0.0, 'neu': 0.766, 'pos': 0.234, 'comp...</td>\n",
              "      <td>Positive</td>\n",
              "    </tr>\n",
              "    <tr>\n",
              "      <th>3</th>\n",
              "      <td>{'neg': 0.0, 'neu': 0.874, 'pos': 0.126, 'comp...</td>\n",
              "      <td>Positive</td>\n",
              "    </tr>\n",
              "    <tr>\n",
              "      <th>4</th>\n",
              "      <td>{'neg': 0.0, 'neu': 0.819, 'pos': 0.181, 'comp...</td>\n",
              "      <td>Positive</td>\n",
              "    </tr>\n",
              "    <tr>\n",
              "      <th>...</th>\n",
              "      <td>...</td>\n",
              "      <td>...</td>\n",
              "    </tr>\n",
              "    <tr>\n",
              "      <th>21888</th>\n",
              "      <td>{'neg': 0.073, 'neu': 0.726, 'pos': 0.202, 'co...</td>\n",
              "      <td>Positive</td>\n",
              "    </tr>\n",
              "    <tr>\n",
              "      <th>21889</th>\n",
              "      <td>{'neg': 0.073, 'neu': 0.726, 'pos': 0.202, 'co...</td>\n",
              "      <td>Positive</td>\n",
              "    </tr>\n",
              "    <tr>\n",
              "      <th>21890</th>\n",
              "      <td>{'neg': 0.074, 'neu': 0.719, 'pos': 0.206, 'co...</td>\n",
              "      <td>Positive</td>\n",
              "    </tr>\n",
              "    <tr>\n",
              "      <th>21915</th>\n",
              "      <td>{'neg': 0.043, 'neu': 0.774, 'pos': 0.183, 'co...</td>\n",
              "      <td>Positive</td>\n",
              "    </tr>\n",
              "    <tr>\n",
              "      <th>21962</th>\n",
              "      <td>{'neg': 0.196, 'neu': 0.777, 'pos': 0.028, 'co...</td>\n",
              "      <td>Negative</td>\n",
              "    </tr>\n",
              "  </tbody>\n",
              "</table>\n",
              "<p>5878 rows × 2 columns</p>\n",
              "</div>"
            ],
            "text/plain": [
              "                                          Vader Analysis Vader Sentiment\n",
              "0      {'neg': 0.0, 'neu': 0.638, 'pos': 0.362, 'comp...        Positive\n",
              "1      {'neg': 0.0, 'neu': 0.816, 'pos': 0.184, 'comp...        Positive\n",
              "2      {'neg': 0.0, 'neu': 0.766, 'pos': 0.234, 'comp...        Positive\n",
              "3      {'neg': 0.0, 'neu': 0.874, 'pos': 0.126, 'comp...        Positive\n",
              "4      {'neg': 0.0, 'neu': 0.819, 'pos': 0.181, 'comp...        Positive\n",
              "...                                                  ...             ...\n",
              "21888  {'neg': 0.073, 'neu': 0.726, 'pos': 0.202, 'co...        Positive\n",
              "21889  {'neg': 0.073, 'neu': 0.726, 'pos': 0.202, 'co...        Positive\n",
              "21890  {'neg': 0.074, 'neu': 0.719, 'pos': 0.206, 'co...        Positive\n",
              "21915  {'neg': 0.043, 'neu': 0.774, 'pos': 0.183, 'co...        Positive\n",
              "21962  {'neg': 0.196, 'neu': 0.777, 'pos': 0.028, 'co...        Negative\n",
              "\n",
              "[5878 rows x 2 columns]"
            ]
          },
          "execution_count": 24,
          "metadata": {},
          "output_type": "execute_result"
        }
      ],
      "source": [
        "updated_dataset[['Vader Analysis', 'Vader Sentiment']]\n"
      ]
    },
    {
      "cell_type": "code",
      "execution_count": 25,
      "metadata": {},
      "outputs": [
        {
          "data": {
            "text/plain": [
              "Positive    3604\n",
              "Neutral     1890\n",
              "Negative     384\n",
              "Name: Vader Sentiment, dtype: int64"
            ]
          },
          "execution_count": 25,
          "metadata": {},
          "output_type": "execute_result"
        }
      ],
      "source": [
        "updated_dataset['Vader Sentiment'].value_counts()\n"
      ]
    },
    {
      "cell_type": "markdown",
      "metadata": {},
      "source": [
        "## Analysis between Vader and TextBlob\n",
        "\n",
        "\n",
        "| Data Labelling Method      | Positive Label | Negative Label | Neutral Label |\n",
        "| ----------- | ----------- | ----------- | ----------- |\n",
        "| TextBlob      | 2643   (49%)   |479  (8.9%)| 2276 (42.1%)|\n",
        "| Vader   | 3335  (61.8%)      | 372 (6.9%) | 1691 (31.3%)|\n",
        "\n",
        "From the summary table, we can observe that the negatively labelled tweets stay within a 2% difference of each other, regardless of the data labelling method. However, the positive and neutral label differ by 10%."
      ]
    },
    {
      "cell_type": "code",
      "execution_count": 26,
      "metadata": {},
      "outputs": [],
      "source": [
        "# Creating a csv of tweets with conflicting sentiments\n",
        "unclearTweets = updated_dataset.loc[(\n",
        "    updated_dataset['Vader Sentiment'] != updated_dataset['TextBlob Sentiment'])]\n",
        "unclearTweets.to_csv('ConflictingLabels.csv')\n"
      ]
    },
    {
      "cell_type": "code",
      "execution_count": 27,
      "metadata": {},
      "outputs": [
        {
          "data": {
            "text/html": [
              "<div>\n",
              "<style scoped>\n",
              "    .dataframe tbody tr th:only-of-type {\n",
              "        vertical-align: middle;\n",
              "    }\n",
              "\n",
              "    .dataframe tbody tr th {\n",
              "        vertical-align: top;\n",
              "    }\n",
              "\n",
              "    .dataframe thead th {\n",
              "        text-align: right;\n",
              "    }\n",
              "</style>\n",
              "<table border=\"1\" class=\"dataframe\">\n",
              "  <thead>\n",
              "    <tr style=\"text-align: right;\">\n",
              "      <th></th>\n",
              "      <th>Text</th>\n",
              "      <th>Cleaned Text</th>\n",
              "      <th>TextBlob Subjectivity</th>\n",
              "      <th>TextBlob Polarity</th>\n",
              "      <th>TextBlob Sentiment</th>\n",
              "      <th>Vader Analysis</th>\n",
              "      <th>Vader Sentiment</th>\n",
              "    </tr>\n",
              "  </thead>\n",
              "  <tbody>\n",
              "    <tr>\n",
              "      <th>1</th>\n",
              "      <td>b'Foreign Secretary @AmbVMKwatra participated ...</td>\n",
              "      <td>b'Foreign Secretary  participated in a meeting...</td>\n",
              "      <td>0.562500</td>\n",
              "      <td>-0.062500</td>\n",
              "      <td>Negative</td>\n",
              "      <td>{'neg': 0.0, 'neu': 0.816, 'pos': 0.184, 'comp...</td>\n",
              "      <td>Positive</td>\n",
              "    </tr>\n",
              "    <tr>\n",
              "      <th>3</th>\n",
              "      <td>b'RT @KhalifaAlgaz: Did you know that the UAE ...</td>\n",
              "      <td>b'RT  Did you know that the UAE is developing ...</td>\n",
              "      <td>0.000000</td>\n",
              "      <td>0.000000</td>\n",
              "      <td>Neutral</td>\n",
              "      <td>{'neg': 0.0, 'neu': 0.874, 'pos': 0.126, 'comp...</td>\n",
              "      <td>Positive</td>\n",
              "    </tr>\n",
              "    <tr>\n",
              "      <th>4</th>\n",
              "      <td>b'RT @tawhidChtioui: \\xf0\\x9f\\x9b\\xb0\\xef\\xb8\\...</td>\n",
              "      <td>b'RT  \\xf0\\x9f\\x9b\\xb0\\xef\\xb8\\x8f UAE lunar r...</td>\n",
              "      <td>1.000000</td>\n",
              "      <td>-0.600000</td>\n",
              "      <td>Negative</td>\n",
              "      <td>{'neg': 0.0, 'neu': 0.819, 'pos': 0.181, 'comp...</td>\n",
              "      <td>Positive</td>\n",
              "    </tr>\n",
              "    <tr>\n",
              "      <th>10</th>\n",
              "      <td>b'RT @GrapheneCouncil: UK BUSINESS SECRETARY P...</td>\n",
              "      <td>b'RT  UK BUSINESS SECRETARY PRAISES UK-UAE GRA...</td>\n",
              "      <td>0.000000</td>\n",
              "      <td>0.000000</td>\n",
              "      <td>Neutral</td>\n",
              "      <td>{'neg': 0.0, 'neu': 0.484, 'pos': 0.516, 'comp...</td>\n",
              "      <td>Positive</td>\n",
              "    </tr>\n",
              "    <tr>\n",
              "      <th>14</th>\n",
              "      <td>b'RT @UAE_Forsan: As host of COP28, UAE is com...</td>\n",
              "      <td>b'RT  As host of COP28, UAE is committed to le...</td>\n",
              "      <td>0.125000</td>\n",
              "      <td>0.000000</td>\n",
              "      <td>Neutral</td>\n",
              "      <td>{'neg': 0.0, 'neu': 0.817, 'pos': 0.183, 'comp...</td>\n",
              "      <td>Positive</td>\n",
              "    </tr>\n",
              "    <tr>\n",
              "      <th>...</th>\n",
              "      <td>...</td>\n",
              "      <td>...</td>\n",
              "      <td>...</td>\n",
              "      <td>...</td>\n",
              "      <td>...</td>\n",
              "      <td>...</td>\n",
              "      <td>...</td>\n",
              "    </tr>\n",
              "    <tr>\n",
              "      <th>21888</th>\n",
              "      <td>b'@m_ut67 @modgovae @Forsan_UAE Dear sir pleas...</td>\n",
              "      <td>b'   Dear sir please my help you sir my two ki...</td>\n",
              "      <td>0.100000</td>\n",
              "      <td>0.000000</td>\n",
              "      <td>Neutral</td>\n",
              "      <td>{'neg': 0.073, 'neu': 0.726, 'pos': 0.202, 'co...</td>\n",
              "      <td>Positive</td>\n",
              "    </tr>\n",
              "    <tr>\n",
              "      <th>21889</th>\n",
              "      <td>b'@UAE_BARQ Dear sir please my help you sir my...</td>\n",
              "      <td>b' Dear sir please my help you sir my two kidn...</td>\n",
              "      <td>0.100000</td>\n",
              "      <td>0.000000</td>\n",
              "      <td>Neutral</td>\n",
              "      <td>{'neg': 0.073, 'neu': 0.726, 'pos': 0.202, 'co...</td>\n",
              "      <td>Positive</td>\n",
              "    </tr>\n",
              "    <tr>\n",
              "      <th>21890</th>\n",
              "      <td>b'@UAE_BARQ Dear sir please my help you sir my...</td>\n",
              "      <td>b' Dear sir please my help you sir my two kidn...</td>\n",
              "      <td>0.100000</td>\n",
              "      <td>0.000000</td>\n",
              "      <td>Neutral</td>\n",
              "      <td>{'neg': 0.074, 'neu': 0.719, 'pos': 0.206, 'co...</td>\n",
              "      <td>Positive</td>\n",
              "    </tr>\n",
              "    <tr>\n",
              "      <th>21915</th>\n",
              "      <td>b\"#PhonePe launched a service on Tuesday that ...</td>\n",
              "      <td>b\" launched a service on Tuesday that will all...</td>\n",
              "      <td>0.062500</td>\n",
              "      <td>-0.062500</td>\n",
              "      <td>Negative</td>\n",
              "      <td>{'neg': 0.043, 'neu': 0.774, 'pos': 0.183, 'co...</td>\n",
              "      <td>Positive</td>\n",
              "    </tr>\n",
              "    <tr>\n",
              "      <th>21962</th>\n",
              "      <td>b'@WeLoveIndia7 Saudi k log bhikhari h ? \\nIn ...</td>\n",
              "      <td>b' Saudi k log bhikhari h ? \\nIn Middle East, ...</td>\n",
              "      <td>0.333333</td>\n",
              "      <td>0.333333</td>\n",
              "      <td>Positive</td>\n",
              "      <td>{'neg': 0.196, 'neu': 0.777, 'pos': 0.028, 'co...</td>\n",
              "      <td>Negative</td>\n",
              "    </tr>\n",
              "  </tbody>\n",
              "</table>\n",
              "<p>2490 rows × 7 columns</p>\n",
              "</div>"
            ],
            "text/plain": [
              "                                                    Text  \\\n",
              "1      b'Foreign Secretary @AmbVMKwatra participated ...   \n",
              "3      b'RT @KhalifaAlgaz: Did you know that the UAE ...   \n",
              "4      b'RT @tawhidChtioui: \\xf0\\x9f\\x9b\\xb0\\xef\\xb8\\...   \n",
              "10     b'RT @GrapheneCouncil: UK BUSINESS SECRETARY P...   \n",
              "14     b'RT @UAE_Forsan: As host of COP28, UAE is com...   \n",
              "...                                                  ...   \n",
              "21888  b'@m_ut67 @modgovae @Forsan_UAE Dear sir pleas...   \n",
              "21889  b'@UAE_BARQ Dear sir please my help you sir my...   \n",
              "21890  b'@UAE_BARQ Dear sir please my help you sir my...   \n",
              "21915  b\"#PhonePe launched a service on Tuesday that ...   \n",
              "21962  b'@WeLoveIndia7 Saudi k log bhikhari h ? \\nIn ...   \n",
              "\n",
              "                                            Cleaned Text  \\\n",
              "1      b'Foreign Secretary  participated in a meeting...   \n",
              "3      b'RT  Did you know that the UAE is developing ...   \n",
              "4      b'RT  \\xf0\\x9f\\x9b\\xb0\\xef\\xb8\\x8f UAE lunar r...   \n",
              "10     b'RT  UK BUSINESS SECRETARY PRAISES UK-UAE GRA...   \n",
              "14     b'RT  As host of COP28, UAE is committed to le...   \n",
              "...                                                  ...   \n",
              "21888  b'   Dear sir please my help you sir my two ki...   \n",
              "21889  b' Dear sir please my help you sir my two kidn...   \n",
              "21890  b' Dear sir please my help you sir my two kidn...   \n",
              "21915  b\" launched a service on Tuesday that will all...   \n",
              "21962  b' Saudi k log bhikhari h ? \\nIn Middle East, ...   \n",
              "\n",
              "       TextBlob Subjectivity  TextBlob Polarity TextBlob Sentiment  \\\n",
              "1                   0.562500          -0.062500           Negative   \n",
              "3                   0.000000           0.000000            Neutral   \n",
              "4                   1.000000          -0.600000           Negative   \n",
              "10                  0.000000           0.000000            Neutral   \n",
              "14                  0.125000           0.000000            Neutral   \n",
              "...                      ...                ...                ...   \n",
              "21888               0.100000           0.000000            Neutral   \n",
              "21889               0.100000           0.000000            Neutral   \n",
              "21890               0.100000           0.000000            Neutral   \n",
              "21915               0.062500          -0.062500           Negative   \n",
              "21962               0.333333           0.333333           Positive   \n",
              "\n",
              "                                          Vader Analysis Vader Sentiment  \n",
              "1      {'neg': 0.0, 'neu': 0.816, 'pos': 0.184, 'comp...        Positive  \n",
              "3      {'neg': 0.0, 'neu': 0.874, 'pos': 0.126, 'comp...        Positive  \n",
              "4      {'neg': 0.0, 'neu': 0.819, 'pos': 0.181, 'comp...        Positive  \n",
              "10     {'neg': 0.0, 'neu': 0.484, 'pos': 0.516, 'comp...        Positive  \n",
              "14     {'neg': 0.0, 'neu': 0.817, 'pos': 0.183, 'comp...        Positive  \n",
              "...                                                  ...             ...  \n",
              "21888  {'neg': 0.073, 'neu': 0.726, 'pos': 0.202, 'co...        Positive  \n",
              "21889  {'neg': 0.073, 'neu': 0.726, 'pos': 0.202, 'co...        Positive  \n",
              "21890  {'neg': 0.074, 'neu': 0.719, 'pos': 0.206, 'co...        Positive  \n",
              "21915  {'neg': 0.043, 'neu': 0.774, 'pos': 0.183, 'co...        Positive  \n",
              "21962  {'neg': 0.196, 'neu': 0.777, 'pos': 0.028, 'co...        Negative  \n",
              "\n",
              "[2490 rows x 7 columns]"
            ]
          },
          "execution_count": 27,
          "metadata": {},
          "output_type": "execute_result"
        }
      ],
      "source": [
        "unclearTweets\n"
      ]
    },
    {
      "cell_type": "markdown",
      "metadata": {},
      "source": [
        "After manually reviewing the differences in labels, it seems that the TextBlob sentiment labelling is more accurate."
      ]
    },
    {
      "cell_type": "markdown",
      "metadata": {},
      "source": [
        "# Data Preprocessing"
      ]
    },
    {
      "cell_type": "markdown",
      "metadata": {},
      "source": [
        "## Additional Data Cleaning"
      ]
    },
    {
      "cell_type": "markdown",
      "metadata": {},
      "source": [
        "### Removing Non-English Characters"
      ]
    },
    {
      "cell_type": "code",
      "execution_count": 28,
      "metadata": {},
      "outputs": [
        {
          "data": {
            "text/plain": [
              "0    b'joined uae minister &amp; president-designat...\n",
              "1    b'foreign secretary  participated in a meeting...\n",
              "2    b'as the uae marks national environment day, w...\n",
              "3    b'rt  did you know that the uae is developing ...\n",
              "4    b'rt   uae lunar rover will test 1st artificia...\n",
              "Name: Cleaned Text, dtype: object"
            ]
          },
          "execution_count": 28,
          "metadata": {},
          "output_type": "execute_result"
        }
      ],
      "source": [
        "def nonenglish(tweet):\n",
        "    # tweets in different language changed to hex code \\xhh\n",
        "    tweet = re.sub(r'\\\\x[a-zA-Z0-9]+', '', tweet)\n",
        "    tweet = re.sub(r'\\\\n', '', tweet)  # removing new line character as well\n",
        "    return tweet\n",
        "\n",
        "\n",
        "updated_dataset['Cleaned Text'] = updated_dataset['Cleaned Text'].apply(\n",
        "    lambda tweet: nonenglish(tweet).lower())\n",
        "updated_dataset['Cleaned Text'].head()\n"
      ]
    },
    {
      "cell_type": "markdown",
      "metadata": {},
      "source": [
        "### Removing Stopwords"
      ]
    },
    {
      "cell_type": "code",
      "execution_count": 29,
      "metadata": {},
      "outputs": [
        {
          "data": {
            "text/plain": [
              "0    b'joined uae minister &amp; president-designat...\n",
              "1    b'foreign secretary  participated meeting foca...\n",
              "2    b'as uae marks national environment day, remai...\n",
              "3    b'rt  did know uae developing arabic chatgpt u...\n",
              "4    b'rt   uae lunar rover test 1st artificial int...\n",
              "Name: Cleaned Text, dtype: object"
            ]
          },
          "execution_count": 29,
          "metadata": {},
          "output_type": "execute_result"
        }
      ],
      "source": [
        "# contains 318 stopwords, including but not limited to articles and prepositions\n",
        "stopwords = text.ENGLISH_STOP_WORDS\n",
        "updated_dataset['Cleaned Text'] = updated_dataset['Cleaned Text'].apply(\n",
        "    lambda tweet: ' '.join([text for text in tweet.split(' ') if text not in stopwords]))\n",
        "updated_dataset['Cleaned Text'].head()\n"
      ]
    },
    {
      "cell_type": "markdown",
      "metadata": {},
      "source": [
        "### Removing Symbols and Punctuations"
      ]
    },
    {
      "cell_type": "code",
      "execution_count": 30,
      "metadata": {},
      "outputs": [
        {
          "name": "stdout",
          "output_type": "stream",
          "text": [
            "!\"#$%&'()*+,-./:;<=>?@[\\]^_`{|}~\n"
          ]
        },
        {
          "data": {
            "text/plain": [
              "0    bjoined uae minister amp presidentdesignate  d...\n",
              "1    bforeign secretary  participated meeting focal...\n",
              "2    bas uae marks national environment day remain ...\n",
              "3    brt  did know uae developing arabic chatgpt us...\n",
              "4    brt   uae lunar rover test 1st artificial inte...\n",
              "Name: Cleaned Text, dtype: object"
            ]
          },
          "execution_count": 30,
          "metadata": {},
          "output_type": "execute_result"
        }
      ],
      "source": [
        "punctuations = string.punctuation\n",
        "print(punctuations)\n",
        "\n",
        "updated_dataset['Cleaned Text'] = updated_dataset['Cleaned Text'].apply(\n",
        "    lambda tweet: tweet.translate({ord(punc): None for punc in punctuations}))\n",
        "updated_dataset['Cleaned Text'].head()\n"
      ]
    },
    {
      "cell_type": "markdown",
      "metadata": {},
      "source": [
        "### Removing Numbers"
      ]
    },
    {
      "cell_type": "code",
      "execution_count": 31,
      "metadata": {},
      "outputs": [
        {
          "data": {
            "text/plain": [
              "0    bjoined uae minister amp presidentdesignate  d...\n",
              "1    bforeign secretary  participated meeting focal...\n",
              "2    bas uae marks national environment day remain ...\n",
              "3    brt  did know uae developing arabic chatgpt us...\n",
              "4    brt   uae lunar rover test st artificial intel...\n",
              "Name: Cleaned Text, dtype: object"
            ]
          },
          "execution_count": 31,
          "metadata": {},
          "output_type": "execute_result"
        }
      ],
      "source": [
        "updated_dataset['Cleaned Text'] = updated_dataset['Cleaned Text'].apply(\n",
        "    lambda tweet: re.sub('[0-9]+', '', tweet))\n",
        "updated_dataset['Cleaned Text'].head()\n"
      ]
    },
    {
      "cell_type": "markdown",
      "metadata": {},
      "source": [
        "### Removing 'b' and 'rt'"
      ]
    },
    {
      "cell_type": "code",
      "execution_count": 32,
      "metadata": {},
      "outputs": [
        {
          "data": {
            "text/plain": [
              "0    joined uae minister amp presidentdesignate  dr...\n",
              "1    foreign secretary  participated meeting focal ...\n",
              "2    as uae marks national environment day remain c...\n",
              "3      did know uae developing arabic chatgpt using...\n",
              "4       uae lunar rover test st artificial intellig...\n",
              "Name: Cleaned Text, dtype: object"
            ]
          },
          "execution_count": 32,
          "metadata": {},
          "output_type": "execute_result"
        }
      ],
      "source": [
        "def removeb(tweet):\n",
        "    if tweet[:3] == 'brt':\n",
        "        return tweet[3:]\n",
        "    else:\n",
        "        return tweet[1:]\n",
        "updated_dataset['Cleaned Text'] = updated_dataset['Cleaned Text'].apply(\n",
        "    lambda tweet: removeb(tweet))\n",
        "updated_dataset['Cleaned Text'].head()\n"
      ]
    },
    {
      "cell_type": "markdown",
      "metadata": {},
      "source": [
        "### Tokenization"
      ]
    },
    {
      "cell_type": "code",
      "execution_count": 33,
      "metadata": {},
      "outputs": [
        {
          "data": {
            "text/plain": [
              "0    [joined, uae, minister, amp, presidentdesignat...\n",
              "1    [foreign, secretary, participated, meeting, fo...\n",
              "2    [as, uae, marks, national, environment, day, r...\n",
              "3    [did, know, uae, developing, arabic, chatgpt, ...\n",
              "4    [uae, lunar, rover, test, st, artificial, inte...\n",
              "Name: Tokenized Text, dtype: object"
            ]
          },
          "execution_count": 33,
          "metadata": {},
          "output_type": "execute_result"
        }
      ],
      "source": [
        "# as data has been completely cleaned, we can simply tokenize by converting strings to lists\n",
        "updated_dataset['Tokenized Text'] = updated_dataset['Cleaned Text'].apply(\n",
        "    lambda tweet: tweet.split())\n",
        "updated_dataset['Tokenized Text'].head()\n"
      ]
    },
    {
      "cell_type": "markdown",
      "metadata": {},
      "source": [
        "### Lemmatization"
      ]
    },
    {
      "cell_type": "code",
      "execution_count": 34,
      "metadata": {},
      "outputs": [
        {
          "data": {
            "text/plain": [
              "0    [joined, uae, minister, amp, presidentdesignat...\n",
              "1    [foreign, secretary, participated, meeting, fo...\n",
              "2    [a, uae, mark, national, environment, day, rem...\n",
              "3    [did, know, uae, developing, arabic, chatgpt, ...\n",
              "4    [uae, lunar, rover, test, st, artificial, inte...\n",
              "Name: Lemmatized Text, dtype: object"
            ]
          },
          "execution_count": 34,
          "metadata": {},
          "output_type": "execute_result"
        }
      ],
      "source": [
        "lemmatizing = WordNetLemmatizer()\n",
        "\n",
        "updated_dataset['Lemmatized Text'] = updated_dataset['Tokenized Text'].apply(\n",
        "    lambda tweet: [lemmatizing.lemmatize(text) for text in tweet])\n",
        "updated_dataset['Lemmatized Text'].head()\n"
      ]
    },
    {
      "cell_type": "markdown",
      "metadata": {},
      "source": [
        "### Stemming"
      ]
    },
    {
      "cell_type": "code",
      "execution_count": 35,
      "metadata": {},
      "outputs": [
        {
          "data": {
            "text/plain": [
              "0    [join, uae, minist, amp, presidentdesign, dr, ...\n",
              "1    [foreign, secretari, particip, meet, focal, po...\n",
              "2    [as, uae, mark, nation, environ, day, remain, ...\n",
              "3    [did, know, uae, develop, arab, chatgpt, use, ...\n",
              "4    [uae, lunar, rover, test, st, artifici, intell...\n",
              "Name: Stemmed Text, dtype: object"
            ]
          },
          "execution_count": 35,
          "metadata": {},
          "output_type": "execute_result"
        }
      ],
      "source": [
        "stem = PorterStemmer()\n",
        "updated_dataset['Stemmed Text'] = updated_dataset['Tokenized Text'].apply(\n",
        "    lambda tweet: [stem.stem(text) for text in tweet])\n",
        "updated_dataset['Stemmed Text'].head()"
      ]
    },
    {
      "cell_type": "markdown",
      "metadata": {},
      "source": [
        "### Comparing Lemmatization and Stemming"
      ]
    },
    {
      "cell_type": "code",
      "execution_count": 36,
      "metadata": {},
      "outputs": [],
      "source": [
        "# Encode TextBlob adn Vader Sentiments into numbers\n",
        "updated_dataset['Encoded_TextBlob_Sentiment'] = updated_dataset['TextBlob Sentiment'].apply(\n",
        "    lambda x: 1 if x == 'Positive' else -1 if x == 'Negative' else 0)\n",
        "\n",
        "updated_dataset['Encoded_Vader_Sentiment'] = updated_dataset['Vader Sentiment'].apply(\n",
        "    lambda x: 1 if x == 'Positive' else -1 if x == 'Negative' else 0)\n",
        "\n",
        "# resets the index numbers of the dataframe\n",
        "updated_dataset.reset_index(inplace=True, drop=True)"
      ]
    },
    {
      "cell_type": "code",
      "execution_count": 37,
      "metadata": {},
      "outputs": [],
      "source": [
        "# splitting into train/test to compare lemma and stem\n",
        "X1 = updated_dataset['Lemmatized Text']\n",
        "X2 = updated_dataset['Stemmed Text']\n",
        "\n",
        "y = updated_dataset['Encoded_Vader_Sentiment']\n",
        "\n",
        "X1_train, X1_test, y1_train, y1_test = train_test_split(X1, y, test_size=0.2, random_state=47, stratify=updated_dataset['Encoded_Vader_Sentiment'])\n",
        "X2_train, X2_test, y2_train, y2_test = train_test_split(X2, y, test_size=0.2, random_state=47, stratify=updated_dataset['Encoded_Vader_Sentiment'])"
      ]
    },
    {
      "cell_type": "code",
      "execution_count": 38,
      "metadata": {},
      "outputs": [
        {
          "name": "stdout",
          "output_type": "stream",
          "text": [
            "Classification using Lemmatized text:\n",
            "              precision    recall  f1-score   support\n",
            "\n",
            "          -1       0.81      0.38      0.51        77\n",
            "           0       0.78      0.82      0.80       378\n",
            "           1       0.88      0.91      0.90       721\n",
            "\n",
            "    accuracy                           0.85      1176\n",
            "   macro avg       0.82      0.70      0.74      1176\n",
            "weighted avg       0.85      0.85      0.84      1176\n",
            "\n",
            "\n",
            "Classification using Stemmed text:\n",
            "              precision    recall  f1-score   support\n",
            "\n",
            "          -1       0.70      0.34      0.46        77\n",
            "           0       0.81      0.83      0.82       378\n",
            "           1       0.88      0.92      0.90       721\n",
            "\n",
            "    accuracy                           0.85      1176\n",
            "   macro avg       0.80      0.70      0.73      1176\n",
            "weighted avg       0.85      0.85      0.85      1176\n",
            "\n"
          ]
        }
      ],
      "source": [
        "bow = CountVectorizer(\n",
        "    ngram_range=(1, 1),  # unigram\n",
        "    preprocessor=lambda x: x,  # override preprocessing cause already done\n",
        "    tokenizer=lambda x: x,  # override tokenization cause already done\n",
        ")\n",
        "\n",
        "nb_bow = Pipeline([\n",
        "    ('bow', bow),\n",
        "    ('logistic_regression', LogisticRegression())\n",
        "])\n",
        "\n",
        "# first lemma\n",
        "nb_bow.fit(X1_train, y1_train)\n",
        "y1_pred_bow = nb_bow.predict(X1_test)\n",
        "print(\"Classification using Lemmatized text:\")\n",
        "print(classification_report(y1_test, y1_pred_bow))\n",
        "\n",
        "# stemming\n",
        "nb_bow.fit(X2_train, y2_train)\n",
        "y2_pred_bow = nb_bow.predict(X2_test)\n",
        "print(\"\\nClassification using Stemmed text:\")\n",
        "print(classification_report(y2_test, y2_pred_bow))"
      ]
    },
    {
      "cell_type": "markdown",
      "metadata": {},
      "source": [
        "Lemmatization and Stemming, when compared with each other using Bag of Words text representation and Logistic Regression classifier seem to give the exact same accuracy. The only notable difference here is the f1-score of class -1 (negative) where lemmatized text gives 5% more than stemmed text. \n",
        " \n",
        "In general, stemming is a process that removes last few letters of a word to bring it to its original or \"stemmed\" form. Lemmatization converts the word into its base form keeping the context in mind. Stemming can sometimes resilt in incorrect interpretations of the words as well as give the wrong spellings. Overall, lemmatization has been known to have a higher accuracy than stemming [1], which is why we will continue to use lemmatization throughout the rest of the notebook.\n",
        "\n",
        "Source:\n",
        "[1] https://analyticsindiamag.com/explained-stemming-vs-lemmatization-in-nlp/"
      ]
    },
    {
      "cell_type": "markdown",
      "metadata": {},
      "source": [
        "# Text Representation"
      ]
    },
    {
      "cell_type": "markdown",
      "metadata": {},
      "source": [
        "This section experiments with different document representations, namely:\n",
        "- Bag of Words\n",
        "- N-grams\n",
        "- TF-IDF\n",
        "- CBOW\n",
        "- Skip-gram\n",
        "- Pre-trained Word2Vec model by Google\n",
        "\n",
        "\n",
        "Each of the representations are tested using Naive Bayes, and the high performance models are used in the next stage of the pipeline.\n"
      ]
    },
    {
      "cell_type": "markdown",
      "metadata": {},
      "source": [
        "Getting train and test sets ready"
      ]
    },
    {
      "cell_type": "code",
      "execution_count": 39,
      "metadata": {},
      "outputs": [],
      "source": [
        "X = updated_dataset['Lemmatized Text']\n",
        "y = updated_dataset['Encoded_Vader_Sentiment']\n",
        "X_train, X_test, y_train, y_test = train_test_split(\n",
        "    X,\n",
        "    y,\n",
        "    test_size=0.2,\n",
        "    random_state=42,\n",
        "    stratify=updated_dataset['Encoded_Vader_Sentiment']\n",
        ")\n"
      ]
    },
    {
      "cell_type": "markdown",
      "metadata": {},
      "source": [
        "## Bag Of Words"
      ]
    },
    {
      "cell_type": "code",
      "execution_count": 40,
      "metadata": {},
      "outputs": [
        {
          "name": "stdout",
          "output_type": "stream",
          "text": [
            "              precision    recall  f1-score   support\n",
            "\n",
            "          -1       0.68      0.34      0.45        77\n",
            "           0       0.79      0.54      0.64       378\n",
            "           1       0.77      0.94      0.84       721\n",
            "\n",
            "    accuracy                           0.77      1176\n",
            "   macro avg       0.75      0.60      0.65      1176\n",
            "weighted avg       0.77      0.77      0.75      1176\n",
            "\n"
          ]
        }
      ],
      "source": [
        "\n",
        "bow = CountVectorizer(\n",
        "    ngram_range=(1, 1),  # unigram\n",
        "    preprocessor=lambda x: x,  # override preprocessing cause already done\n",
        "    tokenizer=lambda x: x,  # override tokenization cause already done\n",
        ")\n",
        "\n",
        "nb_bow = Pipeline([\n",
        "    ('bow', bow),\n",
        "    ('naive_bayes', MultinomialNB())\n",
        "])\n",
        "\n",
        "nb_bow.fit(X_train, y_train)\n",
        "y_pred_bow = nb_bow.predict(X_test)\n",
        "print(classification_report(y_test, y_pred_bow))\n"
      ]
    },
    {
      "cell_type": "markdown",
      "metadata": {},
      "source": [
        "## N-grams\n",
        "The n-grams tested are $(a,b)$, which denotes a vector representation where a-grams up until b-grams are used.\n",
        "E.g. When the n-gram range is (1,3), the vector representation of the document includes unigrams, bigrams, and trigrams. \n",
        "\n",
        "If the range is $(a,a)$, only a-grams are used. E.g. (1,1) denotes unigrams.\n",
        "\n",
        "Possible n-gram values that are tested are:\n",
        "$\\text{n-gram values}=\\{(a,b) | a \\in \\{1,2,...,9\\} \\cap b \\in \\{1,2,...,9\\} \\cap (a <= b)\\}$\n",
        "\n",
        "It is observed that the n-gram range (1,6) provides the best macro-f1 score."
      ]
    },
    {
      "cell_type": "code",
      "execution_count": 41,
      "metadata": {},
      "outputs": [],
      "source": [
        "A = np.arange(1, 10)\n",
        "B = np.arange(1, 10)\n",
        "\n",
        "# Generate possible n-gram pairs\n",
        "ngram_pairs = [(a, b) for a in A for b in B if a <= b]\n",
        "\n",
        "results_ngram = {}\n",
        "for ngram_range in ngram_pairs:\n",
        "    ngram = CountVectorizer(\n",
        "        ngram_range=ngram_range,\n",
        "        preprocessor=lambda x: x,  # override preprocessing\n",
        "        tokenizer=lambda x: x,  # override tokenization\n",
        "    )\n",
        "\n",
        "    ngram_nb = Pipeline([\n",
        "        ('ngram', ngram),\n",
        "        ('naive_bayes', MultinomialNB())\n",
        "    ])\n",
        "\n",
        "    ngram_nb.fit(X_train, y_train)\n",
        "    ngram_nb_y_pred = ngram_nb.predict(X_test)\n",
        "\n",
        "    prec, recall, f1, support = precision_recall_fscore_support(\n",
        "        y_test, ngram_nb_y_pred, beta=1.0, average='macro')\n",
        "    results_ngram[ngram_range] = {\n",
        "        'precision': prec, 'recall': recall, 'f1-score': f1}\n"
      ]
    },
    {
      "cell_type": "code",
      "execution_count": 42,
      "metadata": {},
      "outputs": [
        {
          "data": {
            "text/plain": [
              "precision    (1, 6)\n",
              "recall       (2, 4)\n",
              "f1-score     (1, 6)\n",
              "dtype: object"
            ]
          },
          "execution_count": 42,
          "metadata": {},
          "output_type": "execute_result"
        }
      ],
      "source": [
        "ngram_results = pd.DataFrame.from_dict(results_ngram, orient='index', columns=[\n",
        "                                       'precision', 'recall', 'f1-score'])\n",
        "ngram_results.index.names = ['min_ngram', 'max_ngram']\n",
        "# get n-grams corresponding to max f1 score\n",
        "ngram_results.idxmax()\n"
      ]
    },
    {
      "cell_type": "code",
      "execution_count": 43,
      "metadata": {},
      "outputs": [
        {
          "data": {
            "text/html": [
              "<div>\n",
              "<style scoped>\n",
              "    .dataframe tbody tr th:only-of-type {\n",
              "        vertical-align: middle;\n",
              "    }\n",
              "\n",
              "    .dataframe tbody tr th {\n",
              "        vertical-align: top;\n",
              "    }\n",
              "\n",
              "    .dataframe thead th {\n",
              "        text-align: right;\n",
              "    }\n",
              "</style>\n",
              "<table border=\"1\" class=\"dataframe\">\n",
              "  <thead>\n",
              "    <tr style=\"text-align: right;\">\n",
              "      <th></th>\n",
              "      <th></th>\n",
              "      <th>precision</th>\n",
              "      <th>recall</th>\n",
              "      <th>f1-score</th>\n",
              "    </tr>\n",
              "    <tr>\n",
              "      <th>min_ngram</th>\n",
              "      <th>max_ngram</th>\n",
              "      <th></th>\n",
              "      <th></th>\n",
              "      <th></th>\n",
              "    </tr>\n",
              "  </thead>\n",
              "  <tbody>\n",
              "    <tr>\n",
              "      <th rowspan=\"9\" valign=\"top\">1</th>\n",
              "      <th>1</th>\n",
              "      <td>0.747873</td>\n",
              "      <td>0.604095</td>\n",
              "      <td>0.645324</td>\n",
              "    </tr>\n",
              "    <tr>\n",
              "      <th>2</th>\n",
              "      <td>0.844544</td>\n",
              "      <td>0.602070</td>\n",
              "      <td>0.654755</td>\n",
              "    </tr>\n",
              "    <tr>\n",
              "      <th>3</th>\n",
              "      <td>0.863498</td>\n",
              "      <td>0.611653</td>\n",
              "      <td>0.668150</td>\n",
              "    </tr>\n",
              "    <tr>\n",
              "      <th>4</th>\n",
              "      <td>0.863751</td>\n",
              "      <td>0.618085</td>\n",
              "      <td>0.676132</td>\n",
              "    </tr>\n",
              "    <tr>\n",
              "      <th>5</th>\n",
              "      <td>0.852666</td>\n",
              "      <td>0.618504</td>\n",
              "      <td>0.675190</td>\n",
              "    </tr>\n",
              "    <tr>\n",
              "      <th>6</th>\n",
              "      <td>0.865024</td>\n",
              "      <td>0.618547</td>\n",
              "      <td>0.676731</td>\n",
              "    </tr>\n",
              "    <tr>\n",
              "      <th>7</th>\n",
              "      <td>0.862897</td>\n",
              "      <td>0.613336</td>\n",
              "      <td>0.670629</td>\n",
              "    </tr>\n",
              "    <tr>\n",
              "      <th>8</th>\n",
              "      <td>0.862897</td>\n",
              "      <td>0.613336</td>\n",
              "      <td>0.670629</td>\n",
              "    </tr>\n",
              "    <tr>\n",
              "      <th>9</th>\n",
              "      <td>0.862897</td>\n",
              "      <td>0.613336</td>\n",
              "      <td>0.670629</td>\n",
              "    </tr>\n",
              "    <tr>\n",
              "      <th rowspan=\"8\" valign=\"top\">2</th>\n",
              "      <th>2</th>\n",
              "      <td>0.775045</td>\n",
              "      <td>0.612072</td>\n",
              "      <td>0.658060</td>\n",
              "    </tr>\n",
              "    <tr>\n",
              "      <th>3</th>\n",
              "      <td>0.773949</td>\n",
              "      <td>0.619089</td>\n",
              "      <td>0.664463</td>\n",
              "    </tr>\n",
              "    <tr>\n",
              "      <th>4</th>\n",
              "      <td>0.775086</td>\n",
              "      <td>0.620853</td>\n",
              "      <td>0.666171</td>\n",
              "    </tr>\n",
              "    <tr>\n",
              "      <th>5</th>\n",
              "      <td>0.779753</td>\n",
              "      <td>0.616104</td>\n",
              "      <td>0.662356</td>\n",
              "    </tr>\n",
              "    <tr>\n",
              "      <th>6</th>\n",
              "      <td>0.779753</td>\n",
              "      <td>0.616104</td>\n",
              "      <td>0.662356</td>\n",
              "    </tr>\n",
              "    <tr>\n",
              "      <th>7</th>\n",
              "      <td>0.779753</td>\n",
              "      <td>0.616104</td>\n",
              "      <td>0.662356</td>\n",
              "    </tr>\n",
              "    <tr>\n",
              "      <th>8</th>\n",
              "      <td>0.779753</td>\n",
              "      <td>0.616104</td>\n",
              "      <td>0.662356</td>\n",
              "    </tr>\n",
              "    <tr>\n",
              "      <th>9</th>\n",
              "      <td>0.780320</td>\n",
              "      <td>0.616986</td>\n",
              "      <td>0.663208</td>\n",
              "    </tr>\n",
              "    <tr>\n",
              "      <th rowspan=\"7\" valign=\"top\">3</th>\n",
              "      <th>3</th>\n",
              "      <td>0.823087</td>\n",
              "      <td>0.565367</td>\n",
              "      <td>0.616928</td>\n",
              "    </tr>\n",
              "    <tr>\n",
              "      <th>4</th>\n",
              "      <td>0.823304</td>\n",
              "      <td>0.567550</td>\n",
              "      <td>0.619233</td>\n",
              "    </tr>\n",
              "    <tr>\n",
              "      <th>5</th>\n",
              "      <td>0.823304</td>\n",
              "      <td>0.567550</td>\n",
              "      <td>0.619233</td>\n",
              "    </tr>\n",
              "    <tr>\n",
              "      <th>6</th>\n",
              "      <td>0.822769</td>\n",
              "      <td>0.566668</td>\n",
              "      <td>0.618277</td>\n",
              "    </tr>\n",
              "    <tr>\n",
              "      <th>7</th>\n",
              "      <td>0.823304</td>\n",
              "      <td>0.567550</td>\n",
              "      <td>0.619233</td>\n",
              "    </tr>\n",
              "    <tr>\n",
              "      <th>8</th>\n",
              "      <td>0.821937</td>\n",
              "      <td>0.567088</td>\n",
              "      <td>0.618662</td>\n",
              "    </tr>\n",
              "    <tr>\n",
              "      <th>9</th>\n",
              "      <td>0.823837</td>\n",
              "      <td>0.568432</td>\n",
              "      <td>0.620186</td>\n",
              "    </tr>\n",
              "    <tr>\n",
              "      <th rowspan=\"6\" valign=\"top\">4</th>\n",
              "      <th>4</th>\n",
              "      <td>0.822116</td>\n",
              "      <td>0.556172</td>\n",
              "      <td>0.607037</td>\n",
              "    </tr>\n",
              "    <tr>\n",
              "      <th>5</th>\n",
              "      <td>0.821692</td>\n",
              "      <td>0.557473</td>\n",
              "      <td>0.608462</td>\n",
              "    </tr>\n",
              "    <tr>\n",
              "      <th>6</th>\n",
              "      <td>0.820752</td>\n",
              "      <td>0.557893</td>\n",
              "      <td>0.608887</td>\n",
              "    </tr>\n",
              "    <tr>\n",
              "      <th>7</th>\n",
              "      <td>0.820752</td>\n",
              "      <td>0.557893</td>\n",
              "      <td>0.608887</td>\n",
              "    </tr>\n",
              "    <tr>\n",
              "      <th>8</th>\n",
              "      <td>0.821294</td>\n",
              "      <td>0.558775</td>\n",
              "      <td>0.609873</td>\n",
              "    </tr>\n",
              "    <tr>\n",
              "      <th>9</th>\n",
              "      <td>0.821835</td>\n",
              "      <td>0.559657</td>\n",
              "      <td>0.610857</td>\n",
              "    </tr>\n",
              "    <tr>\n",
              "      <th rowspan=\"5\" valign=\"top\">5</th>\n",
              "      <th>5</th>\n",
              "      <td>0.827691</td>\n",
              "      <td>0.535174</td>\n",
              "      <td>0.583370</td>\n",
              "    </tr>\n",
              "    <tr>\n",
              "      <th>6</th>\n",
              "      <td>0.825993</td>\n",
              "      <td>0.534711</td>\n",
              "      <td>0.582826</td>\n",
              "    </tr>\n",
              "    <tr>\n",
              "      <th>7</th>\n",
              "      <td>0.827691</td>\n",
              "      <td>0.535174</td>\n",
              "      <td>0.583370</td>\n",
              "    </tr>\n",
              "    <tr>\n",
              "      <th>8</th>\n",
              "      <td>0.831112</td>\n",
              "      <td>0.538282</td>\n",
              "      <td>0.587088</td>\n",
              "    </tr>\n",
              "    <tr>\n",
              "      <th>9</th>\n",
              "      <td>0.831112</td>\n",
              "      <td>0.538282</td>\n",
              "      <td>0.587088</td>\n",
              "    </tr>\n",
              "    <tr>\n",
              "      <th rowspan=\"4\" valign=\"top\">6</th>\n",
              "      <th>6</th>\n",
              "      <td>0.830506</td>\n",
              "      <td>0.525602</td>\n",
              "      <td>0.571379</td>\n",
              "    </tr>\n",
              "    <tr>\n",
              "      <th>7</th>\n",
              "      <td>0.831662</td>\n",
              "      <td>0.527366</td>\n",
              "      <td>0.573601</td>\n",
              "    </tr>\n",
              "    <tr>\n",
              "      <th>8</th>\n",
              "      <td>0.832234</td>\n",
              "      <td>0.528247</td>\n",
              "      <td>0.574707</td>\n",
              "    </tr>\n",
              "    <tr>\n",
              "      <th>9</th>\n",
              "      <td>0.832234</td>\n",
              "      <td>0.528247</td>\n",
              "      <td>0.574707</td>\n",
              "    </tr>\n",
              "    <tr>\n",
              "      <th rowspan=\"3\" valign=\"top\">7</th>\n",
              "      <th>7</th>\n",
              "      <td>0.817609</td>\n",
              "      <td>0.493375</td>\n",
              "      <td>0.529046</td>\n",
              "    </tr>\n",
              "    <tr>\n",
              "      <th>8</th>\n",
              "      <td>0.818874</td>\n",
              "      <td>0.495139</td>\n",
              "      <td>0.531351</td>\n",
              "    </tr>\n",
              "    <tr>\n",
              "      <th>9</th>\n",
              "      <td>0.819711</td>\n",
              "      <td>0.493837</td>\n",
              "      <td>0.529563</td>\n",
              "    </tr>\n",
              "    <tr>\n",
              "      <th rowspan=\"2\" valign=\"top\">8</th>\n",
              "      <th>8</th>\n",
              "      <td>0.812262</td>\n",
              "      <td>0.465143</td>\n",
              "      <td>0.488561</td>\n",
              "    </tr>\n",
              "    <tr>\n",
              "      <th>9</th>\n",
              "      <td>0.812262</td>\n",
              "      <td>0.465143</td>\n",
              "      <td>0.488561</td>\n",
              "    </tr>\n",
              "    <tr>\n",
              "      <th>9</th>\n",
              "      <th>9</th>\n",
              "      <td>0.791375</td>\n",
              "      <td>0.435826</td>\n",
              "      <td>0.444417</td>\n",
              "    </tr>\n",
              "  </tbody>\n",
              "</table>\n",
              "</div>"
            ],
            "text/plain": [
              "                     precision    recall  f1-score\n",
              "min_ngram max_ngram                               \n",
              "1         1           0.747873  0.604095  0.645324\n",
              "          2           0.844544  0.602070  0.654755\n",
              "          3           0.863498  0.611653  0.668150\n",
              "          4           0.863751  0.618085  0.676132\n",
              "          5           0.852666  0.618504  0.675190\n",
              "          6           0.865024  0.618547  0.676731\n",
              "          7           0.862897  0.613336  0.670629\n",
              "          8           0.862897  0.613336  0.670629\n",
              "          9           0.862897  0.613336  0.670629\n",
              "2         2           0.775045  0.612072  0.658060\n",
              "          3           0.773949  0.619089  0.664463\n",
              "          4           0.775086  0.620853  0.666171\n",
              "          5           0.779753  0.616104  0.662356\n",
              "          6           0.779753  0.616104  0.662356\n",
              "          7           0.779753  0.616104  0.662356\n",
              "          8           0.779753  0.616104  0.662356\n",
              "          9           0.780320  0.616986  0.663208\n",
              "3         3           0.823087  0.565367  0.616928\n",
              "          4           0.823304  0.567550  0.619233\n",
              "          5           0.823304  0.567550  0.619233\n",
              "          6           0.822769  0.566668  0.618277\n",
              "          7           0.823304  0.567550  0.619233\n",
              "          8           0.821937  0.567088  0.618662\n",
              "          9           0.823837  0.568432  0.620186\n",
              "4         4           0.822116  0.556172  0.607037\n",
              "          5           0.821692  0.557473  0.608462\n",
              "          6           0.820752  0.557893  0.608887\n",
              "          7           0.820752  0.557893  0.608887\n",
              "          8           0.821294  0.558775  0.609873\n",
              "          9           0.821835  0.559657  0.610857\n",
              "5         5           0.827691  0.535174  0.583370\n",
              "          6           0.825993  0.534711  0.582826\n",
              "          7           0.827691  0.535174  0.583370\n",
              "          8           0.831112  0.538282  0.587088\n",
              "          9           0.831112  0.538282  0.587088\n",
              "6         6           0.830506  0.525602  0.571379\n",
              "          7           0.831662  0.527366  0.573601\n",
              "          8           0.832234  0.528247  0.574707\n",
              "          9           0.832234  0.528247  0.574707\n",
              "7         7           0.817609  0.493375  0.529046\n",
              "          8           0.818874  0.495139  0.531351\n",
              "          9           0.819711  0.493837  0.529563\n",
              "8         8           0.812262  0.465143  0.488561\n",
              "          9           0.812262  0.465143  0.488561\n",
              "9         9           0.791375  0.435826  0.444417"
            ]
          },
          "execution_count": 43,
          "metadata": {},
          "output_type": "execute_result"
        }
      ],
      "source": [
        "ngram_results\n"
      ]
    },
    {
      "cell_type": "markdown",
      "metadata": {},
      "source": [
        "## TF-IDF\n",
        "\n",
        "The TF-IDF vectorizor is tested over several n-gram ranges. The ranges are: $\\text{n-gram values}=\\{(a,b) | a \\in \\{1,2,...,9\\} \\cap b \\in \\{1,2,...,9\\} \\cap (a <= b)\\}$.\n",
        "\n",
        "It is observed that the tfidf vector with n-gram range (2,2) provides the best macro-f1 score."
      ]
    },
    {
      "cell_type": "code",
      "execution_count": 44,
      "metadata": {},
      "outputs": [],
      "source": [
        "A = np.arange(1, 10)\n",
        "B = np.arange(1, 10)\n",
        "\n",
        "# Generate possible n-gram pairs\n",
        "ngram_pairs = [(a, b) for a in A for b in B if a <= b]\n",
        "\n",
        "results_tfidf = {}\n",
        "for ngram_range in ngram_pairs:\n",
        "    tfidf = TfidfVectorizer(\n",
        "        preprocessor=lambda x: x,  # override preprocessing\n",
        "        tokenizer=lambda x: x,  # override tokenization\n",
        "        ngram_range=ngram_range\n",
        "    )\n",
        "\n",
        "    tfidf_nb = Pipeline([\n",
        "        ('tfidf', tfidf),\n",
        "        ('naive_bayes', MultinomialNB())\n",
        "    ])\n",
        "\n",
        "    tfidf_nb.fit(X_train, y_train)\n",
        "    tfidf_nb_y_pred = tfidf_nb.predict(X_test)\n",
        "    prec, recall, f1, support = precision_recall_fscore_support(\n",
        "        y_test, tfidf_nb_y_pred, beta=1.0, average='macro')\n",
        "    results_tfidf[ngram_range] = {\n",
        "        'precision': prec, 'recall': recall, 'f1-score': f1}\n"
      ]
    },
    {
      "cell_type": "code",
      "execution_count": 45,
      "metadata": {},
      "outputs": [
        {
          "data": {
            "text/plain": [
              "precision    (1, 2)\n",
              "recall       (2, 2)\n",
              "f1-score     (2, 2)\n",
              "dtype: object"
            ]
          },
          "execution_count": 45,
          "metadata": {},
          "output_type": "execute_result"
        }
      ],
      "source": [
        "tfidf_results = pd.DataFrame.from_dict(results_tfidf, orient='index', columns=[\n",
        "                                       'precision', 'recall', 'f1-score'])\n",
        "tfidf_results.index.names = ['min_ngram', 'max_ngram']\n",
        "# get n-grams corresponding to max f1 score\n",
        "tfidf_results.idxmax()\n"
      ]
    },
    {
      "cell_type": "code",
      "execution_count": 46,
      "metadata": {},
      "outputs": [
        {
          "data": {
            "text/html": [
              "<div>\n",
              "<style scoped>\n",
              "    .dataframe tbody tr th:only-of-type {\n",
              "        vertical-align: middle;\n",
              "    }\n",
              "\n",
              "    .dataframe tbody tr th {\n",
              "        vertical-align: top;\n",
              "    }\n",
              "\n",
              "    .dataframe thead th {\n",
              "        text-align: right;\n",
              "    }\n",
              "</style>\n",
              "<table border=\"1\" class=\"dataframe\">\n",
              "  <thead>\n",
              "    <tr style=\"text-align: right;\">\n",
              "      <th></th>\n",
              "      <th></th>\n",
              "      <th>precision</th>\n",
              "      <th>recall</th>\n",
              "      <th>f1-score</th>\n",
              "    </tr>\n",
              "    <tr>\n",
              "      <th>min_ngram</th>\n",
              "      <th>max_ngram</th>\n",
              "      <th></th>\n",
              "      <th></th>\n",
              "      <th></th>\n",
              "    </tr>\n",
              "  </thead>\n",
              "  <tbody>\n",
              "    <tr>\n",
              "      <th rowspan=\"9\" valign=\"top\">1</th>\n",
              "      <th>1</th>\n",
              "      <td>0.879702</td>\n",
              "      <td>0.451216</td>\n",
              "      <td>0.454846</td>\n",
              "    </tr>\n",
              "    <tr>\n",
              "      <th>2</th>\n",
              "      <td>0.884412</td>\n",
              "      <td>0.470111</td>\n",
              "      <td>0.479256</td>\n",
              "    </tr>\n",
              "    <tr>\n",
              "      <th>3</th>\n",
              "      <td>0.881558</td>\n",
              "      <td>0.477962</td>\n",
              "      <td>0.488796</td>\n",
              "    </tr>\n",
              "    <tr>\n",
              "      <th>4</th>\n",
              "      <td>0.883403</td>\n",
              "      <td>0.490227</td>\n",
              "      <td>0.505911</td>\n",
              "    </tr>\n",
              "    <tr>\n",
              "      <th>5</th>\n",
              "      <td>0.881891</td>\n",
              "      <td>0.490647</td>\n",
              "      <td>0.506337</td>\n",
              "    </tr>\n",
              "    <tr>\n",
              "      <th>6</th>\n",
              "      <td>0.878209</td>\n",
              "      <td>0.489722</td>\n",
              "      <td>0.505172</td>\n",
              "    </tr>\n",
              "    <tr>\n",
              "      <th>7</th>\n",
              "      <td>0.874604</td>\n",
              "      <td>0.488798</td>\n",
              "      <td>0.504010</td>\n",
              "    </tr>\n",
              "    <tr>\n",
              "      <th>8</th>\n",
              "      <td>0.874604</td>\n",
              "      <td>0.488798</td>\n",
              "      <td>0.504010</td>\n",
              "    </tr>\n",
              "    <tr>\n",
              "      <th>9</th>\n",
              "      <td>0.874604</td>\n",
              "      <td>0.488798</td>\n",
              "      <td>0.504010</td>\n",
              "    </tr>\n",
              "    <tr>\n",
              "      <th rowspan=\"8\" valign=\"top\">2</th>\n",
              "      <th>2</th>\n",
              "      <td>0.863371</td>\n",
              "      <td>0.496982</td>\n",
              "      <td>0.512138</td>\n",
              "    </tr>\n",
              "    <tr>\n",
              "      <th>3</th>\n",
              "      <td>0.863625</td>\n",
              "      <td>0.495219</td>\n",
              "      <td>0.510403</td>\n",
              "    </tr>\n",
              "    <tr>\n",
              "      <th>4</th>\n",
              "      <td>0.863281</td>\n",
              "      <td>0.494756</td>\n",
              "      <td>0.510009</td>\n",
              "    </tr>\n",
              "    <tr>\n",
              "      <th>5</th>\n",
              "      <td>0.865589</td>\n",
              "      <td>0.494337</td>\n",
              "      <td>0.509812</td>\n",
              "    </tr>\n",
              "    <tr>\n",
              "      <th>6</th>\n",
              "      <td>0.863114</td>\n",
              "      <td>0.492111</td>\n",
              "      <td>0.507293</td>\n",
              "    </tr>\n",
              "    <tr>\n",
              "      <th>7</th>\n",
              "      <td>0.863114</td>\n",
              "      <td>0.492111</td>\n",
              "      <td>0.507293</td>\n",
              "    </tr>\n",
              "    <tr>\n",
              "      <th>8</th>\n",
              "      <td>0.863785</td>\n",
              "      <td>0.490810</td>\n",
              "      <td>0.505923</td>\n",
              "    </tr>\n",
              "    <tr>\n",
              "      <th>9</th>\n",
              "      <td>0.863330</td>\n",
              "      <td>0.489928</td>\n",
              "      <td>0.504944</td>\n",
              "    </tr>\n",
              "    <tr>\n",
              "      <th rowspan=\"7\" valign=\"top\">3</th>\n",
              "      <th>3</th>\n",
              "      <td>0.851885</td>\n",
              "      <td>0.474012</td>\n",
              "      <td>0.486757</td>\n",
              "    </tr>\n",
              "    <tr>\n",
              "      <th>4</th>\n",
              "      <td>0.854577</td>\n",
              "      <td>0.476238</td>\n",
              "      <td>0.489366</td>\n",
              "    </tr>\n",
              "    <tr>\n",
              "      <th>5</th>\n",
              "      <td>0.854577</td>\n",
              "      <td>0.476238</td>\n",
              "      <td>0.489366</td>\n",
              "    </tr>\n",
              "    <tr>\n",
              "      <th>6</th>\n",
              "      <td>0.854083</td>\n",
              "      <td>0.475356</td>\n",
              "      <td>0.488343</td>\n",
              "    </tr>\n",
              "    <tr>\n",
              "      <th>7</th>\n",
              "      <td>0.854083</td>\n",
              "      <td>0.475356</td>\n",
              "      <td>0.488343</td>\n",
              "    </tr>\n",
              "    <tr>\n",
              "      <th>8</th>\n",
              "      <td>0.854083</td>\n",
              "      <td>0.475356</td>\n",
              "      <td>0.488343</td>\n",
              "    </tr>\n",
              "    <tr>\n",
              "      <th>9</th>\n",
              "      <td>0.855305</td>\n",
              "      <td>0.474937</td>\n",
              "      <td>0.487879</td>\n",
              "    </tr>\n",
              "    <tr>\n",
              "      <th rowspan=\"6\" valign=\"top\">4</th>\n",
              "      <th>4</th>\n",
              "      <td>0.854157</td>\n",
              "      <td>0.472753</td>\n",
              "      <td>0.485169</td>\n",
              "    </tr>\n",
              "    <tr>\n",
              "      <th>5</th>\n",
              "      <td>0.852143</td>\n",
              "      <td>0.469226</td>\n",
              "      <td>0.480996</td>\n",
              "    </tr>\n",
              "    <tr>\n",
              "      <th>6</th>\n",
              "      <td>0.853605</td>\n",
              "      <td>0.469226</td>\n",
              "      <td>0.481164</td>\n",
              "    </tr>\n",
              "    <tr>\n",
              "      <th>7</th>\n",
              "      <td>0.854104</td>\n",
              "      <td>0.470108</td>\n",
              "      <td>0.482212</td>\n",
              "    </tr>\n",
              "    <tr>\n",
              "      <th>8</th>\n",
              "      <td>0.854104</td>\n",
              "      <td>0.470108</td>\n",
              "      <td>0.482212</td>\n",
              "    </tr>\n",
              "    <tr>\n",
              "      <th>9</th>\n",
              "      <td>0.855910</td>\n",
              "      <td>0.470570</td>\n",
              "      <td>0.482769</td>\n",
              "    </tr>\n",
              "    <tr>\n",
              "      <th rowspan=\"5\" valign=\"top\">5</th>\n",
              "      <th>5</th>\n",
              "      <td>0.844162</td>\n",
              "      <td>0.452089</td>\n",
              "      <td>0.457535</td>\n",
              "    </tr>\n",
              "    <tr>\n",
              "      <th>6</th>\n",
              "      <td>0.846310</td>\n",
              "      <td>0.456880</td>\n",
              "      <td>0.466149</td>\n",
              "    </tr>\n",
              "    <tr>\n",
              "      <th>7</th>\n",
              "      <td>0.846310</td>\n",
              "      <td>0.456880</td>\n",
              "      <td>0.466149</td>\n",
              "    </tr>\n",
              "    <tr>\n",
              "      <th>8</th>\n",
              "      <td>0.845539</td>\n",
              "      <td>0.451670</td>\n",
              "      <td>0.456976</td>\n",
              "    </tr>\n",
              "    <tr>\n",
              "      <th>9</th>\n",
              "      <td>0.848946</td>\n",
              "      <td>0.451712</td>\n",
              "      <td>0.456951</td>\n",
              "    </tr>\n",
              "    <tr>\n",
              "      <th rowspan=\"4\" valign=\"top\">6</th>\n",
              "      <th>6</th>\n",
              "      <td>0.839570</td>\n",
              "      <td>0.439786</td>\n",
              "      <td>0.441777</td>\n",
              "    </tr>\n",
              "    <tr>\n",
              "      <th>7</th>\n",
              "      <td>0.838364</td>\n",
              "      <td>0.438023</td>\n",
              "      <td>0.439472</td>\n",
              "    </tr>\n",
              "    <tr>\n",
              "      <th>8</th>\n",
              "      <td>0.844444</td>\n",
              "      <td>0.441593</td>\n",
              "      <td>0.443970</td>\n",
              "    </tr>\n",
              "    <tr>\n",
              "      <th>9</th>\n",
              "      <td>0.842290</td>\n",
              "      <td>0.441130</td>\n",
              "      <td>0.443447</td>\n",
              "    </tr>\n",
              "    <tr>\n",
              "      <th rowspan=\"3\" valign=\"top\">7</th>\n",
              "      <th>7</th>\n",
              "      <td>0.838766</td>\n",
              "      <td>0.426262</td>\n",
              "      <td>0.420954</td>\n",
              "    </tr>\n",
              "    <tr>\n",
              "      <th>8</th>\n",
              "      <td>0.840554</td>\n",
              "      <td>0.425843</td>\n",
              "      <td>0.420256</td>\n",
              "    </tr>\n",
              "    <tr>\n",
              "      <th>9</th>\n",
              "      <td>0.837397</td>\n",
              "      <td>0.421433</td>\n",
              "      <td>0.414178</td>\n",
              "    </tr>\n",
              "    <tr>\n",
              "      <th rowspan=\"2\" valign=\"top\">8</th>\n",
              "      <th>8</th>\n",
              "      <td>0.836702</td>\n",
              "      <td>0.414422</td>\n",
              "      <td>0.403934</td>\n",
              "    </tr>\n",
              "    <tr>\n",
              "      <th>9</th>\n",
              "      <td>0.838839</td>\n",
              "      <td>0.414002</td>\n",
              "      <td>0.403144</td>\n",
              "    </tr>\n",
              "    <tr>\n",
              "      <th>9</th>\n",
              "      <th>9</th>\n",
              "      <td>0.830138</td>\n",
              "      <td>0.400355</td>\n",
              "      <td>0.382599</td>\n",
              "    </tr>\n",
              "  </tbody>\n",
              "</table>\n",
              "</div>"
            ],
            "text/plain": [
              "                     precision    recall  f1-score\n",
              "min_ngram max_ngram                               \n",
              "1         1           0.879702  0.451216  0.454846\n",
              "          2           0.884412  0.470111  0.479256\n",
              "          3           0.881558  0.477962  0.488796\n",
              "          4           0.883403  0.490227  0.505911\n",
              "          5           0.881891  0.490647  0.506337\n",
              "          6           0.878209  0.489722  0.505172\n",
              "          7           0.874604  0.488798  0.504010\n",
              "          8           0.874604  0.488798  0.504010\n",
              "          9           0.874604  0.488798  0.504010\n",
              "2         2           0.863371  0.496982  0.512138\n",
              "          3           0.863625  0.495219  0.510403\n",
              "          4           0.863281  0.494756  0.510009\n",
              "          5           0.865589  0.494337  0.509812\n",
              "          6           0.863114  0.492111  0.507293\n",
              "          7           0.863114  0.492111  0.507293\n",
              "          8           0.863785  0.490810  0.505923\n",
              "          9           0.863330  0.489928  0.504944\n",
              "3         3           0.851885  0.474012  0.486757\n",
              "          4           0.854577  0.476238  0.489366\n",
              "          5           0.854577  0.476238  0.489366\n",
              "          6           0.854083  0.475356  0.488343\n",
              "          7           0.854083  0.475356  0.488343\n",
              "          8           0.854083  0.475356  0.488343\n",
              "          9           0.855305  0.474937  0.487879\n",
              "4         4           0.854157  0.472753  0.485169\n",
              "          5           0.852143  0.469226  0.480996\n",
              "          6           0.853605  0.469226  0.481164\n",
              "          7           0.854104  0.470108  0.482212\n",
              "          8           0.854104  0.470108  0.482212\n",
              "          9           0.855910  0.470570  0.482769\n",
              "5         5           0.844162  0.452089  0.457535\n",
              "          6           0.846310  0.456880  0.466149\n",
              "          7           0.846310  0.456880  0.466149\n",
              "          8           0.845539  0.451670  0.456976\n",
              "          9           0.848946  0.451712  0.456951\n",
              "6         6           0.839570  0.439786  0.441777\n",
              "          7           0.838364  0.438023  0.439472\n",
              "          8           0.844444  0.441593  0.443970\n",
              "          9           0.842290  0.441130  0.443447\n",
              "7         7           0.838766  0.426262  0.420954\n",
              "          8           0.840554  0.425843  0.420256\n",
              "          9           0.837397  0.421433  0.414178\n",
              "8         8           0.836702  0.414422  0.403934\n",
              "          9           0.838839  0.414002  0.403144\n",
              "9         9           0.830138  0.400355  0.382599"
            ]
          },
          "execution_count": 46,
          "metadata": {},
          "output_type": "execute_result"
        }
      ],
      "source": [
        "tfidf_results\n"
      ]
    },
    {
      "cell_type": "markdown",
      "metadata": {},
      "source": [
        "## Word2Vec"
      ]
    },
    {
      "cell_type": "code",
      "execution_count": 47,
      "metadata": {},
      "outputs": [],
      "source": [
        "def normalize_vectors(input_vectors):\n",
        "    \"\"\"Normalizes vectors to be in range [0,1)\n",
        "\n",
        "    Args:\n",
        "        input_vectors (np.ndarray): List of vectors, each vector is np.ndarray\n",
        "    \"\"\"\n",
        "\n",
        "    return MinMaxScaler().fit(input_vectors).transform(input_vectors)\n"
      ]
    },
    {
      "cell_type": "code",
      "execution_count": 48,
      "metadata": {},
      "outputs": [],
      "source": [
        "def vectorize_sentence(sentence, wv_model, mode=0):\n",
        "    \"\"\"Convert a sentence to a vector by summing word vectors in the sentence.\n",
        "\n",
        "    Another option could be to average word vectors rather than just sum.\n",
        "\n",
        "    Arg: \n",
        "        sentence (list): Tokenized sentence\n",
        "        mode (int, 1 or 0): 0 for summing word vectors, 1 or averaging word vectors.\n",
        "    Returns:\n",
        "        (np.ndarray): Vector representation of sentence\n",
        "    \"\"\"\n",
        "    if mode not in [0, 1]:\n",
        "        raise Exception(\"Mode parameter should be either 1 or 0\")\n",
        "\n",
        "    vector_size = wv_model.vector_size\n",
        "    wv_res = np.zeros(vector_size)\n",
        "    count = 1\n",
        "    for w in sentence:\n",
        "        if w in wv_model:\n",
        "            wv_res += wv_model[w]\n",
        "            if mode:\n",
        "                count += 1\n",
        "    if mode:\n",
        "        wv_res = wv_res/count\n",
        "    return wv_res\n"
      ]
    },
    {
      "cell_type": "code",
      "execution_count": 49,
      "metadata": {},
      "outputs": [],
      "source": [
        "def vectorize_sentence_2(sentences, wv_model, mode=0):\n",
        "    \"\"\"Convert a list of sentences to a vectors.\n",
        "\n",
        "    By summing word vectors in the sentence.\n",
        "    Another option could be to average word vectors rather than just sum.\n",
        "\n",
        "    Arg: \n",
        "        sentence (pd.Series): Series consisting of list of tokenized texts \n",
        "        mode (int, 1 or 0): 0 for summing word vectors, 1 or averaging word vectors.\n",
        "    Returns:\n",
        "        (np.ndarray): Vector representation of sentences\n",
        "    \"\"\"\n",
        "    if mode not in [0, 1]:\n",
        "        raise Exception(\"Mode parameter should be either 1 or 0\")\n",
        "\n",
        "    vector_size = wv_model.vector_size\n",
        "    count = 1\n",
        "    vector_sentences = []\n",
        "\n",
        "    for i in range(len(sentences)):\n",
        "        sentence = np.zeros(vector_size)\n",
        "        for word in sentences[i]:\n",
        "            if word in wv_model:\n",
        "                count += 1\n",
        "                sentence += wv_model[word]\n",
        "        if mode:  # if mode set to 1 (average word vectors)\n",
        "            sentence = sentence/count\n",
        "        vector_sentences.append(sentence)\n",
        "    vector_sentences_df = pd.DataFrame(vector_sentences)\n",
        "    return vector_sentences_df\n"
      ]
    },
    {
      "cell_type": "markdown",
      "metadata": {},
      "source": [
        "## CBOW\n",
        "The parameters tested are window, cbow_modes, and vec_mode.\n",
        "- window determines how many context words around the target word to use.\n",
        "- cbow_mode is either 1 or 0, and indicates whether the context word vectors are summed(0) or averaged(1).\n",
        "- vec_mode is either 1 or 0, and indicates whether the document vector should be the sum(0) or average(1) of its word vectors.  \n",
        "\n",
        "\n",
        "It is observed that the highest macro-f1 score is obtained when the window size is 5, cbow_mode is 1, and the vec_mode is 0."
      ]
    },
    {
      "cell_type": "code",
      "execution_count": 50,
      "metadata": {},
      "outputs": [],
      "source": [
        "# parameter values\n",
        "windows = np.arange(1, 6)\n",
        "cbow_modes = [1, 0]\n",
        "vectorization_modes = [0, 1]\n",
        "\n",
        "# create the cartesian product of possible combinaiton of parameters\n",
        "parameters = [(window, cbow_mode, vec_mode)\n",
        "              for window in windows for cbow_mode in cbow_modes for vec_mode in vectorization_modes]\n",
        "\n",
        "results_cbow = {}\n",
        "for window, cbow_mode, vec_mode in parameters:\n",
        "    cbow = Word2Vec(\n",
        "        sentences=X,\n",
        "        window=window,  # how many context words before and after target word to consider\n",
        "        min_count=1,  # ignore words with frequency lower than this\n",
        "        sg=0,  # 0 to use cbow, 1 for skipgram\n",
        "        cbow_mean=cbow_mode,  # 0 uses sum of context word vectors, 1 uses mean\n",
        "    )\n",
        "    cbow.train(X, total_examples=cbow.corpus_count, epochs=cbow.epochs)\n",
        "    # After training, KeyedVector object is used\n",
        "    cbow_model = cbow.wv\n",
        "\n",
        "    # Get the embeddings of train and test set\n",
        "    X_train_cbow = normalize_vectors(\n",
        "        np.array([vectorize_sentence(x, cbow_model, vec_mode) for x in X_train]))\n",
        "    X_test_cbow = normalize_vectors(\n",
        "        np.array([vectorize_sentence(x, cbow_model, vec_mode) for x in X_test]))\n",
        "\n",
        "    # Test NB\n",
        "    nb_cbow = MultinomialNB()\n",
        "    nb_cbow.fit(X_train_cbow, y_train)\n",
        "    y_pred_cbow = nb_cbow.predict(X_test_cbow)\n",
        "\n",
        "    prec, recall, f1, support = precision_recall_fscore_support(\n",
        "        y_test, y_pred_cbow, beta=1.0, average='macro', zero_division=0)\n",
        "    results_cbow[(window, cbow_mode, vec_mode)] = {\n",
        "        'precision': prec, 'recall': recall, 'f1-score': f1}\n"
      ]
    },
    {
      "cell_type": "code",
      "execution_count": 51,
      "metadata": {},
      "outputs": [
        {
          "data": {
            "text/plain": [
              "precision    (3, 1, 0)\n",
              "recall       (5, 1, 0)\n",
              "f1-score     (5, 1, 0)\n",
              "dtype: object"
            ]
          },
          "execution_count": 51,
          "metadata": {},
          "output_type": "execute_result"
        }
      ],
      "source": [
        "\n",
        "cbow_results = pd.DataFrame.from_dict(results_cbow, orient='index', columns=[\n",
        "                                      'precision', 'recall', 'f1-score'])\n",
        "cbow_results.index.names = ['window size',\n",
        "                            'cbow mean value', 'document vectorization mode']\n",
        "# get n-grams corresponding to max f1 score\n",
        "cbow_results.idxmax()"
      ]
    },
    {
      "cell_type": "code",
      "execution_count": 52,
      "metadata": {},
      "outputs": [
        {
          "data": {
            "text/html": [
              "<div>\n",
              "<style scoped>\n",
              "    .dataframe tbody tr th:only-of-type {\n",
              "        vertical-align: middle;\n",
              "    }\n",
              "\n",
              "    .dataframe tbody tr th {\n",
              "        vertical-align: top;\n",
              "    }\n",
              "\n",
              "    .dataframe thead th {\n",
              "        text-align: right;\n",
              "    }\n",
              "</style>\n",
              "<table border=\"1\" class=\"dataframe\">\n",
              "  <thead>\n",
              "    <tr style=\"text-align: right;\">\n",
              "      <th></th>\n",
              "      <th></th>\n",
              "      <th></th>\n",
              "      <th>precision</th>\n",
              "      <th>recall</th>\n",
              "      <th>f1-score</th>\n",
              "    </tr>\n",
              "    <tr>\n",
              "      <th>window size</th>\n",
              "      <th>cbow mean value</th>\n",
              "      <th>document vectorization mode</th>\n",
              "      <th></th>\n",
              "      <th></th>\n",
              "      <th></th>\n",
              "    </tr>\n",
              "  </thead>\n",
              "  <tbody>\n",
              "    <tr>\n",
              "      <th rowspan=\"4\" valign=\"top\">1</th>\n",
              "      <th rowspan=\"2\" valign=\"top\">1</th>\n",
              "      <th>0</th>\n",
              "      <td>0.422613</td>\n",
              "      <td>0.446653</td>\n",
              "      <td>0.433807</td>\n",
              "    </tr>\n",
              "    <tr>\n",
              "      <th>1</th>\n",
              "      <td>0.352611</td>\n",
              "      <td>0.371021</td>\n",
              "      <td>0.359285</td>\n",
              "    </tr>\n",
              "    <tr>\n",
              "      <th rowspan=\"2\" valign=\"top\">0</th>\n",
              "      <th>0</th>\n",
              "      <td>0.419395</td>\n",
              "      <td>0.445181</td>\n",
              "      <td>0.431673</td>\n",
              "    </tr>\n",
              "    <tr>\n",
              "      <th>1</th>\n",
              "      <td>0.345092</td>\n",
              "      <td>0.362211</td>\n",
              "      <td>0.347953</td>\n",
              "    </tr>\n",
              "    <tr>\n",
              "      <th rowspan=\"4\" valign=\"top\">2</th>\n",
              "      <th rowspan=\"2\" valign=\"top\">1</th>\n",
              "      <th>0</th>\n",
              "      <td>0.426475</td>\n",
              "      <td>0.446491</td>\n",
              "      <td>0.434913</td>\n",
              "    </tr>\n",
              "    <tr>\n",
              "      <th>1</th>\n",
              "      <td>0.350722</td>\n",
              "      <td>0.366749</td>\n",
              "      <td>0.352277</td>\n",
              "    </tr>\n",
              "    <tr>\n",
              "      <th rowspan=\"2\" valign=\"top\">0</th>\n",
              "      <th>0</th>\n",
              "      <td>0.421411</td>\n",
              "      <td>0.443631</td>\n",
              "      <td>0.431418</td>\n",
              "    </tr>\n",
              "    <tr>\n",
              "      <th>1</th>\n",
              "      <td>0.331767</td>\n",
              "      <td>0.350294</td>\n",
              "      <td>0.330825</td>\n",
              "    </tr>\n",
              "    <tr>\n",
              "      <th rowspan=\"4\" valign=\"top\">3</th>\n",
              "      <th rowspan=\"2\" valign=\"top\">1</th>\n",
              "      <th>0</th>\n",
              "      <td>0.427579</td>\n",
              "      <td>0.445275</td>\n",
              "      <td>0.434316</td>\n",
              "    </tr>\n",
              "    <tr>\n",
              "      <th>1</th>\n",
              "      <td>0.338185</td>\n",
              "      <td>0.354660</td>\n",
              "      <td>0.336320</td>\n",
              "    </tr>\n",
              "    <tr>\n",
              "      <th rowspan=\"2\" valign=\"top\">0</th>\n",
              "      <th>0</th>\n",
              "      <td>0.422619</td>\n",
              "      <td>0.444136</td>\n",
              "      <td>0.432135</td>\n",
              "    </tr>\n",
              "    <tr>\n",
              "      <th>1</th>\n",
              "      <td>0.333435</td>\n",
              "      <td>0.350799</td>\n",
              "      <td>0.330907</td>\n",
              "    </tr>\n",
              "    <tr>\n",
              "      <th rowspan=\"4\" valign=\"top\">4</th>\n",
              "      <th rowspan=\"2\" valign=\"top\">1</th>\n",
              "      <th>0</th>\n",
              "      <td>0.426943</td>\n",
              "      <td>0.445652</td>\n",
              "      <td>0.434448</td>\n",
              "    </tr>\n",
              "    <tr>\n",
              "      <th>1</th>\n",
              "      <td>0.345661</td>\n",
              "      <td>0.358949</td>\n",
              "      <td>0.339002</td>\n",
              "    </tr>\n",
              "    <tr>\n",
              "      <th rowspan=\"2\" valign=\"top\">0</th>\n",
              "      <th>0</th>\n",
              "      <td>0.422257</td>\n",
              "      <td>0.443297</td>\n",
              "      <td>0.431423</td>\n",
              "    </tr>\n",
              "    <tr>\n",
              "      <th>1</th>\n",
              "      <td>0.335943</td>\n",
              "      <td>0.351852</td>\n",
              "      <td>0.330709</td>\n",
              "    </tr>\n",
              "    <tr>\n",
              "      <th rowspan=\"4\" valign=\"top\">5</th>\n",
              "      <th rowspan=\"2\" valign=\"top\">1</th>\n",
              "      <th>0</th>\n",
              "      <td>0.427435</td>\n",
              "      <td>0.447372</td>\n",
              "      <td>0.435832</td>\n",
              "    </tr>\n",
              "    <tr>\n",
              "      <th>1</th>\n",
              "      <td>0.353041</td>\n",
              "      <td>0.364788</td>\n",
              "      <td>0.344533</td>\n",
              "    </tr>\n",
              "    <tr>\n",
              "      <th rowspan=\"2\" valign=\"top\">0</th>\n",
              "      <th>0</th>\n",
              "      <td>0.423800</td>\n",
              "      <td>0.444222</td>\n",
              "      <td>0.432533</td>\n",
              "    </tr>\n",
              "    <tr>\n",
              "      <th>1</th>\n",
              "      <td>0.340450</td>\n",
              "      <td>0.354249</td>\n",
              "      <td>0.331981</td>\n",
              "    </tr>\n",
              "  </tbody>\n",
              "</table>\n",
              "</div>"
            ],
            "text/plain": [
              "                                                         precision    recall  \\\n",
              "window size cbow mean value document vectorization mode                        \n",
              "1           1               0                             0.422613  0.446653   \n",
              "                            1                             0.352611  0.371021   \n",
              "            0               0                             0.419395  0.445181   \n",
              "                            1                             0.345092  0.362211   \n",
              "2           1               0                             0.426475  0.446491   \n",
              "                            1                             0.350722  0.366749   \n",
              "            0               0                             0.421411  0.443631   \n",
              "                            1                             0.331767  0.350294   \n",
              "3           1               0                             0.427579  0.445275   \n",
              "                            1                             0.338185  0.354660   \n",
              "            0               0                             0.422619  0.444136   \n",
              "                            1                             0.333435  0.350799   \n",
              "4           1               0                             0.426943  0.445652   \n",
              "                            1                             0.345661  0.358949   \n",
              "            0               0                             0.422257  0.443297   \n",
              "                            1                             0.335943  0.351852   \n",
              "5           1               0                             0.427435  0.447372   \n",
              "                            1                             0.353041  0.364788   \n",
              "            0               0                             0.423800  0.444222   \n",
              "                            1                             0.340450  0.354249   \n",
              "\n",
              "                                                         f1-score  \n",
              "window size cbow mean value document vectorization mode            \n",
              "1           1               0                            0.433807  \n",
              "                            1                            0.359285  \n",
              "            0               0                            0.431673  \n",
              "                            1                            0.347953  \n",
              "2           1               0                            0.434913  \n",
              "                            1                            0.352277  \n",
              "            0               0                            0.431418  \n",
              "                            1                            0.330825  \n",
              "3           1               0                            0.434316  \n",
              "                            1                            0.336320  \n",
              "            0               0                            0.432135  \n",
              "                            1                            0.330907  \n",
              "4           1               0                            0.434448  \n",
              "                            1                            0.339002  \n",
              "            0               0                            0.431423  \n",
              "                            1                            0.330709  \n",
              "5           1               0                            0.435832  \n",
              "                            1                            0.344533  \n",
              "            0               0                            0.432533  \n",
              "                            1                            0.331981  "
            ]
          },
          "execution_count": 52,
          "metadata": {},
          "output_type": "execute_result"
        }
      ],
      "source": [
        "cbow_results"
      ]
    },
    {
      "cell_type": "markdown",
      "metadata": {},
      "source": [
        "## Skip Gram\n",
        "\n",
        "The parameters tested are window, and vec_mode.\n",
        "- window determines how many context words around the target word to use.\n",
        "- vec_mode is either 1 or 0, and indicates whether the document vector should be the sum(0) or average(1) of its word vectors.  \n",
        "\n",
        "\n",
        "It is observed that the highest macro-f1 score is obtained when the window size is 2 and the vec_mode is 0."
      ]
    },
    {
      "cell_type": "code",
      "execution_count": 53,
      "metadata": {},
      "outputs": [],
      "source": [
        "windows = np.arange(1, 6)\n",
        "vectorization_modes = [0, 1]\n",
        "\n",
        "skipgram_parameters = [(window, vec_mode)\n",
        "                       for window in windows for vec_mode in vectorization_modes]\n",
        "\n",
        "results_sg = {}\n",
        "for window, vec_mode in skipgram_parameters:\n",
        "    skipgram = Word2Vec(\n",
        "        sentences=X,\n",
        "        window=window,  # how many context words before and after target word to consider\n",
        "        min_count=1,  # ignore words with frequency lower than this\n",
        "        sg=1,  # 0 to use cbow, 1 for skipgram\n",
        "    )\n",
        "    skipgram.train(X, total_examples=skipgram.corpus_count,\n",
        "                   epochs=skipgram.epochs)\n",
        "    # After training, KeyedVector object is used\n",
        "    skipgram_model = skipgram.wv\n",
        "\n",
        "    # Get the embeddings of train and test set\n",
        "    X_train_sg = normalize_vectors(\n",
        "        np.array([vectorize_sentence(x, skipgram_model, vec_mode) for x in X_train]))\n",
        "    X_test_sg = normalize_vectors(\n",
        "        np.array([vectorize_sentence(x, skipgram_model, vec_mode) for x in X_test]))\n",
        "\n",
        "    # Test NB\n",
        "    nb_sg = MultinomialNB()\n",
        "    nb_sg.fit(X_train_sg, y_train)\n",
        "    y_pred_sg = nb_sg.predict(X_test_sg)\n",
        "\n",
        "    prec, recall, f1, support = precision_recall_fscore_support(\n",
        "        y_test, y_pred_sg, beta=1.0, average='macro', zero_division=0)\n",
        "    results_sg[(window, vec_mode)] = {\n",
        "        'precision': prec, 'recall': recall, 'f1-score': f1}\n"
      ]
    },
    {
      "cell_type": "code",
      "execution_count": 54,
      "metadata": {},
      "outputs": [
        {
          "data": {
            "text/plain": [
              "precision    (5, 1)\n",
              "recall       (1, 0)\n",
              "f1-score     (2, 0)\n",
              "dtype: object"
            ]
          },
          "execution_count": 54,
          "metadata": {},
          "output_type": "execute_result"
        }
      ],
      "source": [
        "skipgram_results = pd.DataFrame.from_dict(results_sg, orient='index', columns=[\n",
        "                                          'precision', 'recall', 'f1-score'])\n",
        "skipgram_results.index.names = ['window size', 'document vectorization mode']\n",
        "# get n-grams corresponding to max f1 score\n",
        "skipgram_results.idxmax()\n",
        "# skipgram_results.max()\n"
      ]
    },
    {
      "cell_type": "code",
      "execution_count": 55,
      "metadata": {},
      "outputs": [
        {
          "data": {
            "text/html": [
              "<div>\n",
              "<style scoped>\n",
              "    .dataframe tbody tr th:only-of-type {\n",
              "        vertical-align: middle;\n",
              "    }\n",
              "\n",
              "    .dataframe tbody tr th {\n",
              "        vertical-align: top;\n",
              "    }\n",
              "\n",
              "    .dataframe thead th {\n",
              "        text-align: right;\n",
              "    }\n",
              "</style>\n",
              "<table border=\"1\" class=\"dataframe\">\n",
              "  <thead>\n",
              "    <tr style=\"text-align: right;\">\n",
              "      <th></th>\n",
              "      <th></th>\n",
              "      <th>precision</th>\n",
              "      <th>recall</th>\n",
              "      <th>f1-score</th>\n",
              "    </tr>\n",
              "    <tr>\n",
              "      <th>window size</th>\n",
              "      <th>document vectorization mode</th>\n",
              "      <th></th>\n",
              "      <th></th>\n",
              "      <th></th>\n",
              "    </tr>\n",
              "  </thead>\n",
              "  <tbody>\n",
              "    <tr>\n",
              "      <th rowspan=\"2\" valign=\"top\">1</th>\n",
              "      <th>0</th>\n",
              "      <td>0.428785</td>\n",
              "      <td>0.451234</td>\n",
              "      <td>0.438926</td>\n",
              "    </tr>\n",
              "    <tr>\n",
              "      <th>1</th>\n",
              "      <td>0.365810</td>\n",
              "      <td>0.369583</td>\n",
              "      <td>0.347570</td>\n",
              "    </tr>\n",
              "    <tr>\n",
              "      <th rowspan=\"2\" valign=\"top\">2</th>\n",
              "      <th>0</th>\n",
              "      <td>0.446911</td>\n",
              "      <td>0.450874</td>\n",
              "      <td>0.442435</td>\n",
              "    </tr>\n",
              "    <tr>\n",
              "      <th>1</th>\n",
              "      <td>0.475548</td>\n",
              "      <td>0.355251</td>\n",
              "      <td>0.301195</td>\n",
              "    </tr>\n",
              "    <tr>\n",
              "      <th rowspan=\"2\" valign=\"top\">3</th>\n",
              "      <th>0</th>\n",
              "      <td>0.453484</td>\n",
              "      <td>0.443785</td>\n",
              "      <td>0.436209</td>\n",
              "    </tr>\n",
              "    <tr>\n",
              "      <th>1</th>\n",
              "      <td>0.457607</td>\n",
              "      <td>0.349078</td>\n",
              "      <td>0.289521</td>\n",
              "    </tr>\n",
              "    <tr>\n",
              "      <th rowspan=\"2\" valign=\"top\">4</th>\n",
              "      <th>0</th>\n",
              "      <td>0.455439</td>\n",
              "      <td>0.438665</td>\n",
              "      <td>0.430870</td>\n",
              "    </tr>\n",
              "    <tr>\n",
              "      <th>1</th>\n",
              "      <td>0.469727</td>\n",
              "      <td>0.344712</td>\n",
              "      <td>0.279715</td>\n",
              "    </tr>\n",
              "    <tr>\n",
              "      <th rowspan=\"2\" valign=\"top\">5</th>\n",
              "      <th>0</th>\n",
              "      <td>0.460549</td>\n",
              "      <td>0.432287</td>\n",
              "      <td>0.423776</td>\n",
              "    </tr>\n",
              "    <tr>\n",
              "      <th>1</th>\n",
              "      <td>0.539983</td>\n",
              "      <td>0.344797</td>\n",
              "      <td>0.277296</td>\n",
              "    </tr>\n",
              "  </tbody>\n",
              "</table>\n",
              "</div>"
            ],
            "text/plain": [
              "                                         precision    recall  f1-score\n",
              "window size document vectorization mode                               \n",
              "1           0                             0.428785  0.451234  0.438926\n",
              "            1                             0.365810  0.369583  0.347570\n",
              "2           0                             0.446911  0.450874  0.442435\n",
              "            1                             0.475548  0.355251  0.301195\n",
              "3           0                             0.453484  0.443785  0.436209\n",
              "            1                             0.457607  0.349078  0.289521\n",
              "4           0                             0.455439  0.438665  0.430870\n",
              "            1                             0.469727  0.344712  0.279715\n",
              "5           0                             0.460549  0.432287  0.423776\n",
              "            1                             0.539983  0.344797  0.277296"
            ]
          },
          "execution_count": 55,
          "metadata": {},
          "output_type": "execute_result"
        }
      ],
      "source": [
        "skipgram_results"
      ]
    },
    {
      "cell_type": "markdown",
      "metadata": {},
      "source": [
        "### Using Pre-trained Word2Vec Model\n",
        "Using pre-trained word2vec model from Google, which has 3 million words. Trained on 100 billion words from the google news dataset. Unsure if it uses CBOW or SkipGram or both\n",
        "\n",
        "From https://thinkingneuron.com/how-to-classify-text-using-word2vec/\n",
        "Google Model can be downloaded from https://thinkingneuron.com/how-to-classify-text-using-word2vec/#:~:text=download%20link%3A%20https%3A%2F%2Fdrive.google.com%2Ffile%2Fd%2F0b7xkcwpi5kdynlnuttlss21pqmm%2Fedit%3Fusp%3Dsharing"
      ]
    },
    {
      "cell_type": "code",
      "execution_count": null,
      "metadata": {},
      "outputs": [],
      "source": [
        "# load the word vectors from Google Model (1GB)\n",
        "# Will take time because 3 mil words.\n",
        "# Download model from https://thinkingneuron.com/how-to-classify-text-using-word2vec/#:~:text=download%20link%3A%20https%3A%2F%2Fdrive.google.com%2Ffile%2Fd%2F0b7xkcwpi5kdynlnuttlss21pqmm%2Fedit%3Fusp%3Dsharing\n",
        "GoogleModel = gensim.models.KeyedVectors.load_word2vec_format('/mnt/d/Andrea/Heriot-Watt/year-4/f20aa/f20aa-coursework-1/GoogleNews-vectors-negative300.bin', binary=True)\n"
      ]
    },
    {
      "cell_type": "markdown",
      "metadata": {},
      "source": [
        "The 2 ways to vectorize documents using the Word2Vec model is either by summing (mode=0) or averaging (mode=1) each of the word vectors in the document.\n",
        "\n",
        "It is obeserved that the highest macro-f1 score is obtained when the word vectors are summed."
      ]
    },
    {
      "cell_type": "code",
      "execution_count": null,
      "metadata": {},
      "outputs": [
        {
          "name": "stdout",
          "output_type": "stream",
          "text": [
            "0\n",
            "1\n"
          ]
        }
      ],
      "source": [
        "modes = np.arange(0,2)\n",
        "w2v_data_mode0 = 0\n",
        "w2v_data_mode1 = 0\n",
        "\n",
        "results_google_model = {}\n",
        "for mode in modes:\n",
        "    print(mode)\n",
        "    w2v_data = vectorize_sentence_2(X, GoogleModel, mode=mode)\n",
        "    \n",
        "    # Get train and test values\n",
        "    X_w2v = w2v_data.values\n",
        "    y_w2v = y.values\n",
        "\n",
        "    # scale because NB doesnt accept negative values\n",
        "    X_w2v_scaled = normalize_vectors(X_w2v)\n",
        "\n",
        "    X_train_w2v, X_test_w2v, y_train_w2v, y_test_w2v = train_test_split(\n",
        "        X_w2v_scaled, y_w2v, test_size=0.2, random_state=42,\n",
        "        stratify=y)\n",
        "\n",
        "    nb = MultinomialNB()\n",
        "    nb.fit(X_train_w2v, y_train_w2v)\n",
        "    y_pred_w2v = nb.predict(X_test_w2v)\n",
        "\n",
        "    prec, recall, f1, support = precision_recall_fscore_support(\n",
        "        y_test_w2v, y_pred_w2v, beta=1.0, average='macro', zero_division=0)\n",
        "    results_google_model[mode] = {\n",
        "        'precision': prec, 'recall': recall, 'f1-score': f1}\n"
      ]
    },
    {
      "cell_type": "code",
      "execution_count": null,
      "metadata": {},
      "outputs": [
        {
          "data": {
            "text/plain": [
              "precision    0\n",
              "recall       0\n",
              "f1-score     0\n",
              "dtype: int64"
            ]
          },
          "metadata": {},
          "output_type": "display_data"
        }
      ],
      "source": [
        "google_model_results = pd.DataFrame.from_dict(\n",
        "    results_google_model, orient='index', columns=['precision', 'recall', 'f1-score'])\n",
        "google_model_results.index.names = ['document vectorization mode']\n",
        "# get n-grams corresponding to max f1 score\n",
        "google_model_results.idxmax()\n"
      ]
    },
    {
      "cell_type": "code",
      "execution_count": null,
      "metadata": {},
      "outputs": [
        {
          "data": {
            "text/html": [
              "<div>\n",
              "<style scoped>\n",
              "    .dataframe tbody tr th:only-of-type {\n",
              "        vertical-align: middle;\n",
              "    }\n",
              "\n",
              "    .dataframe tbody tr th {\n",
              "        vertical-align: top;\n",
              "    }\n",
              "\n",
              "    .dataframe thead th {\n",
              "        text-align: right;\n",
              "    }\n",
              "</style>\n",
              "<table border=\"1\" class=\"dataframe\">\n",
              "  <thead>\n",
              "    <tr style=\"text-align: right;\">\n",
              "      <th></th>\n",
              "      <th>precision</th>\n",
              "      <th>recall</th>\n",
              "      <th>f1-score</th>\n",
              "    </tr>\n",
              "    <tr>\n",
              "      <th>document vectorization mode</th>\n",
              "      <th></th>\n",
              "      <th></th>\n",
              "      <th></th>\n",
              "    </tr>\n",
              "  </thead>\n",
              "  <tbody>\n",
              "    <tr>\n",
              "      <th>0</th>\n",
              "      <td>0.640870</td>\n",
              "      <td>0.423317</td>\n",
              "      <td>0.418179</td>\n",
              "    </tr>\n",
              "    <tr>\n",
              "      <th>1</th>\n",
              "      <td>0.204365</td>\n",
              "      <td>0.333333</td>\n",
              "      <td>0.253383</td>\n",
              "    </tr>\n",
              "  </tbody>\n",
              "</table>\n",
              "</div>"
            ],
            "text/plain": [
              "                             precision    recall  f1-score\n",
              "document vectorization mode                               \n",
              "0                             0.640870  0.423317  0.418179\n",
              "1                             0.204365  0.333333  0.253383"
            ]
          },
          "metadata": {},
          "output_type": "display_data"
        }
      ],
      "source": [
        "google_model_results"
      ]
    },
    {
      "cell_type": "markdown",
      "metadata": {},
      "source": [
        "## Comparison of Text Representation Models\n",
        "The different models are compared based on their macroaveraged precision, recall, and f1 score.\n",
        "Values that are closer to one are optimal.\n",
        "\n",
        "|Model|Precision|Recall|F-1|\n",
        "|---|---|---|---|\n",
        "|Bag Of Words (Unigram)|0.75|0.60|0.65|\n",
        "|N-gram range (1,6)|0.87|0.62|0.68|\n",
        "|TF-IDF on n-gram range (2,2)|0.86|0.50|0.51|\n",
        "|CBOW (Trained on scraped tweets corpus)|0.43|0.45|0.44|\n",
        "|Skip-gram (Trained on scraped tweets corpus)|0.44|0.45|0.44|\n",
        "|Word2Vec model (Trained on Google News Corpus)|0.64|0.42|0.41|\n",
        "\n",
        "\n",
        "It was expected that the more sophisticated models - those which take into account the context of words - would perform better. However, based on the results the more primitive approaches performed better. This could be due to our small dataset.\n",
        "\n",
        "The n-gram model with range (1,6) was the best performer in terms of macro F-1 score, which is the unweighted harmonic mean of the precision and recall values.\n",
        "\n",
        "\n"
      ]
    },
    {
      "cell_type": "markdown",
      "metadata": {},
      "source": [
        "# Classification Models"
      ]
    },
    {
      "attachments": {},
      "cell_type": "markdown",
      "metadata": {},
      "source": [
        "### 1. Logistic Regression with N-grams range (1,6)"
      ]
    },
    {
      "cell_type": "code",
      "execution_count": 57,
      "metadata": {},
      "outputs": [
        {
          "name": "stdout",
          "output_type": "stream",
          "text": [
            "              precision    recall  f1-score   support\n",
            "\n",
            "          -1       1.00      0.29      0.44        77\n",
            "           0       0.73      0.83      0.78       378\n",
            "           1       0.87      0.88      0.87       721\n",
            "\n",
            "    accuracy                           0.82      1176\n",
            "   macro avg       0.87      0.66      0.70      1176\n",
            "weighted avg       0.84      0.82      0.82      1176\n",
            "\n"
          ]
        }
      ],
      "source": [
        "ngram = CountVectorizer(\n",
        "    ngram_range=(1, 6),  # ngrams where n is 1 through 5\n",
        "    preprocessor=lambda x: x,  # override preprocessing\n",
        "    tokenizer=lambda x: x,  # override tokenization\n",
        ")\n",
        "\n",
        "ngram_lr = Pipeline([\n",
        "    ('ngram', ngram),\n",
        "    ('logistic_regression', LogisticRegression())\n",
        "])\n",
        "\n",
        "ngram_lr.fit(X_train, y_train)\n",
        "ngram_lr_y_pred = ngram_lr.predict(X_test)\n",
        "print(classification_report(y_test, ngram_lr_y_pred))\n"
      ]
    },
    {
      "cell_type": "markdown",
      "metadata": {},
      "source": [
        "### Experimenting with Hyperparameters\n"
      ]
    },
    {
      "cell_type": "code",
      "execution_count": 58,
      "metadata": {},
      "outputs": [],
      "source": [
        "\n",
        "ngram_lrNTTest = Pipeline([\n",
        "    ('ngram', ngram),\n",
        "    ('logistic_regression', LogisticRegression(solver='newton-cg'))\n",
        "])\n",
        "\n",
        "ngram_lrSATest = Pipeline([\n",
        "    ('ngram', ngram),\n",
        "    ('logistic_regression', LogisticRegression(solver='sag'))\n",
        "])\n",
        "\n",
        "ngram_lrSGTest = Pipeline([\n",
        "    ('ngram', ngram),\n",
        "    ('logistic_regression', LogisticRegression(solver='saga'))\n",
        "])"
      ]
    },
    {
      "cell_type": "code",
      "execution_count": 59,
      "metadata": {},
      "outputs": [
        {
          "name": "stdout",
          "output_type": "stream",
          "text": [
            "For Pipeline(steps=[('ngram',\n",
            "                 CountVectorizer(ngram_range=(1, 6),\n",
            "                                 preprocessor=<function <lambda> at 0x000002B409F7B790>,\n",
            "                                 tokenizer=<function <lambda> at 0x000002B409F7B5E0>)),\n",
            "                ('logistic_regression',\n",
            "                 LogisticRegression(solver='newton-cg'))])\n",
            "              precision    recall  f1-score   support\n",
            "\n",
            "          -1       1.00      0.29      0.44        77\n",
            "           0       0.73      0.83      0.78       378\n",
            "           1       0.87      0.88      0.87       721\n",
            "\n",
            "    accuracy                           0.82      1176\n",
            "   macro avg       0.87      0.66      0.70      1176\n",
            "weighted avg       0.84      0.82      0.82      1176\n",
            "\n"
          ]
        },
        {
          "name": "stderr",
          "output_type": "stream",
          "text": [
            "c:\\Users\\alora\\anaconda3\\lib\\site-packages\\sklearn\\linear_model\\_sag.py:352: ConvergenceWarning: The max_iter was reached which means the coef_ did not converge\n",
            "  warnings.warn(\n"
          ]
        },
        {
          "name": "stdout",
          "output_type": "stream",
          "text": [
            "For Pipeline(steps=[('ngram',\n",
            "                 CountVectorizer(ngram_range=(1, 6),\n",
            "                                 preprocessor=<function <lambda> at 0x000002B409F7B790>,\n",
            "                                 tokenizer=<function <lambda> at 0x000002B409F7B5E0>)),\n",
            "                ('logistic_regression', LogisticRegression(solver='sag'))])\n",
            "              precision    recall  f1-score   support\n",
            "\n",
            "          -1       1.00      0.30      0.46        77\n",
            "           0       0.75      0.79      0.77       378\n",
            "           1       0.86      0.90      0.88       721\n",
            "\n",
            "    accuracy                           0.82      1176\n",
            "   macro avg       0.87      0.66      0.70      1176\n",
            "weighted avg       0.83      0.82      0.82      1176\n",
            "\n",
            "For Pipeline(steps=[('ngram',\n",
            "                 CountVectorizer(ngram_range=(1, 6),\n",
            "                                 preprocessor=<function <lambda> at 0x000002B409F7B790>,\n",
            "                                 tokenizer=<function <lambda> at 0x000002B409F7B5E0>)),\n",
            "                ('logistic_regression', LogisticRegression(solver='saga'))])\n",
            "              precision    recall  f1-score   support\n",
            "\n",
            "          -1       1.00      0.30      0.46        77\n",
            "           0       0.76      0.79      0.77       378\n",
            "           1       0.85      0.90      0.88       721\n",
            "\n",
            "    accuracy                           0.82      1176\n",
            "   macro avg       0.87      0.66      0.70      1176\n",
            "weighted avg       0.83      0.82      0.82      1176\n",
            "\n"
          ]
        },
        {
          "name": "stderr",
          "output_type": "stream",
          "text": [
            "c:\\Users\\alora\\anaconda3\\lib\\site-packages\\sklearn\\linear_model\\_sag.py:352: ConvergenceWarning: The max_iter was reached which means the coef_ did not converge\n",
            "  warnings.warn(\n"
          ]
        }
      ],
      "source": [
        "clf = [\n",
        "    ngram_lrNTTest, ngram_lrSATest, ngram_lrSGTest\n",
        "    ]\n",
        "\n",
        "\n",
        "for alg in clf:\n",
        "    predicted = alg.fit(X_train, y_train).predict(X_test)\n",
        "    clf_name = alg\n",
        "    \n",
        "    print(\"For {}\".format(clf_name))\n",
        "    print(classification_report(y_test, predicted))"
      ]
    },
    {
      "cell_type": "markdown",
      "metadata": {},
      "source": [
        "All of the solvers had the same weighted F1 average, however, newton-cg and lbfgs had a 0.01 increase in weighted average precision."
      ]
    },
    {
      "cell_type": "markdown",
      "metadata": {},
      "source": [
        "### 2. FastText with (1,6) Ngrams"
      ]
    },
    {
      "cell_type": "markdown",
      "metadata": {},
      "source": [
        "FastText is an open-source library created by Facebook AI Research lab. Setup instructions are here: https://fasttext.cc/docs/en/supervised-tutorial.html#installing-fasttext"
      ]
    },
    {
      "cell_type": "markdown",
      "metadata": {},
      "source": [
        "Documentation: https://github.com/facebookresearch/fastText#full-documentation"
      ]
    },
    {
      "cell_type": "code",
      "execution_count": 60,
      "metadata": {},
      "outputs": [],
      "source": [
        "# pip install fasttext\n"
      ]
    },
    {
      "cell_type": "markdown",
      "metadata": {},
      "source": [
        "Reformatting the dataset as FastText expects each row of data to be in the form:\n",
        "__label__sentiment tweet "
      ]
    },
    {
      "cell_type": "code",
      "execution_count": 61,
      "metadata": {},
      "outputs": [
        {
          "data": {
            "text/plain": [
              "(5878, 2)"
            ]
          },
          "execution_count": 61,
          "metadata": {},
          "output_type": "execute_result"
        }
      ],
      "source": [
        "ftDf = updated_dataset[['TextBlob Sentiment', 'Lemmatized Text']].copy()\n",
        "ftDf.iloc[:, 0] = ftDf.iloc[:, 0].apply(lambda x: '__label__' + x)\n",
        "ftDf.shape\n"
      ]
    },
    {
      "cell_type": "code",
      "execution_count": 62,
      "metadata": {},
      "outputs": [],
      "source": [
        "# Splitting into test and train\n",
        "training = ftDf.sample(frac=0.7)\n",
        "testing = ftDf.drop(training.index)\n",
        "\n",
        "training.to_csv('train.txt',\n",
        "                index=False,\n",
        "                sep=' ',\n",
        "                header=None,\n",
        "                quoting=csv.QUOTE_NONE,\n",
        "                quotechar=\"\",\n",
        "                escapechar=\" \")\n",
        "\n",
        "testing.to_csv('test.txt',\n",
        "               index=False,\n",
        "               sep=' ',\n",
        "               header=None,\n",
        "               quoting=csv.QUOTE_NONE,\n",
        "               quotechar=\"\",\n",
        "               escapechar=\" \")\n"
      ]
    },
    {
      "cell_type": "markdown",
      "metadata": {},
      "source": [
        "Creating a classification model now using (1,6) Ngrams range, since that was the best performing representation."
      ]
    },
    {
      "cell_type": "markdown",
      "metadata": {},
      "source": [
        "According to documentation, using wordNgrams parameter sets the max value of word nGrams, implying that it uses word nGrams up to the max. This is also supported by the following discussion thread: https://stackoverflow.com/questions/72248318/how-to-work-with-a-range-of-n-grams-on-facebook-fasttext"
      ]
    },
    {
      "cell_type": "code",
      "execution_count": 63,
      "metadata": {},
      "outputs": [],
      "source": [
        "ftModel = fasttext.train_supervised(input ='train.txt', autotuneValidationFile = 'test.txt', wordNgrams=6)\n"
      ]
    },
    {
      "cell_type": "code",
      "execution_count": 64,
      "metadata": {},
      "outputs": [
        {
          "data": {
            "text/plain": [
              "(1763, 0.8145207033465683, 0.8145207033465683)"
            ]
          },
          "execution_count": 64,
          "metadata": {},
          "output_type": "execute_result"
        }
      ],
      "source": [
        "ftModel.test('test.txt')\n"
      ]
    },
    {
      "cell_type": "markdown",
      "metadata": {},
      "source": [
        "On the test set, fastText model had a precision score of 0.81 ad a recall score of 0.81. This model has already optimized its parameters due to the autotuneValidationFile parameter. It searches for the best performing parameters that obtain the highest F1-score."
      ]
    },
    {
      "cell_type": "markdown",
      "metadata": {},
      "source": [
        "### 3. Decision Tree Classifier"
      ]
    },
    {
      "cell_type": "code",
      "execution_count": 65,
      "metadata": {},
      "outputs": [
        {
          "name": "stdout",
          "output_type": "stream",
          "text": [
            "              precision    recall  f1-score   support\n",
            "\n",
            "          -1       0.78      0.36      0.50        77\n",
            "           0       0.78      0.85      0.82       378\n",
            "           1       0.89      0.90      0.89       721\n",
            "\n",
            "    accuracy                           0.85      1176\n",
            "   macro avg       0.82      0.70      0.73      1176\n",
            "weighted avg       0.85      0.85      0.84      1176\n",
            "\n"
          ]
        }
      ],
      "source": [
        "ngram_dt = Pipeline([\n",
        "    ('ngram', ngram),\n",
        "    ('decision_tree', tree.DecisionTreeClassifier())\n",
        "])\n",
        "\n",
        "ngram_dt.fit(X_train, y_train)\n",
        "ngram_dt_y_pred = ngram_dt.predict(X_test)\n",
        "print(classification_report(y_test, ngram_dt_y_pred))"
      ]
    },
    {
      "cell_type": "code",
      "execution_count": 66,
      "metadata": {},
      "outputs": [
        {
          "name": "stdout",
          "output_type": "stream",
          "text": [
            "For gini criterion and 5 max_depth\n",
            "0.46991819919191113\n",
            "For gini criterion and 10 max_depth\n",
            "0.4714285121620772\n",
            "For gini criterion and 15 max_depth\n",
            "0.63296962333939\n",
            "For gini criterion and 20 max_depth\n",
            "0.659640669858973\n",
            "For gini criterion and 25 max_depth\n",
            "0.6692881092520062\n",
            "For gini criterion and 30 max_depth\n",
            "0.6886124301790753\n",
            "For entropy criterion and 5 max_depth\n",
            "0.4718429302725755\n",
            "For entropy criterion and 10 max_depth\n",
            "0.47334030957808976\n",
            "For entropy criterion and 15 max_depth\n",
            "0.6332106593725392\n",
            "For entropy criterion and 20 max_depth\n",
            "0.650929433051901\n",
            "For entropy criterion and 25 max_depth\n",
            "0.6726654039332489\n",
            "For entropy criterion and 30 max_depth\n",
            "0.6836410761591751\n"
          ]
        }
      ],
      "source": [
        "\n",
        "criterion = ['gini', 'entropy']\n",
        "max_depth = [5,10,15,20,25,30]\n",
        "\n",
        "for criteria in criterion:\n",
        "    for depth in max_depth:\n",
        "        ngram_dtTest = Pipeline([\n",
        "            ('ngram', ngram),\n",
        "            ('decision_tree', tree.DecisionTreeClassifier(criterion=criteria, max_depth=depth))])\n",
        "        \n",
        "        \n",
        "        predictions = ngram_dtTest.fit(X_train, y_train).predict(X_test)\n",
        "        print(\"For {} criterion and {} max_depth\".format(criteria, depth))\n",
        "        print(sklearn.metrics.f1_score(y_test, predictions,average='weighted',zero_division=0))"
      ]
    },
    {
      "cell_type": "markdown",
      "metadata": {},
      "source": [
        "From the results, it can be observed that gini criterion and entropy criterion performed the best at 30 max depth, with gini criterion slightly above by <1%. "
      ]
    },
    {
      "cell_type": "code",
      "execution_count": 67,
      "metadata": {},
      "outputs": [
        {
          "name": "stdout",
          "output_type": "stream",
          "text": [
            "For 2 min samples/leaf and 2 min samples/split\n",
            "0.6840857302823012\n",
            "For 2 min samples/leaf and 4 min samples/split\n",
            "0.6850008499792474\n",
            "For 2 min samples/leaf and 6 min samples/split\n",
            "0.6827655552877487\n",
            "For 2 min samples/leaf and 8 min samples/split\n",
            "0.6847593426112045\n",
            "For 2 min samples/leaf and 10 min samples/split\n",
            "0.6838503443060235\n",
            "For 4 min samples/leaf and 2 min samples/split\n",
            "0.6833952324099223\n",
            "For 4 min samples/leaf and 4 min samples/split\n",
            "0.6833952324099223\n",
            "For 4 min samples/leaf and 6 min samples/split\n",
            "0.6833952324099223\n",
            "For 4 min samples/leaf and 8 min samples/split\n",
            "0.6833952324099223\n",
            "For 4 min samples/leaf and 10 min samples/split\n",
            "0.6833952324099223\n",
            "For 6 min samples/leaf and 2 min samples/split\n",
            "0.6842883253140102\n",
            "For 6 min samples/leaf and 4 min samples/split\n",
            "0.6842883253140102\n",
            "For 6 min samples/leaf and 6 min samples/split\n",
            "0.6842883253140102\n",
            "For 6 min samples/leaf and 8 min samples/split\n",
            "0.6842883253140102\n",
            "For 6 min samples/leaf and 10 min samples/split\n",
            "0.6842883253140102\n",
            "For 8 min samples/leaf and 2 min samples/split\n",
            "0.683450712709954\n",
            "For 8 min samples/leaf and 4 min samples/split\n",
            "0.683450712709954\n",
            "For 8 min samples/leaf and 6 min samples/split\n",
            "0.683450712709954\n",
            "For 8 min samples/leaf and 8 min samples/split\n",
            "0.683450712709954\n",
            "For 8 min samples/leaf and 10 min samples/split\n",
            "0.683450712709954\n",
            "For 10 min samples/leaf and 2 min samples/split\n",
            "0.6842883253140102\n",
            "For 10 min samples/leaf and 4 min samples/split\n",
            "0.6842883253140102\n",
            "For 10 min samples/leaf and 6 min samples/split\n",
            "0.6842883253140102\n",
            "For 10 min samples/leaf and 8 min samples/split\n",
            "0.6842883253140102\n",
            "For 10 min samples/leaf and 10 min samples/split\n",
            "0.6842883253140102\n"
          ]
        }
      ],
      "source": [
        "min_samples_leaf = [2, 4, 6, 8, 10]\n",
        "min_samples_split= [2, 4, 6, 8, 10]\n",
        "\n",
        "for leaf in min_samples_leaf:\n",
        "    for split in min_samples_split:\n",
        "        ngram_dtTest = Pipeline([\n",
        "            ('ngram', ngram),\n",
        "            ('decision_tree', tree.DecisionTreeClassifier(criterion='gini', max_depth=30, min_samples_split=split, min_samples_leaf=leaf))])\n",
        "        \n",
        "        \n",
        "        predictions = ngram_dtTest.fit(X_train, y_train).predict(X_test)\n",
        "        print(\"For {} min samples/leaf and {} min samples/split\".format(leaf, split))\n",
        "        print(sklearn.metrics.f1_score(y_test, predictions,average='weighted',zero_division=0))"
      ]
    },
    {
      "cell_type": "markdown",
      "metadata": {},
      "source": [
        "The average weighted F1 score didn't vary by more than 1%, however, the best performing model would still be the default model at the beginning, which used:\n",
        "criterion = gini,\n",
        "max_depth = 'None',\n",
        "min_samples_split = 2,\n",
        "min_samples_leaf = 1."
      ]
    },
    {
      "cell_type": "markdown",
      "metadata": {},
      "source": [
        "# Visualization and Insights"
      ]
    },
    {
      "cell_type": "markdown",
      "metadata": {},
      "source": [
        "### Tweets/Labelling"
      ]
    },
    {
      "cell_type": "code",
      "execution_count": 68,
      "metadata": {},
      "outputs": [
        {
          "data": {
            "image/png": "[encoded data removed]",
            "text/plain": [
              "<Figure size 432x288 with 1 Axes>"
            ]
          },
          "metadata": {},
          "output_type": "display_data"
        }
      ],
      "source": [
        "label_count = updated_dataset['Vader Sentiment'].value_counts()\n",
        "plt.pie(label_count.values, labels=label_count.index, autopct= '%1.2f', colors= ['g', 'y', 'r'], startangle= 90)\n",
        "plt.title(\"Division of Tweets by Sentiment\")\n",
        "plt.show()"
      ]
    },
    {
      "cell_type": "markdown",
      "metadata": {},
      "source": [
        "As mentioned previously in the data labelling section, majority of the tweets are postive and neutral at 61.31% and 32.15% respectively with only ~6.53% negative tweets based on labelling with Vader."
      ]
    },
    {
      "cell_type": "code",
      "execution_count": 69,
      "metadata": {},
      "outputs": [
        {
          "data": {
            "text/plain": [
              "Text(0.5, 1.0, 'Number of Tweets // Compound')"
            ]
          },
          "execution_count": 69,
          "metadata": {},
          "output_type": "execute_result"
        },
        {
          "data": {
            "image/png": "[encoded data removed]",
            "text/plain": [
              "<Figure size 432x288 with 1 Axes>"
            ]
          },
          "metadata": {
            "needs_background": "light"
          },
          "output_type": "display_data"
        }
      ],
      "source": [
        "compound = []\n",
        "for i in updated_dataset['Vader Analysis']:\n",
        "    compound.append(i.get('compound'))\n",
        "\n",
        "pd.Series(compound).hist()\n",
        "plt.title('Number of Tweets // Compound')"
      ]
    },
    {
      "cell_type": "markdown",
      "metadata": {},
      "source": [
        "This histogram shows the compound values assigned to the tweets using Vader sentiment. Following the norm, tweets with compound values more than 0.05 are marked as positive and tweets with values less than -0.05 are marked as negative, ones with the values in between are neutral. From the histogram, it's clear that most tweets have been assigned values more than ~ -0.15, showing us that more than 90% of the tweets and positive and neutral with very few negative. This imbalance in data is probably due to the lack of proper sentiment represented in the scrapped tweets, as most of the tweets are advertisements or bot spams which will be discussed on more in the below sections."
      ]
    },
    {
      "cell_type": "markdown",
      "metadata": {},
      "source": [
        "### Analysing Each Sentiment"
      ]
    },
    {
      "cell_type": "markdown",
      "metadata": {},
      "source": [
        "#### Postive Tweets"
      ]
    },
    {
      "cell_type": "markdown",
      "metadata": {},
      "source": [
        "##### Word Cloud for Positive Tweets"
      ]
    },
    {
      "cell_type": "code",
      "execution_count": 70,
      "metadata": {},
      "outputs": [
        {
          "data": {
            "image/png": "[encoded data removed]",
            "text/plain": [
              "<Figure size 432x288 with 1 Axes>"
            ]
          },
          "metadata": {
            "needs_background": "light"
          },
          "output_type": "display_data"
        }
      ],
      "source": [
        "positive = updated_dataset[updated_dataset['Vader Sentiment']=='Positive']\n",
        "positives = ' '.join(tweet for tweet in positive['Cleaned Text'])\n",
        "wordcloud_pos = WordCloud().generate(positives)\n",
        "\n",
        "plt.figure()\n",
        "plt.imshow(wordcloud_pos)\n",
        "plt.axis('off')\n",
        "plt.show()"
      ]
    },
    {
      "cell_type": "markdown",
      "metadata": {},
      "source": [
        "##### Bar Chart showing most popular tokens for Positive Tweets"
      ]
    },
    {
      "cell_type": "code",
      "execution_count": 71,
      "metadata": {},
      "outputs": [
        {
          "data": {
            "image/png": "[encoded data removed]",
            "text/plain": [
              "<Figure size 432x288 with 1 Axes>"
            ]
          },
          "metadata": {
            "needs_background": "light"
          },
          "output_type": "display_data"
        }
      ],
      "source": [
        "def plot_tokens(tweet):\n",
        "    text = [word for i in tweet for word in i]\n",
        "\n",
        "    n = Counter(text)\n",
        "    common = n.most_common()\n",
        "    amounts, tokens = [], []\n",
        "    for token, amount in common[:20]:\n",
        "            amounts.append(amount)\n",
        "            tokens.append(token)\n",
        "            \n",
        "    sns.barplot(x = amounts, y = tokens)\n",
        "\n",
        "plot_tokens(positive['Tokenized Text'])"
      ]
    },
    {
      "cell_type": "markdown",
      "metadata": {},
      "source": [
        "##### Bar Chart showing most popular bigrams for Positive Tweets"
      ]
    },
    {
      "cell_type": "code",
      "execution_count": 72,
      "metadata": {},
      "outputs": [
        {
          "data": {
            "image/png": "[encoded data removed]",
            "text/plain": [
              "<Figure size 432x288 with 1 Axes>"
            ]
          },
          "metadata": {
            "needs_background": "light"
          },
          "output_type": "display_data"
        }
      ],
      "source": [
        "def getNgram(text, n):\n",
        "        vec = CountVectorizer(ngram_range=(n, n)).fit(text)\n",
        "        bow = vec.transform(text)\n",
        "        sum = bow.sum(axis=0) \n",
        "        freq = [(t, sum[0, i]) for t, i in vec.vocabulary_.items()]\n",
        "        freq = sorted(freq, key = lambda x: x[1], reverse=True)\n",
        "        return freq[:10]\n",
        "\n",
        "def plot_ngrams(tweet, n):\n",
        "    topNgrams = getNgram(tweet, n)[:10]\n",
        "    ngram, count = map(list,zip(*topNgrams))\n",
        "    sns.barplot(x = count, y = ngram)\n",
        "\n",
        "plot_ngrams(positive['Cleaned Text'], 2)"
      ]
    },
    {
      "cell_type": "markdown",
      "metadata": {},
      "source": [
        "##### Bar Chart showing most popular trigrams for Positive Tweets"
      ]
    },
    {
      "cell_type": "code",
      "execution_count": 73,
      "metadata": {},
      "outputs": [
        {
          "data": {
            "image/png": "[encoded data removed]",
            "text/plain": [
              "<Figure size 432x288 with 1 Axes>"
            ]
          },
          "metadata": {
            "needs_background": "light"
          },
          "output_type": "display_data"
        }
      ],
      "source": [
        "plot_ngrams(positive['Cleaned Text'], 3)"
      ]
    },
    {
      "cell_type": "markdown",
      "metadata": {},
      "source": [
        "##### Printing random reviews with positive polarity"
      ]
    },
    {
      "cell_type": "code",
      "execution_count": 74,
      "metadata": {},
      "outputs": [
        {
          "name": "stdout",
          "output_type": "stream",
          "text": [
            "b'Irakli Garibashvili, Prime Minister - Georgia, during \\na session at the @WorldGovSummit: The #UAE has always been at the forefront of innovation and progress \\n#WorldGovSummit \\n#WGS https://t.co/sHcL4p2ERP'\n",
            "b'[1/2]\\n2023 is the Year of Sustainability as declared by HH Sheikh Mohamed bin Zayed Al Nahyan, President of the United Arab Emirates, and we are giving back to the planet starting with our beaches. \\n#UAE #Dubai #Sustainability https://t.co/UZaTF4iWO9'\n",
            "b'Get online class homework, assignment and exam expert help with Mathematics, \\n\\nComputer Science\\n\\nElectrostatics\\n\\nGravitation\\n\\nMechanics\\n\\nModern Physics\\n\\nOptics\\n\\nAccounting \\n\\nFinance \\n\\nEconomics \\n\\nPhysics \\n\\nChemistry \\n\\nBiology\\n\\nSound and Waves\\n\\n#USA #Kuwait #UK #UAE #SaudiArabia'\n",
            "b'Spring Semester is here, book your best tutors today for discounts on:\\n1. Online class help\\n2. Essay help\\n3. Research paper help\\n4. Exam help\\n5. Dissertation \\n\\n #GramFam #Gramfam26 #ASUTwitter #ncat #ncat26 #wssu #pvamu #Fsu #Lsu #USA #UK #CANADA #AUSTRALIA #KUWAIT #UAE #BHARAIN'\n",
            "b\"@MasudAKhan6 Inner strength is more important. Untill and unless we don't impose north-korea type punishments to handle the dogs who bark on Pak army, we can't prosper in the region. Across the board lathi charge, software updates are need of the time. Even the same model is practiced in UAE\"\n",
            "b'@globalcitizenoz @binance @kucoincom @Epayme_uae @SaitaRealty @cryptocom @WeAreSaitama @BinanceUS @coinbase @Binance_AUS I got my bag ,and loving the bull flag its forming LFG \\xf0\\x9f\\x9a\\x80\\xf0\\x9f\\x9a\\x80\\xf0\\x9f\\x9a\\x80'\n",
            "b'RT @MilanionTech: Join #TeamMilanion @IDEX_UAE  to see innovative systems, including the #AgemaUGV integrated with @SkylockSystems #antidro\\xe2\\x80\\xa6'\n",
            "b'UAE lunar rover will test 1st artificial intelligence on the moon with ... - https://t.co/JJ03G4fEHF https://t.co/qPV6ACbMMz #Houston #ArtificialIntelligence #AI'\n",
            "b'RT @upsidedownhead5: Hi @AndyBurnhamGM @Tfgm_official @MCRMetrolink, a friend of mine is over in the UAE and saw this. Tram interruption fi\\xe2\\x80\\xa6'\n",
            "b'Returning for its 12th year, the Sharjah Light Festival invites internationally renowned artists to celebrate science, creativity and heritage in a display of lights, colors and music at beloved landmarks.\\n\\n#SharjahLightFestival #SLF2023 #shj #almawaridgroup #uae https://t.co/Qh8kCO9zpy'\n"
          ]
        }
      ],
      "source": [
        "twt = updated_dataset['Text'].loc[updated_dataset['Encoded_Vader_Sentiment'] == 1].sample(10).values\n",
        "for i in twt:\n",
        "    print(i)"
      ]
    },
    {
      "cell_type": "markdown",
      "metadata": {},
      "source": [
        "**Insights -**\n",
        "After checking the world clouds, common tokens and trigrams, as well as printing 10 random high polarity tweets, we can see that most of the tweets labelled as positive are important news related to events held in the UAE as well as achievements in the field of technology. Subsequently, there are also many tweets where individuals are appreciating, acknowledging, and congratulating these events and achievements. The common bigrams and trigrams show repeated tokens \"homework\", \"assignment\", and \"help\" probably because of the excess number of tweets and spams promoting and advertising help for students with their homework with some using the keyword \"expert\" which can be viewed as a positive sentiment. Because of this, the tokens mentioned earlier could have also been labelled positive, resulting in these spams being marked as positive as well. "
      ]
    },
    {
      "cell_type": "markdown",
      "metadata": {},
      "source": [
        "#### Neutral Tweets"
      ]
    },
    {
      "cell_type": "markdown",
      "metadata": {},
      "source": [
        "##### Word Cloud for Neutral Tweets"
      ]
    },
    {
      "cell_type": "code",
      "execution_count": 75,
      "metadata": {},
      "outputs": [
        {
          "data": {
            "image/png": "[encoded data removed]",
            "text/plain": [
              "<Figure size 432x288 with 1 Axes>"
            ]
          },
          "metadata": {
            "needs_background": "light"
          },
          "output_type": "display_data"
        }
      ],
      "source": [
        "neutral = updated_dataset[updated_dataset['Vader Sentiment']=='Neutral']\n",
        "neutrals = ' '.join(tweet for tweet in neutral['Cleaned Text'])\n",
        "wordcloud_neu = WordCloud().generate(neutrals)\n",
        "\n",
        "plt.figure()\n",
        "plt.imshow(wordcloud_neu)\n",
        "plt.axis('off')\n",
        "plt.show()"
      ]
    },
    {
      "cell_type": "markdown",
      "metadata": {},
      "source": [
        "##### Bar Chart showing most popular tokens for Neutral Tweets"
      ]
    },
    {
      "cell_type": "code",
      "execution_count": 76,
      "metadata": {},
      "outputs": [
        {
          "data": {
            "image/png": "[encoded data removed]",
            "text/plain": [
              "<Figure size 432x288 with 1 Axes>"
            ]
          },
          "metadata": {
            "needs_background": "light"
          },
          "output_type": "display_data"
        }
      ],
      "source": [
        "plot_tokens(neutral['Tokenized Text'])"
      ]
    },
    {
      "cell_type": "markdown",
      "metadata": {},
      "source": [
        "##### Bar Chart showing most popular bigrams for Neutral Tweets"
      ]
    },
    {
      "cell_type": "code",
      "execution_count": 77,
      "metadata": {},
      "outputs": [
        {
          "data": {
            "image/png": "[encoded data removed]",
            "text/plain": [
              "<Figure size 432x288 with 1 Axes>"
            ]
          },
          "metadata": {
            "needs_background": "light"
          },
          "output_type": "display_data"
        }
      ],
      "source": [
        "plot_ngrams(neutral['Cleaned Text'], 2)"
      ]
    },
    {
      "cell_type": "markdown",
      "metadata": {},
      "source": [
        "##### Bar Chart showing most popular trigrams for Neutral Tweets"
      ]
    },
    {
      "cell_type": "code",
      "execution_count": 78,
      "metadata": {},
      "outputs": [
        {
          "data": {
            "image/png": "[encoded data removed]",
            "text/plain": [
              "<Figure size 432x288 with 1 Axes>"
            ]
          },
          "metadata": {
            "needs_background": "light"
          },
          "output_type": "display_data"
        }
      ],
      "source": [
        "plot_ngrams(neutral['Cleaned Text'], 3)"
      ]
    },
    {
      "cell_type": "markdown",
      "metadata": {},
      "source": [
        "##### Printing random reviews with most neutral polarity"
      ]
    },
    {
      "cell_type": "code",
      "execution_count": 79,
      "metadata": {},
      "outputs": [
        {
          "name": "stdout",
          "output_type": "stream",
          "text": [
            "b'Engage yourself with professional writers on your academic work. \\nLiterature\\nMathematics\\nResearch papers\\nDissertation\\nThesis\\nLiterature review\\nPowerPoint\\nBibliography\\nReport\\nDiscussion\\nReplies\\nEconomics\\nBusiness law\\nMusic\\nSociology\\nHISTORY\\nNursing\\n#kuwait\\n#UAE\\n#USA\\n#Australia https://t.co/vV1YdSG3m0'\n",
            "b'COVID-19 Research: Chinese Study Finds That SARS-CoV-2\\xe2\\x80\\x99s Nsp15 Protein Suppresses Type I Interferon Production!\\nhttps://t.co/GLXnQK9H9V\\n#covid19research #COVID19 #Covid  #research #USA #news #America #California #Europe #London #UAE #healthcare #SARSCoV2 #virus #immunity #india'\n",
            "b\"Agora Group's 11th Global #Blockchain Conference is featured on #DSRPTDBlog\\nRead the press release here: https://t.co/Jx2ggKQGwm\\n\\nand stay updated on all headlines on https://t.co/YjwY59Xogj\\n\\n#Startups #Investors #Dubai https://t.co/P6powsGhvg\"\n",
            "b'Use this link to access a wide range of our services anytime and from anywhere.\\nhttps://t.co/Rua3RIQvcs\\n#DigitalGovernment\\n@tdrauae\\n#UAE_portal'\n",
            "b'Danube OPALZ By Dubai Science Park, offering studios, 1 &amp; 2 bedroom residences  starting at AED 550,000!\\n\\nContact us now!\\n\\xf0\\x9f\\x93\\xa7 contactus@homesteaduae.com\\n\\xf0\\x9f\\x93\\x9e +971 50 299 4696\\n\\n#danube #danubeproperties #opalz #opalzbydanube #realestate #realestateinvestment #realestateinvetmentdubai https://t.co/Q02k5r7Dza'\n",
            "b'RT @ChicagoEssays: Services\\n\\nOnline Homework Help\\n\\nLive Sessions\\n\\nOnline Lab Report Help\\n\\nOnline Project Report Help\\n\\nOnline Assignment Hel\\xe2\\x80\\xa6'\n",
            "b'Did you know that you can buy goods, access to medical professions, buy health services, and much more and not in real life but in the Metaverse!\\nWatch full #KnowledgeSummit discussion:\\nhttps://t.co/i1ZmMu7lNH\\n\\n#MBRF #Metaverse #UAE #Technology'\n",
            "b'RT @ChicagoEssays: Mechanical Engineering homework help\\n\\nGeometric Dimensions And Tolerance\\n\\nHeat Transfer\\nInstrumentation\\nInternal Combust\\xe2\\x80\\xa6'\n",
            "b'@dannrbrown58 @chambleebrandel Simple google search will explain the Saudi Investment into Dubai. They spent billions on UAE infrastructure.'\n",
            "b'Profilo Nano by Phonak is our smallest in-ear receiver for covert communication. \\n\\n#TabbaraElectronics #Phonak #security #earpiece #government #moiuae #moi #uae #dubai #abudhabi #middleeast #technology #innovation #digitaltransformation\\n#\\xd9\\x85\\xd9\\x84\\xd8\\xaa\\xd8\\xb2\\xd9\\x85\\xd9\\x88\\xd9\\x86_\\xd9\\x8a\\xd8\\xa7\\xd9\\x88\\xd8\\xb7\\xd9\\x86\\n#\\xd9\\x86\\xd8\\xaa\\xd8\\xb5\\xd8\\xaf\\xd8\\xb1_\\xd8\\xa7\\xd9\\x84\\xd9\\x85\\xd8\\xb4\\xd9\\x87\\xd8\\xaf https://t.co/MSTVHhp68R'\n"
          ]
        }
      ],
      "source": [
        "twt = updated_dataset['Text'].loc[updated_dataset['Encoded_Vader_Sentiment'] == 0].sample(10).values\n",
        "for i in twt:\n",
        "    print(i)"
      ]
    },
    {
      "cell_type": "markdown",
      "metadata": {},
      "source": [
        "**Insights -**\n",
        "Just like the positive tweets, most of the tweets here are talking about events taking place in UAE with some addition of news around technologies, finances, and properties of UAE and other countries. Again, the tokens \"homework\", \"class\", and \"exam\" have also been repeately mentioned here because of bot spams. Most tweets with promotions and advertisements have been labelled as neutral, with companies promoting their items and services and also hiring employees. "
      ]
    },
    {
      "cell_type": "markdown",
      "metadata": {},
      "source": [
        "#### Negative Tweets"
      ]
    },
    {
      "cell_type": "markdown",
      "metadata": {},
      "source": [
        "##### Word Cloud for Negative Tweets"
      ]
    },
    {
      "cell_type": "code",
      "execution_count": 80,
      "metadata": {},
      "outputs": [
        {
          "data": {
            "image/png": "[encoded data removed]",
            "text/plain": [
              "<Figure size 432x288 with 1 Axes>"
            ]
          },
          "metadata": {
            "needs_background": "light"
          },
          "output_type": "display_data"
        }
      ],
      "source": [
        "negative = updated_dataset[updated_dataset['Vader Sentiment']=='Negative']\n",
        "negatives = ' '.join(tweet for tweet in negative['Cleaned Text'])\n",
        "wordcloud_neg = WordCloud().generate(neutrals)\n",
        "\n",
        "plt.figure()\n",
        "plt.imshow(wordcloud_neg)\n",
        "plt.axis('off')\n",
        "plt.show()"
      ]
    },
    {
      "cell_type": "markdown",
      "metadata": {},
      "source": [
        "##### Bar Chart showing most popular tokens for Negative Tweets"
      ]
    },
    {
      "cell_type": "code",
      "execution_count": 81,
      "metadata": {},
      "outputs": [
        {
          "data": {
            "image/png": "[encoded data removed]",
            "text/plain": [
              "<Figure size 432x288 with 1 Axes>"
            ]
          },
          "metadata": {
            "needs_background": "light"
          },
          "output_type": "display_data"
        }
      ],
      "source": [
        "plot_tokens(negative['Tokenized Text'])"
      ]
    },
    {
      "cell_type": "markdown",
      "metadata": {},
      "source": [
        "##### Bar Chart Showing most popular bigrams for Negative Tweets"
      ]
    },
    {
      "cell_type": "code",
      "execution_count": 82,
      "metadata": {},
      "outputs": [
        {
          "data": {
            "image/png": "[encoded data removed]",
            "text/plain": [
              "<Figure size 432x288 with 1 Axes>"
            ]
          },
          "metadata": {
            "needs_background": "light"
          },
          "output_type": "display_data"
        }
      ],
      "source": [
        "plot_ngrams(negative['Cleaned Text'], 2)"
      ]
    },
    {
      "cell_type": "markdown",
      "metadata": {},
      "source": [
        "##### Bar Chart showing most popular trigrams for Negative Tweets"
      ]
    },
    {
      "cell_type": "code",
      "execution_count": 83,
      "metadata": {},
      "outputs": [
        {
          "data": {
            "image/png": "[encoded data removed]",
            "text/plain": [
              "<Figure size 432x288 with 1 Axes>"
            ]
          },
          "metadata": {
            "needs_background": "light"
          },
          "output_type": "display_data"
        }
      ],
      "source": [
        "plot_ngrams(negative['Cleaned Text'], 3)"
      ]
    },
    {
      "cell_type": "markdown",
      "metadata": {},
      "source": [
        "##### Printing random reviews with most possible negative polarity"
      ]
    },
    {
      "cell_type": "code",
      "execution_count": 84,
      "metadata": {},
      "outputs": [
        {
          "name": "stdout",
          "output_type": "stream",
          "text": [
            "b'@fighting4human1 @SRclimatechange How shameful of you to say that! What about the millions projects and initiatives undertaken by #UAE and @Masdar in more than 40+ countries for promoting renewable energy? No country in the world is taking up #ClimateChange as seriously as #UAE! \\nStop this OIL bull-shit now!'\n",
            "b\"@giroditalia @uae_tour @lorenawiebes @teamsdworx \\xf0\\x9f\\xa4\\x94Forget everything you've ever seen in transmission technology!\\xf0\\x9f\\x98\\xb1\\n\\nWe are not robots. This project is real and disruptive. Visit our profile and follow us to know more about ESG Universal Transmission. Doubts? Comment, Inbox or fidgetstartech@gmail.com\\n\\xe2\\x9a\\xa1\\xef\\xb8\\x8f\\xf0\\x9f\\x94\\xa5\\xe2\\x99\\xbb\\xef\\xb8\\x8f\\xf0\\x9f\\x8c\\x8e\\xf0\\x9f\\x8c\\x8d\\xf0\\x9f\\x8c\\x8f\\xf0\\x9f\\xa6\\xbe\\xf0\\x9f\\x8f\\x81\"\n",
            "b'RT @sabet: \\xf0\\x9f\\x94\\xa5TOKYO PUNKS | BAD BUNNIES by SABET\\n#NFTGiveaway 100 Bad Bunnies on 2/28/23 Drop Day\\n\\xe2\\x9c\\x85 Follow: @sabet @tokyopunksnft @healingcod\\xe2\\x80\\xa6'\n",
            "b'One other Member of Russian Crypto Pyramid Finiko Arrested in UAE \\xe2\\x80\\x93 Bitcoin Information...   Cryptocurrency Sponsor https://t.co/mP69hKtNCN  https://t.co/uOLl43PjK4'\n",
            "b'ADNOC Distribution misses Q4 and 2022 profit estimates &amp; #Oil futures rise on disruptions at Turkey\\xe2\\x80\\x99s Ceyhan port, on the #DailyBrief with @RamiaFarrage\\n\\n#Forbes #UAE #China #Russia #Us #Nasdaq #Google #MarkZuckerberg #Toyota #Disney #Turkey\\n@ADNOCGroup @DEWAOfficial https://t.co/cKUtfT7jsd'\n",
            "b'#UAE: Got a solution? Win $75,000 as contest to track objects in dark using #AI launched\\n\\nInfrared thermal imaging and tracking can be used in multiple industries, such as the medical field, industrial sector, and emergency services or disaster management.\\nhttps://t.co/GSRPKKAmQf https://t.co/CoGDft9Sv9'\n",
            "b'#UAE Central Bank unveils sweeping initiatives to reform financial services sector\\n\\n#CBDC and #eKYC critical parts of plan. \\n\\n#fintech #blockchain #tech #finserv\\n@psb_dc @BetaMoroney\\n@efipm @BrettKing\\n@spirosmargaris\\n@mikeflache\\n@Khulood_Almani https://t.co/XnDnpL2xDk'\n",
            "b'Join us for our upcoming online session that will focus on the provisions and applicability of Federal decree law no 47 of 2022.\\n\\nhttps://t.co/vWhromMCcT\\n\\n#UAE #Dubai #AbuDhabi #taxes #tax #business \\n#webinar https://t.co/LRLLoXnj2w'\n",
            "b'RT @richardturrin: #UAE Central Bank unveils sweeping initiatives to reform financial services sector\\n\\n#CBDC and #eKYC critical parts of pl\\xe2\\x80\\xa6'\n",
            "b'@kattenbarge Per UAE penal code, homosexuality is not punishable by death (pp. 74-75 https://t.co/x7z8fLHB5a) and the 2019 Family Protection Act punishes physical, verbal, psychological, sexual and financial abuse, as well as negligence (https://t.co/gQKRDPH6pu). What kind of journo are you?'\n"
          ]
        }
      ],
      "source": [
        "twt = updated_dataset['Text'].loc[updated_dataset['Encoded_Vader_Sentiment'] == -1].sample(10).values\n",
        "for i in twt:\n",
        "    print(i)"
      ]
    },
    {
      "cell_type": "markdown",
      "metadata": {},
      "source": [
        "**Insights -**\n",
        "Surprisingly, the negative tweets have around no ads. These tweets have been divided into short fall backs and failures of the UAE, involvement of the UAE around catastrophes like covid-19, earthquakes, wars, etc., as well as individuals complaining about personal documents like visas and passports and about applications and websites. A few promotions and ads have slipped in, which have keywords surrounding negative sentiments like \"low\" and \"lowest\" (mostly hinting at low prices for goods). Overall, Vader did an excellent job labelled negative tweets."
      ]
    },
    {
      "cell_type": "markdown",
      "metadata": {},
      "source": [
        "# Conclusions"
      ]
    },
    {
      "cell_type": "markdown",
      "metadata": {},
      "source": [
        "We've experimented with various text labelling, word representation and classification techniques and found this pipeline to be the best performing. \n",
        "\n",
        "1. **Data collection of tweets using the Twitter API**\n",
        "2. **Data cleaning (Removing duplicates, links, hashtags and @s)**\n",
        "    This was done before labelling to reduce tweets from getting labelled twice.\n",
        "3. **Data labelling using TextBlob**\n",
        "    We experimented with labelling using TextBlob and Vader, however, when reviewing tweets that had conflicting labels from TextBlob and Vader, we found Vader to be more accurate. \n",
        "    \n",
        "    The tweets were validated by a manual review through the tweets that had conflicting labels. \n",
        "4. **Data preprocessing (Removing stop words, foreign words, symbols, numbers, tokenizing and lemmatizing)**\n",
        "    We followed standard data preprocessing techniques for text analysis as well as other methods unique to this dataset (i.e removing 'b' and 'RT' from the text). \n",
        "    \n",
        "    Between tokenizing and lemmatizing, lemmatizing was chosen as it had higher accuracy.\n",
        "    \n",
        "5. **Representing the text using 1 to 6 N-Grams**\n",
        "    We experimented with various text representation methods (Bag of words, CBOW, Ngrams, Skipgrams, Word2Vec) and compared them by performance using a Naive Bayes classifier as a baseline reference. \n",
        "    \n",
        "    After comparison of each of the representations, N-grams in the range (1,6) was found out to be the best performer in terms of the macro F1 score.\n",
        "\n",
        "    This representation was then used for classification in the next step of the pipeline.\n",
        "6. **Text classification using a Logistic Regression model**\n",
        "    3 classification models were tested: Logistic Regression, Decision Trees and FastText supervised classifier as well as experimented with their hyperparameters. \n",
        "    \n",
        "    Using weighted F1 average as our main metric, Decision Trees performed the best between the 3. The default parameters had the best performance. "
      ]
    },
    {
      "cell_type": "markdown",
      "metadata": {},
      "source": [
        "Data Collection -> Data Cleaning -> Data Labelling -> Data Preprocessing -> Word Representation using N-Grams(1,6) -> Decision Tree Classification"
      ]
    },
    {
      "cell_type": "markdown",
      "metadata": {},
      "source": [
        "However, our dataset was very imbalanced. The classes were not equally represented, as very few samples of 'Negative' sentiment were found. This implies that the majority sentiment towards 'Tech & Innovation in the UAE' is Positive and Neutral."
      ]
    },
    {
      "cell_type": "markdown",
      "metadata": {},
      "source": [
        "Sentiment analysis has been used for various applications in marketing and NLP research. For this particular coursework, sentiment analysis of tweets about the UAE could be used for event planning and advertisements."
      ]
    },
    {
      "cell_type": "markdown",
      "metadata": {},
      "source": [
        "# Project Overview\n",
        "\n",
        "The steps to analysing the sentiments on tweets relating to 'Tech and innpenistion in the UAE' are summarized as follows:\n",
        "\n",
        "1. Data Collection.\n",
        "\n",
        "    Tweets were scraped with the aid of the Tweepy python library. In order to verify that the scraped tweets were related to the UAE, each tweet either had to originate inside the UAE or the term 'uae' is explicitly in the tweet. Terms related to 'Technology and Innovation in UAE' were sourced by researching synonyms and related words of such 'technology' and 'innovation', as well as top IT companies in UAE (amazon, cisco, etc), and events related to IT in the UAE (COP28, GITEX, UAE hackathon, etc). Sources of such terms are found in [1], [2], [3], [4], and [5]\n",
        "\n",
        "    Tweet queries were built following the twitter API docs [6], to ensure best practice of tweet formulation.\n",
        "\n",
        "    Duplicate tweets were attempted to be removed to using specified keywords in the queries, however, some duplicates (i.e., retweets) were still recieved. Such duplicates were cleaned in the data labelling and text proccessing section.\n",
        "\n",
        "     \n",
        "2. Data Labelling\n",
        "\n",
        "    Both TextBlob and Vader were used to label sentiments of tweets and each method was compared. According to [7] \"Vader is more focused on social media, putting more effort in identifying sentiment of content typically appearing on social media, such as emojis, repetitive words, and puntuations\". Therefore, we anticipated that Vader would be more accurate in labelling.\n",
        "\n",
        "3. Text Processing\n",
        "\n",
        "    Usual cleaning and preprocessing techniques for NLP were applied: removing stopwords, non-english characters, punctuations. etc. Duplicate tweets (i.e., retweets) were also removed. This was followed by tokenization, then lemmatization. We planned to compare their accuracy, and expected that lemmatization would perform better as this method is preferred over stemming for context analysis [8].  \n",
        "\n",
        "4. Text Representation\n",
        "\n",
        "    This section experimented with various text representation techniques: BOW, N-grams, TF-IDF, CBOW, Skip-gram, and a pre-trained Google Word2Vec model.\n",
        "    Each of the representations were compared using the Naive Bayes classifier, as it has been observed to be the most common classifier amongst several sentiment analysis projects, and that NB is \"known to work well for many text classification problems and requires relatively few training examples\" [10].\n",
        "\n",
        "    Each of the representations had different possible parameters (such as the ideal number for N-grams, best hyperparameters for the CBOW model, etc.), and they were experimented with.\n",
        "\n",
        "\n",
        "4. Classification\n",
        "\n",
        "    The classifiers used were logistic regression and decision trees which are common classifiers for sentiment analysis, and Fasttext, a classifier created by Facebook.\n",
        "\n",
        "5. Evaluation\n",
        "\n",
        "    Evaluation was performed thoughout, using precision and recall and the f1 score as the main metric. This is due to the class imbalance, where metrics such as accuracy or AUROC do not provide meaningful insights [11]. \n",
        "\n",
        "6. Visualisation\n",
        "    \n",
        "    Tweets and results are visualised using Matplotlib and Wordcloud, in order to gain insights on the results and tweets.\n",
        "\n",
        "7. Conclusion\n",
        "    \n",
        "    Findings are documented in this section.\n",
        "\n",
        "Sources:\n",
        "\n",
        "[1] https://www.thesaurus.com/browse/technology <br>\n",
        "[2] https://relatedwords.io/technology <br>\n",
        "[3] https://www.gulftalent.com/it-companies-in-dubai <br>\n",
        "[4] https://www.thesaurus.com/browse/technology <br>\n",
        "[5] https://www.merriam-webster.com/thesaurus/innovation <br>\n",
        "[6] https://docs.tweepy.org/en/stable/api.html#search-tweets <br>\n",
        "[7] https://pub.towardsai.net/textblob-vs-vader-for-sentiment-analysis-using-python-76883d40f9ae <br>\n",
        "[8] https://www.researchgate.net/publication/348306833_An_Interpretation_of_Lemmatization_and_Stemming_in_Natural_Language_Processing <br>\n",
        "[10] https://www.aiperspectives.com/twitter-sentiment-analysis/ <br>\n",
        "[11] https://glassboxmedicine.com/2019/03/02/measuring-performance-auprc/ <br>\n"
      ]
    }
  ],
  "metadata": {
    "colab": {
      "include_colab_link": true,
      "provenance": []
    },
    "kernelspec": {
      "display_name": "Python 3",
      "language": "python",
      "name": "python3"
    },
    "language_info": {
      "codemirror_mode": {
        "name": "ipython",
        "version": 3
      },
      "file_extension": ".py",
      "mimetype": "text/x-python",
      "name": "python",
      "nbconvert_exporter": "python",
      "pygments_lexer": "ipython3",
      "version": "3.9.12"
    },
    "vscode": {
      "interpreter": {
        "hash": "916dbcbb3f70747c44a77c7bcd40155683ae19c65e1c03b4aa3499c5328201f1"
      }
    }
  },
  "nbformat": 4,
  "nbformat_minor": 0
}
